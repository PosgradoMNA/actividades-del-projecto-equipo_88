{
  "nbformat": 4,
  "nbformat_minor": 0,
  "metadata": {
    "colab": {
      "provenance": [],
      "collapsed_sections": [
        "oI3a4zrysj0Z",
        "09B5TdxHsjrL",
        "Qi-0KRG1hTV-",
        "9jDiu5UZhhDW",
        "9ONysVZ2i6ob",
        "DY9Me4CIjPk1",
        "DZgwMSJXmEu9",
        "m8Yu87PDon2O",
        "SvG9uOqQo-PC"
      ],
      "authorship_tag": "ABX9TyPghsYDAhyGLAUn9QWzynT4",
      "include_colab_link": true
    },
    "kernelspec": {
      "name": "python3",
      "display_name": "Python 3"
    },
    "language_info": {
      "name": "python"
    }
  },
  "cells": [
    {
      "cell_type": "markdown",
      "metadata": {
        "id": "view-in-github",
        "colab_type": "text"
      },
      "source": [
        "<a href=\"https://colab.research.google.com/github/PosgradoMNA/actividades-del-projecto-equipo_88/blob/main/Reto_Eq_88.ipynb\" target=\"_parent\"><img src=\"https://colab.research.google.com/assets/colab-badge.svg\" alt=\"Open In Colab\"/></a>"
      ]
    },
    {
      "cell_type": "markdown",
      "source": [
        "#**Maestría en Inteligencia Artificial Aplicada**\n",
        "## *Ciencia y Analítica de Datos*\n",
        "\n",
        "### **Semana 9 Reto Parte 1**\n",
        "\n",
        "\n",
        "####**Curso: Ciencia y analítica de datos (Gpo 10)**\n",
        "\n",
        "####**11 de Noviembre de 2022**\n",
        "\n",
        "Equipo: 88\n",
        "\n",
        "Nombre del estudiante: \n",
        "\n",
        "\n",
        "***Dalina Aidee Villa Ocelotl (A01793258)***\n",
        "\n",
        "\n",
        "***Miguel Guillermo Galindo Orozco (A01793695)***\n"
      ],
      "metadata": {
        "id": "iFSgGbZUr4oq"
      }
    },
    {
      "cell_type": "markdown",
      "source": [
        "# Librerías a utilizar"
      ],
      "metadata": {
        "id": "P5wN-ceOsZI9"
      }
    },
    {
      "cell_type": "code",
      "source": [
        "! pip install qeds fiona geopandas xgboost gensim folium pyLDAvis descartes"
      ],
      "metadata": {
        "colab": {
          "base_uri": "https://localhost:8080/"
        },
        "id": "b_8_GCmJm_dg",
        "outputId": "a4e82264-ee59-4e6d-98fd-59644dcf9b08"
      },
      "execution_count": 110,
      "outputs": [
        {
          "output_type": "stream",
          "name": "stdout",
          "text": [
            "Looking in indexes: https://pypi.org/simple, https://us-python.pkg.dev/colab-wheels/public/simple/\n",
            "Requirement already satisfied: qeds in /usr/local/lib/python3.7/dist-packages (0.7.0)\n",
            "Requirement already satisfied: fiona in /usr/local/lib/python3.7/dist-packages (1.8.22)\n",
            "Requirement already satisfied: geopandas in /usr/local/lib/python3.7/dist-packages (0.10.2)\n",
            "Requirement already satisfied: xgboost in /usr/local/lib/python3.7/dist-packages (0.90)\n",
            "Requirement already satisfied: gensim in /usr/local/lib/python3.7/dist-packages (3.6.0)\n",
            "Requirement already satisfied: folium in /usr/local/lib/python3.7/dist-packages (0.12.1.post1)\n",
            "Requirement already satisfied: pyLDAvis in /usr/local/lib/python3.7/dist-packages (3.3.1)\n",
            "Requirement already satisfied: descartes in /usr/local/lib/python3.7/dist-packages (1.1.0)\n",
            "Requirement already satisfied: requests in /usr/local/lib/python3.7/dist-packages (from qeds) (2.23.0)\n",
            "Requirement already satisfied: numpy in /usr/local/lib/python3.7/dist-packages (from qeds) (1.21.6)\n",
            "Requirement already satisfied: pyarrow in /usr/local/lib/python3.7/dist-packages (from qeds) (6.0.1)\n",
            "Requirement already satisfied: scikit-learn in /usr/local/lib/python3.7/dist-packages (from qeds) (1.0.2)\n",
            "Requirement already satisfied: statsmodels in /usr/local/lib/python3.7/dist-packages (from qeds) (0.12.2)\n",
            "Requirement already satisfied: openpyxl in /usr/local/lib/python3.7/dist-packages (from qeds) (3.0.10)\n",
            "Requirement already satisfied: quantecon in /usr/local/lib/python3.7/dist-packages (from qeds) (0.5.3)\n",
            "Requirement already satisfied: plotly in /usr/local/lib/python3.7/dist-packages (from qeds) (5.5.0)\n",
            "Requirement already satisfied: quandl in /usr/local/lib/python3.7/dist-packages (from qeds) (3.7.0)\n",
            "Requirement already satisfied: seaborn in /usr/local/lib/python3.7/dist-packages (from qeds) (0.11.2)\n",
            "Requirement already satisfied: pandas-datareader in /usr/local/lib/python3.7/dist-packages (from qeds) (0.9.0)\n",
            "Requirement already satisfied: scipy in /usr/local/lib/python3.7/dist-packages (from qeds) (1.7.3)\n",
            "Requirement already satisfied: pandas in /usr/local/lib/python3.7/dist-packages (from qeds) (1.3.5)\n",
            "Requirement already satisfied: matplotlib in /usr/local/lib/python3.7/dist-packages (from qeds) (3.2.2)\n",
            "Requirement already satisfied: setuptools in /usr/local/lib/python3.7/dist-packages (from fiona) (57.4.0)\n",
            "Requirement already satisfied: six>=1.7 in /usr/local/lib/python3.7/dist-packages (from fiona) (1.15.0)\n",
            "Requirement already satisfied: munch in /usr/local/lib/python3.7/dist-packages (from fiona) (2.5.0)\n",
            "Requirement already satisfied: click>=4.0 in /usr/local/lib/python3.7/dist-packages (from fiona) (7.1.2)\n",
            "Requirement already satisfied: attrs>=17 in /usr/local/lib/python3.7/dist-packages (from fiona) (22.1.0)\n",
            "Requirement already satisfied: certifi in /usr/local/lib/python3.7/dist-packages (from fiona) (2022.9.24)\n",
            "Requirement already satisfied: cligj>=0.5 in /usr/local/lib/python3.7/dist-packages (from fiona) (0.7.2)\n",
            "Requirement already satisfied: click-plugins>=1.0 in /usr/local/lib/python3.7/dist-packages (from fiona) (1.1.1)\n",
            "Requirement already satisfied: shapely>=1.6 in /usr/local/lib/python3.7/dist-packages (from geopandas) (1.8.5.post1)\n",
            "Requirement already satisfied: pyproj>=2.2.0 in /usr/local/lib/python3.7/dist-packages (from geopandas) (3.2.1)\n",
            "Requirement already satisfied: pytz>=2017.3 in /usr/local/lib/python3.7/dist-packages (from pandas->qeds) (2022.6)\n",
            "Requirement already satisfied: python-dateutil>=2.7.3 in /usr/local/lib/python3.7/dist-packages (from pandas->qeds) (2.8.2)\n",
            "Requirement already satisfied: smart-open>=1.2.1 in /usr/local/lib/python3.7/dist-packages (from gensim) (5.2.1)\n",
            "Requirement already satisfied: jinja2>=2.9 in /usr/local/lib/python3.7/dist-packages (from folium) (2.11.3)\n",
            "Requirement already satisfied: branca>=0.3.0 in /usr/local/lib/python3.7/dist-packages (from folium) (0.6.0)\n",
            "Requirement already satisfied: MarkupSafe>=0.23 in /usr/local/lib/python3.7/dist-packages (from jinja2>=2.9->folium) (2.0.1)\n",
            "Requirement already satisfied: joblib in /usr/local/lib/python3.7/dist-packages (from pyLDAvis) (1.2.0)\n",
            "Requirement already satisfied: numexpr in /usr/local/lib/python3.7/dist-packages (from pyLDAvis) (2.8.4)\n",
            "Requirement already satisfied: funcy in /usr/local/lib/python3.7/dist-packages (from pyLDAvis) (1.17)\n",
            "Requirement already satisfied: sklearn in /usr/local/lib/python3.7/dist-packages (from pyLDAvis) (0.0.post1)\n",
            "Requirement already satisfied: future in /usr/local/lib/python3.7/dist-packages (from pyLDAvis) (0.16.0)\n",
            "Requirement already satisfied: pyparsing!=2.0.4,!=2.1.2,!=2.1.6,>=2.0.1 in /usr/local/lib/python3.7/dist-packages (from matplotlib->qeds) (3.0.9)\n",
            "Requirement already satisfied: kiwisolver>=1.0.1 in /usr/local/lib/python3.7/dist-packages (from matplotlib->qeds) (1.4.4)\n",
            "Requirement already satisfied: cycler>=0.10 in /usr/local/lib/python3.7/dist-packages (from matplotlib->qeds) (0.11.0)\n",
            "Requirement already satisfied: typing-extensions in /usr/local/lib/python3.7/dist-packages (from kiwisolver>=1.0.1->matplotlib->qeds) (4.1.1)\n",
            "Requirement already satisfied: et-xmlfile in /usr/local/lib/python3.7/dist-packages (from openpyxl->qeds) (1.1.0)\n",
            "Requirement already satisfied: lxml in /usr/local/lib/python3.7/dist-packages (from pandas-datareader->qeds) (4.9.1)\n",
            "Requirement already satisfied: idna<3,>=2.5 in /usr/local/lib/python3.7/dist-packages (from requests->qeds) (2.10)\n",
            "Requirement already satisfied: urllib3!=1.25.0,!=1.25.1,<1.26,>=1.21.1 in /usr/local/lib/python3.7/dist-packages (from requests->qeds) (1.24.3)\n",
            "Requirement already satisfied: chardet<4,>=3.0.2 in /usr/local/lib/python3.7/dist-packages (from requests->qeds) (3.0.4)\n",
            "Requirement already satisfied: tenacity>=6.2.0 in /usr/local/lib/python3.7/dist-packages (from plotly->qeds) (8.1.0)\n",
            "Requirement already satisfied: more-itertools in /usr/local/lib/python3.7/dist-packages (from quandl->qeds) (9.0.0)\n",
            "Requirement already satisfied: inflection>=0.3.1 in /usr/local/lib/python3.7/dist-packages (from quandl->qeds) (0.5.1)\n",
            "Requirement already satisfied: sympy in /usr/local/lib/python3.7/dist-packages (from quantecon->qeds) (1.7.1)\n",
            "Requirement already satisfied: numba in /usr/local/lib/python3.7/dist-packages (from quantecon->qeds) (0.56.4)\n",
            "Requirement already satisfied: llvmlite<0.40,>=0.39.0dev0 in /usr/local/lib/python3.7/dist-packages (from numba->quantecon->qeds) (0.39.1)\n",
            "Requirement already satisfied: importlib-metadata in /usr/local/lib/python3.7/dist-packages (from numba->quantecon->qeds) (4.13.0)\n",
            "Requirement already satisfied: zipp>=0.5 in /usr/local/lib/python3.7/dist-packages (from importlib-metadata->numba->quantecon->qeds) (3.10.0)\n",
            "Requirement already satisfied: threadpoolctl>=2.0.0 in /usr/local/lib/python3.7/dist-packages (from scikit-learn->qeds) (3.1.0)\n",
            "Requirement already satisfied: patsy>=0.5 in /usr/local/lib/python3.7/dist-packages (from statsmodels->qeds) (0.5.3)\n",
            "Requirement already satisfied: mpmath>=0.19 in /usr/local/lib/python3.7/dist-packages (from sympy->quantecon->qeds) (1.2.1)\n"
          ]
        }
      ]
    },
    {
      "cell_type": "code",
      "execution_count": 111,
      "metadata": {
        "id": "A-sy8vkBjQ43"
      },
      "outputs": [],
      "source": [
        "import pandas as pd\n",
        "import numpy as np\n",
        "import seaborn as sns"
      ]
    },
    {
      "cell_type": "code",
      "source": [
        "import geopandas as gpd\n",
        "import matplotlib.pyplot as plt\n",
        "import pandas as pd\n",
        "\n",
        "from shapely.geometry import Point\n",
        "\n",
        "%matplotlib inline\n",
        "# activate plot theme\n",
        "import qeds\n",
        "qeds.themes.mpl_style();"
      ],
      "metadata": {
        "id": "eNDj08uqnEeL"
      },
      "execution_count": 112,
      "outputs": []
    },
    {
      "cell_type": "markdown",
      "source": [
        "# Base 1: Aguas Subterraneas"
      ],
      "metadata": {
        "id": "rAzncO6cscf_"
      }
    },
    {
      "cell_type": "code",
      "source": [
        "df = pd.read_csv('/content/Datos_de_calidad_del_agua_de_sitios_de_monitoreo_de_aguas_subterraneas_2020.csv',encoding = \"ISO-8859-1\")\n",
        "print(df.shape)\n",
        "df.head()"
      ],
      "metadata": {
        "colab": {
          "base_uri": "https://localhost:8080/",
          "height": 439
        },
        "id": "RCFuU0lZkT1v",
        "outputId": "b8c95dc4-e174-4139-a672-a4527fb469c8"
      },
      "execution_count": 113,
      "outputs": [
        {
          "output_type": "stream",
          "name": "stdout",
          "text": [
            "(1068, 57)\n"
          ]
        },
        {
          "output_type": "execute_result",
          "data": {
            "text/plain": [
              "       CLAVE                   SITIO           ORGANISMO_DE_CUENCA  \\\n",
              "0     DLAGU6            POZO SAN GIL       LERMA SANTIAGO PACIFICO   \n",
              "1  DLAGU6516  POZO R013 CAÑADA HONDA       LERMA SANTIAGO PACIFICO   \n",
              "2     DLAGU7              POZO COSIO       LERMA SANTIAGO PACIFICO   \n",
              "3     DLAGU9      POZO EL SALITRILLO       LERMA SANTIAGO PACIFICO   \n",
              "4   DLBAJ107      RANCHO EL TECOLOTE  PENINSULA DE BAJA CALIFORNIA   \n",
              "\n",
              "                ESTADO        MUNICIPIO                 ACUIFERO SUBTIPO  \\\n",
              "0       AGUASCALIENTES         ASIENTOS       VALLE DE CHICALOTE    POZO   \n",
              "1       AGUASCALIENTES   AGUASCALIENTES       VALLE DE CHICALOTE    POZO   \n",
              "2       AGUASCALIENTES            COSIO  VALLE DE AGUASCALIENTES    POZO   \n",
              "3       AGUASCALIENTES  RINCON DE ROMOS  VALLE DE AGUASCALIENTES    POZO   \n",
              "4  BAJA CALIFORNIA SUR           LA PAZ             TODOS SANTOS    POZO   \n",
              "\n",
              "    LONGITUD   LATITUD  PERIODO  ...  CUMPLE_CON_DUR CUMPLE_CON_CF  \\\n",
              "0 -102.02210  22.20887     2020  ...              SI            SI   \n",
              "1 -102.20075  21.99958     2020  ...              SI            SI   \n",
              "2 -102.28801  22.36685     2020  ...              SI            SI   \n",
              "3 -102.29449  22.18435     2020  ...              SI            SI   \n",
              "4 -110.24480  23.45138     2020  ...              SI            SI   \n",
              "\n",
              "   CUMPLE_CON_NO3 CUMPLE_CON_AS  CUMPLE_CON_CD CUMPLE_CON_CR CUMPLE_CON_HG  \\\n",
              "0              SI            SI             SI            SI            SI   \n",
              "1              SI            SI             SI            SI            SI   \n",
              "2              SI            NO             SI            SI            SI   \n",
              "3              SI            SI             SI            SI            SI   \n",
              "4              NO            SI             SI            SI            SI   \n",
              "\n",
              "  CUMPLE_CON_PB CUMPLE_CON_MN CUMPLE_CON_FE  \n",
              "0            SI            SI            SI  \n",
              "1            SI            SI            SI  \n",
              "2            SI            SI            SI  \n",
              "3            SI            SI            SI  \n",
              "4            SI            SI            SI  \n",
              "\n",
              "[5 rows x 57 columns]"
            ],
            "text/html": [
              "\n",
              "  <div id=\"df-56885408-0964-48cf-95f1-4fce07cc1eee\">\n",
              "    <div class=\"colab-df-container\">\n",
              "      <div>\n",
              "<style scoped>\n",
              "    .dataframe tbody tr th:only-of-type {\n",
              "        vertical-align: middle;\n",
              "    }\n",
              "\n",
              "    .dataframe tbody tr th {\n",
              "        vertical-align: top;\n",
              "    }\n",
              "\n",
              "    .dataframe thead th {\n",
              "        text-align: right;\n",
              "    }\n",
              "</style>\n",
              "<table border=\"1\" class=\"dataframe\">\n",
              "  <thead>\n",
              "    <tr style=\"text-align: right;\">\n",
              "      <th></th>\n",
              "      <th>CLAVE</th>\n",
              "      <th>SITIO</th>\n",
              "      <th>ORGANISMO_DE_CUENCA</th>\n",
              "      <th>ESTADO</th>\n",
              "      <th>MUNICIPIO</th>\n",
              "      <th>ACUIFERO</th>\n",
              "      <th>SUBTIPO</th>\n",
              "      <th>LONGITUD</th>\n",
              "      <th>LATITUD</th>\n",
              "      <th>PERIODO</th>\n",
              "      <th>...</th>\n",
              "      <th>CUMPLE_CON_DUR</th>\n",
              "      <th>CUMPLE_CON_CF</th>\n",
              "      <th>CUMPLE_CON_NO3</th>\n",
              "      <th>CUMPLE_CON_AS</th>\n",
              "      <th>CUMPLE_CON_CD</th>\n",
              "      <th>CUMPLE_CON_CR</th>\n",
              "      <th>CUMPLE_CON_HG</th>\n",
              "      <th>CUMPLE_CON_PB</th>\n",
              "      <th>CUMPLE_CON_MN</th>\n",
              "      <th>CUMPLE_CON_FE</th>\n",
              "    </tr>\n",
              "  </thead>\n",
              "  <tbody>\n",
              "    <tr>\n",
              "      <th>0</th>\n",
              "      <td>DLAGU6</td>\n",
              "      <td>POZO SAN GIL</td>\n",
              "      <td>LERMA SANTIAGO PACIFICO</td>\n",
              "      <td>AGUASCALIENTES</td>\n",
              "      <td>ASIENTOS</td>\n",
              "      <td>VALLE DE CHICALOTE</td>\n",
              "      <td>POZO</td>\n",
              "      <td>-102.02210</td>\n",
              "      <td>22.20887</td>\n",
              "      <td>2020</td>\n",
              "      <td>...</td>\n",
              "      <td>SI</td>\n",
              "      <td>SI</td>\n",
              "      <td>SI</td>\n",
              "      <td>SI</td>\n",
              "      <td>SI</td>\n",
              "      <td>SI</td>\n",
              "      <td>SI</td>\n",
              "      <td>SI</td>\n",
              "      <td>SI</td>\n",
              "      <td>SI</td>\n",
              "    </tr>\n",
              "    <tr>\n",
              "      <th>1</th>\n",
              "      <td>DLAGU6516</td>\n",
              "      <td>POZO R013 CAÑADA HONDA</td>\n",
              "      <td>LERMA SANTIAGO PACIFICO</td>\n",
              "      <td>AGUASCALIENTES</td>\n",
              "      <td>AGUASCALIENTES</td>\n",
              "      <td>VALLE DE CHICALOTE</td>\n",
              "      <td>POZO</td>\n",
              "      <td>-102.20075</td>\n",
              "      <td>21.99958</td>\n",
              "      <td>2020</td>\n",
              "      <td>...</td>\n",
              "      <td>SI</td>\n",
              "      <td>SI</td>\n",
              "      <td>SI</td>\n",
              "      <td>SI</td>\n",
              "      <td>SI</td>\n",
              "      <td>SI</td>\n",
              "      <td>SI</td>\n",
              "      <td>SI</td>\n",
              "      <td>SI</td>\n",
              "      <td>SI</td>\n",
              "    </tr>\n",
              "    <tr>\n",
              "      <th>2</th>\n",
              "      <td>DLAGU7</td>\n",
              "      <td>POZO COSIO</td>\n",
              "      <td>LERMA SANTIAGO PACIFICO</td>\n",
              "      <td>AGUASCALIENTES</td>\n",
              "      <td>COSIO</td>\n",
              "      <td>VALLE DE AGUASCALIENTES</td>\n",
              "      <td>POZO</td>\n",
              "      <td>-102.28801</td>\n",
              "      <td>22.36685</td>\n",
              "      <td>2020</td>\n",
              "      <td>...</td>\n",
              "      <td>SI</td>\n",
              "      <td>SI</td>\n",
              "      <td>SI</td>\n",
              "      <td>NO</td>\n",
              "      <td>SI</td>\n",
              "      <td>SI</td>\n",
              "      <td>SI</td>\n",
              "      <td>SI</td>\n",
              "      <td>SI</td>\n",
              "      <td>SI</td>\n",
              "    </tr>\n",
              "    <tr>\n",
              "      <th>3</th>\n",
              "      <td>DLAGU9</td>\n",
              "      <td>POZO EL SALITRILLO</td>\n",
              "      <td>LERMA SANTIAGO PACIFICO</td>\n",
              "      <td>AGUASCALIENTES</td>\n",
              "      <td>RINCON DE ROMOS</td>\n",
              "      <td>VALLE DE AGUASCALIENTES</td>\n",
              "      <td>POZO</td>\n",
              "      <td>-102.29449</td>\n",
              "      <td>22.18435</td>\n",
              "      <td>2020</td>\n",
              "      <td>...</td>\n",
              "      <td>SI</td>\n",
              "      <td>SI</td>\n",
              "      <td>SI</td>\n",
              "      <td>SI</td>\n",
              "      <td>SI</td>\n",
              "      <td>SI</td>\n",
              "      <td>SI</td>\n",
              "      <td>SI</td>\n",
              "      <td>SI</td>\n",
              "      <td>SI</td>\n",
              "    </tr>\n",
              "    <tr>\n",
              "      <th>4</th>\n",
              "      <td>DLBAJ107</td>\n",
              "      <td>RANCHO EL TECOLOTE</td>\n",
              "      <td>PENINSULA DE BAJA CALIFORNIA</td>\n",
              "      <td>BAJA CALIFORNIA SUR</td>\n",
              "      <td>LA PAZ</td>\n",
              "      <td>TODOS SANTOS</td>\n",
              "      <td>POZO</td>\n",
              "      <td>-110.24480</td>\n",
              "      <td>23.45138</td>\n",
              "      <td>2020</td>\n",
              "      <td>...</td>\n",
              "      <td>SI</td>\n",
              "      <td>SI</td>\n",
              "      <td>NO</td>\n",
              "      <td>SI</td>\n",
              "      <td>SI</td>\n",
              "      <td>SI</td>\n",
              "      <td>SI</td>\n",
              "      <td>SI</td>\n",
              "      <td>SI</td>\n",
              "      <td>SI</td>\n",
              "    </tr>\n",
              "  </tbody>\n",
              "</table>\n",
              "<p>5 rows × 57 columns</p>\n",
              "</div>\n",
              "      <button class=\"colab-df-convert\" onclick=\"convertToInteractive('df-56885408-0964-48cf-95f1-4fce07cc1eee')\"\n",
              "              title=\"Convert this dataframe to an interactive table.\"\n",
              "              style=\"display:none;\">\n",
              "        \n",
              "  <svg xmlns=\"http://www.w3.org/2000/svg\" height=\"24px\"viewBox=\"0 0 24 24\"\n",
              "       width=\"24px\">\n",
              "    <path d=\"M0 0h24v24H0V0z\" fill=\"none\"/>\n",
              "    <path d=\"M18.56 5.44l.94 2.06.94-2.06 2.06-.94-2.06-.94-.94-2.06-.94 2.06-2.06.94zm-11 1L8.5 8.5l.94-2.06 2.06-.94-2.06-.94L8.5 2.5l-.94 2.06-2.06.94zm10 10l.94 2.06.94-2.06 2.06-.94-2.06-.94-.94-2.06-.94 2.06-2.06.94z\"/><path d=\"M17.41 7.96l-1.37-1.37c-.4-.4-.92-.59-1.43-.59-.52 0-1.04.2-1.43.59L10.3 9.45l-7.72 7.72c-.78.78-.78 2.05 0 2.83L4 21.41c.39.39.9.59 1.41.59.51 0 1.02-.2 1.41-.59l7.78-7.78 2.81-2.81c.8-.78.8-2.07 0-2.86zM5.41 20L4 18.59l7.72-7.72 1.47 1.35L5.41 20z\"/>\n",
              "  </svg>\n",
              "      </button>\n",
              "      \n",
              "  <style>\n",
              "    .colab-df-container {\n",
              "      display:flex;\n",
              "      flex-wrap:wrap;\n",
              "      gap: 12px;\n",
              "    }\n",
              "\n",
              "    .colab-df-convert {\n",
              "      background-color: #E8F0FE;\n",
              "      border: none;\n",
              "      border-radius: 50%;\n",
              "      cursor: pointer;\n",
              "      display: none;\n",
              "      fill: #1967D2;\n",
              "      height: 32px;\n",
              "      padding: 0 0 0 0;\n",
              "      width: 32px;\n",
              "    }\n",
              "\n",
              "    .colab-df-convert:hover {\n",
              "      background-color: #E2EBFA;\n",
              "      box-shadow: 0px 1px 2px rgba(60, 64, 67, 0.3), 0px 1px 3px 1px rgba(60, 64, 67, 0.15);\n",
              "      fill: #174EA6;\n",
              "    }\n",
              "\n",
              "    [theme=dark] .colab-df-convert {\n",
              "      background-color: #3B4455;\n",
              "      fill: #D2E3FC;\n",
              "    }\n",
              "\n",
              "    [theme=dark] .colab-df-convert:hover {\n",
              "      background-color: #434B5C;\n",
              "      box-shadow: 0px 1px 3px 1px rgba(0, 0, 0, 0.15);\n",
              "      filter: drop-shadow(0px 1px 2px rgba(0, 0, 0, 0.3));\n",
              "      fill: #FFFFFF;\n",
              "    }\n",
              "  </style>\n",
              "\n",
              "      <script>\n",
              "        const buttonEl =\n",
              "          document.querySelector('#df-56885408-0964-48cf-95f1-4fce07cc1eee button.colab-df-convert');\n",
              "        buttonEl.style.display =\n",
              "          google.colab.kernel.accessAllowed ? 'block' : 'none';\n",
              "\n",
              "        async function convertToInteractive(key) {\n",
              "          const element = document.querySelector('#df-56885408-0964-48cf-95f1-4fce07cc1eee');\n",
              "          const dataTable =\n",
              "            await google.colab.kernel.invokeFunction('convertToInteractive',\n",
              "                                                     [key], {});\n",
              "          if (!dataTable) return;\n",
              "\n",
              "          const docLinkHtml = 'Like what you see? Visit the ' +\n",
              "            '<a target=\"_blank\" href=https://colab.research.google.com/notebooks/data_table.ipynb>data table notebook</a>'\n",
              "            + ' to learn more about interactive tables.';\n",
              "          element.innerHTML = '';\n",
              "          dataTable['output_type'] = 'display_data';\n",
              "          await google.colab.output.renderOutput(dataTable, element);\n",
              "          const docLink = document.createElement('div');\n",
              "          docLink.innerHTML = docLinkHtml;\n",
              "          element.appendChild(docLink);\n",
              "        }\n",
              "      </script>\n",
              "    </div>\n",
              "  </div>\n",
              "  "
            ]
          },
          "metadata": {},
          "execution_count": 113
        }
      ]
    },
    {
      "cell_type": "code",
      "source": [
        "df.columns"
      ],
      "metadata": {
        "colab": {
          "base_uri": "https://localhost:8080/"
        },
        "id": "wGfXqoVdmuIy",
        "outputId": "87cc1a94-52ee-4cc5-bd5e-5beae52361bd"
      },
      "execution_count": 114,
      "outputs": [
        {
          "output_type": "execute_result",
          "data": {
            "text/plain": [
              "Index(['CLAVE', 'SITIO', 'ORGANISMO_DE_CUENCA', 'ESTADO', 'MUNICIPIO',\n",
              "       'ACUIFERO', 'SUBTIPO', 'LONGITUD', 'LATITUD', 'PERIODO', 'ALC_mg/L',\n",
              "       'CALIDAD_ALC', 'CONDUCT_mS/cm', 'CALIDAD_CONDUC', 'SDT_mg/L',\n",
              "       'SDT_M_mg/L', 'CALIDAD_SDT_ra', 'CALIDAD_SDT_salin', 'FLUORUROS_mg/L',\n",
              "       'CALIDAD_FLUO', 'DUR_mg/L', 'CALIDAD_DUR', 'COLI_FEC_NMP/100_mL',\n",
              "       'CALIDAD_COLI_FEC', 'N_NO3_mg/L', 'CALIDAD_N_NO3', 'AS_TOT_mg/L',\n",
              "       'CALIDAD_AS', 'CD_TOT_mg/L', 'CALIDAD_CD', 'CR_TOT_mg/L', 'CALIDAD_CR',\n",
              "       'HG_TOT_mg/L', 'CALIDAD_HG', 'PB_TOT_mg/L', 'CALIDAD_PB', 'MN_TOT_mg/L',\n",
              "       'CALIDAD_MN', 'FE_TOT_mg/L', 'CALIDAD_FE', 'SEMAFORO', 'CONTAMINANTES',\n",
              "       'CUMPLE_CON_ALC', 'CUMPLE_CON_COND', 'CUMPLE_CON_SDT_ra',\n",
              "       'CUMPLE_CON_SDT_salin', 'CUMPLE_CON_FLUO', 'CUMPLE_CON_DUR',\n",
              "       'CUMPLE_CON_CF', 'CUMPLE_CON_NO3', 'CUMPLE_CON_AS', 'CUMPLE_CON_CD',\n",
              "       'CUMPLE_CON_CR', 'CUMPLE_CON_HG', 'CUMPLE_CON_PB', 'CUMPLE_CON_MN',\n",
              "       'CUMPLE_CON_FE'],\n",
              "      dtype='object')"
            ]
          },
          "metadata": {},
          "execution_count": 114
        }
      ]
    },
    {
      "cell_type": "code",
      "source": [
        "df[['COLI_FEC_NMP/100_mL','CALIDAD_COLI_FEC','SEMAFORO']]"
      ],
      "metadata": {
        "colab": {
          "base_uri": "https://localhost:8080/",
          "height": 424
        },
        "id": "lMyB_J1indCg",
        "outputId": "e1c9f51e-08d4-433f-df5c-089fa100993d"
      },
      "execution_count": 115,
      "outputs": [
        {
          "output_type": "execute_result",
          "data": {
            "text/plain": [
              "     COLI_FEC_NMP/100_mL     CALIDAD_COLI_FEC SEMAFORO\n",
              "0                   <1.1  Potable - Excelente    Verde\n",
              "1                   <1.1  Potable - Excelente    Verde\n",
              "2                   <1.1  Potable - Excelente     Rojo\n",
              "3                   <1.1  Potable - Excelente    Verde\n",
              "4                    291            Aceptable     Rojo\n",
              "...                  ...                  ...      ...\n",
              "1063                <1.1  Potable - Excelente     Rojo\n",
              "1064                <1.1  Potable - Excelente     Rojo\n",
              "1065                 620            Aceptable     Rojo\n",
              "1066                <1.1  Potable - Excelente    Verde\n",
              "1067                <1.1  Potable - Excelente    Verde\n",
              "\n",
              "[1068 rows x 3 columns]"
            ],
            "text/html": [
              "\n",
              "  <div id=\"df-06539fd3-9bc0-4240-9757-e5d9c46904e6\">\n",
              "    <div class=\"colab-df-container\">\n",
              "      <div>\n",
              "<style scoped>\n",
              "    .dataframe tbody tr th:only-of-type {\n",
              "        vertical-align: middle;\n",
              "    }\n",
              "\n",
              "    .dataframe tbody tr th {\n",
              "        vertical-align: top;\n",
              "    }\n",
              "\n",
              "    .dataframe thead th {\n",
              "        text-align: right;\n",
              "    }\n",
              "</style>\n",
              "<table border=\"1\" class=\"dataframe\">\n",
              "  <thead>\n",
              "    <tr style=\"text-align: right;\">\n",
              "      <th></th>\n",
              "      <th>COLI_FEC_NMP/100_mL</th>\n",
              "      <th>CALIDAD_COLI_FEC</th>\n",
              "      <th>SEMAFORO</th>\n",
              "    </tr>\n",
              "  </thead>\n",
              "  <tbody>\n",
              "    <tr>\n",
              "      <th>0</th>\n",
              "      <td>&lt;1.1</td>\n",
              "      <td>Potable - Excelente</td>\n",
              "      <td>Verde</td>\n",
              "    </tr>\n",
              "    <tr>\n",
              "      <th>1</th>\n",
              "      <td>&lt;1.1</td>\n",
              "      <td>Potable - Excelente</td>\n",
              "      <td>Verde</td>\n",
              "    </tr>\n",
              "    <tr>\n",
              "      <th>2</th>\n",
              "      <td>&lt;1.1</td>\n",
              "      <td>Potable - Excelente</td>\n",
              "      <td>Rojo</td>\n",
              "    </tr>\n",
              "    <tr>\n",
              "      <th>3</th>\n",
              "      <td>&lt;1.1</td>\n",
              "      <td>Potable - Excelente</td>\n",
              "      <td>Verde</td>\n",
              "    </tr>\n",
              "    <tr>\n",
              "      <th>4</th>\n",
              "      <td>291</td>\n",
              "      <td>Aceptable</td>\n",
              "      <td>Rojo</td>\n",
              "    </tr>\n",
              "    <tr>\n",
              "      <th>...</th>\n",
              "      <td>...</td>\n",
              "      <td>...</td>\n",
              "      <td>...</td>\n",
              "    </tr>\n",
              "    <tr>\n",
              "      <th>1063</th>\n",
              "      <td>&lt;1.1</td>\n",
              "      <td>Potable - Excelente</td>\n",
              "      <td>Rojo</td>\n",
              "    </tr>\n",
              "    <tr>\n",
              "      <th>1064</th>\n",
              "      <td>&lt;1.1</td>\n",
              "      <td>Potable - Excelente</td>\n",
              "      <td>Rojo</td>\n",
              "    </tr>\n",
              "    <tr>\n",
              "      <th>1065</th>\n",
              "      <td>620</td>\n",
              "      <td>Aceptable</td>\n",
              "      <td>Rojo</td>\n",
              "    </tr>\n",
              "    <tr>\n",
              "      <th>1066</th>\n",
              "      <td>&lt;1.1</td>\n",
              "      <td>Potable - Excelente</td>\n",
              "      <td>Verde</td>\n",
              "    </tr>\n",
              "    <tr>\n",
              "      <th>1067</th>\n",
              "      <td>&lt;1.1</td>\n",
              "      <td>Potable - Excelente</td>\n",
              "      <td>Verde</td>\n",
              "    </tr>\n",
              "  </tbody>\n",
              "</table>\n",
              "<p>1068 rows × 3 columns</p>\n",
              "</div>\n",
              "      <button class=\"colab-df-convert\" onclick=\"convertToInteractive('df-06539fd3-9bc0-4240-9757-e5d9c46904e6')\"\n",
              "              title=\"Convert this dataframe to an interactive table.\"\n",
              "              style=\"display:none;\">\n",
              "        \n",
              "  <svg xmlns=\"http://www.w3.org/2000/svg\" height=\"24px\"viewBox=\"0 0 24 24\"\n",
              "       width=\"24px\">\n",
              "    <path d=\"M0 0h24v24H0V0z\" fill=\"none\"/>\n",
              "    <path d=\"M18.56 5.44l.94 2.06.94-2.06 2.06-.94-2.06-.94-.94-2.06-.94 2.06-2.06.94zm-11 1L8.5 8.5l.94-2.06 2.06-.94-2.06-.94L8.5 2.5l-.94 2.06-2.06.94zm10 10l.94 2.06.94-2.06 2.06-.94-2.06-.94-.94-2.06-.94 2.06-2.06.94z\"/><path d=\"M17.41 7.96l-1.37-1.37c-.4-.4-.92-.59-1.43-.59-.52 0-1.04.2-1.43.59L10.3 9.45l-7.72 7.72c-.78.78-.78 2.05 0 2.83L4 21.41c.39.39.9.59 1.41.59.51 0 1.02-.2 1.41-.59l7.78-7.78 2.81-2.81c.8-.78.8-2.07 0-2.86zM5.41 20L4 18.59l7.72-7.72 1.47 1.35L5.41 20z\"/>\n",
              "  </svg>\n",
              "      </button>\n",
              "      \n",
              "  <style>\n",
              "    .colab-df-container {\n",
              "      display:flex;\n",
              "      flex-wrap:wrap;\n",
              "      gap: 12px;\n",
              "    }\n",
              "\n",
              "    .colab-df-convert {\n",
              "      background-color: #E8F0FE;\n",
              "      border: none;\n",
              "      border-radius: 50%;\n",
              "      cursor: pointer;\n",
              "      display: none;\n",
              "      fill: #1967D2;\n",
              "      height: 32px;\n",
              "      padding: 0 0 0 0;\n",
              "      width: 32px;\n",
              "    }\n",
              "\n",
              "    .colab-df-convert:hover {\n",
              "      background-color: #E2EBFA;\n",
              "      box-shadow: 0px 1px 2px rgba(60, 64, 67, 0.3), 0px 1px 3px 1px rgba(60, 64, 67, 0.15);\n",
              "      fill: #174EA6;\n",
              "    }\n",
              "\n",
              "    [theme=dark] .colab-df-convert {\n",
              "      background-color: #3B4455;\n",
              "      fill: #D2E3FC;\n",
              "    }\n",
              "\n",
              "    [theme=dark] .colab-df-convert:hover {\n",
              "      background-color: #434B5C;\n",
              "      box-shadow: 0px 1px 3px 1px rgba(0, 0, 0, 0.15);\n",
              "      filter: drop-shadow(0px 1px 2px rgba(0, 0, 0, 0.3));\n",
              "      fill: #FFFFFF;\n",
              "    }\n",
              "  </style>\n",
              "\n",
              "      <script>\n",
              "        const buttonEl =\n",
              "          document.querySelector('#df-06539fd3-9bc0-4240-9757-e5d9c46904e6 button.colab-df-convert');\n",
              "        buttonEl.style.display =\n",
              "          google.colab.kernel.accessAllowed ? 'block' : 'none';\n",
              "\n",
              "        async function convertToInteractive(key) {\n",
              "          const element = document.querySelector('#df-06539fd3-9bc0-4240-9757-e5d9c46904e6');\n",
              "          const dataTable =\n",
              "            await google.colab.kernel.invokeFunction('convertToInteractive',\n",
              "                                                     [key], {});\n",
              "          if (!dataTable) return;\n",
              "\n",
              "          const docLinkHtml = 'Like what you see? Visit the ' +\n",
              "            '<a target=\"_blank\" href=https://colab.research.google.com/notebooks/data_table.ipynb>data table notebook</a>'\n",
              "            + ' to learn more about interactive tables.';\n",
              "          element.innerHTML = '';\n",
              "          dataTable['output_type'] = 'display_data';\n",
              "          await google.colab.output.renderOutput(dataTable, element);\n",
              "          const docLink = document.createElement('div');\n",
              "          docLink.innerHTML = docLinkHtml;\n",
              "          element.appendChild(docLink);\n",
              "        }\n",
              "      </script>\n",
              "    </div>\n",
              "  </div>\n",
              "  "
            ]
          },
          "metadata": {},
          "execution_count": 115
        }
      ]
    },
    {
      "cell_type": "markdown",
      "source": [
        "# Análisis de Variables"
      ],
      "metadata": {
        "id": "XbDz4eT8sp8f"
      }
    },
    {
      "cell_type": "markdown",
      "source": [
        "Análisis descriptivo, medidas de tendencia central, y asignación de valores nulos (& limite en caso de ser necesario)"
      ],
      "metadata": {
        "id": "EyULXVmBsj8b"
      }
    },
    {
      "cell_type": "markdown",
      "source": [
        "Valoración tipo de dato, valores únicos, y ejemplos del dato"
      ],
      "metadata": {
        "id": "yY7C-ICjgH97"
      }
    },
    {
      "cell_type": "code",
      "source": [
        "## Iteración por columna para conocer el tipo de dato, valores únicos, y ejemplos del dato\n",
        "for i in df.columns: \n",
        "  print('Columna ' + str(i) + ' es un dato tipo ' +  str(df.dtypes[i]) + ' con ' + str(df[i].nunique()) + ' valores únicos. ' + 'Algunos ejemplos son: ' + str(np.array(df.loc[:,i][0:5])) )"
      ],
      "metadata": {
        "colab": {
          "base_uri": "https://localhost:8080/"
        },
        "id": "Dhjsc0QHer_j",
        "outputId": "c914ad89-4420-4f61-c9f8-aeb1237809f6"
      },
      "execution_count": 116,
      "outputs": [
        {
          "output_type": "stream",
          "name": "stdout",
          "text": [
            "Columna CLAVE es un dato tipo object con 1068 valores únicos. Algunos ejemplos son: ['DLAGU6' 'DLAGU6516' 'DLAGU7' 'DLAGU9' 'DLBAJ107']\n",
            "Columna SITIO es un dato tipo object con 1066 valores únicos. Algunos ejemplos son: ['POZO SAN GIL' 'POZO R013 CAÑADA HONDA' 'POZO COSIO' 'POZO EL SALITRILLO'\n",
            " 'RANCHO EL TECOLOTE']\n",
            "Columna ORGANISMO_DE_CUENCA es un dato tipo object con 13 valores únicos. Algunos ejemplos son: ['LERMA SANTIAGO PACIFICO' 'LERMA SANTIAGO PACIFICO'\n",
            " 'LERMA SANTIAGO PACIFICO' 'LERMA SANTIAGO PACIFICO'\n",
            " 'PENINSULA DE BAJA CALIFORNIA']\n",
            "Columna ESTADO es un dato tipo object con 32 valores únicos. Algunos ejemplos son: ['AGUASCALIENTES' 'AGUASCALIENTES' 'AGUASCALIENTES' 'AGUASCALIENTES'\n",
            " 'BAJA CALIFORNIA SUR']\n",
            "Columna MUNICIPIO es un dato tipo object con 452 valores únicos. Algunos ejemplos son: ['ASIENTOS' 'AGUASCALIENTES' 'COSIO' 'RINCON DE ROMOS' 'LA PAZ']\n",
            "Columna ACUIFERO es un dato tipo object con 273 valores únicos. Algunos ejemplos son: ['VALLE DE CHICALOTE' 'VALLE DE CHICALOTE' 'VALLE DE AGUASCALIENTES'\n",
            " 'VALLE DE AGUASCALIENTES' 'TODOS SANTOS']\n",
            "Columna SUBTIPO es un dato tipo object con 8 valores únicos. Algunos ejemplos son: ['POZO' 'POZO' 'POZO' 'POZO' 'POZO']\n",
            "Columna LONGITUD es un dato tipo float64 con 1066 valores únicos. Algunos ejemplos son: [-102.0221  -102.20075 -102.28801 -102.29449 -110.2448 ]\n",
            "Columna LATITUD es un dato tipo float64 con 1067 valores únicos. Algunos ejemplos son: [22.20887 21.99958 22.36685 22.18435 23.45138]\n",
            "Columna PERIODO es un dato tipo int64 con 1 valores únicos. Algunos ejemplos son: [2020 2020 2020 2020 2020]\n",
            "Columna ALC_mg/L es un dato tipo float64 con 816 valores únicos. Algunos ejemplos son: [229.99  231.99  204.92  327.    309.885]\n",
            "Columna CALIDAD_ALC es un dato tipo object con 4 valores únicos. Algunos ejemplos son: ['Alta' 'Alta' 'Alta' 'Alta' 'Alta']\n",
            "Columna CONDUCT_mS/cm es un dato tipo float64 con 801 valores únicos. Algunos ejemplos son: [ 940.  608.  532.  686. 1841.]\n",
            "Columna CALIDAD_CONDUC es un dato tipo object con 5 valores únicos. Algunos ejemplos son: ['Permisible para riego' 'Buena para riego' 'Buena para riego'\n",
            " 'Buena para riego' 'Permisible para riego']\n",
            "Columna SDT_mg/L es un dato tipo float64 con 0 valores únicos. Algunos ejemplos son: [nan nan nan nan nan]\n",
            "Columna SDT_M_mg/L es un dato tipo object con 925 valores únicos. Algunos ejemplos son: ['603.6' '445.4' '342' '478.6' '1179']\n",
            "Columna CALIDAD_SDT_ra es un dato tipo object con 5 valores únicos. Algunos ejemplos son: ['Cultivos sensibles' 'Excelente para riego' 'Excelente para riego'\n",
            " 'Excelente para riego' 'Cultivos con manejo especial']\n",
            "Columna CALIDAD_SDT_salin es un dato tipo object con 4 valores únicos. Algunos ejemplos son: ['Potable - Dulce' 'Potable - Dulce' 'Potable - Dulce' 'Potable - Dulce'\n",
            " 'Ligeramente salobres']\n",
            "Columna FLUORUROS_mg/L es un dato tipo object con 862 valores únicos. Algunos ejemplos son: ['0.9766' '0.9298' '1.8045' '1.1229' '0.2343']\n",
            "Columna CALIDAD_FLUO es un dato tipo object con 4 valores únicos. Algunos ejemplos son: ['Potable - Optima' 'Potable - Optima' 'Alta' 'Potable - Optima' 'Baja']\n",
            "Columna DUR_mg/L es un dato tipo object con 889 valores únicos. Algunos ejemplos son: ['213.732' '185.0514' '120.719' '199.879' '476.9872']\n",
            "Columna CALIDAD_DUR es un dato tipo object con 4 valores únicos. Algunos ejemplos son: ['Potable - Dura' 'Potable - Dura' 'Potable - Dura' 'Potable - Dura'\n",
            " 'Potable - Dura']\n",
            "Columna COLI_FEC_NMP/100_mL es un dato tipo object con 125 valores únicos. Algunos ejemplos son: ['<1.1' '<1.1' '<1.1' '<1.1' '291']\n",
            "Columna CALIDAD_COLI_FEC es un dato tipo object con 5 valores únicos. Algunos ejemplos son: ['Potable - Excelente' 'Potable - Excelente' 'Potable - Excelente'\n",
            " 'Potable - Excelente' 'Aceptable']\n",
            "Columna N_NO3_mg/L es un dato tipo object con 995 valores únicos. Algunos ejemplos son: ['4.184656' '5.75011' '1.449803' '1.258597' '15.672251']\n",
            "Columna CALIDAD_N_NO3 es un dato tipo object con 3 valores únicos. Algunos ejemplos son: ['Potable - Excelente' 'Potable - Buena calidad' 'Potable - Excelente'\n",
            " 'Potable - Excelente' 'No apta como FAAP']\n",
            "Columna AS_TOT_mg/L es un dato tipo object con 209 valores únicos. Algunos ejemplos son: ['0.0161' '0.0134' '0.037' '0.0154' '<0.01']\n",
            "Columna CALIDAD_AS es un dato tipo object con 3 valores únicos. Algunos ejemplos son: ['Apta como FAAP' 'Apta como FAAP' 'No apta como FAAP' 'Apta como FAAP'\n",
            " 'Potable - Excelente']\n",
            "Columna CD_TOT_mg/L es un dato tipo object con 3 valores únicos. Algunos ejemplos son: ['<0.003' '<0.003' '<0.003' '<0.003' '<0.003']\n",
            "Columna CALIDAD_CD es un dato tipo object con 2 valores únicos. Algunos ejemplos son: ['Potable - Excelente' 'Potable - Excelente' 'Potable - Excelente'\n",
            " 'Potable - Excelente' 'Potable - Excelente']\n",
            "Columna CR_TOT_mg/L es un dato tipo object con 168 valores únicos. Algunos ejemplos son: ['<0.005' '<0.005' '<0.005' '0.005' '<0.005']\n",
            "Columna CALIDAD_CR es un dato tipo object con 2 valores únicos. Algunos ejemplos son: ['Potable - Excelente' 'Potable - Excelente' 'Potable - Excelente'\n",
            " 'Potable - Excelente' 'Potable - Excelente']\n",
            "Columna HG_TOT_mg/L es un dato tipo object con 61 valores únicos. Algunos ejemplos son: ['<0.0005' '<0.0005' '<0.0005' '<0.0005' '<0.0005']\n",
            "Columna CALIDAD_HG es un dato tipo object con 2 valores únicos. Algunos ejemplos son: ['Potable - Excelente' 'Potable - Excelente' 'Potable - Excelente'\n",
            " 'Potable - Excelente' 'Potable - Excelente']\n",
            "Columna PB_TOT_mg/L es un dato tipo object con 31 valores únicos. Algunos ejemplos son: ['<0.005' '<0.005' '<0.005' '<0.005' '<0.005']\n",
            "Columna CALIDAD_PB es un dato tipo object con 2 valores únicos. Algunos ejemplos son: ['Potable - Excelente' 'Potable - Excelente' 'Potable - Excelente'\n",
            " 'Potable - Excelente' 'Potable - Excelente']\n",
            "Columna MN_TOT_mg/L es un dato tipo object con 362 valores únicos. Algunos ejemplos son: ['<0.0015' '<0.0015' '<0.0015' '<0.0015' '<0.0015']\n",
            "Columna CALIDAD_MN es un dato tipo object con 3 valores únicos. Algunos ejemplos son: ['Potable - Excelente' 'Potable - Excelente' 'Potable - Excelente'\n",
            " 'Potable - Excelente' 'Potable - Excelente']\n",
            "Columna FE_TOT_mg/L es un dato tipo object con 615 valores únicos. Algunos ejemplos son: ['0.0891' '<0.025' '<0.025' '<0.025' '<0.025']\n",
            "Columna CALIDAD_FE es un dato tipo object con 2 valores únicos. Algunos ejemplos son: ['Potable - Excelente' 'Potable - Excelente' 'Potable - Excelente'\n",
            " 'Potable - Excelente' 'Potable - Excelente']\n",
            "Columna SEMAFORO es un dato tipo object con 3 valores únicos. Algunos ejemplos son: ['Verde' 'Verde' 'Rojo' 'Verde' 'Rojo']\n",
            "Columna CONTAMINANTES es un dato tipo object con 126 valores únicos. Algunos ejemplos son: [nan nan 'FLUO,AS,' nan 'NO3,']\n",
            "Columna CUMPLE_CON_ALC es un dato tipo object con 3 valores únicos. Algunos ejemplos son: ['SI' 'SI' 'SI' 'SI' 'SI']\n",
            "Columna CUMPLE_CON_COND es un dato tipo object con 3 valores únicos. Algunos ejemplos son: ['SI' 'SI' 'SI' 'SI' 'SI']\n",
            "Columna CUMPLE_CON_SDT_ra es un dato tipo object con 3 valores únicos. Algunos ejemplos son: ['SI' 'SI' 'SI' 'SI' 'SI']\n",
            "Columna CUMPLE_CON_SDT_salin es un dato tipo object con 3 valores únicos. Algunos ejemplos son: ['SI' 'SI' 'SI' 'SI' 'SI']\n",
            "Columna CUMPLE_CON_FLUO es un dato tipo object con 2 valores únicos. Algunos ejemplos son: ['SI' 'SI' 'NO' 'SI' 'SI']\n",
            "Columna CUMPLE_CON_DUR es un dato tipo object con 3 valores únicos. Algunos ejemplos son: ['SI' 'SI' 'SI' 'SI' 'SI']\n",
            "Columna CUMPLE_CON_CF es un dato tipo object con 2 valores únicos. Algunos ejemplos son: ['SI' 'SI' 'SI' 'SI' 'SI']\n",
            "Columna CUMPLE_CON_NO3 es un dato tipo object con 3 valores únicos. Algunos ejemplos son: ['SI' 'SI' 'SI' 'SI' 'NO']\n",
            "Columna CUMPLE_CON_AS es un dato tipo object con 2 valores únicos. Algunos ejemplos son: ['SI' 'SI' 'NO' 'SI' 'SI']\n",
            "Columna CUMPLE_CON_CD es un dato tipo object con 2 valores únicos. Algunos ejemplos son: ['SI' 'SI' 'SI' 'SI' 'SI']\n",
            "Columna CUMPLE_CON_CR es un dato tipo object con 2 valores únicos. Algunos ejemplos son: ['SI' 'SI' 'SI' 'SI' 'SI']\n",
            "Columna CUMPLE_CON_HG es un dato tipo object con 2 valores únicos. Algunos ejemplos son: ['SI' 'SI' 'SI' 'SI' 'SI']\n",
            "Columna CUMPLE_CON_PB es un dato tipo object con 2 valores únicos. Algunos ejemplos son: ['SI' 'SI' 'SI' 'SI' 'SI']\n",
            "Columna CUMPLE_CON_MN es un dato tipo object con 2 valores únicos. Algunos ejemplos son: ['SI' 'SI' 'SI' 'SI' 'SI']\n",
            "Columna CUMPLE_CON_FE es un dato tipo object con 2 valores únicos. Algunos ejemplos son: ['SI' 'SI' 'SI' 'SI' 'SI']\n"
          ]
        }
      ]
    },
    {
      "cell_type": "markdown",
      "source": [
        "Valoración variables con null values"
      ],
      "metadata": {
        "id": "uCHv3hq2gN9N"
      }
    },
    {
      "cell_type": "code",
      "source": [
        "### Iteración por columna para conocer el total de missing values\n",
        "for i in df.columns: \n",
        "  print('Columna ' + str(i) + ' tiene ' +  str(df[i].isna().sum()) +' valores nulos, que representa ' + str(round((df[i].isna().sum()/df[i].count())*100,2)) +'% del total' )"
      ],
      "metadata": {
        "colab": {
          "base_uri": "https://localhost:8080/"
        },
        "id": "Ur1Z6y4vsj4g",
        "outputId": "71124e37-b02c-45c2-a111-f239c48170f1"
      },
      "execution_count": 117,
      "outputs": [
        {
          "output_type": "stream",
          "name": "stdout",
          "text": [
            "Columna CLAVE tiene 0 valores nulos, que representa 0.0% del total\n",
            "Columna SITIO tiene 0 valores nulos, que representa 0.0% del total\n",
            "Columna ORGANISMO_DE_CUENCA tiene 0 valores nulos, que representa 0.0% del total\n",
            "Columna ESTADO tiene 0 valores nulos, que representa 0.0% del total\n",
            "Columna MUNICIPIO tiene 0 valores nulos, que representa 0.0% del total\n",
            "Columna ACUIFERO tiene 0 valores nulos, que representa 0.0% del total\n",
            "Columna SUBTIPO tiene 0 valores nulos, que representa 0.0% del total\n",
            "Columna LONGITUD tiene 0 valores nulos, que representa 0.0% del total\n",
            "Columna LATITUD tiene 0 valores nulos, que representa 0.0% del total\n",
            "Columna PERIODO tiene 0 valores nulos, que representa 0.0% del total\n",
            "Columna ALC_mg/L tiene 4 valores nulos, que representa 0.38% del total\n",
            "Columna CALIDAD_ALC tiene 4 valores nulos, que representa 0.38% del total\n",
            "Columna CONDUCT_mS/cm tiene 6 valores nulos, que representa 0.56% del total\n",
            "Columna CALIDAD_CONDUC tiene 6 valores nulos, que representa 0.56% del total\n",
            "Columna SDT_mg/L tiene 1068 valores nulos, que representa inf% del total\n",
            "Columna SDT_M_mg/L tiene 2 valores nulos, que representa 0.19% del total\n",
            "Columna CALIDAD_SDT_ra tiene 2 valores nulos, que representa 0.19% del total\n",
            "Columna CALIDAD_SDT_salin tiene 2 valores nulos, que representa 0.19% del total\n",
            "Columna FLUORUROS_mg/L tiene 0 valores nulos, que representa 0.0% del total\n",
            "Columna CALIDAD_FLUO tiene 0 valores nulos, que representa 0.0% del total\n",
            "Columna DUR_mg/L tiene 1 valores nulos, que representa 0.09% del total\n",
            "Columna CALIDAD_DUR tiene 1 valores nulos, que representa 0.09% del total\n",
            "Columna COLI_FEC_NMP/100_mL tiene 0 valores nulos, que representa 0.0% del total\n",
            "Columna CALIDAD_COLI_FEC tiene 0 valores nulos, que representa 0.0% del total\n",
            "Columna N_NO3_mg/L tiene 1 valores nulos, que representa 0.09% del total\n",
            "Columna CALIDAD_N_NO3 tiene 1 valores nulos, que representa 0.09% del total\n",
            "Columna AS_TOT_mg/L tiene 0 valores nulos, que representa 0.0% del total\n",
            "Columna CALIDAD_AS tiene 0 valores nulos, que representa 0.0% del total\n",
            "Columna CD_TOT_mg/L tiene 0 valores nulos, que representa 0.0% del total\n",
            "Columna CALIDAD_CD tiene 0 valores nulos, que representa 0.0% del total\n",
            "Columna CR_TOT_mg/L tiene 0 valores nulos, que representa 0.0% del total\n",
            "Columna CALIDAD_CR tiene 0 valores nulos, que representa 0.0% del total\n",
            "Columna HG_TOT_mg/L tiene 0 valores nulos, que representa 0.0% del total\n",
            "Columna CALIDAD_HG tiene 0 valores nulos, que representa 0.0% del total\n",
            "Columna PB_TOT_mg/L tiene 0 valores nulos, que representa 0.0% del total\n",
            "Columna CALIDAD_PB tiene 0 valores nulos, que representa 0.0% del total\n",
            "Columna MN_TOT_mg/L tiene 0 valores nulos, que representa 0.0% del total\n",
            "Columna CALIDAD_MN tiene 0 valores nulos, que representa 0.0% del total\n",
            "Columna FE_TOT_mg/L tiene 0 valores nulos, que representa 0.0% del total\n",
            "Columna CALIDAD_FE tiene 0 valores nulos, que representa 0.0% del total\n",
            "Columna SEMAFORO tiene 0 valores nulos, que representa 0.0% del total\n",
            "Columna CONTAMINANTES tiene 434 valores nulos, que representa 68.45% del total\n",
            "Columna CUMPLE_CON_ALC tiene 0 valores nulos, que representa 0.0% del total\n",
            "Columna CUMPLE_CON_COND tiene 0 valores nulos, que representa 0.0% del total\n",
            "Columna CUMPLE_CON_SDT_ra tiene 0 valores nulos, que representa 0.0% del total\n",
            "Columna CUMPLE_CON_SDT_salin tiene 0 valores nulos, que representa 0.0% del total\n",
            "Columna CUMPLE_CON_FLUO tiene 0 valores nulos, que representa 0.0% del total\n",
            "Columna CUMPLE_CON_DUR tiene 0 valores nulos, que representa 0.0% del total\n",
            "Columna CUMPLE_CON_CF tiene 0 valores nulos, que representa 0.0% del total\n",
            "Columna CUMPLE_CON_NO3 tiene 0 valores nulos, que representa 0.0% del total\n",
            "Columna CUMPLE_CON_AS tiene 0 valores nulos, que representa 0.0% del total\n",
            "Columna CUMPLE_CON_CD tiene 0 valores nulos, que representa 0.0% del total\n",
            "Columna CUMPLE_CON_CR tiene 0 valores nulos, que representa 0.0% del total\n",
            "Columna CUMPLE_CON_HG tiene 0 valores nulos, que representa 0.0% del total\n",
            "Columna CUMPLE_CON_PB tiene 0 valores nulos, que representa 0.0% del total\n",
            "Columna CUMPLE_CON_MN tiene 0 valores nulos, que representa 0.0% del total\n",
            "Columna CUMPLE_CON_FE tiene 0 valores nulos, que representa 0.0% del total\n"
          ]
        },
        {
          "output_type": "stream",
          "name": "stderr",
          "text": [
            "/usr/local/lib/python3.7/dist-packages/ipykernel_launcher.py:3: RuntimeWarning: divide by zero encountered in long_scalars\n",
            "  This is separate from the ipykernel package so we can avoid doing imports until\n"
          ]
        }
      ]
    },
    {
      "cell_type": "markdown",
      "source": [
        "## Clave"
      ],
      "metadata": {
        "id": "oI3a4zrysj0Z"
      }
    },
    {
      "cell_type": "markdown",
      "source": [
        "Identificación del registro. \n",
        "De acuerdo a valoraciones previas, no tiene valores únicos ni repetidos."
      ],
      "metadata": {
        "id": "Dvp7UkMxsjwA"
      }
    },
    {
      "cell_type": "markdown",
      "source": [
        "## SITIO"
      ],
      "metadata": {
        "id": "09B5TdxHsjrL"
      }
    },
    {
      "cell_type": "markdown",
      "source": [
        "Variable categórica que identifica el lugar.\n",
        "\n",
        "No tiene missing values."
      ],
      "metadata": {
        "id": "v1QDWdKzsjlO"
      }
    },
    {
      "cell_type": "code",
      "source": [
        "df[['SITIO']].groupby('SITIO').size().sort_values(ascending=False)"
      ],
      "metadata": {
        "colab": {
          "base_uri": "https://localhost:8080/"
        },
        "id": "nOrNFzigsi12",
        "outputId": "2c6699b0-5364-4021-d1a6-559c74ae7718"
      },
      "execution_count": 118,
      "outputs": [
        {
          "output_type": "execute_result",
          "data": {
            "text/plain": [
              "SITIO\n",
              "POZO VILLA UNION                                                        2\n",
              "EL FUERTE                                                               2\n",
              "POZO LA NANTESANA                                                       1\n",
              "POZO LAS AMERICAS II (BEBIDAS PURIFICADAS DEL SURESTE, S.A. DE C.V.)    1\n",
              "POZO LA ZAMORILLA (CNA-72)                                              1\n",
              "                                                                       ..\n",
              "PINOS                                                                   1\n",
              "PLANCHUELAS                                                             1\n",
              "POPOLA                                                                  1\n",
              "POZO  NATIVITAS                                                         1\n",
              "YAXCABA                                                                 1\n",
              "Length: 1066, dtype: int64"
            ]
          },
          "metadata": {},
          "execution_count": 118
        }
      ]
    },
    {
      "cell_type": "markdown",
      "source": [
        "Sólo se repite Pozo Villa Union, y El Fuerte\n",
        "\n",
        "Los demás, se identifican 1 a 1 con el la variable clave"
      ],
      "metadata": {
        "id": "1kvNk_XJmnAS"
      }
    },
    {
      "cell_type": "markdown",
      "source": [
        "## ORGANISMO_DE_CUENCA"
      ],
      "metadata": {
        "id": "Qi-0KRG1hTV-"
      }
    },
    {
      "cell_type": "code",
      "source": [
        "variable = 'ORGANISMO_DE_CUENCA'"
      ],
      "metadata": {
        "id": "xInko_8QhvZN"
      },
      "execution_count": 119,
      "outputs": []
    },
    {
      "cell_type": "code",
      "source": [
        "for i in df[[variable]]: \n",
        "  print('Columna ' + str(i) + ' es un dato tipo ' +  str(df.dtypes[i]) + ' con ' + str(df[i].nunique()) + ' valores únicos. ' + 'Algunos ejemplos son: ' + str(np.array(df.loc[:,i][0:5])) )"
      ],
      "metadata": {
        "colab": {
          "base_uri": "https://localhost:8080/"
        },
        "id": "5MN7DrGyhqvT",
        "outputId": "23b767a2-dfe3-47e1-985b-7eb3c0f592d2"
      },
      "execution_count": 120,
      "outputs": [
        {
          "output_type": "stream",
          "name": "stdout",
          "text": [
            "Columna ORGANISMO_DE_CUENCA es un dato tipo object con 13 valores únicos. Algunos ejemplos son: ['LERMA SANTIAGO PACIFICO' 'LERMA SANTIAGO PACIFICO'\n",
            " 'LERMA SANTIAGO PACIFICO' 'LERMA SANTIAGO PACIFICO'\n",
            " 'PENINSULA DE BAJA CALIFORNIA']\n"
          ]
        }
      ]
    },
    {
      "cell_type": "code",
      "source": [
        "df[[variable]].groupby(variable).size().sort_values(ascending=False)"
      ],
      "metadata": {
        "colab": {
          "base_uri": "https://localhost:8080/"
        },
        "id": "ogrMsIGhhW1a",
        "outputId": "62baf0aa-11a7-425d-adb8-6d8f95cb49ee"
      },
      "execution_count": 121,
      "outputs": [
        {
          "output_type": "execute_result",
          "data": {
            "text/plain": [
              "ORGANISMO_DE_CUENCA\n",
              "CUENCAS CENTRALES DEL NORTE     232\n",
              "LERMA SANTIAGO PACIFICO         170\n",
              "PENINSULA DE YUCATAN            125\n",
              "NOROESTE                         94\n",
              "PENINSULA DE BAJA CALIFORNIA     89\n",
              "BALSAS                           69\n",
              "RIO BRAVO                        65\n",
              "PACIFICO NORTE                   62\n",
              "GOLFO NORTE                      53\n",
              "AGUAS DEL VALLE DE MEXICO        38\n",
              "FRONTERA SUR                     34\n",
              "GOLFO CENTRO                     21\n",
              "PACIFICO SUR                     16\n",
              "dtype: int64"
            ]
          },
          "metadata": {},
          "execution_count": 121
        }
      ]
    },
    {
      "cell_type": "code",
      "source": [
        "df[variable].value_counts().head(5).plot(kind='bar')"
      ],
      "metadata": {
        "colab": {
          "base_uri": "https://localhost:8080/",
          "height": 517
        },
        "id": "23ZCFOWolvzj",
        "outputId": "5e64601a-4bfc-40e5-a22c-e0703be2edb4"
      },
      "execution_count": 122,
      "outputs": [
        {
          "output_type": "execute_result",
          "data": {
            "text/plain": [
              "<matplotlib.axes._subplots.AxesSubplot at 0x7fc78c5f6150>"
            ]
          },
          "metadata": {},
          "execution_count": 122
        },
        {
          "output_type": "display_data",
          "data": {
            "text/plain": [
              "<Figure size 432x288 with 1 Axes>"
            ],
            "image/png": "[encoded data removed]"
          },
          "metadata": {}
        }
      ]
    },
    {
      "cell_type": "markdown",
      "source": [
        "De acuerdo al análisis de la primera sección encontramos que se trata de una variable categórica, con 13 valores distintos, y sin valores nulos.\n",
        "\n",
        "El valor más repetido es CUENCAS CENTRALES DEL NORTE"
      ],
      "metadata": {
        "id": "5a9BQDDghYfb"
      }
    },
    {
      "cell_type": "markdown",
      "source": [
        "## ESTADO"
      ],
      "metadata": {
        "id": "9jDiu5UZhhDW"
      }
    },
    {
      "cell_type": "code",
      "source": [
        "variable = 'ESTADO'"
      ],
      "metadata": {
        "id": "kvsKuuI5h-Mi"
      },
      "execution_count": 123,
      "outputs": []
    },
    {
      "cell_type": "code",
      "source": [
        "for i in df[[variable]]: \n",
        "  print('Columna ' + str(i) + ' es un dato tipo ' +  str(df.dtypes[i]) + ' con ' + str(df[i].nunique()) + ' valores únicos. ' + 'Algunos ejemplos son: ' + str(np.array(df.loc[:,i][0:5])) + ' Y presenta ' + str(round((df[i].isna().sum()/df[i].count())*100,2)) +' % valores nulos' )"
      ],
      "metadata": {
        "colab": {
          "base_uri": "https://localhost:8080/"
        },
        "id": "Z4sDYlpjiAp0",
        "outputId": "4059b606-35f7-4d8c-8bbe-fb87a90798a4"
      },
      "execution_count": 124,
      "outputs": [
        {
          "output_type": "stream",
          "name": "stdout",
          "text": [
            "Columna ESTADO es un dato tipo object con 32 valores únicos. Algunos ejemplos son: ['AGUASCALIENTES' 'AGUASCALIENTES' 'AGUASCALIENTES' 'AGUASCALIENTES'\n",
            " 'BAJA CALIFORNIA SUR'] Y presenta 0.0 % valores nulos\n"
          ]
        }
      ]
    },
    {
      "cell_type": "code",
      "source": [
        "df[[variable]].groupby(variable).size().sort_values(ascending=False)"
      ],
      "metadata": {
        "colab": {
          "base_uri": "https://localhost:8080/"
        },
        "id": "sSnP13LciDFI",
        "outputId": "facfe054-9e36-4526-d4ad-985f951e8297"
      },
      "execution_count": 125,
      "outputs": [
        {
          "output_type": "execute_result",
          "data": {
            "text/plain": [
              "ESTADO\n",
              "DURANGO                            121\n",
              "SONORA                             103\n",
              "YUCATAN                             85\n",
              "ZACATECAS                           75\n",
              "COAHUILA DE ZARAGOZA                59\n",
              "BAJA CALIFORNIA SUR                 49\n",
              "SAN LUIS POTOSI                     47\n",
              "GUANAJUATO                          41\n",
              "HIDALGO                             37\n",
              "CHIHUAHUA                           35\n",
              "JALISCO                             33\n",
              "SINALOA                             32\n",
              "BAJA CALIFORNIA                     31\n",
              "MICHOACAN DE OCAMPO                 27\n",
              "COLIMA                              26\n",
              "TAMAULIPAS                          25\n",
              "CAMPECHE                            25\n",
              "MEXICO                              24\n",
              "TLAXCALA                            24\n",
              "PUEBLA                              23\n",
              "CHIAPAS                             21\n",
              "OAXACA                              20\n",
              "VERACRUZ DE IGNACIO DE LA LLAVE     16\n",
              "NUEVO LEON                          15\n",
              "QUINTANA ROO                        15\n",
              "AGUASCALIENTES                      14\n",
              "TABASCO                             13\n",
              "MORELOS                             11\n",
              "NAYARIT                              8\n",
              "QUERETARO ARTEAGA                    6\n",
              "GUERRERO                             5\n",
              "DISTRITO FEDERAL                     2\n",
              "dtype: int64"
            ]
          },
          "metadata": {},
          "execution_count": 125
        }
      ]
    },
    {
      "cell_type": "code",
      "source": [
        "df[variable].value_counts().head(5).plot(kind='bar')"
      ],
      "metadata": {
        "colab": {
          "base_uri": "https://localhost:8080/",
          "height": 460
        },
        "id": "6I0aYz7fls7N",
        "outputId": "47ae222c-7fac-4e44-8a73-ab402b8d582f"
      },
      "execution_count": 126,
      "outputs": [
        {
          "output_type": "execute_result",
          "data": {
            "text/plain": [
              "<matplotlib.axes._subplots.AxesSubplot at 0x7fc78c5784d0>"
            ]
          },
          "metadata": {},
          "execution_count": 126
        },
        {
          "output_type": "display_data",
          "data": {
            "text/plain": [
              "<Figure size 432x288 with 1 Axes>"
            ],
            "image/png": "[encoded data removed]"
          },
          "metadata": {}
        }
      ]
    },
    {
      "cell_type": "markdown",
      "source": [
        "Variable categórica sobre el estado del registro analizado, sin valores nulos. \n",
        "\n",
        "El estado más repetido es DURANGO"
      ],
      "metadata": {
        "id": "Q4Xs8YfCiyio"
      }
    },
    {
      "cell_type": "markdown",
      "source": [
        "## MUNICIPIO"
      ],
      "metadata": {
        "id": "9ONysVZ2i6ob"
      }
    },
    {
      "cell_type": "code",
      "source": [
        "variable = 'MUNICIPIO'"
      ],
      "metadata": {
        "id": "k9mF1pUZjDCB"
      },
      "execution_count": 127,
      "outputs": []
    },
    {
      "cell_type": "code",
      "source": [
        "for i in df[[variable]]: \n",
        "  print('Columna ' + str(i) + ' es un dato tipo ' +  str(df.dtypes[i]) + ' con ' + str(df[i].nunique()) + ' valores únicos. ' + 'Algunos ejemplos son: ' + str(np.array(df.loc[:,i][0:5])) + ' Y presenta ' + str(round((df[i].isna().sum()/df[i].count())*100,2)) +' % valores nulos' )"
      ],
      "metadata": {
        "colab": {
          "base_uri": "https://localhost:8080/"
        },
        "outputId": "0fae273e-98e2-4255-bdcc-cc5f3b26dce2",
        "id": "uGkqRg61jDCC"
      },
      "execution_count": 128,
      "outputs": [
        {
          "output_type": "stream",
          "name": "stdout",
          "text": [
            "Columna MUNICIPIO es un dato tipo object con 452 valores únicos. Algunos ejemplos son: ['ASIENTOS' 'AGUASCALIENTES' 'COSIO' 'RINCON DE ROMOS' 'LA PAZ'] Y presenta 0.0 % valores nulos\n"
          ]
        }
      ]
    },
    {
      "cell_type": "code",
      "source": [
        "df[[variable]].groupby(variable).size().sort_values(ascending=False)"
      ],
      "metadata": {
        "colab": {
          "base_uri": "https://localhost:8080/"
        },
        "outputId": "5be4f09f-c879-4a90-a844-ffa6db851bde",
        "id": "QDzAe5uljDCD"
      },
      "execution_count": 129,
      "outputs": [
        {
          "output_type": "execute_result",
          "data": {
            "text/plain": [
              "MUNICIPIO\n",
              "LA PAZ             27\n",
              "ENSENADA           26\n",
              "PARRAS             24\n",
              "HERMOSILLO         17\n",
              "MERIDA             16\n",
              "                   ..\n",
              "REFORMA             1\n",
              "RINCON DE ROMOS     1\n",
              "CRUILLAS            1\n",
              "COYOTEPEC           1\n",
              "ZINAPECUARO         1\n",
              "Length: 452, dtype: int64"
            ]
          },
          "metadata": {},
          "execution_count": 129
        }
      ]
    },
    {
      "cell_type": "code",
      "source": [
        "df[variable].value_counts().head(5).plot(kind='bar')"
      ],
      "metadata": {
        "colab": {
          "base_uri": "https://localhost:8080/",
          "height": 371
        },
        "id": "MAnn3XiClrjk",
        "outputId": "c6ceed19-8da4-4357-87e9-58dcbcd855f0"
      },
      "execution_count": 130,
      "outputs": [
        {
          "output_type": "execute_result",
          "data": {
            "text/plain": [
              "<matplotlib.axes._subplots.AxesSubplot at 0x7fc78c4f01d0>"
            ]
          },
          "metadata": {},
          "execution_count": 130
        },
        {
          "output_type": "display_data",
          "data": {
            "text/plain": [
              "<Figure size 432x288 with 1 Axes>"
            ],
            "image/png": "[encoded data removed]"
          },
          "metadata": {}
        }
      ]
    },
    {
      "cell_type": "markdown",
      "source": [
        "Variable categórica sobre el municipio sin valores nulos. El más repetido fue LA PAZ"
      ],
      "metadata": {
        "id": "uYr6FAODjFDf"
      }
    },
    {
      "cell_type": "markdown",
      "source": [
        "## ACUIFERO"
      ],
      "metadata": {
        "id": "DY9Me4CIjPk1"
      }
    },
    {
      "cell_type": "code",
      "source": [
        "variable = 'ACUIFERO'"
      ],
      "metadata": {
        "id": "lkflhPpojeRR"
      },
      "execution_count": 131,
      "outputs": []
    },
    {
      "cell_type": "code",
      "source": [
        "for i in df[[variable]]: \n",
        "  print('Columna ' + str(i) + ' es un dato tipo ' +  str(df.dtypes[i]) + ' con ' + str(df[i].nunique()) + ' valores únicos. ' + 'Algunos ejemplos son: ' + str(np.array(df.loc[:,i][0:5])) + ' Y presenta ' + str(round((df[i].isna().sum()/df[i].count())*100,2)) +' % valores nulos' )"
      ],
      "metadata": {
        "colab": {
          "base_uri": "https://localhost:8080/"
        },
        "outputId": "a148963e-3ccd-4ccf-8f06-c08206594598",
        "id": "Q6BlHnQhjeRS"
      },
      "execution_count": 132,
      "outputs": [
        {
          "output_type": "stream",
          "name": "stdout",
          "text": [
            "Columna ACUIFERO es un dato tipo object con 273 valores únicos. Algunos ejemplos son: ['VALLE DE CHICALOTE' 'VALLE DE CHICALOTE' 'VALLE DE AGUASCALIENTES'\n",
            " 'VALLE DE AGUASCALIENTES' 'TODOS SANTOS'] Y presenta 0.0 % valores nulos\n"
          ]
        }
      ]
    },
    {
      "cell_type": "code",
      "source": [
        "df[[variable]].groupby(variable).size().sort_values(ascending=False).to_frame()"
      ],
      "metadata": {
        "colab": {
          "base_uri": "https://localhost:8080/",
          "height": 455
        },
        "outputId": "11e31dbf-e352-422a-ef9e-bdca859fa7c8",
        "id": "9L7AR_YqjeRS"
      },
      "execution_count": 133,
      "outputs": [
        {
          "output_type": "execute_result",
          "data": {
            "text/plain": [
              "                             0\n",
              "ACUIFERO                      \n",
              "PENINSULA DE YUCATAN       119\n",
              "PRINCIPAL-REGION LAGUNERA   28\n",
              "ALTO ATOYAC                 19\n",
              "TEPEHUANES-SANTIAGO         16\n",
              "GENERAL CEPEDA-SAUCEDA      12\n",
              "...                        ...\n",
              "NOCHIXTLAN                   1\n",
              "LAS DELICIAS                 1\n",
              "RIO TURBIO                   1\n",
              "VALLE DE MATATIPAC           1\n",
              "OCAMPO-ANTIGUO MORELOS       1\n",
              "\n",
              "[273 rows x 1 columns]"
            ],
            "text/html": [
              "\n",
              "  <div id=\"df-571f760d-6ad8-42b9-9c92-759a6d8389c6\">\n",
              "    <div class=\"colab-df-container\">\n",
              "      <div>\n",
              "<style scoped>\n",
              "    .dataframe tbody tr th:only-of-type {\n",
              "        vertical-align: middle;\n",
              "    }\n",
              "\n",
              "    .dataframe tbody tr th {\n",
              "        vertical-align: top;\n",
              "    }\n",
              "\n",
              "    .dataframe thead th {\n",
              "        text-align: right;\n",
              "    }\n",
              "</style>\n",
              "<table border=\"1\" class=\"dataframe\">\n",
              "  <thead>\n",
              "    <tr style=\"text-align: right;\">\n",
              "      <th></th>\n",
              "      <th>0</th>\n",
              "    </tr>\n",
              "    <tr>\n",
              "      <th>ACUIFERO</th>\n",
              "      <th></th>\n",
              "    </tr>\n",
              "  </thead>\n",
              "  <tbody>\n",
              "    <tr>\n",
              "      <th>PENINSULA DE YUCATAN</th>\n",
              "      <td>119</td>\n",
              "    </tr>\n",
              "    <tr>\n",
              "      <th>PRINCIPAL-REGION LAGUNERA</th>\n",
              "      <td>28</td>\n",
              "    </tr>\n",
              "    <tr>\n",
              "      <th>ALTO ATOYAC</th>\n",
              "      <td>19</td>\n",
              "    </tr>\n",
              "    <tr>\n",
              "      <th>TEPEHUANES-SANTIAGO</th>\n",
              "      <td>16</td>\n",
              "    </tr>\n",
              "    <tr>\n",
              "      <th>GENERAL CEPEDA-SAUCEDA</th>\n",
              "      <td>12</td>\n",
              "    </tr>\n",
              "    <tr>\n",
              "      <th>...</th>\n",
              "      <td>...</td>\n",
              "    </tr>\n",
              "    <tr>\n",
              "      <th>NOCHIXTLAN</th>\n",
              "      <td>1</td>\n",
              "    </tr>\n",
              "    <tr>\n",
              "      <th>LAS DELICIAS</th>\n",
              "      <td>1</td>\n",
              "    </tr>\n",
              "    <tr>\n",
              "      <th>RIO TURBIO</th>\n",
              "      <td>1</td>\n",
              "    </tr>\n",
              "    <tr>\n",
              "      <th>VALLE DE MATATIPAC</th>\n",
              "      <td>1</td>\n",
              "    </tr>\n",
              "    <tr>\n",
              "      <th>OCAMPO-ANTIGUO MORELOS</th>\n",
              "      <td>1</td>\n",
              "    </tr>\n",
              "  </tbody>\n",
              "</table>\n",
              "<p>273 rows × 1 columns</p>\n",
              "</div>\n",
              "      <button class=\"colab-df-convert\" onclick=\"convertToInteractive('df-571f760d-6ad8-42b9-9c92-759a6d8389c6')\"\n",
              "              title=\"Convert this dataframe to an interactive table.\"\n",
              "              style=\"display:none;\">\n",
              "        \n",
              "  <svg xmlns=\"http://www.w3.org/2000/svg\" height=\"24px\"viewBox=\"0 0 24 24\"\n",
              "       width=\"24px\">\n",
              "    <path d=\"M0 0h24v24H0V0z\" fill=\"none\"/>\n",
              "    <path d=\"M18.56 5.44l.94 2.06.94-2.06 2.06-.94-2.06-.94-.94-2.06-.94 2.06-2.06.94zm-11 1L8.5 8.5l.94-2.06 2.06-.94-2.06-.94L8.5 2.5l-.94 2.06-2.06.94zm10 10l.94 2.06.94-2.06 2.06-.94-2.06-.94-.94-2.06-.94 2.06-2.06.94z\"/><path d=\"M17.41 7.96l-1.37-1.37c-.4-.4-.92-.59-1.43-.59-.52 0-1.04.2-1.43.59L10.3 9.45l-7.72 7.72c-.78.78-.78 2.05 0 2.83L4 21.41c.39.39.9.59 1.41.59.51 0 1.02-.2 1.41-.59l7.78-7.78 2.81-2.81c.8-.78.8-2.07 0-2.86zM5.41 20L4 18.59l7.72-7.72 1.47 1.35L5.41 20z\"/>\n",
              "  </svg>\n",
              "      </button>\n",
              "      \n",
              "  <style>\n",
              "    .colab-df-container {\n",
              "      display:flex;\n",
              "      flex-wrap:wrap;\n",
              "      gap: 12px;\n",
              "    }\n",
              "\n",
              "    .colab-df-convert {\n",
              "      background-color: #E8F0FE;\n",
              "      border: none;\n",
              "      border-radius: 50%;\n",
              "      cursor: pointer;\n",
              "      display: none;\n",
              "      fill: #1967D2;\n",
              "      height: 32px;\n",
              "      padding: 0 0 0 0;\n",
              "      width: 32px;\n",
              "    }\n",
              "\n",
              "    .colab-df-convert:hover {\n",
              "      background-color: #E2EBFA;\n",
              "      box-shadow: 0px 1px 2px rgba(60, 64, 67, 0.3), 0px 1px 3px 1px rgba(60, 64, 67, 0.15);\n",
              "      fill: #174EA6;\n",
              "    }\n",
              "\n",
              "    [theme=dark] .colab-df-convert {\n",
              "      background-color: #3B4455;\n",
              "      fill: #D2E3FC;\n",
              "    }\n",
              "\n",
              "    [theme=dark] .colab-df-convert:hover {\n",
              "      background-color: #434B5C;\n",
              "      box-shadow: 0px 1px 3px 1px rgba(0, 0, 0, 0.15);\n",
              "      filter: drop-shadow(0px 1px 2px rgba(0, 0, 0, 0.3));\n",
              "      fill: #FFFFFF;\n",
              "    }\n",
              "  </style>\n",
              "\n",
              "      <script>\n",
              "        const buttonEl =\n",
              "          document.querySelector('#df-571f760d-6ad8-42b9-9c92-759a6d8389c6 button.colab-df-convert');\n",
              "        buttonEl.style.display =\n",
              "          google.colab.kernel.accessAllowed ? 'block' : 'none';\n",
              "\n",
              "        async function convertToInteractive(key) {\n",
              "          const element = document.querySelector('#df-571f760d-6ad8-42b9-9c92-759a6d8389c6');\n",
              "          const dataTable =\n",
              "            await google.colab.kernel.invokeFunction('convertToInteractive',\n",
              "                                                     [key], {});\n",
              "          if (!dataTable) return;\n",
              "\n",
              "          const docLinkHtml = 'Like what you see? Visit the ' +\n",
              "            '<a target=\"_blank\" href=https://colab.research.google.com/notebooks/data_table.ipynb>data table notebook</a>'\n",
              "            + ' to learn more about interactive tables.';\n",
              "          element.innerHTML = '';\n",
              "          dataTable['output_type'] = 'display_data';\n",
              "          await google.colab.output.renderOutput(dataTable, element);\n",
              "          const docLink = document.createElement('div');\n",
              "          docLink.innerHTML = docLinkHtml;\n",
              "          element.appendChild(docLink);\n",
              "        }\n",
              "      </script>\n",
              "    </div>\n",
              "  </div>\n",
              "  "
            ]
          },
          "metadata": {},
          "execution_count": 133
        }
      ]
    },
    {
      "cell_type": "code",
      "source": [
        "df[variable].value_counts().head(5).plot(kind='bar')"
      ],
      "metadata": {
        "colab": {
          "base_uri": "https://localhost:8080/",
          "height": 492
        },
        "id": "NY85cQdxjoEx",
        "outputId": "a133429a-b539-41f8-dd3d-4b872193574a"
      },
      "execution_count": 134,
      "outputs": [
        {
          "output_type": "execute_result",
          "data": {
            "text/plain": [
              "<matplotlib.axes._subplots.AxesSubplot at 0x7fc78c4df150>"
            ]
          },
          "metadata": {},
          "execution_count": 134
        },
        {
          "output_type": "display_data",
          "data": {
            "text/plain": [
              "<Figure size 432x288 with 1 Axes>"
            ],
            "image/png": "[encoded data removed]"
          },
          "metadata": {}
        }
      ]
    },
    {
      "cell_type": "markdown",
      "source": [
        "Categórica, sin valores nulos. \n",
        "\n",
        "El más repetido es la peninsula de Yucatan"
      ],
      "metadata": {
        "id": "3CWKjF5ZjhKi"
      }
    },
    {
      "cell_type": "markdown",
      "source": [
        "## SUBTIPO"
      ],
      "metadata": {
        "id": "bddSvTJoj3oM"
      }
    },
    {
      "cell_type": "code",
      "source": [
        "variable = 'SUBTIPO'"
      ],
      "metadata": {
        "id": "YPEgcG9ml94K"
      },
      "execution_count": 135,
      "outputs": []
    },
    {
      "cell_type": "code",
      "source": [
        "for i in df[[variable]]: \n",
        "  print('Columna ' + str(i) + ' es un dato tipo ' +  str(df.dtypes[i]) + ' con ' + str(df[i].nunique()) + ' valores únicos. ' + 'Algunos ejemplos son: ' + str(np.array(df.loc[:,i][0:5])) + ' Y presenta ' + str(round((df[i].isna().sum()/df[i].count())*100,2)) +' % valores nulos' )"
      ],
      "metadata": {
        "colab": {
          "base_uri": "https://localhost:8080/"
        },
        "outputId": "77183018-0188-4cb4-89e0-77bca1c023eb",
        "id": "Hu2Aiua5l94L"
      },
      "execution_count": 136,
      "outputs": [
        {
          "output_type": "stream",
          "name": "stdout",
          "text": [
            "Columna SUBTIPO es un dato tipo object con 8 valores únicos. Algunos ejemplos son: ['POZO' 'POZO' 'POZO' 'POZO' 'POZO'] Y presenta 0.0 % valores nulos\n"
          ]
        }
      ]
    },
    {
      "cell_type": "code",
      "source": [
        "df[[variable]].groupby(variable).size().sort_values(ascending=False).to_frame()"
      ],
      "metadata": {
        "colab": {
          "base_uri": "https://localhost:8080/",
          "height": 332
        },
        "outputId": "ad214958-b416-46ea-ae84-d471644a5c4b",
        "id": "i5wS0MTPl94L"
      },
      "execution_count": 137,
      "outputs": [
        {
          "output_type": "execute_result",
          "data": {
            "text/plain": [
              "                  0\n",
              "SUBTIPO            \n",
              "POZO           1039\n",
              "MANANTIAL        12\n",
              "CENOTE            7\n",
              "POZO NORIA        4\n",
              "NORIA             3\n",
              "BOMBEO CENOTE     1\n",
              "DESCARGA          1\n",
              "Pozo              1"
            ],
            "text/html": [
              "\n",
              "  <div id=\"df-7c02f903-5bd2-4d69-82a8-fca78aa8ebb1\">\n",
              "    <div class=\"colab-df-container\">\n",
              "      <div>\n",
              "<style scoped>\n",
              "    .dataframe tbody tr th:only-of-type {\n",
              "        vertical-align: middle;\n",
              "    }\n",
              "\n",
              "    .dataframe tbody tr th {\n",
              "        vertical-align: top;\n",
              "    }\n",
              "\n",
              "    .dataframe thead th {\n",
              "        text-align: right;\n",
              "    }\n",
              "</style>\n",
              "<table border=\"1\" class=\"dataframe\">\n",
              "  <thead>\n",
              "    <tr style=\"text-align: right;\">\n",
              "      <th></th>\n",
              "      <th>0</th>\n",
              "    </tr>\n",
              "    <tr>\n",
              "      <th>SUBTIPO</th>\n",
              "      <th></th>\n",
              "    </tr>\n",
              "  </thead>\n",
              "  <tbody>\n",
              "    <tr>\n",
              "      <th>POZO</th>\n",
              "      <td>1039</td>\n",
              "    </tr>\n",
              "    <tr>\n",
              "      <th>MANANTIAL</th>\n",
              "      <td>12</td>\n",
              "    </tr>\n",
              "    <tr>\n",
              "      <th>CENOTE</th>\n",
              "      <td>7</td>\n",
              "    </tr>\n",
              "    <tr>\n",
              "      <th>POZO NORIA</th>\n",
              "      <td>4</td>\n",
              "    </tr>\n",
              "    <tr>\n",
              "      <th>NORIA</th>\n",
              "      <td>3</td>\n",
              "    </tr>\n",
              "    <tr>\n",
              "      <th>BOMBEO CENOTE</th>\n",
              "      <td>1</td>\n",
              "    </tr>\n",
              "    <tr>\n",
              "      <th>DESCARGA</th>\n",
              "      <td>1</td>\n",
              "    </tr>\n",
              "    <tr>\n",
              "      <th>Pozo</th>\n",
              "      <td>1</td>\n",
              "    </tr>\n",
              "  </tbody>\n",
              "</table>\n",
              "</div>\n",
              "      <button class=\"colab-df-convert\" onclick=\"convertToInteractive('df-7c02f903-5bd2-4d69-82a8-fca78aa8ebb1')\"\n",
              "              title=\"Convert this dataframe to an interactive table.\"\n",
              "              style=\"display:none;\">\n",
              "        \n",
              "  <svg xmlns=\"http://www.w3.org/2000/svg\" height=\"24px\"viewBox=\"0 0 24 24\"\n",
              "       width=\"24px\">\n",
              "    <path d=\"M0 0h24v24H0V0z\" fill=\"none\"/>\n",
              "    <path d=\"M18.56 5.44l.94 2.06.94-2.06 2.06-.94-2.06-.94-.94-2.06-.94 2.06-2.06.94zm-11 1L8.5 8.5l.94-2.06 2.06-.94-2.06-.94L8.5 2.5l-.94 2.06-2.06.94zm10 10l.94 2.06.94-2.06 2.06-.94-2.06-.94-.94-2.06-.94 2.06-2.06.94z\"/><path d=\"M17.41 7.96l-1.37-1.37c-.4-.4-.92-.59-1.43-.59-.52 0-1.04.2-1.43.59L10.3 9.45l-7.72 7.72c-.78.78-.78 2.05 0 2.83L4 21.41c.39.39.9.59 1.41.59.51 0 1.02-.2 1.41-.59l7.78-7.78 2.81-2.81c.8-.78.8-2.07 0-2.86zM5.41 20L4 18.59l7.72-7.72 1.47 1.35L5.41 20z\"/>\n",
              "  </svg>\n",
              "      </button>\n",
              "      \n",
              "  <style>\n",
              "    .colab-df-container {\n",
              "      display:flex;\n",
              "      flex-wrap:wrap;\n",
              "      gap: 12px;\n",
              "    }\n",
              "\n",
              "    .colab-df-convert {\n",
              "      background-color: #E8F0FE;\n",
              "      border: none;\n",
              "      border-radius: 50%;\n",
              "      cursor: pointer;\n",
              "      display: none;\n",
              "      fill: #1967D2;\n",
              "      height: 32px;\n",
              "      padding: 0 0 0 0;\n",
              "      width: 32px;\n",
              "    }\n",
              "\n",
              "    .colab-df-convert:hover {\n",
              "      background-color: #E2EBFA;\n",
              "      box-shadow: 0px 1px 2px rgba(60, 64, 67, 0.3), 0px 1px 3px 1px rgba(60, 64, 67, 0.15);\n",
              "      fill: #174EA6;\n",
              "    }\n",
              "\n",
              "    [theme=dark] .colab-df-convert {\n",
              "      background-color: #3B4455;\n",
              "      fill: #D2E3FC;\n",
              "    }\n",
              "\n",
              "    [theme=dark] .colab-df-convert:hover {\n",
              "      background-color: #434B5C;\n",
              "      box-shadow: 0px 1px 3px 1px rgba(0, 0, 0, 0.15);\n",
              "      filter: drop-shadow(0px 1px 2px rgba(0, 0, 0, 0.3));\n",
              "      fill: #FFFFFF;\n",
              "    }\n",
              "  </style>\n",
              "\n",
              "      <script>\n",
              "        const buttonEl =\n",
              "          document.querySelector('#df-7c02f903-5bd2-4d69-82a8-fca78aa8ebb1 button.colab-df-convert');\n",
              "        buttonEl.style.display =\n",
              "          google.colab.kernel.accessAllowed ? 'block' : 'none';\n",
              "\n",
              "        async function convertToInteractive(key) {\n",
              "          const element = document.querySelector('#df-7c02f903-5bd2-4d69-82a8-fca78aa8ebb1');\n",
              "          const dataTable =\n",
              "            await google.colab.kernel.invokeFunction('convertToInteractive',\n",
              "                                                     [key], {});\n",
              "          if (!dataTable) return;\n",
              "\n",
              "          const docLinkHtml = 'Like what you see? Visit the ' +\n",
              "            '<a target=\"_blank\" href=https://colab.research.google.com/notebooks/data_table.ipynb>data table notebook</a>'\n",
              "            + ' to learn more about interactive tables.';\n",
              "          element.innerHTML = '';\n",
              "          dataTable['output_type'] = 'display_data';\n",
              "          await google.colab.output.renderOutput(dataTable, element);\n",
              "          const docLink = document.createElement('div');\n",
              "          docLink.innerHTML = docLinkHtml;\n",
              "          element.appendChild(docLink);\n",
              "        }\n",
              "      </script>\n",
              "    </div>\n",
              "  </div>\n",
              "  "
            ]
          },
          "metadata": {},
          "execution_count": 137
        }
      ]
    },
    {
      "cell_type": "code",
      "source": [
        "df[variable].value_counts().head(5).plot(kind='bar')"
      ],
      "metadata": {
        "colab": {
          "base_uri": "https://localhost:8080/",
          "height": 369
        },
        "outputId": "cde35627-52f7-4798-ad56-972e94239465",
        "id": "o83XqZ-kl94L"
      },
      "execution_count": 138,
      "outputs": [
        {
          "output_type": "execute_result",
          "data": {
            "text/plain": [
              "<matplotlib.axes._subplots.AxesSubplot at 0x7fc78c4634d0>"
            ]
          },
          "metadata": {},
          "execution_count": 138
        },
        {
          "output_type": "display_data",
          "data": {
            "text/plain": [
              "<Figure size 432x288 with 1 Axes>"
            ],
            "image/png": "[encoded data removed]"
          },
          "metadata": {}
        }
      ]
    },
    {
      "cell_type": "markdown",
      "source": [
        "Categórica, sin valores nulos. \n",
        "\n",
        "El más repetido es el subtipo POZO"
      ],
      "metadata": {
        "id": "XtAo12f7l94M"
      }
    },
    {
      "cell_type": "markdown",
      "source": [
        "## LONGITUD & LATITUD"
      ],
      "metadata": {
        "id": "DZgwMSJXmEu9"
      }
    },
    {
      "cell_type": "code",
      "source": [
        "latlong=df[[\"LATITUD\",\"LONGITUD\"]]"
      ],
      "metadata": {
        "id": "879NQwZlmMTd"
      },
      "execution_count": 139,
      "outputs": []
    },
    {
      "cell_type": "code",
      "source": [
        "#extrae los datos interesantes\n",
        "latlong.plot.scatter( \"LONGITUD\",\"LATITUD\")"
      ],
      "metadata": {
        "colab": {
          "base_uri": "https://localhost:8080/",
          "height": 316
        },
        "outputId": "d40c761b-999f-4af7-80d3-9a2899fdc2fb",
        "id": "7n3xKESxmMTe"
      },
      "execution_count": 140,
      "outputs": [
        {
          "output_type": "execute_result",
          "data": {
            "text/plain": [
              "<matplotlib.axes._subplots.AxesSubplot at 0x7fc78c3cd910>"
            ]
          },
          "metadata": {},
          "execution_count": 140
        },
        {
          "output_type": "display_data",
          "data": {
            "text/plain": [
              "<Figure size 432x288 with 1 Axes>"
            ],
            "image/png": "[encoded data removed]"
          },
          "metadata": {}
        }
      ]
    },
    {
      "cell_type": "code",
      "source": [
        "latlong[\"Coordinates\"] = list(zip(latlong.LONGITUD, latlong.LATITUD))\n",
        "latlong[\"Coordinates\"] = latlong[\"Coordinates\"].apply(Point)\n",
        "gdf = gpd.GeoDataFrame(latlong, geometry=\"Coordinates\")"
      ],
      "metadata": {
        "colab": {
          "base_uri": "https://localhost:8080/"
        },
        "id": "NMgBPTIlnto7",
        "outputId": "03a75fda-db07-4f38-9c15-a5a91d63cfab"
      },
      "execution_count": 141,
      "outputs": [
        {
          "output_type": "stream",
          "name": "stderr",
          "text": [
            "/usr/local/lib/python3.7/dist-packages/ipykernel_launcher.py:1: SettingWithCopyWarning: \n",
            "A value is trying to be set on a copy of a slice from a DataFrame.\n",
            "Try using .loc[row_indexer,col_indexer] = value instead\n",
            "\n",
            "See the caveats in the documentation: https://pandas.pydata.org/pandas-docs/stable/user_guide/indexing.html#returning-a-view-versus-a-copy\n",
            "  \"\"\"Entry point for launching an IPython kernel.\n",
            "/usr/local/lib/python3.7/dist-packages/ipykernel_launcher.py:2: SettingWithCopyWarning: \n",
            "A value is trying to be set on a copy of a slice from a DataFrame.\n",
            "Try using .loc[row_indexer,col_indexer] = value instead\n",
            "\n",
            "See the caveats in the documentation: https://pandas.pydata.org/pandas-docs/stable/user_guide/indexing.html#returning-a-view-versus-a-copy\n",
            "  \n"
          ]
        }
      ]
    },
    {
      "cell_type": "code",
      "source": [
        "#mapa\n",
        "world = gpd.read_file(gpd.datasets.get_path(\"naturalearth_lowres\"))\n",
        "world = world.set_index(\"iso_a3\")"
      ],
      "metadata": {
        "id": "nDiWQAfungR-"
      },
      "execution_count": 142,
      "outputs": []
    },
    {
      "cell_type": "code",
      "source": [
        "fig, gax = plt.subplots(figsize=(10,10))\n",
        "\n",
        "# Mexico \n",
        "world.query(\"name == 'Mexico'\").plot(ax = gax, edgecolor='black', color='white')\n",
        "\n",
        "gdf.plot(ax=gax, color='red', alpha = 0.5)\n",
        "\n",
        "gax.set_xlabel('LONGITUD')\n",
        "gax.set_ylabel('LATITUD')\n",
        "gax.set_title('Registros en Mapa de México')\n",
        "\n",
        "gax.spines['top'].set_visible(False)\n",
        "gax.spines['right'].set_visible(False)\n",
        "\n",
        "plt.show()"
      ],
      "metadata": {
        "colab": {
          "base_uri": "https://localhost:8080/",
          "height": 437
        },
        "id": "XtyBpcc5nj97",
        "outputId": "148afa02-81a0-4c9d-ecbe-34081005fcbe"
      },
      "execution_count": 143,
      "outputs": [
        {
          "output_type": "display_data",
          "data": {
            "text/plain": [
              "<Figure size 720x720 with 1 Axes>"
            ],
            "image/png": "[encoded data removed]"
          },
          "metadata": {}
        }
      ]
    },
    {
      "cell_type": "markdown",
      "source": [
        "En el mapa anterior, se observa dónde se acumulan los registros de la base"
      ],
      "metadata": {
        "id": "u39n_IwXoQq2"
      }
    },
    {
      "cell_type": "markdown",
      "source": [
        "## PERIODO"
      ],
      "metadata": {
        "id": "m8Yu87PDon2O"
      }
    },
    {
      "cell_type": "code",
      "source": [
        "variable = 'PERIODO'"
      ],
      "metadata": {
        "id": "2xtrbEfXowQs"
      },
      "execution_count": 144,
      "outputs": []
    },
    {
      "cell_type": "code",
      "source": [
        "df[[variable]].groupby(variable).size().sort_values(ascending=False).to_frame()"
      ],
      "metadata": {
        "colab": {
          "base_uri": "https://localhost:8080/",
          "height": 112
        },
        "id": "h2IGaiG9ozee",
        "outputId": "f6af76d5-1373-4986-d21e-b6219fad1331"
      },
      "execution_count": 145,
      "outputs": [
        {
          "output_type": "execute_result",
          "data": {
            "text/plain": [
              "            0\n",
              "PERIODO      \n",
              "2020     1068"
            ],
            "text/html": [
              "\n",
              "  <div id=\"df-8daea713-21b5-400a-94ed-5cb40ec92e39\">\n",
              "    <div class=\"colab-df-container\">\n",
              "      <div>\n",
              "<style scoped>\n",
              "    .dataframe tbody tr th:only-of-type {\n",
              "        vertical-align: middle;\n",
              "    }\n",
              "\n",
              "    .dataframe tbody tr th {\n",
              "        vertical-align: top;\n",
              "    }\n",
              "\n",
              "    .dataframe thead th {\n",
              "        text-align: right;\n",
              "    }\n",
              "</style>\n",
              "<table border=\"1\" class=\"dataframe\">\n",
              "  <thead>\n",
              "    <tr style=\"text-align: right;\">\n",
              "      <th></th>\n",
              "      <th>0</th>\n",
              "    </tr>\n",
              "    <tr>\n",
              "      <th>PERIODO</th>\n",
              "      <th></th>\n",
              "    </tr>\n",
              "  </thead>\n",
              "  <tbody>\n",
              "    <tr>\n",
              "      <th>2020</th>\n",
              "      <td>1068</td>\n",
              "    </tr>\n",
              "  </tbody>\n",
              "</table>\n",
              "</div>\n",
              "      <button class=\"colab-df-convert\" onclick=\"convertToInteractive('df-8daea713-21b5-400a-94ed-5cb40ec92e39')\"\n",
              "              title=\"Convert this dataframe to an interactive table.\"\n",
              "              style=\"display:none;\">\n",
              "        \n",
              "  <svg xmlns=\"http://www.w3.org/2000/svg\" height=\"24px\"viewBox=\"0 0 24 24\"\n",
              "       width=\"24px\">\n",
              "    <path d=\"M0 0h24v24H0V0z\" fill=\"none\"/>\n",
              "    <path d=\"M18.56 5.44l.94 2.06.94-2.06 2.06-.94-2.06-.94-.94-2.06-.94 2.06-2.06.94zm-11 1L8.5 8.5l.94-2.06 2.06-.94-2.06-.94L8.5 2.5l-.94 2.06-2.06.94zm10 10l.94 2.06.94-2.06 2.06-.94-2.06-.94-.94-2.06-.94 2.06-2.06.94z\"/><path d=\"M17.41 7.96l-1.37-1.37c-.4-.4-.92-.59-1.43-.59-.52 0-1.04.2-1.43.59L10.3 9.45l-7.72 7.72c-.78.78-.78 2.05 0 2.83L4 21.41c.39.39.9.59 1.41.59.51 0 1.02-.2 1.41-.59l7.78-7.78 2.81-2.81c.8-.78.8-2.07 0-2.86zM5.41 20L4 18.59l7.72-7.72 1.47 1.35L5.41 20z\"/>\n",
              "  </svg>\n",
              "      </button>\n",
              "      \n",
              "  <style>\n",
              "    .colab-df-container {\n",
              "      display:flex;\n",
              "      flex-wrap:wrap;\n",
              "      gap: 12px;\n",
              "    }\n",
              "\n",
              "    .colab-df-convert {\n",
              "      background-color: #E8F0FE;\n",
              "      border: none;\n",
              "      border-radius: 50%;\n",
              "      cursor: pointer;\n",
              "      display: none;\n",
              "      fill: #1967D2;\n",
              "      height: 32px;\n",
              "      padding: 0 0 0 0;\n",
              "      width: 32px;\n",
              "    }\n",
              "\n",
              "    .colab-df-convert:hover {\n",
              "      background-color: #E2EBFA;\n",
              "      box-shadow: 0px 1px 2px rgba(60, 64, 67, 0.3), 0px 1px 3px 1px rgba(60, 64, 67, 0.15);\n",
              "      fill: #174EA6;\n",
              "    }\n",
              "\n",
              "    [theme=dark] .colab-df-convert {\n",
              "      background-color: #3B4455;\n",
              "      fill: #D2E3FC;\n",
              "    }\n",
              "\n",
              "    [theme=dark] .colab-df-convert:hover {\n",
              "      background-color: #434B5C;\n",
              "      box-shadow: 0px 1px 3px 1px rgba(0, 0, 0, 0.15);\n",
              "      filter: drop-shadow(0px 1px 2px rgba(0, 0, 0, 0.3));\n",
              "      fill: #FFFFFF;\n",
              "    }\n",
              "  </style>\n",
              "\n",
              "      <script>\n",
              "        const buttonEl =\n",
              "          document.querySelector('#df-8daea713-21b5-400a-94ed-5cb40ec92e39 button.colab-df-convert');\n",
              "        buttonEl.style.display =\n",
              "          google.colab.kernel.accessAllowed ? 'block' : 'none';\n",
              "\n",
              "        async function convertToInteractive(key) {\n",
              "          const element = document.querySelector('#df-8daea713-21b5-400a-94ed-5cb40ec92e39');\n",
              "          const dataTable =\n",
              "            await google.colab.kernel.invokeFunction('convertToInteractive',\n",
              "                                                     [key], {});\n",
              "          if (!dataTable) return;\n",
              "\n",
              "          const docLinkHtml = 'Like what you see? Visit the ' +\n",
              "            '<a target=\"_blank\" href=https://colab.research.google.com/notebooks/data_table.ipynb>data table notebook</a>'\n",
              "            + ' to learn more about interactive tables.';\n",
              "          element.innerHTML = '';\n",
              "          dataTable['output_type'] = 'display_data';\n",
              "          await google.colab.output.renderOutput(dataTable, element);\n",
              "          const docLink = document.createElement('div');\n",
              "          docLink.innerHTML = docLinkHtml;\n",
              "          element.appendChild(docLink);\n",
              "        }\n",
              "      </script>\n",
              "    </div>\n",
              "  </div>\n",
              "  "
            ]
          },
          "metadata": {},
          "execution_count": 145
        }
      ]
    },
    {
      "cell_type": "markdown",
      "source": [
        "Todos los registros pertenecen al 2020"
      ],
      "metadata": {
        "id": "VYceFadxots6"
      }
    },
    {
      "cell_type": "markdown",
      "source": [
        "## ALC_mg/L"
      ],
      "metadata": {
        "id": "SvG9uOqQo-PC"
      }
    },
    {
      "cell_type": "code",
      "source": [
        "variable = 'ALC_mg/L'"
      ],
      "metadata": {
        "id": "Ngsk41S9pMj6"
      },
      "execution_count": 146,
      "outputs": []
    },
    {
      "cell_type": "code",
      "source": [
        "for i in df[[variable]]: \n",
        "  print('Columna ' + str(i) + ' es un dato tipo ' +  str(df.dtypes[i]) + ' con ' + str(df[i].nunique()) + ' valores únicos. ' + 'Algunos ejemplos son: ' + str(np.array(df.loc[:,i][0:5])) + ' Y presenta ' + str(round((df[i].isna().sum()/df[i].count())*100,2)) +' % valores nulos' )"
      ],
      "metadata": {
        "colab": {
          "base_uri": "https://localhost:8080/"
        },
        "outputId": "87b04da6-8b94-497a-c30c-71848a3572e6",
        "id": "X5V9h_3JpMj7"
      },
      "execution_count": 147,
      "outputs": [
        {
          "output_type": "stream",
          "name": "stdout",
          "text": [
            "Columna ALC_mg/L es un dato tipo float64 con 816 valores únicos. Algunos ejemplos son: [229.99  231.99  204.92  327.    309.885] Y presenta 0.38 % valores nulos\n"
          ]
        }
      ]
    },
    {
      "cell_type": "code",
      "source": [
        "sns.boxplot(x=df[variable])"
      ],
      "metadata": {
        "colab": {
          "base_uri": "https://localhost:8080/",
          "height": 316
        },
        "id": "eZJ9T7nCpXen",
        "outputId": "c58ed9b7-63c5-4826-eaa2-0a26fe10c3d8"
      },
      "execution_count": 148,
      "outputs": [
        {
          "output_type": "execute_result",
          "data": {
            "text/plain": [
              "<matplotlib.axes._subplots.AxesSubplot at 0x7fc78c3630d0>"
            ]
          },
          "metadata": {},
          "execution_count": 148
        },
        {
          "output_type": "display_data",
          "data": {
            "text/plain": [
              "<Figure size 432x288 with 1 Axes>"
            ],
            "image/png": "[encoded data removed]"
          },
          "metadata": {}
        }
      ]
    },
    {
      "cell_type": "code",
      "source": [
        "df[[variable]].describe() # Descripción de la distribución de la variable"
      ],
      "metadata": {
        "colab": {
          "base_uri": "https://localhost:8080/",
          "height": 300
        },
        "id": "80NJeFpopa9c",
        "outputId": "8d79346b-14d3-4a32-a51e-be956dfee660"
      },
      "execution_count": 149,
      "outputs": [
        {
          "output_type": "execute_result",
          "data": {
            "text/plain": [
              "          ALC_mg/L\n",
              "count  1064.000000\n",
              "mean    235.633759\n",
              "std     116.874291\n",
              "min      26.640000\n",
              "25%     164.000000\n",
              "50%     215.527500\n",
              "75%     292.710000\n",
              "max    1650.000000"
            ],
            "text/html": [
              "\n",
              "  <div id=\"df-bd27ce41-0930-4333-a730-6468ba88d40f\">\n",
              "    <div class=\"colab-df-container\">\n",
              "      <div>\n",
              "<style scoped>\n",
              "    .dataframe tbody tr th:only-of-type {\n",
              "        vertical-align: middle;\n",
              "    }\n",
              "\n",
              "    .dataframe tbody tr th {\n",
              "        vertical-align: top;\n",
              "    }\n",
              "\n",
              "    .dataframe thead th {\n",
              "        text-align: right;\n",
              "    }\n",
              "</style>\n",
              "<table border=\"1\" class=\"dataframe\">\n",
              "  <thead>\n",
              "    <tr style=\"text-align: right;\">\n",
              "      <th></th>\n",
              "      <th>ALC_mg/L</th>\n",
              "    </tr>\n",
              "  </thead>\n",
              "  <tbody>\n",
              "    <tr>\n",
              "      <th>count</th>\n",
              "      <td>1064.000000</td>\n",
              "    </tr>\n",
              "    <tr>\n",
              "      <th>mean</th>\n",
              "      <td>235.633759</td>\n",
              "    </tr>\n",
              "    <tr>\n",
              "      <th>std</th>\n",
              "      <td>116.874291</td>\n",
              "    </tr>\n",
              "    <tr>\n",
              "      <th>min</th>\n",
              "      <td>26.640000</td>\n",
              "    </tr>\n",
              "    <tr>\n",
              "      <th>25%</th>\n",
              "      <td>164.000000</td>\n",
              "    </tr>\n",
              "    <tr>\n",
              "      <th>50%</th>\n",
              "      <td>215.527500</td>\n",
              "    </tr>\n",
              "    <tr>\n",
              "      <th>75%</th>\n",
              "      <td>292.710000</td>\n",
              "    </tr>\n",
              "    <tr>\n",
              "      <th>max</th>\n",
              "      <td>1650.000000</td>\n",
              "    </tr>\n",
              "  </tbody>\n",
              "</table>\n",
              "</div>\n",
              "      <button class=\"colab-df-convert\" onclick=\"convertToInteractive('df-bd27ce41-0930-4333-a730-6468ba88d40f')\"\n",
              "              title=\"Convert this dataframe to an interactive table.\"\n",
              "              style=\"display:none;\">\n",
              "        \n",
              "  <svg xmlns=\"http://www.w3.org/2000/svg\" height=\"24px\"viewBox=\"0 0 24 24\"\n",
              "       width=\"24px\">\n",
              "    <path d=\"M0 0h24v24H0V0z\" fill=\"none\"/>\n",
              "    <path d=\"M18.56 5.44l.94 2.06.94-2.06 2.06-.94-2.06-.94-.94-2.06-.94 2.06-2.06.94zm-11 1L8.5 8.5l.94-2.06 2.06-.94-2.06-.94L8.5 2.5l-.94 2.06-2.06.94zm10 10l.94 2.06.94-2.06 2.06-.94-2.06-.94-.94-2.06-.94 2.06-2.06.94z\"/><path d=\"M17.41 7.96l-1.37-1.37c-.4-.4-.92-.59-1.43-.59-.52 0-1.04.2-1.43.59L10.3 9.45l-7.72 7.72c-.78.78-.78 2.05 0 2.83L4 21.41c.39.39.9.59 1.41.59.51 0 1.02-.2 1.41-.59l7.78-7.78 2.81-2.81c.8-.78.8-2.07 0-2.86zM5.41 20L4 18.59l7.72-7.72 1.47 1.35L5.41 20z\"/>\n",
              "  </svg>\n",
              "      </button>\n",
              "      \n",
              "  <style>\n",
              "    .colab-df-container {\n",
              "      display:flex;\n",
              "      flex-wrap:wrap;\n",
              "      gap: 12px;\n",
              "    }\n",
              "\n",
              "    .colab-df-convert {\n",
              "      background-color: #E8F0FE;\n",
              "      border: none;\n",
              "      border-radius: 50%;\n",
              "      cursor: pointer;\n",
              "      display: none;\n",
              "      fill: #1967D2;\n",
              "      height: 32px;\n",
              "      padding: 0 0 0 0;\n",
              "      width: 32px;\n",
              "    }\n",
              "\n",
              "    .colab-df-convert:hover {\n",
              "      background-color: #E2EBFA;\n",
              "      box-shadow: 0px 1px 2px rgba(60, 64, 67, 0.3), 0px 1px 3px 1px rgba(60, 64, 67, 0.15);\n",
              "      fill: #174EA6;\n",
              "    }\n",
              "\n",
              "    [theme=dark] .colab-df-convert {\n",
              "      background-color: #3B4455;\n",
              "      fill: #D2E3FC;\n",
              "    }\n",
              "\n",
              "    [theme=dark] .colab-df-convert:hover {\n",
              "      background-color: #434B5C;\n",
              "      box-shadow: 0px 1px 3px 1px rgba(0, 0, 0, 0.15);\n",
              "      filter: drop-shadow(0px 1px 2px rgba(0, 0, 0, 0.3));\n",
              "      fill: #FFFFFF;\n",
              "    }\n",
              "  </style>\n",
              "\n",
              "      <script>\n",
              "        const buttonEl =\n",
              "          document.querySelector('#df-bd27ce41-0930-4333-a730-6468ba88d40f button.colab-df-convert');\n",
              "        buttonEl.style.display =\n",
              "          google.colab.kernel.accessAllowed ? 'block' : 'none';\n",
              "\n",
              "        async function convertToInteractive(key) {\n",
              "          const element = document.querySelector('#df-bd27ce41-0930-4333-a730-6468ba88d40f');\n",
              "          const dataTable =\n",
              "            await google.colab.kernel.invokeFunction('convertToInteractive',\n",
              "                                                     [key], {});\n",
              "          if (!dataTable) return;\n",
              "\n",
              "          const docLinkHtml = 'Like what you see? Visit the ' +\n",
              "            '<a target=\"_blank\" href=https://colab.research.google.com/notebooks/data_table.ipynb>data table notebook</a>'\n",
              "            + ' to learn more about interactive tables.';\n",
              "          element.innerHTML = '';\n",
              "          dataTable['output_type'] = 'display_data';\n",
              "          await google.colab.output.renderOutput(dataTable, element);\n",
              "          const docLink = document.createElement('div');\n",
              "          docLink.innerHTML = docLinkHtml;\n",
              "          element.appendChild(docLink);\n",
              "        }\n",
              "      </script>\n",
              "    </div>\n",
              "  </div>\n",
              "  "
            ]
          },
          "metadata": {},
          "execution_count": 149
        }
      ]
    },
    {
      "cell_type": "markdown",
      "source": [
        "Con lo anterior, no encontramos diferencias significativas entre la media y mediana, decidimos utilizar la media como forma de de asignar valores nulos"
      ],
      "metadata": {
        "id": "TLPHRBOdqXeg"
      }
    },
    {
      "cell_type": "code",
      "source": [
        "valor = df[variable].mean() \n",
        "df[variable] = df[variable].fillna(value=valor) ## Asignación a valores nulos"
      ],
      "metadata": {
        "id": "XiZ_blazqKGI"
      },
      "execution_count": 150,
      "outputs": []
    },
    {
      "cell_type": "markdown",
      "source": [
        "## CALIDAD_ALC"
      ],
      "metadata": {
        "id": "S3Oiicd0qiXB"
      }
    },
    {
      "cell_type": "code",
      "source": [
        "variable = 'CALIDAD_ALC'"
      ],
      "metadata": {
        "id": "ACL5kchmxHyE"
      },
      "execution_count": 151,
      "outputs": []
    },
    {
      "cell_type": "code",
      "source": [
        "for i in df[[variable]]: \n",
        "  print('Columna ' + str(i) + ' es un dato tipo ' +  str(df.dtypes[i]) + ' con ' + str(df[i].nunique()) + ' valores únicos. ' + 'Algunos ejemplos son: ' + str(np.array(df.loc[:,i][0:5])) + ' Y presenta ' + str(round((df[i].isna().sum()/df[i].count())*100,2)) +' % valores nulos' )"
      ],
      "metadata": {
        "colab": {
          "base_uri": "https://localhost:8080/"
        },
        "outputId": "35616772-5b30-42dc-8a75-e29e01d9038b",
        "id": "AaD7VdaMxHyF"
      },
      "execution_count": 152,
      "outputs": [
        {
          "output_type": "stream",
          "name": "stdout",
          "text": [
            "Columna CALIDAD_ALC es un dato tipo object con 4 valores únicos. Algunos ejemplos son: ['Alta' 'Alta' 'Alta' 'Alta' 'Alta'] Y presenta 0.38 % valores nulos\n"
          ]
        }
      ]
    },
    {
      "cell_type": "code",
      "source": [
        "df[variable].value_counts().head(5).plot(kind='bar')"
      ],
      "metadata": {
        "colab": {
          "base_uri": "https://localhost:8080/",
          "height": 439
        },
        "id": "W0AjAu1HxNOf",
        "outputId": "d8058f3e-c6ba-40b4-a5b3-12454aaf9ad9"
      },
      "execution_count": 153,
      "outputs": [
        {
          "output_type": "execute_result",
          "data": {
            "text/plain": [
              "<matplotlib.axes._subplots.AxesSubplot at 0x7fc78c20fb90>"
            ]
          },
          "metadata": {},
          "execution_count": 153
        },
        {
          "output_type": "display_data",
          "data": {
            "text/plain": [
              "<Figure size 432x288 with 1 Axes>"
            ],
            "image/png": "[encoded data removed]"
          },
          "metadata": {}
        }
      ]
    },
    {
      "cell_type": "markdown",
      "source": [
        "Al ser una variable categórica, asignamos missing values por la moda"
      ],
      "metadata": {
        "id": "pvMcE6tgx1Rm"
      }
    },
    {
      "cell_type": "code",
      "source": [
        "valor = df[variable].mode()[0] ## Guardar la moda\n",
        "df[variable] = df[variable].fillna(value=valor) ## Asignación a valores nulos"
      ],
      "metadata": {
        "id": "lgM5Wy-pxHyG"
      },
      "execution_count": 154,
      "outputs": []
    },
    {
      "cell_type": "markdown",
      "source": [
        "## CONDUCT_mS/cm"
      ],
      "metadata": {
        "id": "-v6zCuuqxZFD"
      }
    },
    {
      "cell_type": "code",
      "source": [
        "variable = 'CONDUCT_mS/cm'"
      ],
      "metadata": {
        "id": "dQNo2NF4xyYV"
      },
      "execution_count": 155,
      "outputs": []
    },
    {
      "cell_type": "code",
      "source": [
        "for i in df[[variable]]: \n",
        "  print('Columna ' + str(i) + ' es un dato tipo ' +  str(df.dtypes[i]) + ' con ' + str(df[i].nunique()) + ' valores únicos. ' + 'Algunos ejemplos son: ' + str(np.array(df.loc[:,i][0:5])) + ' Y presenta ' + str(round((df[i].isna().sum()/df[i].count())*100,2)) +' % valores nulos' )"
      ],
      "metadata": {
        "colab": {
          "base_uri": "https://localhost:8080/"
        },
        "outputId": "122eaf1f-8688-41e0-a4c4-8bf1b93efdac",
        "id": "d4xCDx4vxyYV"
      },
      "execution_count": 156,
      "outputs": [
        {
          "output_type": "stream",
          "name": "stdout",
          "text": [
            "Columna CONDUCT_mS/cm es un dato tipo float64 con 801 valores únicos. Algunos ejemplos son: [ 940.  608.  532.  686. 1841.] Y presenta 0.56 % valores nulos\n"
          ]
        }
      ]
    },
    {
      "cell_type": "code",
      "source": [
        "sns.boxplot(x=df[variable])"
      ],
      "metadata": {
        "colab": {
          "base_uri": "https://localhost:8080/",
          "height": 316
        },
        "outputId": "12a130b7-47c5-41c3-a846-a5bda2e5602d",
        "id": "VdS7OMYPzWpn"
      },
      "execution_count": 157,
      "outputs": [
        {
          "output_type": "execute_result",
          "data": {
            "text/plain": [
              "<matplotlib.axes._subplots.AxesSubplot at 0x7fc78c16f210>"
            ]
          },
          "metadata": {},
          "execution_count": 157
        },
        {
          "output_type": "display_data",
          "data": {
            "text/plain": [
              "<Figure size 432x288 with 1 Axes>"
            ],
            "image/png": "[encoded data removed]"
          },
          "metadata": {}
        }
      ]
    },
    {
      "cell_type": "code",
      "source": [
        "df[[variable]].describe() # Descripción de la distribución de la variable"
      ],
      "metadata": {
        "colab": {
          "base_uri": "https://localhost:8080/",
          "height": 300
        },
        "outputId": "f78ffaf7-3474-4689-8fad-381f74ef5a0f",
        "id": "J8UjuFcSzWpo"
      },
      "execution_count": 158,
      "outputs": [
        {
          "output_type": "execute_result",
          "data": {
            "text/plain": [
              "       CONDUCT_mS/cm\n",
              "count    1062.000000\n",
              "mean     1138.953013\n",
              "std      1245.563674\n",
              "min        50.400000\n",
              "25%       501.750000\n",
              "50%       815.000000\n",
              "75%      1322.750000\n",
              "max     18577.000000"
            ],
            "text/html": [
              "\n",
              "  <div id=\"df-a747312d-d1e5-4848-821a-b211362ccf8e\">\n",
              "    <div class=\"colab-df-container\">\n",
              "      <div>\n",
              "<style scoped>\n",
              "    .dataframe tbody tr th:only-of-type {\n",
              "        vertical-align: middle;\n",
              "    }\n",
              "\n",
              "    .dataframe tbody tr th {\n",
              "        vertical-align: top;\n",
              "    }\n",
              "\n",
              "    .dataframe thead th {\n",
              "        text-align: right;\n",
              "    }\n",
              "</style>\n",
              "<table border=\"1\" class=\"dataframe\">\n",
              "  <thead>\n",
              "    <tr style=\"text-align: right;\">\n",
              "      <th></th>\n",
              "      <th>CONDUCT_mS/cm</th>\n",
              "    </tr>\n",
              "  </thead>\n",
              "  <tbody>\n",
              "    <tr>\n",
              "      <th>count</th>\n",
              "      <td>1062.000000</td>\n",
              "    </tr>\n",
              "    <tr>\n",
              "      <th>mean</th>\n",
              "      <td>1138.953013</td>\n",
              "    </tr>\n",
              "    <tr>\n",
              "      <th>std</th>\n",
              "      <td>1245.563674</td>\n",
              "    </tr>\n",
              "    <tr>\n",
              "      <th>min</th>\n",
              "      <td>50.400000</td>\n",
              "    </tr>\n",
              "    <tr>\n",
              "      <th>25%</th>\n",
              "      <td>501.750000</td>\n",
              "    </tr>\n",
              "    <tr>\n",
              "      <th>50%</th>\n",
              "      <td>815.000000</td>\n",
              "    </tr>\n",
              "    <tr>\n",
              "      <th>75%</th>\n",
              "      <td>1322.750000</td>\n",
              "    </tr>\n",
              "    <tr>\n",
              "      <th>max</th>\n",
              "      <td>18577.000000</td>\n",
              "    </tr>\n",
              "  </tbody>\n",
              "</table>\n",
              "</div>\n",
              "      <button class=\"colab-df-convert\" onclick=\"convertToInteractive('df-a747312d-d1e5-4848-821a-b211362ccf8e')\"\n",
              "              title=\"Convert this dataframe to an interactive table.\"\n",
              "              style=\"display:none;\">\n",
              "        \n",
              "  <svg xmlns=\"http://www.w3.org/2000/svg\" height=\"24px\"viewBox=\"0 0 24 24\"\n",
              "       width=\"24px\">\n",
              "    <path d=\"M0 0h24v24H0V0z\" fill=\"none\"/>\n",
              "    <path d=\"M18.56 5.44l.94 2.06.94-2.06 2.06-.94-2.06-.94-.94-2.06-.94 2.06-2.06.94zm-11 1L8.5 8.5l.94-2.06 2.06-.94-2.06-.94L8.5 2.5l-.94 2.06-2.06.94zm10 10l.94 2.06.94-2.06 2.06-.94-2.06-.94-.94-2.06-.94 2.06-2.06.94z\"/><path d=\"M17.41 7.96l-1.37-1.37c-.4-.4-.92-.59-1.43-.59-.52 0-1.04.2-1.43.59L10.3 9.45l-7.72 7.72c-.78.78-.78 2.05 0 2.83L4 21.41c.39.39.9.59 1.41.59.51 0 1.02-.2 1.41-.59l7.78-7.78 2.81-2.81c.8-.78.8-2.07 0-2.86zM5.41 20L4 18.59l7.72-7.72 1.47 1.35L5.41 20z\"/>\n",
              "  </svg>\n",
              "      </button>\n",
              "      \n",
              "  <style>\n",
              "    .colab-df-container {\n",
              "      display:flex;\n",
              "      flex-wrap:wrap;\n",
              "      gap: 12px;\n",
              "    }\n",
              "\n",
              "    .colab-df-convert {\n",
              "      background-color: #E8F0FE;\n",
              "      border: none;\n",
              "      border-radius: 50%;\n",
              "      cursor: pointer;\n",
              "      display: none;\n",
              "      fill: #1967D2;\n",
              "      height: 32px;\n",
              "      padding: 0 0 0 0;\n",
              "      width: 32px;\n",
              "    }\n",
              "\n",
              "    .colab-df-convert:hover {\n",
              "      background-color: #E2EBFA;\n",
              "      box-shadow: 0px 1px 2px rgba(60, 64, 67, 0.3), 0px 1px 3px 1px rgba(60, 64, 67, 0.15);\n",
              "      fill: #174EA6;\n",
              "    }\n",
              "\n",
              "    [theme=dark] .colab-df-convert {\n",
              "      background-color: #3B4455;\n",
              "      fill: #D2E3FC;\n",
              "    }\n",
              "\n",
              "    [theme=dark] .colab-df-convert:hover {\n",
              "      background-color: #434B5C;\n",
              "      box-shadow: 0px 1px 3px 1px rgba(0, 0, 0, 0.15);\n",
              "      filter: drop-shadow(0px 1px 2px rgba(0, 0, 0, 0.3));\n",
              "      fill: #FFFFFF;\n",
              "    }\n",
              "  </style>\n",
              "\n",
              "      <script>\n",
              "        const buttonEl =\n",
              "          document.querySelector('#df-a747312d-d1e5-4848-821a-b211362ccf8e button.colab-df-convert');\n",
              "        buttonEl.style.display =\n",
              "          google.colab.kernel.accessAllowed ? 'block' : 'none';\n",
              "\n",
              "        async function convertToInteractive(key) {\n",
              "          const element = document.querySelector('#df-a747312d-d1e5-4848-821a-b211362ccf8e');\n",
              "          const dataTable =\n",
              "            await google.colab.kernel.invokeFunction('convertToInteractive',\n",
              "                                                     [key], {});\n",
              "          if (!dataTable) return;\n",
              "\n",
              "          const docLinkHtml = 'Like what you see? Visit the ' +\n",
              "            '<a target=\"_blank\" href=https://colab.research.google.com/notebooks/data_table.ipynb>data table notebook</a>'\n",
              "            + ' to learn more about interactive tables.';\n",
              "          element.innerHTML = '';\n",
              "          dataTable['output_type'] = 'display_data';\n",
              "          await google.colab.output.renderOutput(dataTable, element);\n",
              "          const docLink = document.createElement('div');\n",
              "          docLink.innerHTML = docLinkHtml;\n",
              "          element.appendChild(docLink);\n",
              "        }\n",
              "      </script>\n",
              "    </div>\n",
              "  </div>\n",
              "  "
            ]
          },
          "metadata": {},
          "execution_count": 158
        }
      ]
    },
    {
      "cell_type": "markdown",
      "source": [
        "Con lo anterior, observamos que existen outliers que jalan la media a valores más altos que la mediana. \n",
        "\n",
        "Asignamos missing values a la mediana para no afectar la distribución"
      ],
      "metadata": {
        "id": "z0pHdR2bzWpo"
      }
    },
    {
      "cell_type": "code",
      "source": [
        "valor = df[variable].median() \n",
        "df[variable] = df[variable].fillna(value=valor) ## Asignación a valores nulos"
      ],
      "metadata": {
        "id": "am4iQYkDzWpo"
      },
      "execution_count": 159,
      "outputs": []
    },
    {
      "cell_type": "markdown",
      "source": [
        "## CALIDAD_CONDUC"
      ],
      "metadata": {
        "id": "7bOFj1bhzpGy"
      }
    },
    {
      "cell_type": "code",
      "source": [
        "variable = 'CALIDAD_CONDUC'"
      ],
      "metadata": {
        "id": "AwDufxrV0b1e"
      },
      "execution_count": 160,
      "outputs": []
    },
    {
      "cell_type": "code",
      "source": [
        "for i in df[[variable]]: \n",
        "  print('Columna ' + str(i) + ' es un dato tipo ' +  str(df.dtypes[i]) + ' con ' + str(df[i].nunique()) + ' valores únicos. ' + 'Algunos ejemplos son: ' + str(np.array(df.loc[:,i][0:5])) + ' Y presenta ' + str(round((df[i].isna().sum()/df[i].count())*100,2)) +' % valores nulos' )"
      ],
      "metadata": {
        "colab": {
          "base_uri": "https://localhost:8080/"
        },
        "outputId": "18dedb82-5a4e-44c9-955f-b5ae7e737805",
        "id": "kAZRPAEV0b1f"
      },
      "execution_count": 161,
      "outputs": [
        {
          "output_type": "stream",
          "name": "stdout",
          "text": [
            "Columna CALIDAD_CONDUC es un dato tipo object con 5 valores únicos. Algunos ejemplos son: ['Permisible para riego' 'Buena para riego' 'Buena para riego'\n",
            " 'Buena para riego' 'Permisible para riego'] Y presenta 0.56 % valores nulos\n"
          ]
        }
      ]
    },
    {
      "cell_type": "code",
      "source": [
        "df[variable].value_counts().head(5).plot(kind='bar')"
      ],
      "metadata": {
        "colab": {
          "base_uri": "https://localhost:8080/",
          "height": 433
        },
        "outputId": "750a8355-43c7-451c-c07c-16795be0284e",
        "id": "to73sLoe0b1g"
      },
      "execution_count": 162,
      "outputs": [
        {
          "output_type": "execute_result",
          "data": {
            "text/plain": [
              "<matplotlib.axes._subplots.AxesSubplot at 0x7fc78c15be50>"
            ]
          },
          "metadata": {},
          "execution_count": 162
        },
        {
          "output_type": "display_data",
          "data": {
            "text/plain": [
              "<Figure size 432x288 with 1 Axes>"
            ],
            "image/png": "[encoded data removed]"
          },
          "metadata": {}
        }
      ]
    },
    {
      "cell_type": "markdown",
      "source": [
        "Al ser una variable categórica, asignamos missing values por la moda"
      ],
      "metadata": {
        "id": "4vraYxnO0b1g"
      }
    },
    {
      "cell_type": "code",
      "source": [
        "valor = df[variable].mode()[0] ## Guardar la moda\n",
        "df[variable] = df[variable].fillna(value=valor) ## Asignación a valores nulos"
      ],
      "metadata": {
        "id": "qJyo5NVD0b1g"
      },
      "execution_count": 163,
      "outputs": []
    },
    {
      "cell_type": "markdown",
      "source": [
        "## SDT_mg/L"
      ],
      "metadata": {
        "id": "XkaZLGVD0hun"
      }
    },
    {
      "cell_type": "code",
      "source": [
        "variable = 'SDT_mg/L'"
      ],
      "metadata": {
        "id": "Tm1IPR-t051n"
      },
      "execution_count": 164,
      "outputs": []
    },
    {
      "cell_type": "code",
      "source": [
        "for i in df[[variable]]: \n",
        "  print('Columna ' + str(i) + ' es un dato tipo ' +  str(df.dtypes[i]) + ' con ' + str(df[i].nunique()) + ' valores únicos. ' + 'Algunos ejemplos son: ' + str(np.array(df.loc[:,i][0:5])) + ' Y presenta ' + str(round((df[i].isna().sum()/df[i].count())*100,2)) +' % valores nulos' )"
      ],
      "metadata": {
        "colab": {
          "base_uri": "https://localhost:8080/"
        },
        "outputId": "b660e210-7fa6-4511-85b0-0b34da3551b5",
        "id": "1DskO_9j051o"
      },
      "execution_count": 165,
      "outputs": [
        {
          "output_type": "stream",
          "name": "stdout",
          "text": [
            "Columna SDT_mg/L es un dato tipo float64 con 0 valores únicos. Algunos ejemplos son: [nan nan nan nan nan] Y presenta inf % valores nulos\n"
          ]
        },
        {
          "output_type": "stream",
          "name": "stderr",
          "text": [
            "/usr/local/lib/python3.7/dist-packages/ipykernel_launcher.py:2: RuntimeWarning: divide by zero encountered in long_scalars\n",
            "  \n"
          ]
        }
      ]
    },
    {
      "cell_type": "code",
      "source": [
        "sns.boxplot(x=df[variable])"
      ],
      "metadata": {
        "colab": {
          "base_uri": "https://localhost:8080/",
          "height": 316
        },
        "outputId": "9d61f16b-cdd1-40c9-fe25-9b69f23de297",
        "id": "t85bp-_R051o"
      },
      "execution_count": 166,
      "outputs": [
        {
          "output_type": "execute_result",
          "data": {
            "text/plain": [
              "<matplotlib.axes._subplots.AxesSubplot at 0x7fc78c0a54d0>"
            ]
          },
          "metadata": {},
          "execution_count": 166
        },
        {
          "output_type": "display_data",
          "data": {
            "text/plain": [
              "<Figure size 432x288 with 1 Axes>"
            ],
            "image/png": "[encoded data removed]"
          },
          "metadata": {}
        }
      ]
    },
    {
      "cell_type": "code",
      "source": [
        "df[[variable]].describe() # Descripción de la distribución de la variable"
      ],
      "metadata": {
        "colab": {
          "base_uri": "https://localhost:8080/",
          "height": 300
        },
        "outputId": "657b7f5a-08ef-412f-d7e8-a51770b17ea8",
        "id": "eSJw7NI-051o"
      },
      "execution_count": 167,
      "outputs": [
        {
          "output_type": "execute_result",
          "data": {
            "text/plain": [
              "       SDT_mg/L\n",
              "count       0.0\n",
              "mean        NaN\n",
              "std         NaN\n",
              "min         NaN\n",
              "25%         NaN\n",
              "50%         NaN\n",
              "75%         NaN\n",
              "max         NaN"
            ],
            "text/html": [
              "\n",
              "  <div id=\"df-1f0f71f8-f6a3-435a-807a-2f68caebd25a\">\n",
              "    <div class=\"colab-df-container\">\n",
              "      <div>\n",
              "<style scoped>\n",
              "    .dataframe tbody tr th:only-of-type {\n",
              "        vertical-align: middle;\n",
              "    }\n",
              "\n",
              "    .dataframe tbody tr th {\n",
              "        vertical-align: top;\n",
              "    }\n",
              "\n",
              "    .dataframe thead th {\n",
              "        text-align: right;\n",
              "    }\n",
              "</style>\n",
              "<table border=\"1\" class=\"dataframe\">\n",
              "  <thead>\n",
              "    <tr style=\"text-align: right;\">\n",
              "      <th></th>\n",
              "      <th>SDT_mg/L</th>\n",
              "    </tr>\n",
              "  </thead>\n",
              "  <tbody>\n",
              "    <tr>\n",
              "      <th>count</th>\n",
              "      <td>0.0</td>\n",
              "    </tr>\n",
              "    <tr>\n",
              "      <th>mean</th>\n",
              "      <td>NaN</td>\n",
              "    </tr>\n",
              "    <tr>\n",
              "      <th>std</th>\n",
              "      <td>NaN</td>\n",
              "    </tr>\n",
              "    <tr>\n",
              "      <th>min</th>\n",
              "      <td>NaN</td>\n",
              "    </tr>\n",
              "    <tr>\n",
              "      <th>25%</th>\n",
              "      <td>NaN</td>\n",
              "    </tr>\n",
              "    <tr>\n",
              "      <th>50%</th>\n",
              "      <td>NaN</td>\n",
              "    </tr>\n",
              "    <tr>\n",
              "      <th>75%</th>\n",
              "      <td>NaN</td>\n",
              "    </tr>\n",
              "    <tr>\n",
              "      <th>max</th>\n",
              "      <td>NaN</td>\n",
              "    </tr>\n",
              "  </tbody>\n",
              "</table>\n",
              "</div>\n",
              "      <button class=\"colab-df-convert\" onclick=\"convertToInteractive('df-1f0f71f8-f6a3-435a-807a-2f68caebd25a')\"\n",
              "              title=\"Convert this dataframe to an interactive table.\"\n",
              "              style=\"display:none;\">\n",
              "        \n",
              "  <svg xmlns=\"http://www.w3.org/2000/svg\" height=\"24px\"viewBox=\"0 0 24 24\"\n",
              "       width=\"24px\">\n",
              "    <path d=\"M0 0h24v24H0V0z\" fill=\"none\"/>\n",
              "    <path d=\"M18.56 5.44l.94 2.06.94-2.06 2.06-.94-2.06-.94-.94-2.06-.94 2.06-2.06.94zm-11 1L8.5 8.5l.94-2.06 2.06-.94-2.06-.94L8.5 2.5l-.94 2.06-2.06.94zm10 10l.94 2.06.94-2.06 2.06-.94-2.06-.94-.94-2.06-.94 2.06-2.06.94z\"/><path d=\"M17.41 7.96l-1.37-1.37c-.4-.4-.92-.59-1.43-.59-.52 0-1.04.2-1.43.59L10.3 9.45l-7.72 7.72c-.78.78-.78 2.05 0 2.83L4 21.41c.39.39.9.59 1.41.59.51 0 1.02-.2 1.41-.59l7.78-7.78 2.81-2.81c.8-.78.8-2.07 0-2.86zM5.41 20L4 18.59l7.72-7.72 1.47 1.35L5.41 20z\"/>\n",
              "  </svg>\n",
              "      </button>\n",
              "      \n",
              "  <style>\n",
              "    .colab-df-container {\n",
              "      display:flex;\n",
              "      flex-wrap:wrap;\n",
              "      gap: 12px;\n",
              "    }\n",
              "\n",
              "    .colab-df-convert {\n",
              "      background-color: #E8F0FE;\n",
              "      border: none;\n",
              "      border-radius: 50%;\n",
              "      cursor: pointer;\n",
              "      display: none;\n",
              "      fill: #1967D2;\n",
              "      height: 32px;\n",
              "      padding: 0 0 0 0;\n",
              "      width: 32px;\n",
              "    }\n",
              "\n",
              "    .colab-df-convert:hover {\n",
              "      background-color: #E2EBFA;\n",
              "      box-shadow: 0px 1px 2px rgba(60, 64, 67, 0.3), 0px 1px 3px 1px rgba(60, 64, 67, 0.15);\n",
              "      fill: #174EA6;\n",
              "    }\n",
              "\n",
              "    [theme=dark] .colab-df-convert {\n",
              "      background-color: #3B4455;\n",
              "      fill: #D2E3FC;\n",
              "    }\n",
              "\n",
              "    [theme=dark] .colab-df-convert:hover {\n",
              "      background-color: #434B5C;\n",
              "      box-shadow: 0px 1px 3px 1px rgba(0, 0, 0, 0.15);\n",
              "      filter: drop-shadow(0px 1px 2px rgba(0, 0, 0, 0.3));\n",
              "      fill: #FFFFFF;\n",
              "    }\n",
              "  </style>\n",
              "\n",
              "      <script>\n",
              "        const buttonEl =\n",
              "          document.querySelector('#df-1f0f71f8-f6a3-435a-807a-2f68caebd25a button.colab-df-convert');\n",
              "        buttonEl.style.display =\n",
              "          google.colab.kernel.accessAllowed ? 'block' : 'none';\n",
              "\n",
              "        async function convertToInteractive(key) {\n",
              "          const element = document.querySelector('#df-1f0f71f8-f6a3-435a-807a-2f68caebd25a');\n",
              "          const dataTable =\n",
              "            await google.colab.kernel.invokeFunction('convertToInteractive',\n",
              "                                                     [key], {});\n",
              "          if (!dataTable) return;\n",
              "\n",
              "          const docLinkHtml = 'Like what you see? Visit the ' +\n",
              "            '<a target=\"_blank\" href=https://colab.research.google.com/notebooks/data_table.ipynb>data table notebook</a>'\n",
              "            + ' to learn more about interactive tables.';\n",
              "          element.innerHTML = '';\n",
              "          dataTable['output_type'] = 'display_data';\n",
              "          await google.colab.output.renderOutput(dataTable, element);\n",
              "          const docLink = document.createElement('div');\n",
              "          docLink.innerHTML = docLinkHtml;\n",
              "          element.appendChild(docLink);\n",
              "        }\n",
              "      </script>\n",
              "    </div>\n",
              "  </div>\n",
              "  "
            ]
          },
          "metadata": {},
          "execution_count": 167
        }
      ]
    },
    {
      "cell_type": "markdown",
      "source": [
        "Todos los valores son nulos, se elimina la variable"
      ],
      "metadata": {
        "id": "_Nonn1tK051o"
      }
    },
    {
      "cell_type": "code",
      "source": [
        "df = df.drop(columns=[variable])"
      ],
      "metadata": {
        "id": "2S6jtuaZ051o"
      },
      "execution_count": 169,
      "outputs": []
    },
    {
      "cell_type": "markdown",
      "source": [
        "## SDT_M_mg/L"
      ],
      "metadata": {
        "id": "5ZXlIQXC1MP8"
      }
    },
    {
      "cell_type": "code",
      "source": [
        "variable = 'SDT_M_mg/L'"
      ],
      "metadata": {
        "id": "eOkWdyJpAFmH"
      },
      "execution_count": 185,
      "outputs": []
    },
    {
      "cell_type": "code",
      "source": [
        "for i in df[[variable]]: \n",
        "  print('Columna ' + str(i) + ' es un dato tipo ' +  str(df.dtypes[i]) + ' con ' + str(df[i].nunique()) + ' valores únicos. ' + 'Algunos ejemplos son: ' + str(np.array(df.loc[:,i][0:5])) + ' Y presenta ' + str(round((df[i].isna().sum()/df[i].count())*100,2)) +' % valores nulos' )"
      ],
      "metadata": {
        "colab": {
          "base_uri": "https://localhost:8080/"
        },
        "outputId": "72ca4d4b-c6c0-4177-bbce-f3751ea0a681",
        "id": "MuKh6OOQAFmH"
      },
      "execution_count": 186,
      "outputs": [
        {
          "output_type": "stream",
          "name": "stdout",
          "text": [
            "Columna SDT_M_mg/L es un dato tipo object con 925 valores únicos. Algunos ejemplos son: ['603.6' '445.4' '342' '478.6' '1179'] Y presenta 0.19 % valores nulos\n"
          ]
        }
      ]
    },
    {
      "cell_type": "code",
      "source": [
        "df[variable] = df[variable].astype(\"double\")"
      ],
      "metadata": {
        "colab": {
          "base_uri": "https://localhost:8080/",
          "height": 318
        },
        "id": "kp8UJ0w5AS3T",
        "outputId": "0187d84e-de87-4d90-b3da-499ff0a2d528"
      },
      "execution_count": 189,
      "outputs": [
        {
          "output_type": "error",
          "ename": "ValueError",
          "evalue": "ignored",
          "traceback": [
            "\u001b[0;31m---------------------------------------------------------------------------\u001b[0m",
            "\u001b[0;31mValueError\u001b[0m                                Traceback (most recent call last)",
            "\u001b[0;32m<ipython-input-189-2035b9c0f641>\u001b[0m in \u001b[0;36m<module>\u001b[0;34m\u001b[0m\n\u001b[0;32m----> 1\u001b[0;31m \u001b[0mdf\u001b[0m\u001b[0;34m[\u001b[0m\u001b[0mvariable\u001b[0m\u001b[0;34m]\u001b[0m \u001b[0;34m=\u001b[0m \u001b[0mdf\u001b[0m\u001b[0;34m[\u001b[0m\u001b[0mvariable\u001b[0m\u001b[0;34m]\u001b[0m\u001b[0;34m.\u001b[0m\u001b[0mastype\u001b[0m\u001b[0;34m(\u001b[0m\u001b[0;34m\"double\"\u001b[0m\u001b[0;34m)\u001b[0m\u001b[0;34m\u001b[0m\u001b[0;34m\u001b[0m\u001b[0m\n\u001b[0m",
            "\u001b[0;32m/usr/local/lib/python3.7/dist-packages/pandas/core/generic.py\u001b[0m in \u001b[0;36mastype\u001b[0;34m(self, dtype, copy, errors)\u001b[0m\n\u001b[1;32m   5813\u001b[0m         \u001b[0;32melse\u001b[0m\u001b[0;34m:\u001b[0m\u001b[0;34m\u001b[0m\u001b[0;34m\u001b[0m\u001b[0m\n\u001b[1;32m   5814\u001b[0m             \u001b[0;31m# else, only a single dtype is given\u001b[0m\u001b[0;34m\u001b[0m\u001b[0;34m\u001b[0m\u001b[0;34m\u001b[0m\u001b[0m\n\u001b[0;32m-> 5815\u001b[0;31m             \u001b[0mnew_data\u001b[0m \u001b[0;34m=\u001b[0m \u001b[0mself\u001b[0m\u001b[0;34m.\u001b[0m\u001b[0m_mgr\u001b[0m\u001b[0;34m.\u001b[0m\u001b[0mastype\u001b[0m\u001b[0;34m(\u001b[0m\u001b[0mdtype\u001b[0m\u001b[0;34m=\u001b[0m\u001b[0mdtype\u001b[0m\u001b[0;34m,\u001b[0m \u001b[0mcopy\u001b[0m\u001b[0;34m=\u001b[0m\u001b[0mcopy\u001b[0m\u001b[0;34m,\u001b[0m \u001b[0merrors\u001b[0m\u001b[0;34m=\u001b[0m\u001b[0merrors\u001b[0m\u001b[0;34m)\u001b[0m\u001b[0;34m\u001b[0m\u001b[0;34m\u001b[0m\u001b[0m\n\u001b[0m\u001b[1;32m   5816\u001b[0m             \u001b[0;32mreturn\u001b[0m \u001b[0mself\u001b[0m\u001b[0;34m.\u001b[0m\u001b[0m_constructor\u001b[0m\u001b[0;34m(\u001b[0m\u001b[0mnew_data\u001b[0m\u001b[0;34m)\u001b[0m\u001b[0;34m.\u001b[0m\u001b[0m__finalize__\u001b[0m\u001b[0;34m(\u001b[0m\u001b[0mself\u001b[0m\u001b[0;34m,\u001b[0m \u001b[0mmethod\u001b[0m\u001b[0;34m=\u001b[0m\u001b[0;34m\"astype\"\u001b[0m\u001b[0;34m)\u001b[0m\u001b[0;34m\u001b[0m\u001b[0;34m\u001b[0m\u001b[0m\n\u001b[1;32m   5817\u001b[0m \u001b[0;34m\u001b[0m\u001b[0m\n",
            "\u001b[0;32m/usr/local/lib/python3.7/dist-packages/pandas/core/internals/managers.py\u001b[0m in \u001b[0;36mastype\u001b[0;34m(self, dtype, copy, errors)\u001b[0m\n\u001b[1;32m    416\u001b[0m \u001b[0;34m\u001b[0m\u001b[0m\n\u001b[1;32m    417\u001b[0m     \u001b[0;32mdef\u001b[0m \u001b[0mastype\u001b[0m\u001b[0;34m(\u001b[0m\u001b[0mself\u001b[0m\u001b[0;34m:\u001b[0m \u001b[0mT\u001b[0m\u001b[0;34m,\u001b[0m \u001b[0mdtype\u001b[0m\u001b[0;34m,\u001b[0m \u001b[0mcopy\u001b[0m\u001b[0;34m:\u001b[0m \u001b[0mbool\u001b[0m \u001b[0;34m=\u001b[0m \u001b[0;32mFalse\u001b[0m\u001b[0;34m,\u001b[0m \u001b[0merrors\u001b[0m\u001b[0;34m:\u001b[0m \u001b[0mstr\u001b[0m \u001b[0;34m=\u001b[0m \u001b[0;34m\"raise\"\u001b[0m\u001b[0;34m)\u001b[0m \u001b[0;34m->\u001b[0m \u001b[0mT\u001b[0m\u001b[0;34m:\u001b[0m\u001b[0;34m\u001b[0m\u001b[0;34m\u001b[0m\u001b[0m\n\u001b[0;32m--> 418\u001b[0;31m         \u001b[0;32mreturn\u001b[0m \u001b[0mself\u001b[0m\u001b[0;34m.\u001b[0m\u001b[0mapply\u001b[0m\u001b[0;34m(\u001b[0m\u001b[0;34m\"astype\"\u001b[0m\u001b[0;34m,\u001b[0m \u001b[0mdtype\u001b[0m\u001b[0;34m=\u001b[0m\u001b[0mdtype\u001b[0m\u001b[0;34m,\u001b[0m \u001b[0mcopy\u001b[0m\u001b[0;34m=\u001b[0m\u001b[0mcopy\u001b[0m\u001b[0;34m,\u001b[0m \u001b[0merrors\u001b[0m\u001b[0;34m=\u001b[0m\u001b[0merrors\u001b[0m\u001b[0;34m)\u001b[0m\u001b[0;34m\u001b[0m\u001b[0;34m\u001b[0m\u001b[0m\n\u001b[0m\u001b[1;32m    419\u001b[0m \u001b[0;34m\u001b[0m\u001b[0m\n\u001b[1;32m    420\u001b[0m     def convert(\n",
            "\u001b[0;32m/usr/local/lib/python3.7/dist-packages/pandas/core/internals/managers.py\u001b[0m in \u001b[0;36mapply\u001b[0;34m(self, f, align_keys, ignore_failures, **kwargs)\u001b[0m\n\u001b[1;32m    325\u001b[0m                     \u001b[0mapplied\u001b[0m \u001b[0;34m=\u001b[0m \u001b[0mb\u001b[0m\u001b[0;34m.\u001b[0m\u001b[0mapply\u001b[0m\u001b[0;34m(\u001b[0m\u001b[0mf\u001b[0m\u001b[0;34m,\u001b[0m \u001b[0;34m**\u001b[0m\u001b[0mkwargs\u001b[0m\u001b[0;34m)\u001b[0m\u001b[0;34m\u001b[0m\u001b[0;34m\u001b[0m\u001b[0m\n\u001b[1;32m    326\u001b[0m                 \u001b[0;32melse\u001b[0m\u001b[0;34m:\u001b[0m\u001b[0;34m\u001b[0m\u001b[0;34m\u001b[0m\u001b[0m\n\u001b[0;32m--> 327\u001b[0;31m                     \u001b[0mapplied\u001b[0m \u001b[0;34m=\u001b[0m \u001b[0mgetattr\u001b[0m\u001b[0;34m(\u001b[0m\u001b[0mb\u001b[0m\u001b[0;34m,\u001b[0m \u001b[0mf\u001b[0m\u001b[0;34m)\u001b[0m\u001b[0;34m(\u001b[0m\u001b[0;34m**\u001b[0m\u001b[0mkwargs\u001b[0m\u001b[0;34m)\u001b[0m\u001b[0;34m\u001b[0m\u001b[0;34m\u001b[0m\u001b[0m\n\u001b[0m\u001b[1;32m    328\u001b[0m             \u001b[0;32mexcept\u001b[0m \u001b[0;34m(\u001b[0m\u001b[0mTypeError\u001b[0m\u001b[0;34m,\u001b[0m \u001b[0mNotImplementedError\u001b[0m\u001b[0;34m)\u001b[0m\u001b[0;34m:\u001b[0m\u001b[0;34m\u001b[0m\u001b[0;34m\u001b[0m\u001b[0m\n\u001b[1;32m    329\u001b[0m                 \u001b[0;32mif\u001b[0m \u001b[0;32mnot\u001b[0m \u001b[0mignore_failures\u001b[0m\u001b[0;34m:\u001b[0m\u001b[0;34m\u001b[0m\u001b[0;34m\u001b[0m\u001b[0m\n",
            "\u001b[0;32m/usr/local/lib/python3.7/dist-packages/pandas/core/internals/blocks.py\u001b[0m in \u001b[0;36mastype\u001b[0;34m(self, dtype, copy, errors)\u001b[0m\n\u001b[1;32m    589\u001b[0m         \u001b[0mvalues\u001b[0m \u001b[0;34m=\u001b[0m \u001b[0mself\u001b[0m\u001b[0;34m.\u001b[0m\u001b[0mvalues\u001b[0m\u001b[0;34m\u001b[0m\u001b[0;34m\u001b[0m\u001b[0m\n\u001b[1;32m    590\u001b[0m \u001b[0;34m\u001b[0m\u001b[0m\n\u001b[0;32m--> 591\u001b[0;31m         \u001b[0mnew_values\u001b[0m \u001b[0;34m=\u001b[0m \u001b[0mastype_array_safe\u001b[0m\u001b[0;34m(\u001b[0m\u001b[0mvalues\u001b[0m\u001b[0;34m,\u001b[0m \u001b[0mdtype\u001b[0m\u001b[0;34m,\u001b[0m \u001b[0mcopy\u001b[0m\u001b[0;34m=\u001b[0m\u001b[0mcopy\u001b[0m\u001b[0;34m,\u001b[0m \u001b[0merrors\u001b[0m\u001b[0;34m=\u001b[0m\u001b[0merrors\u001b[0m\u001b[0;34m)\u001b[0m\u001b[0;34m\u001b[0m\u001b[0;34m\u001b[0m\u001b[0m\n\u001b[0m\u001b[1;32m    592\u001b[0m \u001b[0;34m\u001b[0m\u001b[0m\n\u001b[1;32m    593\u001b[0m         \u001b[0mnew_values\u001b[0m \u001b[0;34m=\u001b[0m \u001b[0mmaybe_coerce_values\u001b[0m\u001b[0;34m(\u001b[0m\u001b[0mnew_values\u001b[0m\u001b[0;34m)\u001b[0m\u001b[0;34m\u001b[0m\u001b[0;34m\u001b[0m\u001b[0m\n",
            "\u001b[0;32m/usr/local/lib/python3.7/dist-packages/pandas/core/dtypes/cast.py\u001b[0m in \u001b[0;36mastype_array_safe\u001b[0;34m(values, dtype, copy, errors)\u001b[0m\n\u001b[1;32m   1307\u001b[0m \u001b[0;34m\u001b[0m\u001b[0m\n\u001b[1;32m   1308\u001b[0m     \u001b[0;32mtry\u001b[0m\u001b[0;34m:\u001b[0m\u001b[0;34m\u001b[0m\u001b[0;34m\u001b[0m\u001b[0m\n\u001b[0;32m-> 1309\u001b[0;31m         \u001b[0mnew_values\u001b[0m \u001b[0;34m=\u001b[0m \u001b[0mastype_array\u001b[0m\u001b[0;34m(\u001b[0m\u001b[0mvalues\u001b[0m\u001b[0;34m,\u001b[0m \u001b[0mdtype\u001b[0m\u001b[0;34m,\u001b[0m \u001b[0mcopy\u001b[0m\u001b[0;34m=\u001b[0m\u001b[0mcopy\u001b[0m\u001b[0;34m)\u001b[0m\u001b[0;34m\u001b[0m\u001b[0;34m\u001b[0m\u001b[0m\n\u001b[0m\u001b[1;32m   1310\u001b[0m     \u001b[0;32mexcept\u001b[0m \u001b[0;34m(\u001b[0m\u001b[0mValueError\u001b[0m\u001b[0;34m,\u001b[0m \u001b[0mTypeError\u001b[0m\u001b[0;34m)\u001b[0m\u001b[0;34m:\u001b[0m\u001b[0;34m\u001b[0m\u001b[0;34m\u001b[0m\u001b[0m\n\u001b[1;32m   1311\u001b[0m         \u001b[0;31m# e.g. astype_nansafe can fail on object-dtype of strings\u001b[0m\u001b[0;34m\u001b[0m\u001b[0;34m\u001b[0m\u001b[0;34m\u001b[0m\u001b[0m\n",
            "\u001b[0;32m/usr/local/lib/python3.7/dist-packages/pandas/core/dtypes/cast.py\u001b[0m in \u001b[0;36mastype_array\u001b[0;34m(values, dtype, copy)\u001b[0m\n\u001b[1;32m   1255\u001b[0m \u001b[0;34m\u001b[0m\u001b[0m\n\u001b[1;32m   1256\u001b[0m     \u001b[0;32melse\u001b[0m\u001b[0;34m:\u001b[0m\u001b[0;34m\u001b[0m\u001b[0;34m\u001b[0m\u001b[0m\n\u001b[0;32m-> 1257\u001b[0;31m         \u001b[0mvalues\u001b[0m \u001b[0;34m=\u001b[0m \u001b[0mastype_nansafe\u001b[0m\u001b[0;34m(\u001b[0m\u001b[0mvalues\u001b[0m\u001b[0;34m,\u001b[0m \u001b[0mdtype\u001b[0m\u001b[0;34m,\u001b[0m \u001b[0mcopy\u001b[0m\u001b[0;34m=\u001b[0m\u001b[0mcopy\u001b[0m\u001b[0;34m)\u001b[0m\u001b[0;34m\u001b[0m\u001b[0;34m\u001b[0m\u001b[0m\n\u001b[0m\u001b[1;32m   1258\u001b[0m \u001b[0;34m\u001b[0m\u001b[0m\n\u001b[1;32m   1259\u001b[0m     \u001b[0;31m# in pandas we don't store numpy str dtypes, so convert to object\u001b[0m\u001b[0;34m\u001b[0m\u001b[0;34m\u001b[0m\u001b[0;34m\u001b[0m\u001b[0m\n",
            "\u001b[0;32m/usr/local/lib/python3.7/dist-packages/pandas/core/dtypes/cast.py\u001b[0m in \u001b[0;36mastype_nansafe\u001b[0;34m(arr, dtype, copy, skipna)\u001b[0m\n\u001b[1;32m   1199\u001b[0m     \u001b[0;32mif\u001b[0m \u001b[0mcopy\u001b[0m \u001b[0;32mor\u001b[0m \u001b[0mis_object_dtype\u001b[0m\u001b[0;34m(\u001b[0m\u001b[0marr\u001b[0m\u001b[0;34m.\u001b[0m\u001b[0mdtype\u001b[0m\u001b[0;34m)\u001b[0m \u001b[0;32mor\u001b[0m \u001b[0mis_object_dtype\u001b[0m\u001b[0;34m(\u001b[0m\u001b[0mdtype\u001b[0m\u001b[0;34m)\u001b[0m\u001b[0;34m:\u001b[0m\u001b[0;34m\u001b[0m\u001b[0;34m\u001b[0m\u001b[0m\n\u001b[1;32m   1200\u001b[0m         \u001b[0;31m# Explicit copy, or required since NumPy can't view from / to object.\u001b[0m\u001b[0;34m\u001b[0m\u001b[0;34m\u001b[0m\u001b[0;34m\u001b[0m\u001b[0m\n\u001b[0;32m-> 1201\u001b[0;31m         \u001b[0;32mreturn\u001b[0m \u001b[0marr\u001b[0m\u001b[0;34m.\u001b[0m\u001b[0mastype\u001b[0m\u001b[0;34m(\u001b[0m\u001b[0mdtype\u001b[0m\u001b[0;34m,\u001b[0m \u001b[0mcopy\u001b[0m\u001b[0;34m=\u001b[0m\u001b[0;32mTrue\u001b[0m\u001b[0;34m)\u001b[0m\u001b[0;34m\u001b[0m\u001b[0;34m\u001b[0m\u001b[0m\n\u001b[0m\u001b[1;32m   1202\u001b[0m \u001b[0;34m\u001b[0m\u001b[0m\n\u001b[1;32m   1203\u001b[0m     \u001b[0;32mreturn\u001b[0m \u001b[0marr\u001b[0m\u001b[0;34m.\u001b[0m\u001b[0mastype\u001b[0m\u001b[0;34m(\u001b[0m\u001b[0mdtype\u001b[0m\u001b[0;34m,\u001b[0m \u001b[0mcopy\u001b[0m\u001b[0;34m=\u001b[0m\u001b[0mcopy\u001b[0m\u001b[0;34m)\u001b[0m\u001b[0;34m\u001b[0m\u001b[0;34m\u001b[0m\u001b[0m\n",
            "\u001b[0;31mValueError\u001b[0m: could not convert string to float: '<25'"
          ]
        }
      ]
    },
    {
      "cell_type": "code",
      "source": [
        "sns.boxplot(x=df[variable])"
      ],
      "metadata": {
        "colab": {
          "base_uri": "https://localhost:8080/",
          "height": 318
        },
        "outputId": "e29d6eb7-4144-40a1-d9b2-6a9138dfe060",
        "id": "m8BnpExkAFmI"
      },
      "execution_count": 188,
      "outputs": [
        {
          "output_type": "error",
          "ename": "TypeError",
          "evalue": "ignored",
          "traceback": [
            "\u001b[0;31m---------------------------------------------------------------------------\u001b[0m",
            "\u001b[0;31mTypeError\u001b[0m                                 Traceback (most recent call last)",
            "\u001b[0;32m<ipython-input-188-1872aeb945f5>\u001b[0m in \u001b[0;36m<module>\u001b[0;34m\u001b[0m\n\u001b[0;32m----> 1\u001b[0;31m \u001b[0msns\u001b[0m\u001b[0;34m.\u001b[0m\u001b[0mboxplot\u001b[0m\u001b[0;34m(\u001b[0m\u001b[0mx\u001b[0m\u001b[0;34m=\u001b[0m\u001b[0mdf\u001b[0m\u001b[0;34m[\u001b[0m\u001b[0mvariable\u001b[0m\u001b[0;34m]\u001b[0m\u001b[0;34m)\u001b[0m\u001b[0;34m\u001b[0m\u001b[0;34m\u001b[0m\u001b[0m\n\u001b[0m",
            "\u001b[0;32m/usr/local/lib/python3.7/dist-packages/seaborn/_decorators.py\u001b[0m in \u001b[0;36minner_f\u001b[0;34m(*args, **kwargs)\u001b[0m\n\u001b[1;32m     44\u001b[0m             )\n\u001b[1;32m     45\u001b[0m         \u001b[0mkwargs\u001b[0m\u001b[0;34m.\u001b[0m\u001b[0mupdate\u001b[0m\u001b[0;34m(\u001b[0m\u001b[0;34m{\u001b[0m\u001b[0mk\u001b[0m\u001b[0;34m:\u001b[0m \u001b[0marg\u001b[0m \u001b[0;32mfor\u001b[0m \u001b[0mk\u001b[0m\u001b[0;34m,\u001b[0m \u001b[0marg\u001b[0m \u001b[0;32min\u001b[0m \u001b[0mzip\u001b[0m\u001b[0;34m(\u001b[0m\u001b[0msig\u001b[0m\u001b[0;34m.\u001b[0m\u001b[0mparameters\u001b[0m\u001b[0;34m,\u001b[0m \u001b[0margs\u001b[0m\u001b[0;34m)\u001b[0m\u001b[0;34m}\u001b[0m\u001b[0;34m)\u001b[0m\u001b[0;34m\u001b[0m\u001b[0;34m\u001b[0m\u001b[0m\n\u001b[0;32m---> 46\u001b[0;31m         \u001b[0;32mreturn\u001b[0m \u001b[0mf\u001b[0m\u001b[0;34m(\u001b[0m\u001b[0;34m**\u001b[0m\u001b[0mkwargs\u001b[0m\u001b[0;34m)\u001b[0m\u001b[0;34m\u001b[0m\u001b[0;34m\u001b[0m\u001b[0m\n\u001b[0m\u001b[1;32m     47\u001b[0m     \u001b[0;32mreturn\u001b[0m \u001b[0minner_f\u001b[0m\u001b[0;34m\u001b[0m\u001b[0;34m\u001b[0m\u001b[0m\n\u001b[1;32m     48\u001b[0m \u001b[0;34m\u001b[0m\u001b[0m\n",
            "\u001b[0;32m/usr/local/lib/python3.7/dist-packages/seaborn/categorical.py\u001b[0m in \u001b[0;36mboxplot\u001b[0;34m(x, y, hue, data, order, hue_order, orient, color, palette, saturation, width, dodge, fliersize, linewidth, whis, ax, **kwargs)\u001b[0m\n\u001b[1;32m   2243\u001b[0m     plotter = _BoxPlotter(x, y, hue, data, order, hue_order,\n\u001b[1;32m   2244\u001b[0m                           \u001b[0morient\u001b[0m\u001b[0;34m,\u001b[0m \u001b[0mcolor\u001b[0m\u001b[0;34m,\u001b[0m \u001b[0mpalette\u001b[0m\u001b[0;34m,\u001b[0m \u001b[0msaturation\u001b[0m\u001b[0;34m,\u001b[0m\u001b[0;34m\u001b[0m\u001b[0;34m\u001b[0m\u001b[0m\n\u001b[0;32m-> 2245\u001b[0;31m                           width, dodge, fliersize, linewidth)\n\u001b[0m\u001b[1;32m   2246\u001b[0m \u001b[0;34m\u001b[0m\u001b[0m\n\u001b[1;32m   2247\u001b[0m     \u001b[0;32mif\u001b[0m \u001b[0max\u001b[0m \u001b[0;32mis\u001b[0m \u001b[0;32mNone\u001b[0m\u001b[0;34m:\u001b[0m\u001b[0;34m\u001b[0m\u001b[0;34m\u001b[0m\u001b[0m\n",
            "\u001b[0;32m/usr/local/lib/python3.7/dist-packages/seaborn/categorical.py\u001b[0m in \u001b[0;36m__init__\u001b[0;34m(self, x, y, hue, data, order, hue_order, orient, color, palette, saturation, width, dodge, fliersize, linewidth)\u001b[0m\n\u001b[1;32m    404\u001b[0m                  width, dodge, fliersize, linewidth):\n\u001b[1;32m    405\u001b[0m \u001b[0;34m\u001b[0m\u001b[0m\n\u001b[0;32m--> 406\u001b[0;31m         \u001b[0mself\u001b[0m\u001b[0;34m.\u001b[0m\u001b[0mestablish_variables\u001b[0m\u001b[0;34m(\u001b[0m\u001b[0mx\u001b[0m\u001b[0;34m,\u001b[0m \u001b[0my\u001b[0m\u001b[0;34m,\u001b[0m \u001b[0mhue\u001b[0m\u001b[0;34m,\u001b[0m \u001b[0mdata\u001b[0m\u001b[0;34m,\u001b[0m \u001b[0morient\u001b[0m\u001b[0;34m,\u001b[0m \u001b[0morder\u001b[0m\u001b[0;34m,\u001b[0m \u001b[0mhue_order\u001b[0m\u001b[0;34m)\u001b[0m\u001b[0;34m\u001b[0m\u001b[0;34m\u001b[0m\u001b[0m\n\u001b[0m\u001b[1;32m    407\u001b[0m         \u001b[0mself\u001b[0m\u001b[0;34m.\u001b[0m\u001b[0mestablish_colors\u001b[0m\u001b[0;34m(\u001b[0m\u001b[0mcolor\u001b[0m\u001b[0;34m,\u001b[0m \u001b[0mpalette\u001b[0m\u001b[0;34m,\u001b[0m \u001b[0msaturation\u001b[0m\u001b[0;34m)\u001b[0m\u001b[0;34m\u001b[0m\u001b[0;34m\u001b[0m\u001b[0m\n\u001b[1;32m    408\u001b[0m \u001b[0;34m\u001b[0m\u001b[0m\n",
            "\u001b[0;32m/usr/local/lib/python3.7/dist-packages/seaborn/categorical.py\u001b[0m in \u001b[0;36mestablish_variables\u001b[0;34m(self, x, y, hue, data, orient, order, hue_order, units)\u001b[0m\n\u001b[1;32m    155\u001b[0m             \u001b[0;31m# Figure out the plotting orientation\u001b[0m\u001b[0;34m\u001b[0m\u001b[0;34m\u001b[0m\u001b[0;34m\u001b[0m\u001b[0m\n\u001b[1;32m    156\u001b[0m             orient = infer_orient(\n\u001b[0;32m--> 157\u001b[0;31m                 \u001b[0mx\u001b[0m\u001b[0;34m,\u001b[0m \u001b[0my\u001b[0m\u001b[0;34m,\u001b[0m \u001b[0morient\u001b[0m\u001b[0;34m,\u001b[0m \u001b[0mrequire_numeric\u001b[0m\u001b[0;34m=\u001b[0m\u001b[0mself\u001b[0m\u001b[0;34m.\u001b[0m\u001b[0mrequire_numeric\u001b[0m\u001b[0;34m\u001b[0m\u001b[0;34m\u001b[0m\u001b[0m\n\u001b[0m\u001b[1;32m    158\u001b[0m             )\n\u001b[1;32m    159\u001b[0m \u001b[0;34m\u001b[0m\u001b[0m\n",
            "\u001b[0;32m/usr/local/lib/python3.7/dist-packages/seaborn/_core.py\u001b[0m in \u001b[0;36minfer_orient\u001b[0;34m(x, y, orient, require_numeric)\u001b[0m\n\u001b[1;32m   1326\u001b[0m             \u001b[0mwarnings\u001b[0m\u001b[0;34m.\u001b[0m\u001b[0mwarn\u001b[0m\u001b[0;34m(\u001b[0m\u001b[0msingle_var_warning\u001b[0m\u001b[0;34m.\u001b[0m\u001b[0mformat\u001b[0m\u001b[0;34m(\u001b[0m\u001b[0;34m\"Vertical\"\u001b[0m\u001b[0;34m,\u001b[0m \u001b[0;34m\"x\"\u001b[0m\u001b[0;34m)\u001b[0m\u001b[0;34m)\u001b[0m\u001b[0;34m\u001b[0m\u001b[0;34m\u001b[0m\u001b[0m\n\u001b[1;32m   1327\u001b[0m         \u001b[0;32mif\u001b[0m \u001b[0mrequire_numeric\u001b[0m \u001b[0;32mand\u001b[0m \u001b[0mx_type\u001b[0m \u001b[0;34m!=\u001b[0m \u001b[0;34m\"numeric\"\u001b[0m\u001b[0;34m:\u001b[0m\u001b[0;34m\u001b[0m\u001b[0;34m\u001b[0m\u001b[0m\n\u001b[0;32m-> 1328\u001b[0;31m             \u001b[0;32mraise\u001b[0m \u001b[0mTypeError\u001b[0m\u001b[0;34m(\u001b[0m\u001b[0mnonnumeric_dv_error\u001b[0m\u001b[0;34m.\u001b[0m\u001b[0mformat\u001b[0m\u001b[0;34m(\u001b[0m\u001b[0;34m\"Horizontal\"\u001b[0m\u001b[0;34m,\u001b[0m \u001b[0;34m\"x\"\u001b[0m\u001b[0;34m)\u001b[0m\u001b[0;34m)\u001b[0m\u001b[0;34m\u001b[0m\u001b[0;34m\u001b[0m\u001b[0m\n\u001b[0m\u001b[1;32m   1329\u001b[0m         \u001b[0;32mreturn\u001b[0m \u001b[0;34m\"h\"\u001b[0m\u001b[0;34m\u001b[0m\u001b[0;34m\u001b[0m\u001b[0m\n\u001b[1;32m   1330\u001b[0m \u001b[0;34m\u001b[0m\u001b[0m\n",
            "\u001b[0;31mTypeError\u001b[0m: Horizontal orientation requires numeric `x` variable."
          ]
        }
      ]
    },
    {
      "cell_type": "code",
      "source": [
        "df[[variable]].describe() # Descripción de la distribución de la variable"
      ],
      "metadata": {
        "colab": {
          "base_uri": "https://localhost:8080/",
          "height": 175
        },
        "outputId": "fc5c1256-7878-4fd2-eea8-0c48306b25d8",
        "id": "P56IBYZhAFmI"
      },
      "execution_count": 178,
      "outputs": [
        {
          "output_type": "execute_result",
          "data": {
            "text/plain": [
              "       SDT_M_mg/L\n",
              "count        1066\n",
              "unique        925\n",
              "top           496\n",
              "freq            4"
            ],
            "text/html": [
              "\n",
              "  <div id=\"df-a4a875a2-163d-420b-ad71-529d9b550a94\">\n",
              "    <div class=\"colab-df-container\">\n",
              "      <div>\n",
              "<style scoped>\n",
              "    .dataframe tbody tr th:only-of-type {\n",
              "        vertical-align: middle;\n",
              "    }\n",
              "\n",
              "    .dataframe tbody tr th {\n",
              "        vertical-align: top;\n",
              "    }\n",
              "\n",
              "    .dataframe thead th {\n",
              "        text-align: right;\n",
              "    }\n",
              "</style>\n",
              "<table border=\"1\" class=\"dataframe\">\n",
              "  <thead>\n",
              "    <tr style=\"text-align: right;\">\n",
              "      <th></th>\n",
              "      <th>SDT_M_mg/L</th>\n",
              "    </tr>\n",
              "  </thead>\n",
              "  <tbody>\n",
              "    <tr>\n",
              "      <th>count</th>\n",
              "      <td>1066</td>\n",
              "    </tr>\n",
              "    <tr>\n",
              "      <th>unique</th>\n",
              "      <td>925</td>\n",
              "    </tr>\n",
              "    <tr>\n",
              "      <th>top</th>\n",
              "      <td>496</td>\n",
              "    </tr>\n",
              "    <tr>\n",
              "      <th>freq</th>\n",
              "      <td>4</td>\n",
              "    </tr>\n",
              "  </tbody>\n",
              "</table>\n",
              "</div>\n",
              "      <button class=\"colab-df-convert\" onclick=\"convertToInteractive('df-a4a875a2-163d-420b-ad71-529d9b550a94')\"\n",
              "              title=\"Convert this dataframe to an interactive table.\"\n",
              "              style=\"display:none;\">\n",
              "        \n",
              "  <svg xmlns=\"http://www.w3.org/2000/svg\" height=\"24px\"viewBox=\"0 0 24 24\"\n",
              "       width=\"24px\">\n",
              "    <path d=\"M0 0h24v24H0V0z\" fill=\"none\"/>\n",
              "    <path d=\"M18.56 5.44l.94 2.06.94-2.06 2.06-.94-2.06-.94-.94-2.06-.94 2.06-2.06.94zm-11 1L8.5 8.5l.94-2.06 2.06-.94-2.06-.94L8.5 2.5l-.94 2.06-2.06.94zm10 10l.94 2.06.94-2.06 2.06-.94-2.06-.94-.94-2.06-.94 2.06-2.06.94z\"/><path d=\"M17.41 7.96l-1.37-1.37c-.4-.4-.92-.59-1.43-.59-.52 0-1.04.2-1.43.59L10.3 9.45l-7.72 7.72c-.78.78-.78 2.05 0 2.83L4 21.41c.39.39.9.59 1.41.59.51 0 1.02-.2 1.41-.59l7.78-7.78 2.81-2.81c.8-.78.8-2.07 0-2.86zM5.41 20L4 18.59l7.72-7.72 1.47 1.35L5.41 20z\"/>\n",
              "  </svg>\n",
              "      </button>\n",
              "      \n",
              "  <style>\n",
              "    .colab-df-container {\n",
              "      display:flex;\n",
              "      flex-wrap:wrap;\n",
              "      gap: 12px;\n",
              "    }\n",
              "\n",
              "    .colab-df-convert {\n",
              "      background-color: #E8F0FE;\n",
              "      border: none;\n",
              "      border-radius: 50%;\n",
              "      cursor: pointer;\n",
              "      display: none;\n",
              "      fill: #1967D2;\n",
              "      height: 32px;\n",
              "      padding: 0 0 0 0;\n",
              "      width: 32px;\n",
              "    }\n",
              "\n",
              "    .colab-df-convert:hover {\n",
              "      background-color: #E2EBFA;\n",
              "      box-shadow: 0px 1px 2px rgba(60, 64, 67, 0.3), 0px 1px 3px 1px rgba(60, 64, 67, 0.15);\n",
              "      fill: #174EA6;\n",
              "    }\n",
              "\n",
              "    [theme=dark] .colab-df-convert {\n",
              "      background-color: #3B4455;\n",
              "      fill: #D2E3FC;\n",
              "    }\n",
              "\n",
              "    [theme=dark] .colab-df-convert:hover {\n",
              "      background-color: #434B5C;\n",
              "      box-shadow: 0px 1px 3px 1px rgba(0, 0, 0, 0.15);\n",
              "      filter: drop-shadow(0px 1px 2px rgba(0, 0, 0, 0.3));\n",
              "      fill: #FFFFFF;\n",
              "    }\n",
              "  </style>\n",
              "\n",
              "      <script>\n",
              "        const buttonEl =\n",
              "          document.querySelector('#df-a4a875a2-163d-420b-ad71-529d9b550a94 button.colab-df-convert');\n",
              "        buttonEl.style.display =\n",
              "          google.colab.kernel.accessAllowed ? 'block' : 'none';\n",
              "\n",
              "        async function convertToInteractive(key) {\n",
              "          const element = document.querySelector('#df-a4a875a2-163d-420b-ad71-529d9b550a94');\n",
              "          const dataTable =\n",
              "            await google.colab.kernel.invokeFunction('convertToInteractive',\n",
              "                                                     [key], {});\n",
              "          if (!dataTable) return;\n",
              "\n",
              "          const docLinkHtml = 'Like what you see? Visit the ' +\n",
              "            '<a target=\"_blank\" href=https://colab.research.google.com/notebooks/data_table.ipynb>data table notebook</a>'\n",
              "            + ' to learn more about interactive tables.';\n",
              "          element.innerHTML = '';\n",
              "          dataTable['output_type'] = 'display_data';\n",
              "          await google.colab.output.renderOutput(dataTable, element);\n",
              "          const docLink = document.createElement('div');\n",
              "          docLink.innerHTML = docLinkHtml;\n",
              "          element.appendChild(docLink);\n",
              "        }\n",
              "      </script>\n",
              "    </div>\n",
              "  </div>\n",
              "  "
            ]
          },
          "metadata": {},
          "execution_count": 178
        }
      ]
    },
    {
      "cell_type": "markdown",
      "source": [
        "Con lo anterior, observamos que existen outliers que jalan la media a valores más altos que la mediana. \n",
        "\n",
        "Asignamos missing values a la mediana para no afectar la distribución"
      ],
      "metadata": {
        "id": "6G2CPay4AFmI"
      }
    },
    {
      "cell_type": "code",
      "source": [
        "valor = df[variable].median() \n",
        "df[variable] = df[variable].fillna(value=valor) ## Asignación a valores nulos"
      ],
      "metadata": {
        "id": "wrAy35_KAFmI"
      },
      "execution_count": null,
      "outputs": []
    }
  ]
}