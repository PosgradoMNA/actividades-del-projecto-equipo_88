{
  "nbformat": 4,
  "nbformat_minor": 0,
  "metadata": {
    "colab": {
      "provenance": [],
      "authorship_tag": "ABX9TyOzumLcnhL1q6LeLEaui7g5",
      "include_colab_link": true
    },
    "kernelspec": {
      "name": "python3",
      "display_name": "Python 3"
    },
    "language_info": {
      "name": "python"
    }
  },
  "cells": [
    {
      "cell_type": "markdown",
      "metadata": {
        "id": "view-in-github",
        "colab_type": "text"
      },
      "source": [
        "<a href=\"https://colab.research.google.com/github/PosgradoMNA/actividades-del-projecto-equipo_88/blob/main/ProyectoAvance2_equipo88.ipynb\" target=\"_parent\"><img src=\"https://colab.research.google.com/assets/colab-badge.svg\" alt=\"Open In Colab\"/></a>"
      ]
    },
    {
      "cell_type": "markdown",
      "source": [
        "# **Proyecto Final - Avance 2**\n",
        "\n",
        "---\n",
        "\n",
        "\n",
        "**Maestría en Inteligencia Artificial Aplicada** \n",
        "\n",
        "**Curso:** Inteligencia Artificial y Aprendizaje Automático\n",
        "\n",
        "**Tecnológico de Monterrey**\n",
        "\n",
        "**Equipo 88**\n",
        "\n",
        "**Nombre del estudiante & Matrícula**:\n",
        "\n",
        "*   Dalina Aidee Villa Ocelotl (A01793258)\n",
        "*   Miguel Guillermo Galindo Orozco (A01793695)\n"
      ],
      "metadata": {
        "id": "3crcGS4D6nza"
      }
    },
    {
      "cell_type": "markdown",
      "source": [],
      "metadata": {
        "id": "rKX6EsTK7KSb"
      }
    },
    {
      "cell_type": "markdown",
      "source": [
        "https://miro.com/app/board/uXjVPTib1mw=/"
      ],
      "metadata": {
        "id": "zL9V9zPl6df7"
      }
    }
  ]
}