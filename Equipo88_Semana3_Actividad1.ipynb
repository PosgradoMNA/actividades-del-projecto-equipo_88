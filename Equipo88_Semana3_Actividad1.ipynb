{
  "nbformat": 4,
  "nbformat_minor": 0,
  "metadata": {
    "colab": {
      "provenance": [],
      "authorship_tag": "ABX9TyNn283j5IG6WAglXc/aXHu1",
      "include_colab_link": true
    },
    "kernelspec": {
      "name": "python3",
      "display_name": "Python 3"
    },
    "language_info": {
      "name": "python"
    }
  },
  "cells": [
    {
      "cell_type": "markdown",
      "metadata": {
        "id": "view-in-github",
        "colab_type": "text"
      },
      "source": [
        "<a href=\"https://colab.research.google.com/github/PosgradoMNA/actividades-del-projecto-equipo_88/blob/main/Equipo88_Semana3_Actividad1.ipynb\" target=\"_parent\"><img src=\"https://colab.research.google.com/assets/colab-badge.svg\" alt=\"Open In Colab\"/></a>"
      ]
    },
    {
      "cell_type": "markdown",
      "source": [
        "#**Maestría en Inteligencia Artificial Aplicada**\n",
        "## *Ciencia y Analítica de Datos*\n",
        "\n",
        "### **Semana 3 Actividad 1**\n",
        "\n",
        "\n",
        "####**Curso: Ciencia y analítica de datos (Gpo 10)**\n",
        "####**Prof. Jobish Vallikavungal**\n",
        "####**1 de octubre de 2022**\n",
        "\n",
        "Equipo: 88\n",
        "\n",
        "Nombre del estudiante: \n",
        "\n",
        "\n",
        "***Dalina Aidee Villa Ocelotl (A01793258)***\n",
        "\n",
        "\n",
        "***Miguel Guillermo Galindo Orozco (A01793695)***\n"
      ],
      "metadata": {
        "id": "A7hSQABKDc4Y"
      }
    },
    {
      "cell_type": "markdown",
      "source": [
        "# ***Limpieza de una base de Datos***"
      ],
      "metadata": {
        "id": "Wv5e5nj9ENxR"
      }
    },
    {
      "cell_type": "markdown",
      "source": [
        "## **Parte 1: Fundamentos de bases de datos**"
      ],
      "metadata": {
        "id": "kaPSkndIEfWn"
      }
    },
    {
      "cell_type": "markdown",
      "source": [
        "*   ***Fundamentos de bases de datos en ciencia de datos:***\n",
        " \n",
        "> La ciencia de datos es parte de la evaluación del tratamiento integral de los datos. Dentro del proceso de conocimiento se describe el proceso como parte de la aplicación a resolución de problemas de la vida real con ***datos***. \n",
        "Actualmente se tienen una gran cantidad de datos que pueden venir desde distintas fuentes y además ser de distintos tipos de datos, estos  después se transforman en ***información*** a través de aplicación de cambios a esos datos, normalizarlos e incluso tratar de describirlos a través de estadística descriptiva. Este proceso debe incluir la validación propia de la naturaleza de los datos ya que en la vida real siempre puede haber datos faltantes, o incluso datos que pudieran no tener sentido, desarrollando el proceso ETL. Por lo que, conocer el contexto de aplicación de la investigación es fundamental convirtiéndose en aplicación del método científico de manera multidisciplinaria.\n",
        "> Seguido de eso se definen supuestos de acuerdo a la información por lo que se puede ofrecer una solución con estadística más avanzada como inferencia estadística o modelos predictivos que pueden entrenarse con algoritmos de aprendizaje automático. Dentro de este proceso(evaluación, explicación, despliegue productivo y supervisión) se obtienen ***insights o puntos clave*** y además modelos productivos que ayuden a la toma de decisiones. \n",
        "> Finalmente, este proceso de conocimiento nos permite ser más ***sabios*** respecto de los fenómenos que se monitorean inicialmente a través de datos.\n",
        " \n",
        " \n",
        " \n",
        "*   ***Fundamentos de Almacenes de datos (Data Warehouse) para Ciencia de Datos***\n",
        " \n",
        "> Los modelos predictivos requieren de datos consistentes, claros y concisos para aplicar sus conocimientos estadísticos e informáticos que puedan considerarse robustos y precisos. Los Data Warehouse se convierten en los repositorios de información que cumpla con dichos supuestos para utilizarlos, al existir gran cantidad de datos se requiere de establecer una estructura a los datos que la tengan, corregir alguna o incluso establecer una para datos no estructurados que de alguna manera permita el fácil acceso a explotación de los mismos.\n",
        "De acuerdo a la forma del negocio o lugar donde se cree, se puede establecer los lineamientos para estandarizar la información e incluso plantear el correcto gobierno de los datos. Deben garantizar contener todos los datos, la parte del procesamiento, almacenamiento correcto, pero ademas la agilidad para poder explotarlos y garantizar la seguridad de la información.\n",
        " \n",
        " \n",
        "*   ***Referencias:***\n",
        " \n",
        " *Guía de visualización de datos para principiantes: definición, ejemplos y recursos de aprendizaje. (s/f). Tableau. Recuperado el 1 de octubre de 2022, de https://www.tableau.com/es-mx/learn/articles/data-visualization\n",
        " *¿Qué es la ciencia de datos? (s/f). Oracle.com. Recuperado el 1 de octubre de 2022, de https://www.oracle.com/mx/what-is-data-science/ * \n",
        " *https://newoutlook.it/download/python/hands-on-data-science.pdf\n",
        " *Data Warehouse: todo lo que necesitas saber sobre almacenamiento de datos. (s/f). Powerdata.Es. Recuperado el 1 de octubre de 2022, de https://www.powerdata.es/data-warehouse *texto en cursiva*\n",
        " \n",
        "---\n",
        "\n"
      ],
      "metadata": {
        "id": "S9cWRvHVL1A7"
      }
    },
    {
      "cell_type": "markdown",
      "source": [
        "## *Insights*"
      ],
      "metadata": {
        "id": "HYTR43_DEjxr"
      }
    },
    {
      "cell_type": "markdown",
      "source": [
        "\n",
        "\n",
        "*   Una **base de datos** es una colección de información organizada de forma lógica cuyo objetivo es almacenar la descripción de un sistema particular del mundo real.\n",
        "\n",
        "*   **Data warehouse** (o almacén de datos) es un repositorio centralizado de las bases de datos, el cual es gestionado por un agente de control, almacenadas de una forma conveniente para el consumo y que se puede analizar para la óptima toma de decisiones. \n",
        "\n",
        "\n",
        "\n",
        "*   El objetivo de un **científico de datos es generar valor a través de los datos**, dónde para lograr este objetivo sigue el siguiente esquema: \n",
        "\n",
        "      * Definición de problema.\n",
        "      * Recolección y preparación de los datos.\n",
        "      * Desarrollo de modelo.\n",
        "      * Implementación del desarrollo. \n",
        "      * Medición y continua mejora. \n",
        "\n",
        "* Dentro del trabajo de un científico de datos es esencial **recolectar y limpiar los datos** ya que es a través de este proceso que permite obtener patrones en la información y que estos ayuden a la toma de decisiones. De no realizarse, la información obtenida podría no transmitir ningún insight que permita sacar conclusiones de provecho. \n",
        "\n",
        "* Entre las principales tareas de limpieza de una base de datos se encuentran el **tratamiento de missing values (valores ausentes) y outliers (datos atípicos)**. \n",
        "\n",
        "* Dentro de los valores ausentes, es importante entender la variable y las razones del dato ausente, ya que estos pueden ser por un error en el reporte que se presente de manera aleatoria, o que realmente la falta del dato esté aportando información para entender el patrón de comportamiento. \n",
        "Algunas herramientas para la limpieza de datos ausentes son: imputación de media o mediana, asignación por aproximación, o eliminación de registros. \n",
        "\n",
        "* De igual forma, es importante entender los datos atípicos para su tratamiento, puede tratarse de un error en la captura de los datos, o de un comportamiento específico de la información. El tratamiento de estos puede ser a través de agrupar la información, disminuyendo el impacto de los mismos, o acotando su valor a un rango inter-cuartil que haga sentido dentro de la distribución de los datos. \n",
        "Finalmente, es importante considerar qué algoritmo se quiere entrenar para desarrollar el modelo, ya que algunos de ellos no necesariamente necesitan un tratamiento exhaustivo de outliers, por ejemplo un ensambles de árboles. \n"
      ],
      "metadata": {
        "id": "xQ76kiBzEvR7"
      }
    },
    {
      "cell_type": "markdown",
      "source": [
        "## **Parte 2: Selección y limpieza de los Datos en Python**"
      ],
      "metadata": {
        "id": "NCT1MRNSEwJm"
      }
    },
    {
      "cell_type": "markdown",
      "source": [
        "Documentación de funcionamiento del código"
      ],
      "metadata": {
        "id": "Nx3I06ivE5iV"
      }
    },
    {
      "cell_type": "markdown",
      "source": [
        "La intención del presente código es la limpieza de la base de datos vía replicar algunas de las técnicas y soluciones a problemáticas de los datos aprendidas en clase. \n",
        "Adicionalmente, se utilizarán técnicas que creo pertinentes aplicar desde mi  experiencia con el trato de los datos. \n",
        "\n",
        "La forma de realizar la limpieza será la siguiente: \n",
        "\n",
        "  1. Conocer el contenido general de los datos, el tipo de dato, y su distribución.\n",
        "  2. Aplicar limpieza y transformaciones necesarias a las variables derivado del conocimiento adquirido en el paso anterior.  El tratamiento seleccionado será de acuerdo a la información que quiera transmitir cada variable. En caso de ser necesaria alguna transformación extra, se especifica en cada paso. \n",
        "\n",
        "**Nota:** Se asume que la presente base de datos se utilizará para el desarrollo de un modelo, y que el contenido actual sólo representa el set de entrenamiento por lo que no es necesario particionar la base, ni existirá problemática de filtrado de información. \n"
      ],
      "metadata": {
        "id": "21d-fy6UE5QK"
      }
    },
    {
      "cell_type": "markdown",
      "source": [
        "###### Librerías a emplear"
      ],
      "metadata": {
        "id": "SeBXBveLEzdN"
      }
    },
    {
      "cell_type": "code",
      "source": [
        "import pandas as pd \n",
        "import numpy as np\n",
        "import matplotlib.pyplot as plt \n",
        "import seaborn as sns  "
      ],
      "metadata": {
        "id": "8QGZz7x6FEbe"
      },
      "execution_count": 1,
      "outputs": []
    },
    {
      "cell_type": "markdown",
      "source": [
        "###### Lectura de Data"
      ],
      "metadata": {
        "id": "stA58CVNFkT8"
      }
    },
    {
      "cell_type": "code",
      "source": [
        "df = pd.read_csv('https://raw.githubusercontent.com/PosgradoMNA/Actividades_Aprendizaje-/main/default%20of%20credit%20card%20clients.csv')"
      ],
      "metadata": {
        "id": "HVE-Q4VkFI-6"
      },
      "execution_count": 2,
      "outputs": []
    },
    {
      "cell_type": "markdown",
      "source": [
        "Visualización de la data que acabamos de leer"
      ],
      "metadata": {
        "id": "uCnvGWFsFpuT"
      }
    },
    {
      "cell_type": "code",
      "source": [
        "df.head()"
      ],
      "metadata": {
        "colab": {
          "base_uri": "https://localhost:8080/",
          "height": 236
        },
        "id": "adc_sMWzFMAN",
        "outputId": "b2eb67ed-894e-4ff7-e4e9-dc2f72e5f58e"
      },
      "execution_count": 3,
      "outputs": [
        {
          "output_type": "execute_result",
          "data": {
            "text/plain": [
              "   ID      X1   X2   X3   X4    X5   X6   X7   X8   X9  ...      X15      X16  \\\n",
              "0   1   20000  2.0  2.0  1.0  24.0  2.0  2.0 -1.0 -1.0  ...      0.0      0.0   \n",
              "1   2  120000  2.0  2.0  2.0  26.0 -1.0  2.0  0.0  0.0  ...   3272.0   3455.0   \n",
              "2   3   90000  2.0  2.0  2.0  34.0  0.0  0.0  0.0  0.0  ...  14331.0  14948.0   \n",
              "3   4   50000  2.0  2.0  1.0  37.0  0.0  0.0  0.0  0.0  ...  28314.0  28959.0   \n",
              "4   5   50000  1.0  2.0  1.0  57.0 -1.0  0.0 -1.0  0.0  ...  20940.0  19146.0   \n",
              "\n",
              "       X17     X18      X19      X20     X21     X22     X23    Y  \n",
              "0      0.0     0.0    689.0      0.0     0.0     0.0     0.0  1.0  \n",
              "1   3261.0     0.0   1000.0   1000.0  1000.0     0.0  2000.0  1.0  \n",
              "2  15549.0  1518.0   1500.0   1000.0  1000.0  1000.0  5000.0  0.0  \n",
              "3  29547.0  2000.0   2019.0   1200.0  1100.0  1069.0  1000.0  0.0  \n",
              "4  19131.0  2000.0  36681.0  10000.0  9000.0   689.0   679.0  0.0  \n",
              "\n",
              "[5 rows x 25 columns]"
            ],
            "text/html": [
              "\n",
              "  <div id=\"df-f238ebe4-ba9f-41b7-a244-f5f1161c7c2e\">\n",
              "    <div class=\"colab-df-container\">\n",
              "      <div>\n",
              "<style scoped>\n",
              "    .dataframe tbody tr th:only-of-type {\n",
              "        vertical-align: middle;\n",
              "    }\n",
              "\n",
              "    .dataframe tbody tr th {\n",
              "        vertical-align: top;\n",
              "    }\n",
              "\n",
              "    .dataframe thead th {\n",
              "        text-align: right;\n",
              "    }\n",
              "</style>\n",
              "<table border=\"1\" class=\"dataframe\">\n",
              "  <thead>\n",
              "    <tr style=\"text-align: right;\">\n",
              "      <th></th>\n",
              "      <th>ID</th>\n",
              "      <th>X1</th>\n",
              "      <th>X2</th>\n",
              "      <th>X3</th>\n",
              "      <th>X4</th>\n",
              "      <th>X5</th>\n",
              "      <th>X6</th>\n",
              "      <th>X7</th>\n",
              "      <th>X8</th>\n",
              "      <th>X9</th>\n",
              "      <th>...</th>\n",
              "      <th>X15</th>\n",
              "      <th>X16</th>\n",
              "      <th>X17</th>\n",
              "      <th>X18</th>\n",
              "      <th>X19</th>\n",
              "      <th>X20</th>\n",
              "      <th>X21</th>\n",
              "      <th>X22</th>\n",
              "      <th>X23</th>\n",
              "      <th>Y</th>\n",
              "    </tr>\n",
              "  </thead>\n",
              "  <tbody>\n",
              "    <tr>\n",
              "      <th>0</th>\n",
              "      <td>1</td>\n",
              "      <td>20000</td>\n",
              "      <td>2.0</td>\n",
              "      <td>2.0</td>\n",
              "      <td>1.0</td>\n",
              "      <td>24.0</td>\n",
              "      <td>2.0</td>\n",
              "      <td>2.0</td>\n",
              "      <td>-1.0</td>\n",
              "      <td>-1.0</td>\n",
              "      <td>...</td>\n",
              "      <td>0.0</td>\n",
              "      <td>0.0</td>\n",
              "      <td>0.0</td>\n",
              "      <td>0.0</td>\n",
              "      <td>689.0</td>\n",
              "      <td>0.0</td>\n",
              "      <td>0.0</td>\n",
              "      <td>0.0</td>\n",
              "      <td>0.0</td>\n",
              "      <td>1.0</td>\n",
              "    </tr>\n",
              "    <tr>\n",
              "      <th>1</th>\n",
              "      <td>2</td>\n",
              "      <td>120000</td>\n",
              "      <td>2.0</td>\n",
              "      <td>2.0</td>\n",
              "      <td>2.0</td>\n",
              "      <td>26.0</td>\n",
              "      <td>-1.0</td>\n",
              "      <td>2.0</td>\n",
              "      <td>0.0</td>\n",
              "      <td>0.0</td>\n",
              "      <td>...</td>\n",
              "      <td>3272.0</td>\n",
              "      <td>3455.0</td>\n",
              "      <td>3261.0</td>\n",
              "      <td>0.0</td>\n",
              "      <td>1000.0</td>\n",
              "      <td>1000.0</td>\n",
              "      <td>1000.0</td>\n",
              "      <td>0.0</td>\n",
              "      <td>2000.0</td>\n",
              "      <td>1.0</td>\n",
              "    </tr>\n",
              "    <tr>\n",
              "      <th>2</th>\n",
              "      <td>3</td>\n",
              "      <td>90000</td>\n",
              "      <td>2.0</td>\n",
              "      <td>2.0</td>\n",
              "      <td>2.0</td>\n",
              "      <td>34.0</td>\n",
              "      <td>0.0</td>\n",
              "      <td>0.0</td>\n",
              "      <td>0.0</td>\n",
              "      <td>0.0</td>\n",
              "      <td>...</td>\n",
              "      <td>14331.0</td>\n",
              "      <td>14948.0</td>\n",
              "      <td>15549.0</td>\n",
              "      <td>1518.0</td>\n",
              "      <td>1500.0</td>\n",
              "      <td>1000.0</td>\n",
              "      <td>1000.0</td>\n",
              "      <td>1000.0</td>\n",
              "      <td>5000.0</td>\n",
              "      <td>0.0</td>\n",
              "    </tr>\n",
              "    <tr>\n",
              "      <th>3</th>\n",
              "      <td>4</td>\n",
              "      <td>50000</td>\n",
              "      <td>2.0</td>\n",
              "      <td>2.0</td>\n",
              "      <td>1.0</td>\n",
              "      <td>37.0</td>\n",
              "      <td>0.0</td>\n",
              "      <td>0.0</td>\n",
              "      <td>0.0</td>\n",
              "      <td>0.0</td>\n",
              "      <td>...</td>\n",
              "      <td>28314.0</td>\n",
              "      <td>28959.0</td>\n",
              "      <td>29547.0</td>\n",
              "      <td>2000.0</td>\n",
              "      <td>2019.0</td>\n",
              "      <td>1200.0</td>\n",
              "      <td>1100.0</td>\n",
              "      <td>1069.0</td>\n",
              "      <td>1000.0</td>\n",
              "      <td>0.0</td>\n",
              "    </tr>\n",
              "    <tr>\n",
              "      <th>4</th>\n",
              "      <td>5</td>\n",
              "      <td>50000</td>\n",
              "      <td>1.0</td>\n",
              "      <td>2.0</td>\n",
              "      <td>1.0</td>\n",
              "      <td>57.0</td>\n",
              "      <td>-1.0</td>\n",
              "      <td>0.0</td>\n",
              "      <td>-1.0</td>\n",
              "      <td>0.0</td>\n",
              "      <td>...</td>\n",
              "      <td>20940.0</td>\n",
              "      <td>19146.0</td>\n",
              "      <td>19131.0</td>\n",
              "      <td>2000.0</td>\n",
              "      <td>36681.0</td>\n",
              "      <td>10000.0</td>\n",
              "      <td>9000.0</td>\n",
              "      <td>689.0</td>\n",
              "      <td>679.0</td>\n",
              "      <td>0.0</td>\n",
              "    </tr>\n",
              "  </tbody>\n",
              "</table>\n",
              "<p>5 rows × 25 columns</p>\n",
              "</div>\n",
              "      <button class=\"colab-df-convert\" onclick=\"convertToInteractive('df-f238ebe4-ba9f-41b7-a244-f5f1161c7c2e')\"\n",
              "              title=\"Convert this dataframe to an interactive table.\"\n",
              "              style=\"display:none;\">\n",
              "        \n",
              "  <svg xmlns=\"http://www.w3.org/2000/svg\" height=\"24px\"viewBox=\"0 0 24 24\"\n",
              "       width=\"24px\">\n",
              "    <path d=\"M0 0h24v24H0V0z\" fill=\"none\"/>\n",
              "    <path d=\"M18.56 5.44l.94 2.06.94-2.06 2.06-.94-2.06-.94-.94-2.06-.94 2.06-2.06.94zm-11 1L8.5 8.5l.94-2.06 2.06-.94-2.06-.94L8.5 2.5l-.94 2.06-2.06.94zm10 10l.94 2.06.94-2.06 2.06-.94-2.06-.94-.94-2.06-.94 2.06-2.06.94z\"/><path d=\"M17.41 7.96l-1.37-1.37c-.4-.4-.92-.59-1.43-.59-.52 0-1.04.2-1.43.59L10.3 9.45l-7.72 7.72c-.78.78-.78 2.05 0 2.83L4 21.41c.39.39.9.59 1.41.59.51 0 1.02-.2 1.41-.59l7.78-7.78 2.81-2.81c.8-.78.8-2.07 0-2.86zM5.41 20L4 18.59l7.72-7.72 1.47 1.35L5.41 20z\"/>\n",
              "  </svg>\n",
              "      </button>\n",
              "      \n",
              "  <style>\n",
              "    .colab-df-container {\n",
              "      display:flex;\n",
              "      flex-wrap:wrap;\n",
              "      gap: 12px;\n",
              "    }\n",
              "\n",
              "    .colab-df-convert {\n",
              "      background-color: #E8F0FE;\n",
              "      border: none;\n",
              "      border-radius: 50%;\n",
              "      cursor: pointer;\n",
              "      display: none;\n",
              "      fill: #1967D2;\n",
              "      height: 32px;\n",
              "      padding: 0 0 0 0;\n",
              "      width: 32px;\n",
              "    }\n",
              "\n",
              "    .colab-df-convert:hover {\n",
              "      background-color: #E2EBFA;\n",
              "      box-shadow: 0px 1px 2px rgba(60, 64, 67, 0.3), 0px 1px 3px 1px rgba(60, 64, 67, 0.15);\n",
              "      fill: #174EA6;\n",
              "    }\n",
              "\n",
              "    [theme=dark] .colab-df-convert {\n",
              "      background-color: #3B4455;\n",
              "      fill: #D2E3FC;\n",
              "    }\n",
              "\n",
              "    [theme=dark] .colab-df-convert:hover {\n",
              "      background-color: #434B5C;\n",
              "      box-shadow: 0px 1px 3px 1px rgba(0, 0, 0, 0.15);\n",
              "      filter: drop-shadow(0px 1px 2px rgba(0, 0, 0, 0.3));\n",
              "      fill: #FFFFFF;\n",
              "    }\n",
              "  </style>\n",
              "\n",
              "      <script>\n",
              "        const buttonEl =\n",
              "          document.querySelector('#df-f238ebe4-ba9f-41b7-a244-f5f1161c7c2e button.colab-df-convert');\n",
              "        buttonEl.style.display =\n",
              "          google.colab.kernel.accessAllowed ? 'block' : 'none';\n",
              "\n",
              "        async function convertToInteractive(key) {\n",
              "          const element = document.querySelector('#df-f238ebe4-ba9f-41b7-a244-f5f1161c7c2e');\n",
              "          const dataTable =\n",
              "            await google.colab.kernel.invokeFunction('convertToInteractive',\n",
              "                                                     [key], {});\n",
              "          if (!dataTable) return;\n",
              "\n",
              "          const docLinkHtml = 'Like what you see? Visit the ' +\n",
              "            '<a target=\"_blank\" href=https://colab.research.google.com/notebooks/data_table.ipynb>data table notebook</a>'\n",
              "            + ' to learn more about interactive tables.';\n",
              "          element.innerHTML = '';\n",
              "          dataTable['output_type'] = 'display_data';\n",
              "          await google.colab.output.renderOutput(dataTable, element);\n",
              "          const docLink = document.createElement('div');\n",
              "          docLink.innerHTML = docLinkHtml;\n",
              "          element.appendChild(docLink);\n",
              "        }\n",
              "      </script>\n",
              "    </div>\n",
              "  </div>\n",
              "  "
            ]
          },
          "metadata": {},
          "execution_count": 3
        }
      ]
    },
    {
      "cell_type": "markdown",
      "source": [
        "Conocer el tamaño de los datos que vamos a observar"
      ],
      "metadata": {
        "id": "_4PP4GWzFMzy"
      }
    },
    {
      "cell_type": "code",
      "source": [
        "df.shape # Código para conocer la estructura de la data "
      ],
      "metadata": {
        "colab": {
          "base_uri": "https://localhost:8080/"
        },
        "id": "b2Bbe5GZFzdi",
        "outputId": "a707a4a7-73e3-47af-b3f8-e0bb70ddc1ed"
      },
      "execution_count": 4,
      "outputs": [
        {
          "output_type": "execute_result",
          "data": {
            "text/plain": [
              "(30000, 25)"
            ]
          },
          "metadata": {},
          "execution_count": 4
        }
      ]
    },
    {
      "cell_type": "markdown",
      "source": [
        "El data frame contiene 30,000 registros con 25 columnas"
      ],
      "metadata": {
        "id": "Zuc8wsAaF0Qg"
      }
    },
    {
      "cell_type": "markdown",
      "source": [
        "### Análisis general de los datos"
      ],
      "metadata": {
        "id": "FCOfwgbDOO2j"
      }
    },
    {
      "cell_type": "markdown",
      "source": [
        "Descripción breve y rápida de los datos"
      ],
      "metadata": {
        "id": "IVZKDghsN_go"
      }
    },
    {
      "cell_type": "code",
      "source": [
        "df.describe()  ## Descripción del Dataframe"
      ],
      "metadata": {
        "colab": {
          "base_uri": "https://localhost:8080/",
          "height": 330
        },
        "id": "e-YuzZv6N8y9",
        "outputId": "3c831115-912c-44a5-861d-49d0b0005de8"
      },
      "execution_count": 5,
      "outputs": [
        {
          "output_type": "execute_result",
          "data": {
            "text/plain": [
              "                 ID              X1            X2            X3            X4  \\\n",
              "count  30000.000000    30000.000000  29999.000000  29998.000000  29998.000000   \n",
              "mean   15000.500000   167484.322667      1.603753      1.853057      1.551903   \n",
              "std     8660.398374   129747.661567      0.489125      0.790320      0.521968   \n",
              "min        1.000000    10000.000000      1.000000      0.000000      0.000000   \n",
              "25%     7500.750000    50000.000000      1.000000      1.000000      1.000000   \n",
              "50%    15000.500000   140000.000000      2.000000      2.000000      2.000000   \n",
              "75%    22500.250000   240000.000000      2.000000      2.000000      2.000000   \n",
              "max    30000.000000  1000000.000000      2.000000      6.000000      3.000000   \n",
              "\n",
              "                 X5            X6            X7            X8            X9  \\\n",
              "count  29995.000000  29997.000000  29995.000000  29993.000000  29991.000000   \n",
              "mean      35.484214     -0.016635     -0.133689     -0.166405     -0.220800   \n",
              "std        9.218024      1.123829      1.197254      1.196048      1.169153   \n",
              "min       21.000000     -2.000000     -2.000000     -2.000000     -2.000000   \n",
              "25%       28.000000     -1.000000     -1.000000     -1.000000     -1.000000   \n",
              "50%       34.000000      0.000000      0.000000      0.000000      0.000000   \n",
              "75%       41.000000      0.000000      0.000000      0.000000      0.000000   \n",
              "max       79.000000      8.000000      8.000000      8.000000      8.000000   \n",
              "\n",
              "       ...            X15            X16            X17            X18  \\\n",
              "count  ...   29985.000000   29983.000000   29990.000000   29992.000000   \n",
              "mean   ...   43275.652326   40324.493980   38881.135745    5662.945886   \n",
              "std    ...   64345.500073   60809.984983   59561.312967   16564.165089   \n",
              "min    ... -170000.000000  -81334.000000 -339603.000000       0.000000   \n",
              "25%    ...    2329.000000    1763.500000    1256.250000    1000.000000   \n",
              "50%    ...   19052.000000   18107.000000   17081.000000    2100.000000   \n",
              "75%    ...   54560.000000   50213.000000   49208.250000    5006.000000   \n",
              "max    ...  891586.000000  927171.000000  961664.000000  873552.000000   \n",
              "\n",
              "                X19            X20            X21            X22  \\\n",
              "count  2.999100e+04   29992.000000   29989.000000   29989.000000   \n",
              "mean   5.922489e+03    5225.623400    4827.252526    4800.297209   \n",
              "std    2.304418e+04   17608.422625   15668.751975   15280.842069   \n",
              "min    0.000000e+00       0.000000       0.000000       0.000000   \n",
              "25%    8.355000e+02     390.000000     296.000000     251.000000   \n",
              "50%    2.009000e+03    1800.000000    1500.000000    1500.000000   \n",
              "75%    5.000000e+03    4505.500000    4014.000000    4033.000000   \n",
              "max    1.684259e+06  896040.000000  621000.000000  426529.000000   \n",
              "\n",
              "                 X23             Y  \n",
              "count   29995.000000  29997.000000  \n",
              "mean     5216.259977      0.221189  \n",
              "std     17778.848359      0.415054  \n",
              "min         0.000000      0.000000  \n",
              "25%       118.000000      0.000000  \n",
              "50%      1500.000000      0.000000  \n",
              "75%      4000.000000      0.000000  \n",
              "max    528666.000000      1.000000  \n",
              "\n",
              "[8 rows x 25 columns]"
            ],
            "text/html": [
              "\n",
              "  <div id=\"df-c57cad70-762a-4497-b20c-ab38edc877fd\">\n",
              "    <div class=\"colab-df-container\">\n",
              "      <div>\n",
              "<style scoped>\n",
              "    .dataframe tbody tr th:only-of-type {\n",
              "        vertical-align: middle;\n",
              "    }\n",
              "\n",
              "    .dataframe tbody tr th {\n",
              "        vertical-align: top;\n",
              "    }\n",
              "\n",
              "    .dataframe thead th {\n",
              "        text-align: right;\n",
              "    }\n",
              "</style>\n",
              "<table border=\"1\" class=\"dataframe\">\n",
              "  <thead>\n",
              "    <tr style=\"text-align: right;\">\n",
              "      <th></th>\n",
              "      <th>ID</th>\n",
              "      <th>X1</th>\n",
              "      <th>X2</th>\n",
              "      <th>X3</th>\n",
              "      <th>X4</th>\n",
              "      <th>X5</th>\n",
              "      <th>X6</th>\n",
              "      <th>X7</th>\n",
              "      <th>X8</th>\n",
              "      <th>X9</th>\n",
              "      <th>...</th>\n",
              "      <th>X15</th>\n",
              "      <th>X16</th>\n",
              "      <th>X17</th>\n",
              "      <th>X18</th>\n",
              "      <th>X19</th>\n",
              "      <th>X20</th>\n",
              "      <th>X21</th>\n",
              "      <th>X22</th>\n",
              "      <th>X23</th>\n",
              "      <th>Y</th>\n",
              "    </tr>\n",
              "  </thead>\n",
              "  <tbody>\n",
              "    <tr>\n",
              "      <th>count</th>\n",
              "      <td>30000.000000</td>\n",
              "      <td>30000.000000</td>\n",
              "      <td>29999.000000</td>\n",
              "      <td>29998.000000</td>\n",
              "      <td>29998.000000</td>\n",
              "      <td>29995.000000</td>\n",
              "      <td>29997.000000</td>\n",
              "      <td>29995.000000</td>\n",
              "      <td>29993.000000</td>\n",
              "      <td>29991.000000</td>\n",
              "      <td>...</td>\n",
              "      <td>29985.000000</td>\n",
              "      <td>29983.000000</td>\n",
              "      <td>29990.000000</td>\n",
              "      <td>29992.000000</td>\n",
              "      <td>2.999100e+04</td>\n",
              "      <td>29992.000000</td>\n",
              "      <td>29989.000000</td>\n",
              "      <td>29989.000000</td>\n",
              "      <td>29995.000000</td>\n",
              "      <td>29997.000000</td>\n",
              "    </tr>\n",
              "    <tr>\n",
              "      <th>mean</th>\n",
              "      <td>15000.500000</td>\n",
              "      <td>167484.322667</td>\n",
              "      <td>1.603753</td>\n",
              "      <td>1.853057</td>\n",
              "      <td>1.551903</td>\n",
              "      <td>35.484214</td>\n",
              "      <td>-0.016635</td>\n",
              "      <td>-0.133689</td>\n",
              "      <td>-0.166405</td>\n",
              "      <td>-0.220800</td>\n",
              "      <td>...</td>\n",
              "      <td>43275.652326</td>\n",
              "      <td>40324.493980</td>\n",
              "      <td>38881.135745</td>\n",
              "      <td>5662.945886</td>\n",
              "      <td>5.922489e+03</td>\n",
              "      <td>5225.623400</td>\n",
              "      <td>4827.252526</td>\n",
              "      <td>4800.297209</td>\n",
              "      <td>5216.259977</td>\n",
              "      <td>0.221189</td>\n",
              "    </tr>\n",
              "    <tr>\n",
              "      <th>std</th>\n",
              "      <td>8660.398374</td>\n",
              "      <td>129747.661567</td>\n",
              "      <td>0.489125</td>\n",
              "      <td>0.790320</td>\n",
              "      <td>0.521968</td>\n",
              "      <td>9.218024</td>\n",
              "      <td>1.123829</td>\n",
              "      <td>1.197254</td>\n",
              "      <td>1.196048</td>\n",
              "      <td>1.169153</td>\n",
              "      <td>...</td>\n",
              "      <td>64345.500073</td>\n",
              "      <td>60809.984983</td>\n",
              "      <td>59561.312967</td>\n",
              "      <td>16564.165089</td>\n",
              "      <td>2.304418e+04</td>\n",
              "      <td>17608.422625</td>\n",
              "      <td>15668.751975</td>\n",
              "      <td>15280.842069</td>\n",
              "      <td>17778.848359</td>\n",
              "      <td>0.415054</td>\n",
              "    </tr>\n",
              "    <tr>\n",
              "      <th>min</th>\n",
              "      <td>1.000000</td>\n",
              "      <td>10000.000000</td>\n",
              "      <td>1.000000</td>\n",
              "      <td>0.000000</td>\n",
              "      <td>0.000000</td>\n",
              "      <td>21.000000</td>\n",
              "      <td>-2.000000</td>\n",
              "      <td>-2.000000</td>\n",
              "      <td>-2.000000</td>\n",
              "      <td>-2.000000</td>\n",
              "      <td>...</td>\n",
              "      <td>-170000.000000</td>\n",
              "      <td>-81334.000000</td>\n",
              "      <td>-339603.000000</td>\n",
              "      <td>0.000000</td>\n",
              "      <td>0.000000e+00</td>\n",
              "      <td>0.000000</td>\n",
              "      <td>0.000000</td>\n",
              "      <td>0.000000</td>\n",
              "      <td>0.000000</td>\n",
              "      <td>0.000000</td>\n",
              "    </tr>\n",
              "    <tr>\n",
              "      <th>25%</th>\n",
              "      <td>7500.750000</td>\n",
              "      <td>50000.000000</td>\n",
              "      <td>1.000000</td>\n",
              "      <td>1.000000</td>\n",
              "      <td>1.000000</td>\n",
              "      <td>28.000000</td>\n",
              "      <td>-1.000000</td>\n",
              "      <td>-1.000000</td>\n",
              "      <td>-1.000000</td>\n",
              "      <td>-1.000000</td>\n",
              "      <td>...</td>\n",
              "      <td>2329.000000</td>\n",
              "      <td>1763.500000</td>\n",
              "      <td>1256.250000</td>\n",
              "      <td>1000.000000</td>\n",
              "      <td>8.355000e+02</td>\n",
              "      <td>390.000000</td>\n",
              "      <td>296.000000</td>\n",
              "      <td>251.000000</td>\n",
              "      <td>118.000000</td>\n",
              "      <td>0.000000</td>\n",
              "    </tr>\n",
              "    <tr>\n",
              "      <th>50%</th>\n",
              "      <td>15000.500000</td>\n",
              "      <td>140000.000000</td>\n",
              "      <td>2.000000</td>\n",
              "      <td>2.000000</td>\n",
              "      <td>2.000000</td>\n",
              "      <td>34.000000</td>\n",
              "      <td>0.000000</td>\n",
              "      <td>0.000000</td>\n",
              "      <td>0.000000</td>\n",
              "      <td>0.000000</td>\n",
              "      <td>...</td>\n",
              "      <td>19052.000000</td>\n",
              "      <td>18107.000000</td>\n",
              "      <td>17081.000000</td>\n",
              "      <td>2100.000000</td>\n",
              "      <td>2.009000e+03</td>\n",
              "      <td>1800.000000</td>\n",
              "      <td>1500.000000</td>\n",
              "      <td>1500.000000</td>\n",
              "      <td>1500.000000</td>\n",
              "      <td>0.000000</td>\n",
              "    </tr>\n",
              "    <tr>\n",
              "      <th>75%</th>\n",
              "      <td>22500.250000</td>\n",
              "      <td>240000.000000</td>\n",
              "      <td>2.000000</td>\n",
              "      <td>2.000000</td>\n",
              "      <td>2.000000</td>\n",
              "      <td>41.000000</td>\n",
              "      <td>0.000000</td>\n",
              "      <td>0.000000</td>\n",
              "      <td>0.000000</td>\n",
              "      <td>0.000000</td>\n",
              "      <td>...</td>\n",
              "      <td>54560.000000</td>\n",
              "      <td>50213.000000</td>\n",
              "      <td>49208.250000</td>\n",
              "      <td>5006.000000</td>\n",
              "      <td>5.000000e+03</td>\n",
              "      <td>4505.500000</td>\n",
              "      <td>4014.000000</td>\n",
              "      <td>4033.000000</td>\n",
              "      <td>4000.000000</td>\n",
              "      <td>0.000000</td>\n",
              "    </tr>\n",
              "    <tr>\n",
              "      <th>max</th>\n",
              "      <td>30000.000000</td>\n",
              "      <td>1000000.000000</td>\n",
              "      <td>2.000000</td>\n",
              "      <td>6.000000</td>\n",
              "      <td>3.000000</td>\n",
              "      <td>79.000000</td>\n",
              "      <td>8.000000</td>\n",
              "      <td>8.000000</td>\n",
              "      <td>8.000000</td>\n",
              "      <td>8.000000</td>\n",
              "      <td>...</td>\n",
              "      <td>891586.000000</td>\n",
              "      <td>927171.000000</td>\n",
              "      <td>961664.000000</td>\n",
              "      <td>873552.000000</td>\n",
              "      <td>1.684259e+06</td>\n",
              "      <td>896040.000000</td>\n",
              "      <td>621000.000000</td>\n",
              "      <td>426529.000000</td>\n",
              "      <td>528666.000000</td>\n",
              "      <td>1.000000</td>\n",
              "    </tr>\n",
              "  </tbody>\n",
              "</table>\n",
              "<p>8 rows × 25 columns</p>\n",
              "</div>\n",
              "      <button class=\"colab-df-convert\" onclick=\"convertToInteractive('df-c57cad70-762a-4497-b20c-ab38edc877fd')\"\n",
              "              title=\"Convert this dataframe to an interactive table.\"\n",
              "              style=\"display:none;\">\n",
              "        \n",
              "  <svg xmlns=\"http://www.w3.org/2000/svg\" height=\"24px\"viewBox=\"0 0 24 24\"\n",
              "       width=\"24px\">\n",
              "    <path d=\"M0 0h24v24H0V0z\" fill=\"none\"/>\n",
              "    <path d=\"M18.56 5.44l.94 2.06.94-2.06 2.06-.94-2.06-.94-.94-2.06-.94 2.06-2.06.94zm-11 1L8.5 8.5l.94-2.06 2.06-.94-2.06-.94L8.5 2.5l-.94 2.06-2.06.94zm10 10l.94 2.06.94-2.06 2.06-.94-2.06-.94-.94-2.06-.94 2.06-2.06.94z\"/><path d=\"M17.41 7.96l-1.37-1.37c-.4-.4-.92-.59-1.43-.59-.52 0-1.04.2-1.43.59L10.3 9.45l-7.72 7.72c-.78.78-.78 2.05 0 2.83L4 21.41c.39.39.9.59 1.41.59.51 0 1.02-.2 1.41-.59l7.78-7.78 2.81-2.81c.8-.78.8-2.07 0-2.86zM5.41 20L4 18.59l7.72-7.72 1.47 1.35L5.41 20z\"/>\n",
              "  </svg>\n",
              "      </button>\n",
              "      \n",
              "  <style>\n",
              "    .colab-df-container {\n",
              "      display:flex;\n",
              "      flex-wrap:wrap;\n",
              "      gap: 12px;\n",
              "    }\n",
              "\n",
              "    .colab-df-convert {\n",
              "      background-color: #E8F0FE;\n",
              "      border: none;\n",
              "      border-radius: 50%;\n",
              "      cursor: pointer;\n",
              "      display: none;\n",
              "      fill: #1967D2;\n",
              "      height: 32px;\n",
              "      padding: 0 0 0 0;\n",
              "      width: 32px;\n",
              "    }\n",
              "\n",
              "    .colab-df-convert:hover {\n",
              "      background-color: #E2EBFA;\n",
              "      box-shadow: 0px 1px 2px rgba(60, 64, 67, 0.3), 0px 1px 3px 1px rgba(60, 64, 67, 0.15);\n",
              "      fill: #174EA6;\n",
              "    }\n",
              "\n",
              "    [theme=dark] .colab-df-convert {\n",
              "      background-color: #3B4455;\n",
              "      fill: #D2E3FC;\n",
              "    }\n",
              "\n",
              "    [theme=dark] .colab-df-convert:hover {\n",
              "      background-color: #434B5C;\n",
              "      box-shadow: 0px 1px 3px 1px rgba(0, 0, 0, 0.15);\n",
              "      filter: drop-shadow(0px 1px 2px rgba(0, 0, 0, 0.3));\n",
              "      fill: #FFFFFF;\n",
              "    }\n",
              "  </style>\n",
              "\n",
              "      <script>\n",
              "        const buttonEl =\n",
              "          document.querySelector('#df-c57cad70-762a-4497-b20c-ab38edc877fd button.colab-df-convert');\n",
              "        buttonEl.style.display =\n",
              "          google.colab.kernel.accessAllowed ? 'block' : 'none';\n",
              "\n",
              "        async function convertToInteractive(key) {\n",
              "          const element = document.querySelector('#df-c57cad70-762a-4497-b20c-ab38edc877fd');\n",
              "          const dataTable =\n",
              "            await google.colab.kernel.invokeFunction('convertToInteractive',\n",
              "                                                     [key], {});\n",
              "          if (!dataTable) return;\n",
              "\n",
              "          const docLinkHtml = 'Like what you see? Visit the ' +\n",
              "            '<a target=\"_blank\" href=https://colab.research.google.com/notebooks/data_table.ipynb>data table notebook</a>'\n",
              "            + ' to learn more about interactive tables.';\n",
              "          element.innerHTML = '';\n",
              "          dataTable['output_type'] = 'display_data';\n",
              "          await google.colab.output.renderOutput(dataTable, element);\n",
              "          const docLink = document.createElement('div');\n",
              "          docLink.innerHTML = docLinkHtml;\n",
              "          element.appendChild(docLink);\n",
              "        }\n",
              "      </script>\n",
              "    </div>\n",
              "  </div>\n",
              "  "
            ]
          },
          "metadata": {},
          "execution_count": 5
        }
      ]
    },
    {
      "cell_type": "markdown",
      "source": [
        "Conocer el total de missing values por columna"
      ],
      "metadata": {
        "id": "VFTBAa04F8T9"
      }
    },
    {
      "cell_type": "code",
      "source": [
        "### Iteración por columna para conocer el total de missing values\n",
        "for i in df.columns: \n",
        "  print('Columna ' + str(i) + ' tiene ' +  str(df[i].isna().sum()) +' valores nulos, que representa ' + str(round((df[i].isna().sum()/df[i].count())*100,2)) +'% del total' )"
      ],
      "metadata": {
        "colab": {
          "base_uri": "https://localhost:8080/"
        },
        "id": "2B53QDXPG5aL",
        "outputId": "13770cac-901e-4d0e-bd09-fbe59ae13406"
      },
      "execution_count": 6,
      "outputs": [
        {
          "output_type": "stream",
          "name": "stdout",
          "text": [
            "Columna ID tiene 0 valores nulos, que representa 0.0% del total\n",
            "Columna X1 tiene 0 valores nulos, que representa 0.0% del total\n",
            "Columna X2 tiene 1 valores nulos, que representa 0.0% del total\n",
            "Columna X3 tiene 2 valores nulos, que representa 0.01% del total\n",
            "Columna X4 tiene 2 valores nulos, que representa 0.01% del total\n",
            "Columna X5 tiene 5 valores nulos, que representa 0.02% del total\n",
            "Columna X6 tiene 3 valores nulos, que representa 0.01% del total\n",
            "Columna X7 tiene 5 valores nulos, que representa 0.02% del total\n",
            "Columna X8 tiene 7 valores nulos, que representa 0.02% del total\n",
            "Columna X9 tiene 9 valores nulos, que representa 0.03% del total\n",
            "Columna X10 tiene 16 valores nulos, que representa 0.05% del total\n",
            "Columna X11 tiene 14 valores nulos, que representa 0.05% del total\n",
            "Columna X12 tiene 11 valores nulos, que representa 0.04% del total\n",
            "Columna X13 tiene 11 valores nulos, que representa 0.04% del total\n",
            "Columna X14 tiene 13 valores nulos, que representa 0.04% del total\n",
            "Columna X15 tiene 15 valores nulos, que representa 0.05% del total\n",
            "Columna X16 tiene 17 valores nulos, que representa 0.06% del total\n",
            "Columna X17 tiene 10 valores nulos, que representa 0.03% del total\n",
            "Columna X18 tiene 8 valores nulos, que representa 0.03% del total\n",
            "Columna X19 tiene 9 valores nulos, que representa 0.03% del total\n",
            "Columna X20 tiene 8 valores nulos, que representa 0.03% del total\n",
            "Columna X21 tiene 11 valores nulos, que representa 0.04% del total\n",
            "Columna X22 tiene 11 valores nulos, que representa 0.04% del total\n",
            "Columna X23 tiene 5 valores nulos, que representa 0.02% del total\n",
            "Columna Y tiene 3 valores nulos, que representa 0.01% del total\n"
          ]
        }
      ]
    },
    {
      "cell_type": "markdown",
      "source": [
        "Conocer el tipo de dato, valores únicos y algunos ejemplos del dato por columna:"
      ],
      "metadata": {
        "id": "stVF48trLTLH"
      }
    },
    {
      "cell_type": "code",
      "source": [
        "## Iteración por columna para conocer el tipo de dato, valores únicos, y ejemplos del dato\n",
        "for i in df.columns: \n",
        "  print('Columna ' + str(i) + ' es un dato tipo ' +  str(df.dtypes[i]) + ' con ' + str(df[i].nunique()) + ' valores únicos. ' + 'Algunos ejemplos son: ' + str(np.array(df.loc[:,i][0:5])) )"
      ],
      "metadata": {
        "colab": {
          "base_uri": "https://localhost:8080/"
        },
        "id": "-0FY6YWBLWsz",
        "outputId": "e9ede1ff-b943-4af7-fc3e-2eae12f166c3"
      },
      "execution_count": 7,
      "outputs": [
        {
          "output_type": "stream",
          "name": "stdout",
          "text": [
            "Columna ID es un dato tipo int64 con 30000 valores únicos. Algunos ejemplos son: [1 2 3 4 5]\n",
            "Columna X1 es un dato tipo int64 con 81 valores únicos. Algunos ejemplos son: [ 20000 120000  90000  50000  50000]\n",
            "Columna X2 es un dato tipo float64 con 2 valores únicos. Algunos ejemplos son: [2. 2. 2. 2. 1.]\n",
            "Columna X3 es un dato tipo float64 con 7 valores únicos. Algunos ejemplos son: [2. 2. 2. 2. 2.]\n",
            "Columna X4 es un dato tipo float64 con 4 valores únicos. Algunos ejemplos son: [1. 2. 2. 1. 1.]\n",
            "Columna X5 es un dato tipo float64 con 56 valores únicos. Algunos ejemplos son: [24. 26. 34. 37. 57.]\n",
            "Columna X6 es un dato tipo float64 con 11 valores únicos. Algunos ejemplos son: [ 2. -1.  0.  0. -1.]\n",
            "Columna X7 es un dato tipo float64 con 11 valores únicos. Algunos ejemplos son: [2. 2. 0. 0. 0.]\n",
            "Columna X8 es un dato tipo float64 con 11 valores únicos. Algunos ejemplos son: [-1.  0.  0.  0. -1.]\n",
            "Columna X9 es un dato tipo float64 con 11 valores únicos. Algunos ejemplos son: [-1.  0.  0.  0.  0.]\n",
            "Columna X10 es un dato tipo float64 con 10 valores únicos. Algunos ejemplos son: [-2.  0.  0.  0.  0.]\n",
            "Columna X11 es un dato tipo float64 con 10 valores únicos. Algunos ejemplos son: [-2.  2.  0.  0.  0.]\n",
            "Columna X12 es un dato tipo float64 con 22718 valores únicos. Algunos ejemplos son: [ 3913.  2682. 29239. 46990.  8617.]\n",
            "Columna X13 es un dato tipo float64 con 22339 valores únicos. Algunos ejemplos son: [ 3102.  1725. 14027. 48233.  5670.]\n",
            "Columna X14 es un dato tipo float64 con 22020 valores únicos. Algunos ejemplos son: [  689.  2682. 13559. 49291. 35835.]\n",
            "Columna X15 es un dato tipo float64 con 21541 valores únicos. Algunos ejemplos son: [    0.  3272. 14331. 28314. 20940.]\n",
            "Columna X16 es un dato tipo float64 con 21000 valores únicos. Algunos ejemplos son: [    0.  3455. 14948. 28959. 19146.]\n",
            "Columna X17 es un dato tipo float64 con 20600 valores únicos. Algunos ejemplos son: [    0.  3261. 15549. 29547. 19131.]\n",
            "Columna X18 es un dato tipo float64 con 7941 valores únicos. Algunos ejemplos son: [   0.    0. 1518. 2000. 2000.]\n",
            "Columna X19 es un dato tipo float64 con 7899 valores únicos. Algunos ejemplos son: [  689.  1000.  1500.  2019. 36681.]\n",
            "Columna X20 es un dato tipo float64 con 7517 valores únicos. Algunos ejemplos son: [    0.  1000.  1000.  1200. 10000.]\n",
            "Columna X21 es un dato tipo float64 con 6936 valores únicos. Algunos ejemplos son: [   0. 1000. 1000. 1100. 9000.]\n",
            "Columna X22 es un dato tipo float64 con 6895 valores únicos. Algunos ejemplos son: [   0.    0. 1000. 1069.  689.]\n",
            "Columna X23 es un dato tipo float64 con 6939 valores únicos. Algunos ejemplos son: [   0. 2000. 5000. 1000.  679.]\n",
            "Columna Y es un dato tipo float64 con 2 valores únicos. Algunos ejemplos son: [1. 1. 0. 0. 0.]\n"
          ]
        }
      ]
    },
    {
      "cell_type": "markdown",
      "source": [
        "### Análisis por columna"
      ],
      "metadata": {
        "id": "0HRJB92oNk9I"
      }
    },
    {
      "cell_type": "markdown",
      "source": [
        "En esta sección se analiza por columnas o conjuntos de columna dependiendo de la información que transmitan las variables de acuerdo a la definición de las mismas. \n",
        "La definición de las variables es tomada del conjunto de datos que se encuentra en el mismo repositorio del ejercicio. \n",
        "\n"
      ],
      "metadata": {
        "id": "EF29O4QwVoZB"
      }
    },
    {
      "cell_type": "markdown",
      "source": [
        "###### **Columna ID**"
      ],
      "metadata": {
        "id": "dJ63XSPANkkE"
      }
    },
    {
      "cell_type": "markdown",
      "source": [
        "Identificador único del registro. \n",
        "\n",
        "Esta columna es la única que se trata por separado al no coniderarse dentro de alguna de las definiciones anteriores. \n",
        "\n",
        "Es una variable con el mismo número de valores únicos que el total de registros en el dataset. Van de 1 a 30,000.\n",
        "\n",
        "No tiene missing values. \n"
      ],
      "metadata": {
        "id": "0_xOnLTSOpIm"
      }
    },
    {
      "cell_type": "markdown",
      "source": [
        "*Sólo se decide modificar el tipo de columna de int a str para no tener problemas en lectura de la base en el futuro, o por cruces con otras bases de datos*"
      ],
      "metadata": {
        "id": "Nn7W_XlbOpBB"
      }
    },
    {
      "cell_type": "code",
      "source": [
        "df['ID'] = df['ID'].astype(str) ## Cambiar el tipo de dato a string"
      ],
      "metadata": {
        "id": "cD4XZSoiAQ_c"
      },
      "execution_count": 8,
      "outputs": []
    },
    {
      "cell_type": "markdown",
      "source": [
        "###### **Columna X1 -- Cantidad proporcionada en el crédito**"
      ],
      "metadata": {
        "id": "-cXKFnx1Oo8p"
      }
    },
    {
      "cell_type": "code",
      "source": [
        "df[['X1']].plot.hist() ## Plot de la distribución"
      ],
      "metadata": {
        "colab": {
          "base_uri": "https://localhost:8080/",
          "height": 295
        },
        "id": "vHDPnPyxNfGs",
        "outputId": "6960675a-65bd-473a-c75d-e48fc70c1893"
      },
      "execution_count": 9,
      "outputs": [
        {
          "output_type": "execute_result",
          "data": {
            "text/plain": [
              "<matplotlib.axes._subplots.AxesSubplot at 0x7fa96819e390>"
            ]
          },
          "metadata": {},
          "execution_count": 9
        },
        {
          "output_type": "display_data",
          "data": {
            "text/plain": [
              "<Figure size 432x288 with 1 Axes>"
            ],
            "image/png": "[encoded data removed]"
          },
          "metadata": {
            "needs_background": "light"
          }
        }
      ]
    },
    {
      "cell_type": "markdown",
      "source": [
        "No es necesario hacer transformación ya que el tipo de dato es int, no contiene missing values, y no presenta valores negativos."
      ],
      "metadata": {
        "id": "9rU58wcmOox3"
      }
    },
    {
      "cell_type": "markdown",
      "source": [
        "###### **Columna X2 -- Género**"
      ],
      "metadata": {
        "id": "2SrqZdeCOorJ"
      }
    },
    {
      "cell_type": "markdown",
      "source": [
        "Columna categórica sobre el género de la persona. \n",
        "\n",
        "Dónde 1 = Hombre, 2 = Mujer. \n",
        "\n",
        "El tratamiento de missing values es asignando la moda."
      ],
      "metadata": {
        "id": "xnGYPnA1Oomr"
      }
    },
    {
      "cell_type": "code",
      "source": [
        "df[['X2']].plot.hist()"
      ],
      "metadata": {
        "colab": {
          "base_uri": "https://localhost:8080/",
          "height": 282
        },
        "id": "PJoG70MeNSPn",
        "outputId": "c49fcbe1-529f-48ee-f004-856a521cdbda"
      },
      "execution_count": 10,
      "outputs": [
        {
          "output_type": "execute_result",
          "data": {
            "text/plain": [
              "<matplotlib.axes._subplots.AxesSubplot at 0x7fa967c4ff90>"
            ]
          },
          "metadata": {},
          "execution_count": 10
        },
        {
          "output_type": "display_data",
          "data": {
            "text/plain": [
              "<Figure size 432x288 with 1 Axes>"
            ],
            "image/png": "[encoded data removed]"
          },
          "metadata": {
            "needs_background": "light"
          }
        }
      ]
    },
    {
      "cell_type": "code",
      "source": [
        "df[['X2']].groupby('X2').size().sort_values(ascending=False) ### observar valores más repetidos"
      ],
      "metadata": {
        "colab": {
          "base_uri": "https://localhost:8080/"
        },
        "id": "kNJfej2HOoiL",
        "outputId": "2c0ff54e-c09c-494e-b2a7-d6f2c3625770"
      },
      "execution_count": 11,
      "outputs": [
        {
          "output_type": "execute_result",
          "data": {
            "text/plain": [
              "X2\n",
              "2.0    18112\n",
              "1.0    11887\n",
              "dtype: int64"
            ]
          },
          "metadata": {},
          "execution_count": 11
        }
      ]
    },
    {
      "cell_type": "code",
      "source": [
        "valor = df['X2'].mode()[0] ## Guardar la moda"
      ],
      "metadata": {
        "id": "V9eW0cpCb9Hz"
      },
      "execution_count": 12,
      "outputs": []
    },
    {
      "cell_type": "code",
      "source": [
        "df['X2'] = df['X2'].fillna(value=valor) ## Asignación de missing values a la moda"
      ],
      "metadata": {
        "id": "ShDI23faOoZd"
      },
      "execution_count": 13,
      "outputs": []
    },
    {
      "cell_type": "markdown",
      "source": [
        "###### **Columna X3 -- Educación**"
      ],
      "metadata": {
        "id": "hd5IbvGEOoUd"
      }
    },
    {
      "cell_type": "markdown",
      "source": [
        "Columna categórica sobre el nivel de educación de la persona.\n",
        "\n",
        "(1 = graduate school; 2 = university; 3 = high school; 4 = others).\n",
        "\n",
        "El tratamiento de missing values (2 valores nulos) es asignando la moda."
      ],
      "metadata": {
        "id": "m44h1VtvOoCV"
      }
    },
    {
      "cell_type": "code",
      "source": [
        "df[['X3']].plot.hist()"
      ],
      "metadata": {
        "colab": {
          "base_uri": "https://localhost:8080/",
          "height": 282
        },
        "id": "Li5mzX5lNxpR",
        "outputId": "a7507891-2f5e-4759-a143-8d65cc663632"
      },
      "execution_count": 14,
      "outputs": [
        {
          "output_type": "execute_result",
          "data": {
            "text/plain": [
              "<matplotlib.axes._subplots.AxesSubplot at 0x7fa967b8f250>"
            ]
          },
          "metadata": {},
          "execution_count": 14
        },
        {
          "output_type": "display_data",
          "data": {
            "text/plain": [
              "<Figure size 432x288 with 1 Axes>"
            ],
            "image/png": "[encoded data removed]"
          },
          "metadata": {
            "needs_background": "light"
          }
        }
      ]
    },
    {
      "cell_type": "code",
      "source": [
        "df[['X3']].groupby('X3').size().sort_values(ascending=False) ### observar valores más repetidos"
      ],
      "metadata": {
        "colab": {
          "base_uri": "https://localhost:8080/"
        },
        "id": "ry6APIbAdDQd",
        "outputId": "9e673b89-5b94-4e58-9cc3-e263313a19e9"
      },
      "execution_count": 15,
      "outputs": [
        {
          "output_type": "execute_result",
          "data": {
            "text/plain": [
              "X3\n",
              "2.0    14030\n",
              "1.0    10585\n",
              "3.0     4915\n",
              "5.0      280\n",
              "4.0      123\n",
              "6.0       51\n",
              "0.0       14\n",
              "dtype: int64"
            ]
          },
          "metadata": {},
          "execution_count": 15
        }
      ]
    },
    {
      "cell_type": "code",
      "source": [
        "valor = df['X3'].mode()[0] ## Guardar la moda"
      ],
      "metadata": {
        "id": "5y0EEuN0dDNS"
      },
      "execution_count": 16,
      "outputs": []
    },
    {
      "cell_type": "code",
      "source": [
        "df['X3'] = df['X3'].fillna(value=valor) ## Asignación de missing values a la moda"
      ],
      "metadata": {
        "id": "uoTw9l4-dDJi"
      },
      "execution_count": 17,
      "outputs": []
    },
    {
      "cell_type": "markdown",
      "source": [
        "Adicionalmente se observa que existen categorías no definidas (5,6,0)"
      ],
      "metadata": {
        "id": "7oprbJmDeFfP"
      }
    },
    {
      "cell_type": "markdown",
      "source": [
        "Se asignan dichos valores a la categoría 4 (otros)"
      ],
      "metadata": {
        "id": "_Jshx2X0eloo"
      }
    },
    {
      "cell_type": "code",
      "source": [
        "df['X3'] = np.where((df['X3']==0) | (df['X3']==5) | (df['X3']==6), 4, df['X3']) ## Función np.where que evalua condición y de ser cierta asigna el primer valor"
      ],
      "metadata": {
        "id": "kcRx3LqXfDBR"
      },
      "execution_count": 18,
      "outputs": []
    },
    {
      "cell_type": "markdown",
      "source": [
        "###### **Columna X4 -- Estado Civil**"
      ],
      "metadata": {
        "id": "Xqq1nUL6dDGc"
      }
    },
    {
      "cell_type": "markdown",
      "source": [
        "Columna categórica sobre el nivel de educación de la persona.\n",
        "\n",
        "(1 = married; 2 = single; 3 = others)\n",
        "\n",
        "El tratamiento de missing values (solo 2 valore nulos) es asignando la moda."
      ],
      "metadata": {
        "id": "G3rgAD9wdDBv"
      }
    },
    {
      "cell_type": "code",
      "source": [
        "df[['X4']].plot.hist() ## Plot de la distribución"
      ],
      "metadata": {
        "colab": {
          "base_uri": "https://localhost:8080/",
          "height": 282
        },
        "id": "bSQk9kw1OA4G",
        "outputId": "18c916e7-602b-4f6b-feb6-9e5899238521"
      },
      "execution_count": 19,
      "outputs": [
        {
          "output_type": "execute_result",
          "data": {
            "text/plain": [
              "<matplotlib.axes._subplots.AxesSubplot at 0x7fa967b2cbd0>"
            ]
          },
          "metadata": {},
          "execution_count": 19
        },
        {
          "output_type": "display_data",
          "data": {
            "text/plain": [
              "<Figure size 432x288 with 1 Axes>"
            ],
            "image/png": "[encoded data removed]"
          },
          "metadata": {
            "needs_background": "light"
          }
        }
      ]
    },
    {
      "cell_type": "code",
      "source": [
        "df[['X4']].groupby('X4').size().sort_values(ascending=False) ### observar valores más repetidos"
      ],
      "metadata": {
        "colab": {
          "base_uri": "https://localhost:8080/"
        },
        "id": "OumLe2-8dC-m",
        "outputId": "2c4a129a-d92b-40db-e962-6942b240fa7d"
      },
      "execution_count": 20,
      "outputs": [
        {
          "output_type": "execute_result",
          "data": {
            "text/plain": [
              "X4\n",
              "2.0    15964\n",
              "1.0    13657\n",
              "3.0      323\n",
              "0.0       54\n",
              "dtype: int64"
            ]
          },
          "metadata": {},
          "execution_count": 20
        }
      ]
    },
    {
      "cell_type": "code",
      "source": [
        "valor = df['X4'].mode()[0] ## Guardar la moda"
      ],
      "metadata": {
        "id": "3GEQZ2icdC6s"
      },
      "execution_count": 21,
      "outputs": []
    },
    {
      "cell_type": "code",
      "source": [
        "df['X4'] = df['X4'].fillna(value=valor) ## Asignación de missing values a la moda"
      ],
      "metadata": {
        "id": "LvL22n9kdC2k"
      },
      "execution_count": 22,
      "outputs": []
    },
    {
      "cell_type": "markdown",
      "source": [
        "Adicionalmente se observa que existen categorías no definidas (0)"
      ],
      "metadata": {
        "id": "TYV4wRYydCzM"
      }
    },
    {
      "cell_type": "markdown",
      "source": [
        "Se asignan dichos valores a la categoría 3 (otros)"
      ],
      "metadata": {
        "id": "11rqMp0idCvf"
      }
    },
    {
      "cell_type": "code",
      "source": [
        "df['X4'] = np.where((df['X4']==0) , 3, df['X4']) ## Función np.where que evalua condición y de ser cierta asigna el primer valor"
      ],
      "metadata": {
        "id": "jQT3P2OtdCr1"
      },
      "execution_count": 23,
      "outputs": []
    },
    {
      "cell_type": "markdown",
      "source": [
        "###### **Columna X5 -- Edad** "
      ],
      "metadata": {
        "id": "owSdcTRndCoX"
      }
    },
    {
      "cell_type": "markdown",
      "source": [
        "Columna númerica de la edad de la persona. \n",
        "\n",
        "Recordando la distribución."
      ],
      "metadata": {
        "id": "mG27J8RndCki"
      }
    },
    {
      "cell_type": "code",
      "source": [
        "df[['X5']].plot.hist() ## Plot de distribución"
      ],
      "metadata": {
        "colab": {
          "base_uri": "https://localhost:8080/",
          "height": 282
        },
        "id": "Tbqz0C4hOTcU",
        "outputId": "b6b71556-75c8-46fa-fb67-2a15fd73ffdb"
      },
      "execution_count": 24,
      "outputs": [
        {
          "output_type": "execute_result",
          "data": {
            "text/plain": [
              "<matplotlib.axes._subplots.AxesSubplot at 0x7fa967ac1450>"
            ]
          },
          "metadata": {},
          "execution_count": 24
        },
        {
          "output_type": "display_data",
          "data": {
            "text/plain": [
              "<Figure size 432x288 with 1 Axes>"
            ],
            "image/png": "[encoded data removed]"
          },
          "metadata": {
            "needs_background": "light"
          }
        }
      ]
    },
    {
      "cell_type": "code",
      "source": [
        "df[['X5']].describe() # Descripción de la distribución de la variable"
      ],
      "metadata": {
        "colab": {
          "base_uri": "https://localhost:8080/",
          "height": 300
        },
        "id": "vIaGSn3CdChF",
        "outputId": "1ee29823-d2c8-422d-eec9-cdd897e114b5"
      },
      "execution_count": 25,
      "outputs": [
        {
          "output_type": "execute_result",
          "data": {
            "text/plain": [
              "                 X5\n",
              "count  29995.000000\n",
              "mean      35.484214\n",
              "std        9.218024\n",
              "min       21.000000\n",
              "25%       28.000000\n",
              "50%       34.000000\n",
              "75%       41.000000\n",
              "max       79.000000"
            ],
            "text/html": [
              "\n",
              "  <div id=\"df-1d1706e3-abe8-4faa-8d30-58c147ffbc1f\">\n",
              "    <div class=\"colab-df-container\">\n",
              "      <div>\n",
              "<style scoped>\n",
              "    .dataframe tbody tr th:only-of-type {\n",
              "        vertical-align: middle;\n",
              "    }\n",
              "\n",
              "    .dataframe tbody tr th {\n",
              "        vertical-align: top;\n",
              "    }\n",
              "\n",
              "    .dataframe thead th {\n",
              "        text-align: right;\n",
              "    }\n",
              "</style>\n",
              "<table border=\"1\" class=\"dataframe\">\n",
              "  <thead>\n",
              "    <tr style=\"text-align: right;\">\n",
              "      <th></th>\n",
              "      <th>X5</th>\n",
              "    </tr>\n",
              "  </thead>\n",
              "  <tbody>\n",
              "    <tr>\n",
              "      <th>count</th>\n",
              "      <td>29995.000000</td>\n",
              "    </tr>\n",
              "    <tr>\n",
              "      <th>mean</th>\n",
              "      <td>35.484214</td>\n",
              "    </tr>\n",
              "    <tr>\n",
              "      <th>std</th>\n",
              "      <td>9.218024</td>\n",
              "    </tr>\n",
              "    <tr>\n",
              "      <th>min</th>\n",
              "      <td>21.000000</td>\n",
              "    </tr>\n",
              "    <tr>\n",
              "      <th>25%</th>\n",
              "      <td>28.000000</td>\n",
              "    </tr>\n",
              "    <tr>\n",
              "      <th>50%</th>\n",
              "      <td>34.000000</td>\n",
              "    </tr>\n",
              "    <tr>\n",
              "      <th>75%</th>\n",
              "      <td>41.000000</td>\n",
              "    </tr>\n",
              "    <tr>\n",
              "      <th>max</th>\n",
              "      <td>79.000000</td>\n",
              "    </tr>\n",
              "  </tbody>\n",
              "</table>\n",
              "</div>\n",
              "      <button class=\"colab-df-convert\" onclick=\"convertToInteractive('df-1d1706e3-abe8-4faa-8d30-58c147ffbc1f')\"\n",
              "              title=\"Convert this dataframe to an interactive table.\"\n",
              "              style=\"display:none;\">\n",
              "        \n",
              "  <svg xmlns=\"http://www.w3.org/2000/svg\" height=\"24px\"viewBox=\"0 0 24 24\"\n",
              "       width=\"24px\">\n",
              "    <path d=\"M0 0h24v24H0V0z\" fill=\"none\"/>\n",
              "    <path d=\"M18.56 5.44l.94 2.06.94-2.06 2.06-.94-2.06-.94-.94-2.06-.94 2.06-2.06.94zm-11 1L8.5 8.5l.94-2.06 2.06-.94-2.06-.94L8.5 2.5l-.94 2.06-2.06.94zm10 10l.94 2.06.94-2.06 2.06-.94-2.06-.94-.94-2.06-.94 2.06-2.06.94z\"/><path d=\"M17.41 7.96l-1.37-1.37c-.4-.4-.92-.59-1.43-.59-.52 0-1.04.2-1.43.59L10.3 9.45l-7.72 7.72c-.78.78-.78 2.05 0 2.83L4 21.41c.39.39.9.59 1.41.59.51 0 1.02-.2 1.41-.59l7.78-7.78 2.81-2.81c.8-.78.8-2.07 0-2.86zM5.41 20L4 18.59l7.72-7.72 1.47 1.35L5.41 20z\"/>\n",
              "  </svg>\n",
              "      </button>\n",
              "      \n",
              "  <style>\n",
              "    .colab-df-container {\n",
              "      display:flex;\n",
              "      flex-wrap:wrap;\n",
              "      gap: 12px;\n",
              "    }\n",
              "\n",
              "    .colab-df-convert {\n",
              "      background-color: #E8F0FE;\n",
              "      border: none;\n",
              "      border-radius: 50%;\n",
              "      cursor: pointer;\n",
              "      display: none;\n",
              "      fill: #1967D2;\n",
              "      height: 32px;\n",
              "      padding: 0 0 0 0;\n",
              "      width: 32px;\n",
              "    }\n",
              "\n",
              "    .colab-df-convert:hover {\n",
              "      background-color: #E2EBFA;\n",
              "      box-shadow: 0px 1px 2px rgba(60, 64, 67, 0.3), 0px 1px 3px 1px rgba(60, 64, 67, 0.15);\n",
              "      fill: #174EA6;\n",
              "    }\n",
              "\n",
              "    [theme=dark] .colab-df-convert {\n",
              "      background-color: #3B4455;\n",
              "      fill: #D2E3FC;\n",
              "    }\n",
              "\n",
              "    [theme=dark] .colab-df-convert:hover {\n",
              "      background-color: #434B5C;\n",
              "      box-shadow: 0px 1px 3px 1px rgba(0, 0, 0, 0.15);\n",
              "      filter: drop-shadow(0px 1px 2px rgba(0, 0, 0, 0.3));\n",
              "      fill: #FFFFFF;\n",
              "    }\n",
              "  </style>\n",
              "\n",
              "      <script>\n",
              "        const buttonEl =\n",
              "          document.querySelector('#df-1d1706e3-abe8-4faa-8d30-58c147ffbc1f button.colab-df-convert');\n",
              "        buttonEl.style.display =\n",
              "          google.colab.kernel.accessAllowed ? 'block' : 'none';\n",
              "\n",
              "        async function convertToInteractive(key) {\n",
              "          const element = document.querySelector('#df-1d1706e3-abe8-4faa-8d30-58c147ffbc1f');\n",
              "          const dataTable =\n",
              "            await google.colab.kernel.invokeFunction('convertToInteractive',\n",
              "                                                     [key], {});\n",
              "          if (!dataTable) return;\n",
              "\n",
              "          const docLinkHtml = 'Like what you see? Visit the ' +\n",
              "            '<a target=\"_blank\" href=https://colab.research.google.com/notebooks/data_table.ipynb>data table notebook</a>'\n",
              "            + ' to learn more about interactive tables.';\n",
              "          element.innerHTML = '';\n",
              "          dataTable['output_type'] = 'display_data';\n",
              "          await google.colab.output.renderOutput(dataTable, element);\n",
              "          const docLink = document.createElement('div');\n",
              "          docLink.innerHTML = docLinkHtml;\n",
              "          element.appendChild(docLink);\n",
              "        }\n",
              "      </script>\n",
              "    </div>\n",
              "  </div>\n",
              "  "
            ]
          },
          "metadata": {},
          "execution_count": 25
        }
      ]
    },
    {
      "cell_type": "markdown",
      "source": [
        "Observamos que la media y mediana no presentan diferencias significativas. Sólo son 5 valores nulos (0.002%) decide utilizar la media, si el % de missing values fuese mayor a 5% se tomarían otras medidas."
      ],
      "metadata": {
        "id": "mc7jV2TcdCci"
      }
    },
    {
      "cell_type": "code",
      "source": [
        "valor = df['X5'].mean() ## Almacenar el valor de la media"
      ],
      "metadata": {
        "id": "1UZZKBu5hSXP"
      },
      "execution_count": 26,
      "outputs": []
    },
    {
      "cell_type": "code",
      "source": [
        "df['X5'] = df['X5'].fillna(value=valor) ## Asignación a valores nulos"
      ],
      "metadata": {
        "id": "GXhQI6TzdCT9"
      },
      "execution_count": 27,
      "outputs": []
    },
    {
      "cell_type": "markdown",
      "source": [
        "###### **Columna X6 a X11 -- Histórico de pagos**"
      ],
      "metadata": {
        "id": "L-ywn6yIhfg9"
      }
    },
    {
      "cell_type": "markdown",
      "source": [
        "Estatus de pago de los últimos 6 meses. Consideramos que es adecuado ya que para probabilidad de incuplimiento usualmente 6 meses es el mínimo de tiempo para comprobar el pago sostenido de un cliente. \n",
        "\n",
        "Donde X6 = Sep 2005, X7=Ago 2005, ..., X11= Abr 2005. \n",
        "\n",
        "Status is: \n",
        "\n",
        "-1 = pay duly; \n",
        "\n",
        "1 = payment delay for one month; 2 = payment delay for two months; . . .; 8 = payment delay for eight months; 9 = payment delay for nine months and above."
      ],
      "metadata": {
        "id": "v-i3fS75hfaT"
      }
    },
    {
      "cell_type": "markdown",
      "source": [
        "Las siguientes lineas de código desglozan el comportamiento por mes del estatus de pago"
      ],
      "metadata": {
        "id": "i1CP0fPhjGs0"
      }
    },
    {
      "cell_type": "code",
      "source": [
        "df[['X6']].groupby('X6').size().sort_values(ascending=False) ### observar valores más repetidos"
      ],
      "metadata": {
        "colab": {
          "base_uri": "https://localhost:8080/"
        },
        "id": "WRqo0tP1hfWH",
        "outputId": "57f4f75c-a3a3-4135-a9ec-509d36d96479"
      },
      "execution_count": 28,
      "outputs": [
        {
          "output_type": "execute_result",
          "data": {
            "text/plain": [
              "X6\n",
              " 0.0    14736\n",
              "-1.0     5684\n",
              " 1.0     3688\n",
              "-2.0     2759\n",
              " 2.0     2667\n",
              " 3.0      322\n",
              " 4.0       76\n",
              " 5.0       26\n",
              " 8.0       19\n",
              " 6.0       11\n",
              " 7.0        9\n",
              "dtype: int64"
            ]
          },
          "metadata": {},
          "execution_count": 28
        }
      ]
    },
    {
      "cell_type": "code",
      "source": [
        "df[['X6']].plot.hist()"
      ],
      "metadata": {
        "colab": {
          "base_uri": "https://localhost:8080/",
          "height": 282
        },
        "id": "hUXPKRqzPIXT",
        "outputId": "a08b7672-95c9-4ea9-dbe6-ecdea3d669dd"
      },
      "execution_count": 29,
      "outputs": [
        {
          "output_type": "execute_result",
          "data": {
            "text/plain": [
              "<matplotlib.axes._subplots.AxesSubplot at 0x7fa9679da990>"
            ]
          },
          "metadata": {},
          "execution_count": 29
        },
        {
          "output_type": "display_data",
          "data": {
            "text/plain": [
              "<Figure size 432x288 with 1 Axes>"
            ],
            "image/png": "[encoded data removed]"
          },
          "metadata": {
            "needs_background": "light"
          }
        }
      ]
    },
    {
      "cell_type": "markdown",
      "source": [
        "La mayoría de los datos están concentrados en categorías fuera de la descripción de la variable"
      ],
      "metadata": {
        "id": "DiAFxomVPT_q"
      }
    },
    {
      "cell_type": "code",
      "source": [
        "df[['X7']].groupby('X7').size().sort_values(ascending=False) ### observar valores más repetidos"
      ],
      "metadata": {
        "colab": {
          "base_uri": "https://localhost:8080/"
        },
        "id": "4RqNG74uhfOI",
        "outputId": "995618f8-fbdb-463a-a835-35e1627407ae"
      },
      "execution_count": 30,
      "outputs": [
        {
          "output_type": "execute_result",
          "data": {
            "text/plain": [
              "X7\n",
              " 0.0    15728\n",
              "-1.0     6047\n",
              " 2.0     3927\n",
              "-2.0     3782\n",
              " 3.0      326\n",
              " 4.0       99\n",
              " 1.0       28\n",
              " 5.0       25\n",
              " 7.0       20\n",
              " 6.0       12\n",
              " 8.0        1\n",
              "dtype: int64"
            ]
          },
          "metadata": {},
          "execution_count": 30
        }
      ]
    },
    {
      "cell_type": "code",
      "source": [
        "df[['X7']].plot.hist()"
      ],
      "metadata": {
        "colab": {
          "base_uri": "https://localhost:8080/",
          "height": 282
        },
        "id": "jmLie8ypPN6J",
        "outputId": "940cb8d0-ea11-44bf-ccd3-043ee540f56e"
      },
      "execution_count": 31,
      "outputs": [
        {
          "output_type": "execute_result",
          "data": {
            "text/plain": [
              "<matplotlib.axes._subplots.AxesSubplot at 0x7fa9679637d0>"
            ]
          },
          "metadata": {},
          "execution_count": 31
        },
        {
          "output_type": "display_data",
          "data": {
            "text/plain": [
              "<Figure size 432x288 with 1 Axes>"
            ],
            "image/png": "[encoded data removed]"
          },
          "metadata": {
            "needs_background": "light"
          }
        }
      ]
    },
    {
      "cell_type": "markdown",
      "source": [
        "La mayoría de los datos están concentrados en categorías fuera de la descripción de la variable"
      ],
      "metadata": {
        "id": "1QIVLKhIPfur"
      }
    },
    {
      "cell_type": "code",
      "source": [
        "df[['X8']].groupby('X8').size().sort_values(ascending=False) ### observar valores más repetidos"
      ],
      "metadata": {
        "colab": {
          "base_uri": "https://localhost:8080/"
        },
        "id": "3zqs0CCVhfKE",
        "outputId": "6df6910c-175f-47e2-ee3b-2a9f7c5ab97a"
      },
      "execution_count": 32,
      "outputs": [
        {
          "output_type": "execute_result",
          "data": {
            "text/plain": [
              "X8\n",
              " 0.0    15761\n",
              "-1.0     5935\n",
              "-2.0     4085\n",
              " 2.0     3819\n",
              " 3.0      240\n",
              " 4.0       76\n",
              " 7.0       27\n",
              " 6.0       23\n",
              " 5.0       21\n",
              " 1.0        4\n",
              " 8.0        2\n",
              "dtype: int64"
            ]
          },
          "metadata": {},
          "execution_count": 32
        }
      ]
    },
    {
      "cell_type": "code",
      "source": [
        "df[['X8']].plot.hist()"
      ],
      "metadata": {
        "colab": {
          "base_uri": "https://localhost:8080/",
          "height": 282
        },
        "id": "dF6ogPZXPigb",
        "outputId": "31e4c50c-2e3a-4a9f-f307-1473864a5ba4"
      },
      "execution_count": 33,
      "outputs": [
        {
          "output_type": "execute_result",
          "data": {
            "text/plain": [
              "<matplotlib.axes._subplots.AxesSubplot at 0x7fa9678d73d0>"
            ]
          },
          "metadata": {},
          "execution_count": 33
        },
        {
          "output_type": "display_data",
          "data": {
            "text/plain": [
              "<Figure size 432x288 with 1 Axes>"
            ],
            "image/png": "[encoded data removed]"
          },
          "metadata": {
            "needs_background": "light"
          }
        }
      ]
    },
    {
      "cell_type": "markdown",
      "source": [
        "La mayoría de los datos están concentrados en categorías fuera de la descripción de la variable"
      ],
      "metadata": {
        "id": "nNN3NJRSPhHM"
      }
    },
    {
      "cell_type": "code",
      "source": [
        "df[['X9']].groupby('X9').size().sort_values(ascending=False) ### observar valores más repetidos"
      ],
      "metadata": {
        "colab": {
          "base_uri": "https://localhost:8080/"
        },
        "id": "2Ezir7PdhfGT",
        "outputId": "f0853ffe-17f6-4b7e-e4c6-2b6d7010820a"
      },
      "execution_count": 34,
      "outputs": [
        {
          "output_type": "execute_result",
          "data": {
            "text/plain": [
              "X9\n",
              " 0.0    16450\n",
              "-1.0     5685\n",
              "-2.0     4348\n",
              " 2.0     3157\n",
              " 3.0      180\n",
              " 4.0       69\n",
              " 7.0       58\n",
              " 5.0       35\n",
              " 6.0        5\n",
              " 1.0        2\n",
              " 8.0        2\n",
              "dtype: int64"
            ]
          },
          "metadata": {},
          "execution_count": 34
        }
      ]
    },
    {
      "cell_type": "code",
      "source": [
        "df[['X9']].plot.hist()"
      ],
      "metadata": {
        "colab": {
          "base_uri": "https://localhost:8080/",
          "height": 282
        },
        "id": "vLUe1VrlPml8",
        "outputId": "59ddfd29-6f26-4642-bf44-300ef05b61a6"
      },
      "execution_count": 35,
      "outputs": [
        {
          "output_type": "execute_result",
          "data": {
            "text/plain": [
              "<matplotlib.axes._subplots.AxesSubplot at 0x7fa96787b810>"
            ]
          },
          "metadata": {},
          "execution_count": 35
        },
        {
          "output_type": "display_data",
          "data": {
            "text/plain": [
              "<Figure size 432x288 with 1 Axes>"
            ],
            "image/png": "[encoded data removed]"
          },
          "metadata": {
            "needs_background": "light"
          }
        }
      ]
    },
    {
      "cell_type": "markdown",
      "source": [
        "La mayoría de los datos están concentrados en categorías fuera de la descripción de la variable"
      ],
      "metadata": {
        "id": "RKRwVCzIPosR"
      }
    },
    {
      "cell_type": "code",
      "source": [
        "df[['X10']].groupby('X10').size().sort_values(ascending=False) ### observar valores más repetidos"
      ],
      "metadata": {
        "colab": {
          "base_uri": "https://localhost:8080/"
        },
        "id": "ezJB5K-1he-v",
        "outputId": "3d3a1197-7538-438b-cbff-ad11f39d79db"
      },
      "execution_count": 36,
      "outputs": [
        {
          "output_type": "execute_result",
          "data": {
            "text/plain": [
              "X10\n",
              " 0.0    16937\n",
              "-1.0     5535\n",
              "-2.0     4546\n",
              " 2.0     2624\n",
              " 3.0      178\n",
              " 4.0       84\n",
              " 7.0       58\n",
              " 5.0       17\n",
              " 6.0        4\n",
              " 8.0        1\n",
              "dtype: int64"
            ]
          },
          "metadata": {},
          "execution_count": 36
        }
      ]
    },
    {
      "cell_type": "code",
      "source": [
        "df[['X10']].plot.hist()"
      ],
      "metadata": {
        "colab": {
          "base_uri": "https://localhost:8080/",
          "height": 282
        },
        "id": "DWu4uWDcPqEy",
        "outputId": "f6d38be7-8b50-4d3a-fd75-2103dc6e0b79"
      },
      "execution_count": 37,
      "outputs": [
        {
          "output_type": "execute_result",
          "data": {
            "text/plain": [
              "<matplotlib.axes._subplots.AxesSubplot at 0x7fa9678893d0>"
            ]
          },
          "metadata": {},
          "execution_count": 37
        },
        {
          "output_type": "display_data",
          "data": {
            "text/plain": [
              "<Figure size 432x288 with 1 Axes>"
            ],
            "image/png": "[encoded data removed]"
          },
          "metadata": {
            "needs_background": "light"
          }
        }
      ]
    },
    {
      "cell_type": "markdown",
      "source": [
        "La mayoría de los datos están concentrados en categorías fuera de la descripción de la variable"
      ],
      "metadata": {
        "id": "rqsI5TQkPsmV"
      }
    },
    {
      "cell_type": "code",
      "source": [
        "df[['X11']].groupby('X11').size().sort_values(ascending=False) ### observar valores más repetidos"
      ],
      "metadata": {
        "colab": {
          "base_uri": "https://localhost:8080/"
        },
        "id": "Vn-OyEzThe55",
        "outputId": "d1b4beb6-9317-4d17-b108-060ed37e4ade"
      },
      "execution_count": 38,
      "outputs": [
        {
          "output_type": "execute_result",
          "data": {
            "text/plain": [
              "X11\n",
              " 0.0    16278\n",
              "-1.0     5735\n",
              "-2.0     4895\n",
              " 2.0     2765\n",
              " 3.0      184\n",
              " 4.0       49\n",
              " 7.0       46\n",
              " 6.0       19\n",
              " 5.0       13\n",
              " 8.0        2\n",
              "dtype: int64"
            ]
          },
          "metadata": {},
          "execution_count": 38
        }
      ]
    },
    {
      "cell_type": "code",
      "source": [
        "df[['X11']].plot.hist()"
      ],
      "metadata": {
        "colab": {
          "base_uri": "https://localhost:8080/",
          "height": 282
        },
        "id": "-iAwfj7XPuLr",
        "outputId": "68a3c891-2590-4bd1-8b50-e0d5c3a704d3"
      },
      "execution_count": 39,
      "outputs": [
        {
          "output_type": "execute_result",
          "data": {
            "text/plain": [
              "<matplotlib.axes._subplots.AxesSubplot at 0x7fa96771f350>"
            ]
          },
          "metadata": {},
          "execution_count": 39
        },
        {
          "output_type": "display_data",
          "data": {
            "text/plain": [
              "<Figure size 432x288 with 1 Axes>"
            ],
            "image/png": "[encoded data removed]"
          },
          "metadata": {
            "needs_background": "light"
          }
        }
      ]
    },
    {
      "cell_type": "markdown",
      "source": [
        "La mayoría de los datos están concentrados en categorías fuera de la descripción de la variable"
      ],
      "metadata": {
        "id": "bfj1B5sMPwpm"
      }
    },
    {
      "cell_type": "markdown",
      "source": [
        "Con lo anterior, observamos que existen categóricas (0,-2) no incluidas en la \n",
        "definición. Por el contexto del problema se interpretan como status corriente en pagos. \n",
        "\n",
        "Entonces se asigna el valor de -1\n"
      ],
      "metadata": {
        "id": "DememMAihewF"
      }
    },
    {
      "cell_type": "code",
      "source": [
        "df['X6'] = np.where((df['X6']==0) | (df['X6']==-2),-1,df['X6'])\n",
        "df['X7'] = np.where((df['X7']==0) | (df['X7']==-2),-1,df['X7'])\n",
        "df['X8'] = np.where((df['X8']==0) | (df['X8']==-2),-1,df['X8'])\n",
        "df['X9'] = np.where((df['X9']==0) | (df['X9']==-2),-1,df['X9'])\n",
        "df['X10'] = np.where((df['X10']==0) | (df['X10']==-2),-1,df['X10'])\n",
        "df['X11'] = np.where((df['X11']==0) | (df['X11']==-2),-1,df['X11'])"
      ],
      "metadata": {
        "id": "5EtoQYcXK3Kb"
      },
      "execution_count": 40,
      "outputs": []
    },
    {
      "cell_type": "markdown",
      "source": [
        "Por las definiciones anteriores, donde la variable te habla sobre el estatus de pago en dicho mes, si existe un missing value, se asigna el valor del mes anterior observado como mejor aproximación del valor faltante"
      ],
      "metadata": {
        "id": "stx7yLwdjqs5"
      }
    },
    {
      "cell_type": "code",
      "source": [
        "df['X10'] = np.where(df['X10'].isna(),df['X11'],df['X10']) ## Si no existe información de Mayo, se utiliza la de Abril\n",
        "df['X9'] = np.where(df['X9'].isna(),df['X10'],df['X9']) ## Si no existe información de Junio, se utiliza la de Mayo\n",
        "df['X8'] = np.where(df['X8'].isna(),df['X9'],df['X8']) ## Si no existe información de Julio, se utiliza la de Junio\n",
        "df['X7'] = np.where(df['X7'].isna(),df['X8'],df['X7']) ## Si no existe información de Agosto, se utiliza la de Julio\n",
        "df['X6'] = np.where(df['X6'].isna(),df['X7'],df['X6']) ## Si no existe información de Septiembre, se utiliza la de Agosto"
      ],
      "metadata": {
        "id": "Nv-bh8hojvo5"
      },
      "execution_count": 41,
      "outputs": []
    },
    {
      "cell_type": "code",
      "source": [
        "### Observar valores nulos por columna de las columnas que estams analizando\n",
        "for i in df[['X6','X7','X8','X9','X10','X11']].columns: \n",
        "  print('Columna ' + str(i) + ' tiene ' +  str(df[i].isna().sum()) +' valores nulos, que representa ' + str(round((df[i].isna().sum()/df[i].count())*100,2)) +'% del total' )"
      ],
      "metadata": {
        "colab": {
          "base_uri": "https://localhost:8080/"
        },
        "id": "J_XsUBTWkYrw",
        "outputId": "1175c0e0-499a-4b66-e091-93f45e15f51f"
      },
      "execution_count": 42,
      "outputs": [
        {
          "output_type": "stream",
          "name": "stdout",
          "text": [
            "Columna X6 tiene 3 valores nulos, que representa 0.01% del total\n",
            "Columna X7 tiene 5 valores nulos, que representa 0.02% del total\n",
            "Columna X8 tiene 5 valores nulos, que representa 0.02% del total\n",
            "Columna X9 tiene 5 valores nulos, que representa 0.02% del total\n",
            "Columna X10 tiene 14 valores nulos, que representa 0.05% del total\n",
            "Columna X11 tiene 14 valores nulos, que representa 0.05% del total\n"
          ]
        }
      ]
    },
    {
      "cell_type": "markdown",
      "source": [
        "Aún siguen existiendo missing values en las columnas seleccionadas, por lo que se decide asignar una nueva categoría (0) para aquellos que después del tratamiento sigan presentando missing values. \n",
        "\n",
        "Se decide una nueva categoría porque a la hora de que nuestro modelo enfrente datos desconocidos, es muy posible que siga afrotando valores faltantes."
      ],
      "metadata": {
        "id": "DbFY4hhuJVMn"
      }
    },
    {
      "cell_type": "code",
      "source": [
        "df['X6'] = np.where(df['X6'].isna(),0,df['X6'])\n",
        "df['X7'] = np.where(df['X7'].isna(),0,df['X7'])\n",
        "df['X8'] = np.where(df['X8'].isna(),0,df['X8'])\n",
        "df['X9'] = np.where(df['X9'].isna(),0,df['X9'])\n",
        "df['X10'] = np.where(df['X10'].isna(),0,df['X10'])\n",
        "df['X11'] = np.where(df['X11'].isna(),0,df['X11'])"
      ],
      "metadata": {
        "id": "FCDjRtxkL62J"
      },
      "execution_count": 43,
      "outputs": []
    },
    {
      "cell_type": "code",
      "source": [
        "## Evaluación de valores nulos por columna actual\n",
        "for i in df[['X6','X7','X8','X9','X10','X11']].columns: \n",
        "  print('Columna ' + str(i) + ' tiene ' +  str(df[i].isna().sum()) +' valores nulos, que representa ' + str(round((df[i].isna().sum()/df[i].count())*100,2)) +'% del total' )"
      ],
      "metadata": {
        "colab": {
          "base_uri": "https://localhost:8080/"
        },
        "id": "Duqxtjh2NAiY",
        "outputId": "8e0128c9-0b5d-4a13-9f77-61ff9c3fed7e"
      },
      "execution_count": 44,
      "outputs": [
        {
          "output_type": "stream",
          "name": "stdout",
          "text": [
            "Columna X6 tiene 0 valores nulos, que representa 0.0% del total\n",
            "Columna X7 tiene 0 valores nulos, que representa 0.0% del total\n",
            "Columna X8 tiene 0 valores nulos, que representa 0.0% del total\n",
            "Columna X9 tiene 0 valores nulos, que representa 0.0% del total\n",
            "Columna X10 tiene 0 valores nulos, que representa 0.0% del total\n",
            "Columna X11 tiene 0 valores nulos, que representa 0.0% del total\n"
          ]
        }
      ]
    },
    {
      "cell_type": "markdown",
      "source": [
        "###### **Columnas X12 a X17 -- Cantidad adeudada por mes**"
      ],
      "metadata": {
        "id": "hWK5JEJHNDKM"
      }
    },
    {
      "cell_type": "markdown",
      "source": [
        "Variables sobre la cantidad adeuda por mes. \n",
        "\n",
        "Donde X12 = Cantidad adeudada a Sep 2005, X13= Cantidad adeudada a Ago 2005, ..., X17= Cantidad adeudada a Abr 2005. "
      ],
      "metadata": {
        "id": "Diz8QP-mNDGi"
      }
    },
    {
      "cell_type": "markdown",
      "source": [
        "Del descriptivo inicial, observamos que existen valores negativos en el set de variables. \n",
        "\n",
        "Es por esto que se decide asignar a (-1) con la finalidad de disminuir la variabilidad de la muestra, e identificar todos los registros con dicho problema."
      ],
      "metadata": {
        "id": "HmkSAeCERk-M"
      }
    },
    {
      "cell_type": "code",
      "source": [
        "## Asignación de valor (-1) a valores negativos. \n",
        "df['X12'] =  np.where(df['X12']<-1, -1, df['X12'])\n",
        "df['X13'] =  np.where(df['X13']<-1, -1, df['X13'])\n",
        "df['X14'] =  np.where(df['X14']<-1, -1, df['X14'])\n",
        "df['X15'] =  np.where(df['X15']<-1, -1, df['X15'])\n",
        "df['X16'] =  np.where(df['X16']<-1, -1, df['X16'])\n",
        "df['X17'] =  np.where(df['X17']<-1, -1, df['X17'])"
      ],
      "metadata": {
        "id": "DuqOuRC-RkJT"
      },
      "execution_count": 45,
      "outputs": []
    },
    {
      "cell_type": "markdown",
      "source": [
        "El tratamiento de missing values será asignar el promedio de saldos (cantidad adeuda por mes) de los meses observables entre Abril 2005 a Septiembre 2005, porque en ese periodo el cliente pudo presentar varaibilidad del monto de deuda, si contemplamos solo el máximo, mínimo o anterior, podríamos sesgar el comportamiento de la persona a uno no observable. \n",
        "\n",
        "Finalmente, el promedio propuesto es por cliente y no por toda la población. \n",
        "\n"
      ],
      "metadata": {
        "id": "q7rA5pVaNDCp"
      }
    },
    {
      "cell_type": "code",
      "source": [
        "## Asignación de valor para tratamiento de missing values por el promedio observado de la persona de la misma variable en todos los meses\n",
        "df['X12'] =  np.where(df['X12'].isna(), df.loc[:, ['X12','X13','X14','X15','X16','X17']].mean(axis = 1), df['X12'])\n",
        "df['X13'] =  np.where(df['X13'].isna(), df.loc[:, ['X12','X13','X14','X15','X16','X17']].mean(axis = 1), df['X13'])\n",
        "df['X14'] =  np.where(df['X14'].isna(), df.loc[:, ['X12','X13','X14','X15','X16','X17']].mean(axis = 1), df['X14'])\n",
        "df['X15'] =  np.where(df['X15'].isna(), df.loc[:, ['X12','X13','X14','X15','X16','X17']].mean(axis = 1), df['X15'])\n",
        "df['X16'] =  np.where(df['X16'].isna(), df.loc[:, ['X12','X13','X14','X15','X16','X17']].mean(axis = 1), df['X16'])\n",
        "df['X17'] =  np.where(df['X17'].isna(), df.loc[:, ['X12','X13','X14','X15','X16','X17']].mean(axis = 1), df['X17'])"
      ],
      "metadata": {
        "id": "rxwazeRJNC-s"
      },
      "execution_count": 46,
      "outputs": []
    },
    {
      "cell_type": "code",
      "source": [
        "## Valores nulos por columna de las variables tratadas en esta sección\n",
        "for i in df[['X12','X13','X14','X15','X16','X17']].columns: \n",
        "  print('Columna ' + str(i) + ' tiene ' +  str(df[i].isna().sum()) +' valores nulos, que representa ' + str(round((df[i].isna().sum()/df[i].count())*100,2)) +'% del total' )"
      ],
      "metadata": {
        "colab": {
          "base_uri": "https://localhost:8080/"
        },
        "id": "ZNoM33_LNC62",
        "outputId": "b931c297-0037-426f-9e94-9653d3988ffe"
      },
      "execution_count": 47,
      "outputs": [
        {
          "output_type": "stream",
          "name": "stdout",
          "text": [
            "Columna X12 tiene 8 valores nulos, que representa 0.03% del total\n",
            "Columna X13 tiene 8 valores nulos, que representa 0.03% del total\n",
            "Columna X14 tiene 8 valores nulos, que representa 0.03% del total\n",
            "Columna X15 tiene 8 valores nulos, que representa 0.03% del total\n",
            "Columna X16 tiene 8 valores nulos, que representa 0.03% del total\n",
            "Columna X17 tiene 8 valores nulos, que representa 0.03% del total\n"
          ]
        }
      ]
    },
    {
      "cell_type": "markdown",
      "source": [
        "Observamos que siguen existiendo valores nulos, y esto puede seguir sucediendo cuando el modelo se enfrente a data no conocida con missing values. \n",
        "\n",
        "Se decide asignar el valor de la mediana a los datos faltantes de cada periodo. Elegí la mediana en lugar de la media porque al ser saldos puede haber un mal reporte u outliers que suban el promedio fuera de una respuesta real. "
      ],
      "metadata": {
        "id": "g-IYjuhGNCzb"
      }
    },
    {
      "cell_type": "code",
      "source": [
        "## Asignación de valores para tratamiento de missing values\n",
        "valor12 = df['X12'].median()\n",
        "valor13 = df['X13'].median()\n",
        "valor14 = df['X14'].median()\n",
        "valor15 = df['X15'].median()\n",
        "valor16 = df['X16'].median()\n",
        "valor17 = df['X17'].median()"
      ],
      "metadata": {
        "id": "M7d0UtklNCvc"
      },
      "execution_count": 48,
      "outputs": []
    },
    {
      "cell_type": "code",
      "source": [
        "## Asignación de valores\n",
        "df['X12'] = np.where(df['X12'].isna(),valor12,df['X12'])\n",
        "df['X13'] = np.where(df['X13'].isna(),valor13,df['X13'])\n",
        "df['X14'] = np.where(df['X14'].isna(),valor14,df['X14'])\n",
        "df['X15'] = np.where(df['X15'].isna(),valor15,df['X15'])\n",
        "df['X16'] = np.where(df['X16'].isna(),valor16,df['X16'])\n",
        "df['X17'] = np.where(df['X17'].isna(),valor17,df['X17'])"
      ],
      "metadata": {
        "id": "NU071m0ANCrw"
      },
      "execution_count": 49,
      "outputs": []
    },
    {
      "cell_type": "markdown",
      "source": [
        "###### **Columnas X18 a X23 -- Cantidad pagada por mes**"
      ],
      "metadata": {
        "id": "Zv0dqtZwNCoU"
      }
    },
    {
      "cell_type": "markdown",
      "source": [
        "Variables sobre la cantidad pagada por mes. \n",
        "\n",
        "Donde X12 = Cantidad pagada a Sep 2005, X13= Cantidad pagada a Ago 2005, ..., X17= Cantidad pagada a Abr 2005. "
      ],
      "metadata": {
        "id": "KM9ZI-xjNCkw"
      }
    },
    {
      "cell_type": "markdown",
      "source": [
        "Con el descriptivo inicial, notamos que no existen valores negativos por lo que no es necesario realizar alguna transformación."
      ],
      "metadata": {
        "id": "q9cGqNQWSRQk"
      }
    },
    {
      "cell_type": "markdown",
      "source": [
        "El tratamiento de missing values será asignar el promedio de pagos (cantidad pagada por mes) de los meses observables entre Abril 2005 a Septiembre 2005 de la persona, porque en ese periodo el cliente pudo presentar variabilidad del monto de pago, si contemplamos solo el máximo, mínimo o anterior, podríamos sesgar el comportamiento de la persona a uno no observable. \n",
        "\n",
        "Finalmente, el promedio propuesto es por cliente y no por toda la población. \n"
      ],
      "metadata": {
        "id": "waqB_8KsNCeh"
      }
    },
    {
      "cell_type": "code",
      "source": [
        "## Asignación de valor para tratamiento de missing values por el promedio observado de la persona de la misma variable en todos los meses\n",
        "df['X18'] =  np.where(df['X18'].isna(), df.loc[:, ['X18','X19','X20','X21','X22','X23']].mean(axis = 1), df['X18'])\n",
        "df['X19'] =  np.where(df['X19'].isna(), df.loc[:, ['X18','X19','X20','X21','X22','X23']].mean(axis = 1), df['X19'])\n",
        "df['X20'] =  np.where(df['X20'].isna(), df.loc[:, ['X18','X19','X20','X21','X22','X23']].mean(axis = 1), df['X20'])\n",
        "df['X21'] =  np.where(df['X21'].isna(), df.loc[:, ['X18','X19','X20','X21','X22','X23']].mean(axis = 1), df['X21'])\n",
        "df['X22'] =  np.where(df['X22'].isna(), df.loc[:, ['X18','X19','X20','X21','X22','X23']].mean(axis = 1), df['X22'])\n",
        "df['X23'] =  np.where(df['X23'].isna(), df.loc[:, ['X18','X19','X20','X21','X22','X23']].mean(axis = 1), df['X23'])"
      ],
      "metadata": {
        "id": "MQs9R4L5TSXU"
      },
      "execution_count": 50,
      "outputs": []
    },
    {
      "cell_type": "code",
      "source": [
        "## Valores nulos por columna\n",
        "for i in df[['X18','X19','X20','X21','X22','X23']].columns: \n",
        "  print('Columna ' + str(i) + ' tiene ' +  str(df[i].isna().sum()) +' valores nulos, que representa ' + str(round((df[i].isna().sum()/df[i].count())*100,2)) +'% del total' )"
      ],
      "metadata": {
        "colab": {
          "base_uri": "https://localhost:8080/"
        },
        "id": "ec_s6fnqTSTl",
        "outputId": "e1f91069-cec5-4a16-af5c-1329d5e309fb"
      },
      "execution_count": 51,
      "outputs": [
        {
          "output_type": "stream",
          "name": "stdout",
          "text": [
            "Columna X18 tiene 3 valores nulos, que representa 0.01% del total\n",
            "Columna X19 tiene 3 valores nulos, que representa 0.01% del total\n",
            "Columna X20 tiene 3 valores nulos, que representa 0.01% del total\n",
            "Columna X21 tiene 3 valores nulos, que representa 0.01% del total\n",
            "Columna X22 tiene 3 valores nulos, que representa 0.01% del total\n",
            "Columna X23 tiene 3 valores nulos, que representa 0.01% del total\n"
          ]
        }
      ]
    },
    {
      "cell_type": "markdown",
      "source": [
        "Observamos que siguen existiendo valores nulos, y esto puede seguir sucediendo cuando el modelo se enfrente a data no conocida con missing values. \n",
        "\n",
        "Dado que solo se observan 3 datos nulos, se decide asignar el valor de la media a los datos faltantes de cada periodo como mejor aproximación dada su simplicidad."
      ],
      "metadata": {
        "id": "v5YoAFJ5TSP8"
      }
    },
    {
      "cell_type": "code",
      "source": [
        "## Valor para ser asignado a missing values\n",
        "valor18 = df['X18'].mean()\n",
        "valor19 = df['X19'].mean()\n",
        "valor20 = df['X20'].mean()\n",
        "valor21 = df['X21'].mean()\n",
        "valor22 = df['X22'].mean()\n",
        "valor23 = df['X23'].mean()"
      ],
      "metadata": {
        "id": "5a0CKLG_TSMX"
      },
      "execution_count": 52,
      "outputs": []
    },
    {
      "cell_type": "code",
      "source": [
        "## Asignación de valor a missing values\n",
        "df['X18'] = np.where(df['X18'].isna(),valor18,df['X18'])\n",
        "df['X19'] = np.where(df['X19'].isna(),valor19,df['X19'])\n",
        "df['X20'] = np.where(df['X20'].isna(),valor20,df['X20'])\n",
        "df['X21'] = np.where(df['X21'].isna(),valor21,df['X21'])\n",
        "df['X22'] = np.where(df['X22'].isna(),valor22,df['X22'])\n",
        "df['X23'] = np.where(df['X23'].isna(),valor23,df['X23'])"
      ],
      "metadata": {
        "id": "XFmzN4jgTSIf"
      },
      "execution_count": 53,
      "outputs": []
    },
    {
      "cell_type": "markdown",
      "source": [
        "###### **Columna Y -- Flag de comportamiento**"
      ],
      "metadata": {
        "id": "Uo0jVBkGTSFY"
      }
    },
    {
      "cell_type": "markdown",
      "source": [
        "Se entiende que la variable Y al sólo tomar los valores 0 y 1 se toma como la clasificación de comportamiento de default para entrenar el modelo.\n",
        "\n",
        "Sólo se tienen 3 valores nulos. \n",
        "Se decide quitar por completo dichos registros, ya que no sería pertinente asignar un comportamiento sin conocer el resultado, y sesgar la relación de las variables que si observamos."
      ],
      "metadata": {
        "id": "dG-v5GigTSAA"
      }
    },
    {
      "cell_type": "code",
      "source": [
        "## Filtrar por sólo registros no nulos en variables \"Y\"\n",
        "df = df[df['Y'].notna()]"
      ],
      "metadata": {
        "id": "noso8tdjVfZk"
      },
      "execution_count": 54,
      "outputs": []
    },
    {
      "cell_type": "markdown",
      "source": [
        "Adicionalmente se transforma el tipo de dato de float a int para su uso en la solución de un problema de clasificación."
      ],
      "metadata": {
        "id": "TrS4OQFj9Xg2"
      }
    },
    {
      "cell_type": "code",
      "source": [
        "## cambiar el tipo de dato\n",
        "df['Y'] = df['Y'].astype(int)"
      ],
      "metadata": {
        "id": "Yums1rSo9f9r"
      },
      "execution_count": 55,
      "outputs": []
    },
    {
      "cell_type": "markdown",
      "source": [
        "**Resultado de datos faltantes en la muestra**"
      ],
      "metadata": {
        "id": "nXIK1n2oZPV7"
      }
    },
    {
      "cell_type": "code",
      "source": [
        "## Valores nulos por columna\n",
        "for i in df.columns: \n",
        "  print('Columna ' + str(i) + ' tiene ' +  str(df[i].isna().sum()) +' valores nulos, que representa ' + str(round((df[i].isna().sum()/df[i].count())*100,2)) +'% del total' )"
      ],
      "metadata": {
        "colab": {
          "base_uri": "https://localhost:8080/"
        },
        "id": "YJqeX9NYZTCl",
        "outputId": "d86298d0-15b0-48b0-e934-bd740f41a9fc"
      },
      "execution_count": 56,
      "outputs": [
        {
          "output_type": "stream",
          "name": "stdout",
          "text": [
            "Columna ID tiene 0 valores nulos, que representa 0.0% del total\n",
            "Columna X1 tiene 0 valores nulos, que representa 0.0% del total\n",
            "Columna X2 tiene 0 valores nulos, que representa 0.0% del total\n",
            "Columna X3 tiene 0 valores nulos, que representa 0.0% del total\n",
            "Columna X4 tiene 0 valores nulos, que representa 0.0% del total\n",
            "Columna X5 tiene 0 valores nulos, que representa 0.0% del total\n",
            "Columna X6 tiene 0 valores nulos, que representa 0.0% del total\n",
            "Columna X7 tiene 0 valores nulos, que representa 0.0% del total\n",
            "Columna X8 tiene 0 valores nulos, que representa 0.0% del total\n",
            "Columna X9 tiene 0 valores nulos, que representa 0.0% del total\n",
            "Columna X10 tiene 0 valores nulos, que representa 0.0% del total\n",
            "Columna X11 tiene 0 valores nulos, que representa 0.0% del total\n",
            "Columna X12 tiene 0 valores nulos, que representa 0.0% del total\n",
            "Columna X13 tiene 0 valores nulos, que representa 0.0% del total\n",
            "Columna X14 tiene 0 valores nulos, que representa 0.0% del total\n",
            "Columna X15 tiene 0 valores nulos, que representa 0.0% del total\n",
            "Columna X16 tiene 0 valores nulos, que representa 0.0% del total\n",
            "Columna X17 tiene 0 valores nulos, que representa 0.0% del total\n",
            "Columna X18 tiene 0 valores nulos, que representa 0.0% del total\n",
            "Columna X19 tiene 0 valores nulos, que representa 0.0% del total\n",
            "Columna X20 tiene 0 valores nulos, que representa 0.0% del total\n",
            "Columna X21 tiene 0 valores nulos, que representa 0.0% del total\n",
            "Columna X22 tiene 0 valores nulos, que representa 0.0% del total\n",
            "Columna X23 tiene 0 valores nulos, que representa 0.0% del total\n",
            "Columna Y tiene 0 valores nulos, que representa 0.0% del total\n"
          ]
        }
      ]
    },
    {
      "cell_type": "markdown",
      "source": [
        "**Nuevo tamaño del dataframe**"
      ],
      "metadata": {
        "id": "u7W9cJuwZUC8"
      }
    },
    {
      "cell_type": "code",
      "source": [
        "df.shape # Tamaño del dataframe"
      ],
      "metadata": {
        "colab": {
          "base_uri": "https://localhost:8080/"
        },
        "id": "d1Ti6LjBZX2I",
        "outputId": "d6f8c789-319b-4d5b-cdd6-a7b3890ea305"
      },
      "execution_count": 57,
      "outputs": [
        {
          "output_type": "execute_result",
          "data": {
            "text/plain": [
              "(29997, 25)"
            ]
          },
          "metadata": {},
          "execution_count": 57
        }
      ]
    },
    {
      "cell_type": "code",
      "source": [
        "## Se nota la falta de los últimos 3 registros eliminados por no tener bandera de comportamiento"
      ],
      "metadata": {
        "id": "bBxHN5d_Zc9A"
      },
      "execution_count": 58,
      "outputs": []
    },
    {
      "cell_type": "markdown",
      "source": [
        "**Sugerencia:** Dependiendo del algoritmo a usar se decidirá si es pertinente hacer transformaciones de las variables, o realizar tratamientos extras para outliers. \n",
        "Esto depende del algoritmo a usar debido a que aquellos como Regresión Logística, si se ven afectado por la distribución o por outliers. Sin embargo, algoritmos como ensambles de árboles no se verían afectados. \n",
        "No se realiza mayor investigación al momento porque sale del propósito de dicha práctica."
      ],
      "metadata": {
        "id": "cPeVzWi5Vsoc"
      }
    },
    {
      "cell_type": "markdown",
      "source": [
        "### **Asignación de nombre a variables**"
      ],
      "metadata": {
        "id": "djFoDTTzL8jS"
      }
    },
    {
      "cell_type": "code",
      "source": [
        "df.columns = ['ID','CreditAmount','Gender','Education','MaritalStatus','Age','Status_Sep','Status_Ago','Status_Jul','Status_Jun','Status_May','Status_Abr','Saldo_Sep','Saldo_Ago','Saldo_Jul','Saldo_Jun','Saldo_May','Saldo_Abr','Pagos_Sep','Pagos_Ago','Pagos_Jul','Pagos_Jun','Pagos_May','Pagos_Abr','Y']"
      ],
      "metadata": {
        "id": "uFfqpWpsMIdK"
      },
      "execution_count": 59,
      "outputs": []
    },
    {
      "cell_type": "code",
      "source": [
        "for i in df.columns: print(i)"
      ],
      "metadata": {
        "colab": {
          "base_uri": "https://localhost:8080/"
        },
        "id": "bO2VHMKUMD0t",
        "outputId": "a0e23b5e-6622-4e28-923c-e653e4396464"
      },
      "execution_count": 60,
      "outputs": [
        {
          "output_type": "stream",
          "name": "stdout",
          "text": [
            "ID\n",
            "CreditAmount\n",
            "Gender\n",
            "Education\n",
            "MaritalStatus\n",
            "Age\n",
            "Status_Sep\n",
            "Status_Ago\n",
            "Status_Jul\n",
            "Status_Jun\n",
            "Status_May\n",
            "Status_Abr\n",
            "Saldo_Sep\n",
            "Saldo_Ago\n",
            "Saldo_Jul\n",
            "Saldo_Jun\n",
            "Saldo_May\n",
            "Saldo_Abr\n",
            "Pagos_Sep\n",
            "Pagos_Ago\n",
            "Pagos_Jul\n",
            "Pagos_Jun\n",
            "Pagos_May\n",
            "Pagos_Abr\n",
            "Y\n"
          ]
        }
      ]
    },
    {
      "cell_type": "markdown",
      "source": [
        "## **Parte 3: Preparación de los datos**"
      ],
      "metadata": {
        "id": "GsFkBJoMVsgm"
      }
    },
    {
      "cell_type": "markdown",
      "source": [
        "Respuesta a las preguntas planteadas"
      ],
      "metadata": {
        "id": "awXox1mFVsdP"
      }
    },
    {
      "cell_type": "markdown",
      "source": [
        "1. ¿Qué datos considero mas importantes? ¿Por qué?\n",
        "\n",
        "Considero que los datos más importantes son aquellos que te hablan sobre las características del crédito, y su comportamiento en el tiempo. Es decir, las variables sobre monto de crédito, saldo en últimos meses, estatus y monto de pago en los periodos anteriores. \n",
        "Las considero más importantes sobre las otras variables sociodemográficas ya que están relacionadas directamente con el propósito del modelo, que es medir la probabilidad de default de una persona en el ambiente crediticio. Por otro lado, dependiendo de cómo se quiera utilizar el modelo, las variables sociodemográficas pueden ayudar a segmentar a la población, y crear modelos más precisos por segmento. Dentro de esto, es importante resaltar la edad de la persona, ya que de esta depende la etapa de vida del cliente, el ingreso, y con ello adquirir mayor responsabilidad crediticia.\n",
        "\n",
        "\n",
        "2. ¿Se eliminaron o reemplazaron datos nulos? ¿Qué se hizo y por qué?\n",
        "\n",
        "Se reemplazaron los valores nulos dependiendo del tipo de datos y la información que quiere transmitir. A modo de resumen expongo que, para las variables categóricas como género o nivel de educación se asignó la moda como criterio de limpieza. Por otro lado, la variable histórica del estatus de pago, se decidió asignar el último estatus observado, por ejemplo si no se tiene el dato de Septiembre se asigna el observado de Agosto, y así sucesivamente. De continuar con valores nulos en dicha variable, se asignó el valor “cero” con el fin de identificar los datos sin registro en dichas variables, y que funcione como tratamiento cuando el modelo se encuentre con información no conocida (test).\n",
        "Para los datos que tenían valores con etiquetas distintas a las categorias por definición de la variable se hicieron ajustes por lo que se sobre escrbrio en categoría \"otros\" aquellos valores que se desconocía su tipo y pudo deberse a un error de la obtencion de la información.\n",
        "Por otro lado, las variables de histórico de Saldos y de Pago, se utilizó el promedio de la persona en los periodos observados, a forma de que el valor asignado esté dentro del rango de comportamiento de la persona. De seguir presentando valores nulos, se asignó la mediana de la población para dicha variable.\n",
        "Finalmente, se decidieron eliminar los registros con valores nulos en “Y” flag de comportamiento, ya que no se tenía una forma de asignar sin sesgar la relación de las variables. \n",
        "\n",
        "\n",
        "3. ¿Es necesario ordenar los datos para el análisis? Sí / No / ¿Por qué?\n",
        "\n",
        "No, pienso que lo necesario es conocer la variable en cuánto a la información que almacena y su distribución para entender qué tratamiento se le debe realizar. Más allá de ordenar la información, se trata de ir a fondo al entendimiento de la descripción de la variable en conjunto con lo observado, y de esta manera encontrar la mejor forma de utilizar los datos para que el modelo tenga el mejor desempeño. Sin embargo, lo más importante si es la limpieza de la información para tratar de detectar anomalías y garantizar la consistencia de los resultados obtenidos. \n",
        "\n",
        "\n",
        "4. ¿Existen problemas de formato que deban solucionar antes del proceso de modelado? Sí / No / Por qué.\n",
        "\n",
        "Sí existen problemas que debemos solucionar antes de proseguir con el modelado, tales como verificar que el monto de crédito otorgado contenga valores positivos, que los datos capturados para las variables de género, educación y estado civil concuerden con la definición original, la edad corresponda a mayores de 18 años y que el monto de la deuda, pagos anteriores e historial de pago no posean valores negativos porque se saldrían del contexto sobre el que son aplicados.\n",
        "Debía realizarse porque si los valores se salían de los estándares que en la misma descripción de las variables contemplaba simplemente eran datos inexistentes o inválidos en cuanto a su clasificación, lo cual, en el conjunto de datos sí sucedía y debía corregirse, además se debe incluir la excepción de manejo de datos que pudieran no tener el valor de la definición.\n",
        "\n",
        "\n",
        "5. ¿Qué ajustes se realizaron en el proceso de limpieza de datos (agregar, integrar, eliminar, modificar registros (filas), cambiar atributos (columnas)?\n",
        "\n",
        "Adicional a la limpieza de missing values expuesta, se encontró que en algunas variables categóricas como nivel de educación o estatus de pago en meses anteriores, se encontraban clasificaciones no descritas en las definiciones, donde se entiende habia un error de llenado, por lo que a dichas clasificaciones se les asignó un único nivel de “otros” para el caso de nivel de educación, y al corriente (-1) para el estatus de pago.\n",
        "Por otro lado,  la imputación media para preservar la distribución de los datos y no sacrificar su demás información al eliminarlos. Asimismo, se encontró que existían valores negativos en monto de deuda por lo que se les asignó el valor de -1 para disminuir su efecto y lograr identificarlos.\n",
        "Para la variable target \"y\" es muy importante no contar con datos faltantes ya que al ser sobre la que se entrenaría es muy importante contar con todas las etiquetas de buenos pagadores.\n"
      ],
      "metadata": {
        "id": "Kl7ngikcVsZP"
      }
    },
    {
      "cell_type": "code",
      "source": [],
      "metadata": {
        "id": "sKqbdOERU9Xp"
      },
      "execution_count": null,
      "outputs": []
    }
  ]
}