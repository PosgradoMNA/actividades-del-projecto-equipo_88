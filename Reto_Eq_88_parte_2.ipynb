{
  "nbformat": 4,
  "nbformat_minor": 0,
  "metadata": {
    "colab": {
      "provenance": [],
      "collapsed_sections": [],
      "authorship_tag": "ABX9TyOX65HyPcpBiCG0WcVaiHGN",
      "include_colab_link": true
    },
    "kernelspec": {
      "name": "python3",
      "display_name": "Python 3"
    },
    "language_info": {
      "name": "python"
    }
  },
  "cells": [
    {
      "cell_type": "markdown",
      "metadata": {
        "id": "view-in-github",
        "colab_type": "text"
      },
      "source": [
        "<a href=\"https://colab.research.google.com/github/PosgradoMNA/actividades-del-projecto-equipo_88/blob/main/Reto_Eq_88_parte_2.ipynb\" target=\"_parent\"><img src=\"https://colab.research.google.com/assets/colab-badge.svg\" alt=\"Open In Colab\"/></a>"
      ]
    },
    {
      "cell_type": "markdown",
      "source": [
        "#**Maestría en Inteligencia Artificial Aplicada**\n",
        "## *Ciencia y Analítica de Datos*\n",
        "\n",
        "### **Semana 9 Reto Parte 2**\n",
        "\n",
        "\n",
        "####**Curso: Ciencia y analítica de datos (Gpo 10)**\n",
        "\n",
        "####**13 de Noviembre de 2022**\n",
        "\n",
        "Equipo: 88\n",
        "\n",
        "Nombre del estudiante: \n",
        "\n",
        "\n",
        "***Dalina Aidee Villa Ocelotl (A01793258)***\n",
        "\n",
        "\n",
        "***Miguel Guillermo Galindo Orozco (A01793695)***\n"
      ],
      "metadata": {
        "id": "TBehHFynOHxJ"
      }
    },
    {
      "cell_type": "markdown",
      "source": [
        "# **Librerías a utilizar**"
      ],
      "metadata": {
        "id": "QRpo770eOVwX"
      }
    },
    {
      "cell_type": "code",
      "source": [
        "import pandas as pd\n",
        "import numpy as np\n",
        "import seaborn as sns\n",
        "\n",
        "from sklearn.preprocessing import OneHotEncoder\n",
        "from sklearn.pipeline import Pipeline\n",
        "from sklearn.compose import ColumnTransformer\n",
        "\n",
        "from sklearn.tree import DecisionTreeClassifier\n",
        "from sklearn.model_selection import cross_val_score, cross_validate, RepeatedStratifiedKFold\n",
        "from sklearn.model_selection import GridSearchCV\n",
        "from sklearn.ensemble import RandomForestClassifier\n",
        "from sklearn.linear_model import LogisticRegression\n",
        "\n",
        "from sklearn.metrics import accuracy_score\n",
        "from sklearn.metrics import classification_report\n",
        "\n",
        "from sklearn.metrics import precision_recall_curve\n",
        "import matplotlib.pyplot as plt\n",
        "from sklearn.preprocessing import label_binarize\n",
        "from sklearn.metrics import confusion_matrix\n",
        "from sklearn.multiclass import OneVsRestClassifier"
      ],
      "metadata": {
        "id": "-qb24h5ZOKyl"
      },
      "execution_count": 1,
      "outputs": []
    },
    {
      "cell_type": "markdown",
      "source": [
        "# **Lectura Data Limpia**"
      ],
      "metadata": {
        "id": "E-3UhNoBObhA"
      }
    },
    {
      "cell_type": "code",
      "source": [
        "df = pd.read_csv('/content/Datos_calidad_del_agua_subterranea_LIMPIOS.csv',encoding = \"ISO-8859-1\")\n",
        "print(df.shape)\n",
        "df.head()"
      ],
      "metadata": {
        "colab": {
          "base_uri": "https://localhost:8080/",
          "height": 438
        },
        "id": "78QuZvYROX-A",
        "outputId": "2db5882f-2ebf-49c2-eadf-e661d5a5d2e9"
      },
      "execution_count": 2,
      "outputs": [
        {
          "output_type": "stream",
          "name": "stdout",
          "text": [
            "(1068, 56)\n"
          ]
        },
        {
          "output_type": "execute_result",
          "data": {
            "text/plain": [
              "       CLAVE                    SITIO           ORGANISMO_DE_CUENCA  \\\n",
              "0     DLAGU6             POZO SAN GIL       LERMA SANTIAGO PACIFICO   \n",
              "1  DLAGU6516  POZO R013 CAÃADA HONDA       LERMA SANTIAGO PACIFICO   \n",
              "2     DLAGU7               POZO COSIO       LERMA SANTIAGO PACIFICO   \n",
              "3     DLAGU9       POZO EL SALITRILLO       LERMA SANTIAGO PACIFICO   \n",
              "4   DLBAJ107       RANCHO EL TECOLOTE  PENINSULA DE BAJA CALIFORNIA   \n",
              "\n",
              "                ESTADO        MUNICIPIO                 ACUIFERO SUBTIPO  \\\n",
              "0       AGUASCALIENTES         ASIENTOS       VALLE DE CHICALOTE    POZO   \n",
              "1       AGUASCALIENTES   AGUASCALIENTES       VALLE DE CHICALOTE    POZO   \n",
              "2       AGUASCALIENTES            COSIO  VALLE DE AGUASCALIENTES    POZO   \n",
              "3       AGUASCALIENTES  RINCON DE ROMOS  VALLE DE AGUASCALIENTES    POZO   \n",
              "4  BAJA CALIFORNIA SUR           LA PAZ             TODOS SANTOS    POZO   \n",
              "\n",
              "    LONGITUD   LATITUD  PERIODO  ...  CUMPLE_CON_DUR CUMPLE_CON_CF  \\\n",
              "0 -102.02210  22.20887     2020  ...              SI            SI   \n",
              "1 -102.20075  21.99958     2020  ...              SI            SI   \n",
              "2 -102.28801  22.36685     2020  ...              SI            SI   \n",
              "3 -102.29449  22.18435     2020  ...              SI            SI   \n",
              "4 -110.24480  23.45138     2020  ...              SI            SI   \n",
              "\n",
              "   CUMPLE_CON_NO3 CUMPLE_CON_AS  CUMPLE_CON_CD CUMPLE_CON_CR CUMPLE_CON_HG  \\\n",
              "0              SI            SI             SI            SI            SI   \n",
              "1              SI            SI             SI            SI            SI   \n",
              "2              SI            NO             SI            SI            SI   \n",
              "3              SI            SI             SI            SI            SI   \n",
              "4              NO            SI             SI            SI            SI   \n",
              "\n",
              "   CUMPLE_CON_PB CUMPLE_CON_MN  CUMPLE_CON_FE  \n",
              "0             SI            SI             SI  \n",
              "1             SI            SI             SI  \n",
              "2             SI            SI             SI  \n",
              "3             SI            SI             SI  \n",
              "4             SI            SI             SI  \n",
              "\n",
              "[5 rows x 56 columns]"
            ],
            "text/html": [
              "\n",
              "  <div id=\"df-8f3ebd6a-f942-4055-a30e-88e3113a4977\">\n",
              "    <div class=\"colab-df-container\">\n",
              "      <div>\n",
              "<style scoped>\n",
              "    .dataframe tbody tr th:only-of-type {\n",
              "        vertical-align: middle;\n",
              "    }\n",
              "\n",
              "    .dataframe tbody tr th {\n",
              "        vertical-align: top;\n",
              "    }\n",
              "\n",
              "    .dataframe thead th {\n",
              "        text-align: right;\n",
              "    }\n",
              "</style>\n",
              "<table border=\"1\" class=\"dataframe\">\n",
              "  <thead>\n",
              "    <tr style=\"text-align: right;\">\n",
              "      <th></th>\n",
              "      <th>CLAVE</th>\n",
              "      <th>SITIO</th>\n",
              "      <th>ORGANISMO_DE_CUENCA</th>\n",
              "      <th>ESTADO</th>\n",
              "      <th>MUNICIPIO</th>\n",
              "      <th>ACUIFERO</th>\n",
              "      <th>SUBTIPO</th>\n",
              "      <th>LONGITUD</th>\n",
              "      <th>LATITUD</th>\n",
              "      <th>PERIODO</th>\n",
              "      <th>...</th>\n",
              "      <th>CUMPLE_CON_DUR</th>\n",
              "      <th>CUMPLE_CON_CF</th>\n",
              "      <th>CUMPLE_CON_NO3</th>\n",
              "      <th>CUMPLE_CON_AS</th>\n",
              "      <th>CUMPLE_CON_CD</th>\n",
              "      <th>CUMPLE_CON_CR</th>\n",
              "      <th>CUMPLE_CON_HG</th>\n",
              "      <th>CUMPLE_CON_PB</th>\n",
              "      <th>CUMPLE_CON_MN</th>\n",
              "      <th>CUMPLE_CON_FE</th>\n",
              "    </tr>\n",
              "  </thead>\n",
              "  <tbody>\n",
              "    <tr>\n",
              "      <th>0</th>\n",
              "      <td>DLAGU6</td>\n",
              "      <td>POZO SAN GIL</td>\n",
              "      <td>LERMA SANTIAGO PACIFICO</td>\n",
              "      <td>AGUASCALIENTES</td>\n",
              "      <td>ASIENTOS</td>\n",
              "      <td>VALLE DE CHICALOTE</td>\n",
              "      <td>POZO</td>\n",
              "      <td>-102.02210</td>\n",
              "      <td>22.20887</td>\n",
              "      <td>2020</td>\n",
              "      <td>...</td>\n",
              "      <td>SI</td>\n",
              "      <td>SI</td>\n",
              "      <td>SI</td>\n",
              "      <td>SI</td>\n",
              "      <td>SI</td>\n",
              "      <td>SI</td>\n",
              "      <td>SI</td>\n",
              "      <td>SI</td>\n",
              "      <td>SI</td>\n",
              "      <td>SI</td>\n",
              "    </tr>\n",
              "    <tr>\n",
              "      <th>1</th>\n",
              "      <td>DLAGU6516</td>\n",
              "      <td>POZO R013 CAÃADA HONDA</td>\n",
              "      <td>LERMA SANTIAGO PACIFICO</td>\n",
              "      <td>AGUASCALIENTES</td>\n",
              "      <td>AGUASCALIENTES</td>\n",
              "      <td>VALLE DE CHICALOTE</td>\n",
              "      <td>POZO</td>\n",
              "      <td>-102.20075</td>\n",
              "      <td>21.99958</td>\n",
              "      <td>2020</td>\n",
              "      <td>...</td>\n",
              "      <td>SI</td>\n",
              "      <td>SI</td>\n",
              "      <td>SI</td>\n",
              "      <td>SI</td>\n",
              "      <td>SI</td>\n",
              "      <td>SI</td>\n",
              "      <td>SI</td>\n",
              "      <td>SI</td>\n",
              "      <td>SI</td>\n",
              "      <td>SI</td>\n",
              "    </tr>\n",
              "    <tr>\n",
              "      <th>2</th>\n",
              "      <td>DLAGU7</td>\n",
              "      <td>POZO COSIO</td>\n",
              "      <td>LERMA SANTIAGO PACIFICO</td>\n",
              "      <td>AGUASCALIENTES</td>\n",
              "      <td>COSIO</td>\n",
              "      <td>VALLE DE AGUASCALIENTES</td>\n",
              "      <td>POZO</td>\n",
              "      <td>-102.28801</td>\n",
              "      <td>22.36685</td>\n",
              "      <td>2020</td>\n",
              "      <td>...</td>\n",
              "      <td>SI</td>\n",
              "      <td>SI</td>\n",
              "      <td>SI</td>\n",
              "      <td>NO</td>\n",
              "      <td>SI</td>\n",
              "      <td>SI</td>\n",
              "      <td>SI</td>\n",
              "      <td>SI</td>\n",
              "      <td>SI</td>\n",
              "      <td>SI</td>\n",
              "    </tr>\n",
              "    <tr>\n",
              "      <th>3</th>\n",
              "      <td>DLAGU9</td>\n",
              "      <td>POZO EL SALITRILLO</td>\n",
              "      <td>LERMA SANTIAGO PACIFICO</td>\n",
              "      <td>AGUASCALIENTES</td>\n",
              "      <td>RINCON DE ROMOS</td>\n",
              "      <td>VALLE DE AGUASCALIENTES</td>\n",
              "      <td>POZO</td>\n",
              "      <td>-102.29449</td>\n",
              "      <td>22.18435</td>\n",
              "      <td>2020</td>\n",
              "      <td>...</td>\n",
              "      <td>SI</td>\n",
              "      <td>SI</td>\n",
              "      <td>SI</td>\n",
              "      <td>SI</td>\n",
              "      <td>SI</td>\n",
              "      <td>SI</td>\n",
              "      <td>SI</td>\n",
              "      <td>SI</td>\n",
              "      <td>SI</td>\n",
              "      <td>SI</td>\n",
              "    </tr>\n",
              "    <tr>\n",
              "      <th>4</th>\n",
              "      <td>DLBAJ107</td>\n",
              "      <td>RANCHO EL TECOLOTE</td>\n",
              "      <td>PENINSULA DE BAJA CALIFORNIA</td>\n",
              "      <td>BAJA CALIFORNIA SUR</td>\n",
              "      <td>LA PAZ</td>\n",
              "      <td>TODOS SANTOS</td>\n",
              "      <td>POZO</td>\n",
              "      <td>-110.24480</td>\n",
              "      <td>23.45138</td>\n",
              "      <td>2020</td>\n",
              "      <td>...</td>\n",
              "      <td>SI</td>\n",
              "      <td>SI</td>\n",
              "      <td>NO</td>\n",
              "      <td>SI</td>\n",
              "      <td>SI</td>\n",
              "      <td>SI</td>\n",
              "      <td>SI</td>\n",
              "      <td>SI</td>\n",
              "      <td>SI</td>\n",
              "      <td>SI</td>\n",
              "    </tr>\n",
              "  </tbody>\n",
              "</table>\n",
              "<p>5 rows × 56 columns</p>\n",
              "</div>\n",
              "      <button class=\"colab-df-convert\" onclick=\"convertToInteractive('df-8f3ebd6a-f942-4055-a30e-88e3113a4977')\"\n",
              "              title=\"Convert this dataframe to an interactive table.\"\n",
              "              style=\"display:none;\">\n",
              "        \n",
              "  <svg xmlns=\"http://www.w3.org/2000/svg\" height=\"24px\"viewBox=\"0 0 24 24\"\n",
              "       width=\"24px\">\n",
              "    <path d=\"M0 0h24v24H0V0z\" fill=\"none\"/>\n",
              "    <path d=\"M18.56 5.44l.94 2.06.94-2.06 2.06-.94-2.06-.94-.94-2.06-.94 2.06-2.06.94zm-11 1L8.5 8.5l.94-2.06 2.06-.94-2.06-.94L8.5 2.5l-.94 2.06-2.06.94zm10 10l.94 2.06.94-2.06 2.06-.94-2.06-.94-.94-2.06-.94 2.06-2.06.94z\"/><path d=\"M17.41 7.96l-1.37-1.37c-.4-.4-.92-.59-1.43-.59-.52 0-1.04.2-1.43.59L10.3 9.45l-7.72 7.72c-.78.78-.78 2.05 0 2.83L4 21.41c.39.39.9.59 1.41.59.51 0 1.02-.2 1.41-.59l7.78-7.78 2.81-2.81c.8-.78.8-2.07 0-2.86zM5.41 20L4 18.59l7.72-7.72 1.47 1.35L5.41 20z\"/>\n",
              "  </svg>\n",
              "      </button>\n",
              "      \n",
              "  <style>\n",
              "    .colab-df-container {\n",
              "      display:flex;\n",
              "      flex-wrap:wrap;\n",
              "      gap: 12px;\n",
              "    }\n",
              "\n",
              "    .colab-df-convert {\n",
              "      background-color: #E8F0FE;\n",
              "      border: none;\n",
              "      border-radius: 50%;\n",
              "      cursor: pointer;\n",
              "      display: none;\n",
              "      fill: #1967D2;\n",
              "      height: 32px;\n",
              "      padding: 0 0 0 0;\n",
              "      width: 32px;\n",
              "    }\n",
              "\n",
              "    .colab-df-convert:hover {\n",
              "      background-color: #E2EBFA;\n",
              "      box-shadow: 0px 1px 2px rgba(60, 64, 67, 0.3), 0px 1px 3px 1px rgba(60, 64, 67, 0.15);\n",
              "      fill: #174EA6;\n",
              "    }\n",
              "\n",
              "    [theme=dark] .colab-df-convert {\n",
              "      background-color: #3B4455;\n",
              "      fill: #D2E3FC;\n",
              "    }\n",
              "\n",
              "    [theme=dark] .colab-df-convert:hover {\n",
              "      background-color: #434B5C;\n",
              "      box-shadow: 0px 1px 3px 1px rgba(0, 0, 0, 0.15);\n",
              "      filter: drop-shadow(0px 1px 2px rgba(0, 0, 0, 0.3));\n",
              "      fill: #FFFFFF;\n",
              "    }\n",
              "  </style>\n",
              "\n",
              "      <script>\n",
              "        const buttonEl =\n",
              "          document.querySelector('#df-8f3ebd6a-f942-4055-a30e-88e3113a4977 button.colab-df-convert');\n",
              "        buttonEl.style.display =\n",
              "          google.colab.kernel.accessAllowed ? 'block' : 'none';\n",
              "\n",
              "        async function convertToInteractive(key) {\n",
              "          const element = document.querySelector('#df-8f3ebd6a-f942-4055-a30e-88e3113a4977');\n",
              "          const dataTable =\n",
              "            await google.colab.kernel.invokeFunction('convertToInteractive',\n",
              "                                                     [key], {});\n",
              "          if (!dataTable) return;\n",
              "\n",
              "          const docLinkHtml = 'Like what you see? Visit the ' +\n",
              "            '<a target=\"_blank\" href=https://colab.research.google.com/notebooks/data_table.ipynb>data table notebook</a>'\n",
              "            + ' to learn more about interactive tables.';\n",
              "          element.innerHTML = '';\n",
              "          dataTable['output_type'] = 'display_data';\n",
              "          await google.colab.output.renderOutput(dataTable, element);\n",
              "          const docLink = document.createElement('div');\n",
              "          docLink.innerHTML = docLinkHtml;\n",
              "          element.appendChild(docLink);\n",
              "        }\n",
              "      </script>\n",
              "    </div>\n",
              "  </div>\n",
              "  "
            ]
          },
          "metadata": {},
          "execution_count": 2
        }
      ]
    },
    {
      "cell_type": "markdown",
      "source": [
        "# **Selecciona tus variables independientes (X) y dependiente (Y- Semáforo)**"
      ],
      "metadata": {
        "id": "LgyqndNyOxeU"
      }
    },
    {
      "cell_type": "code",
      "source": [
        "X = df.drop(columns=['CLAVE','PERIODO','SEMAFORO'])"
      ],
      "metadata": {
        "id": "KyZbNYn_O6Fb"
      },
      "execution_count": 3,
      "outputs": []
    },
    {
      "cell_type": "code",
      "source": [
        "y = df[['SEMAFORO']]"
      ],
      "metadata": {
        "id": "UWcM7a3GO5v_"
      },
      "execution_count": 4,
      "outputs": []
    },
    {
      "cell_type": "markdown",
      "source": [
        "# **Cambia a one hot encoding el Semáforo (Y)**"
      ],
      "metadata": {
        "id": "n4d7n2CVPG5l"
      }
    },
    {
      "cell_type": "code",
      "source": [
        "from sklearn.preprocessing import OrdinalEncoder"
      ],
      "metadata": {
        "id": "ldCK5FgHOjdQ"
      },
      "execution_count": 5,
      "outputs": []
    },
    {
      "cell_type": "code",
      "source": [
        "encoder = OrdinalEncoder()"
      ],
      "metadata": {
        "id": "oiscmgypPKwq"
      },
      "execution_count": 6,
      "outputs": []
    },
    {
      "cell_type": "code",
      "source": [
        "y_ohe = encoder.fit_transform(y)\n",
        "print(y)\n",
        "print(y_ohe)"
      ],
      "metadata": {
        "colab": {
          "base_uri": "https://localhost:8080/"
        },
        "id": "_N06HnhUPOpc",
        "outputId": "f7e7121f-baa8-446b-f5df-7200949fde98"
      },
      "execution_count": 7,
      "outputs": [
        {
          "output_type": "stream",
          "name": "stdout",
          "text": [
            "     SEMAFORO\n",
            "0       Verde\n",
            "1       Verde\n",
            "2        Rojo\n",
            "3       Verde\n",
            "4        Rojo\n",
            "...       ...\n",
            "1063     Rojo\n",
            "1064     Rojo\n",
            "1065     Rojo\n",
            "1066    Verde\n",
            "1067    Verde\n",
            "\n",
            "[1068 rows x 1 columns]\n",
            "[[2.]\n",
            " [2.]\n",
            " [1.]\n",
            " ...\n",
            " [1.]\n",
            " [2.]\n",
            " [2.]]\n"
          ]
        }
      ]
    },
    {
      "cell_type": "code",
      "source": [
        "y[['SEMAFORO']].groupby('SEMAFORO').size()"
      ],
      "metadata": {
        "colab": {
          "base_uri": "https://localhost:8080/"
        },
        "id": "oDL0YN6uPVtf",
        "outputId": "e06916cb-1dc1-4487-fcce-1c88bbd9e8d5"
      },
      "execution_count": 8,
      "outputs": [
        {
          "output_type": "execute_result",
          "data": {
            "text/plain": [
              "SEMAFORO\n",
              "Amarillo    247\n",
              "Rojo        387\n",
              "Verde       434\n",
              "dtype: int64"
            ]
          },
          "metadata": {},
          "execution_count": 8
        }
      ]
    },
    {
      "cell_type": "code",
      "source": [
        "np.unique(y_ohe, return_counts=True)"
      ],
      "metadata": {
        "colab": {
          "base_uri": "https://localhost:8080/"
        },
        "id": "7ND14PwtPs9A",
        "outputId": "a07d389a-9748-4e3d-eba1-54a994b91225"
      },
      "execution_count": 9,
      "outputs": [
        {
          "output_type": "execute_result",
          "data": {
            "text/plain": [
              "(array([0., 1., 2.]), array([247, 387, 434]))"
            ]
          },
          "metadata": {},
          "execution_count": 9
        }
      ]
    },
    {
      "cell_type": "markdown",
      "source": [
        "# **Dividir los datos de manera balanceada y definición de pipe line (OneHotEncoding para categóricas)**"
      ],
      "metadata": {
        "id": "3YHXeggxP3AV"
      }
    },
    {
      "cell_type": "code",
      "source": [
        "from sklearn.model_selection import train_test_split"
      ],
      "metadata": {
        "id": "Fpp5h05WSNV0"
      },
      "execution_count": 10,
      "outputs": []
    },
    {
      "cell_type": "code",
      "source": [
        "Xtv, Xtest, ytv, ytest = train_test_split(X, y_ohe, test_size=0.2, random_state=1234)  \n",
        "\n",
        "print(Xtv.shape, ': dimensión de datos de entrada para entrenamiento y validación')\n",
        "print(Xtest.shape, ': dimensión de datos de entrada para prueba')  \n",
        "\n",
        "print(ytv.shape, ': dimensión de variable de salida para entrenamiento y validación')\n",
        "print(ytest.shape, ': dimensión de variable de salida para prueba')"
      ],
      "metadata": {
        "colab": {
          "base_uri": "https://localhost:8080/"
        },
        "id": "ooM09T_OR8Yw",
        "outputId": "14e5b3fe-c4b2-413c-a963-beae21efbad6"
      },
      "execution_count": 11,
      "outputs": [
        {
          "output_type": "stream",
          "name": "stdout",
          "text": [
            "(854, 53) : dimensión de datos de entrada para entrenamiento y validación\n",
            "(214, 53) : dimensión de datos de entrada para prueba\n",
            "(854, 1) : dimensión de variable de salida para entrenamiento y validación\n",
            "(214, 1) : dimensión de variable de salida para prueba\n"
          ]
        }
      ]
    },
    {
      "cell_type": "markdown",
      "source": [
        "### Transformar las otras variables categóricas por One Hot Encoding"
      ],
      "metadata": {
        "id": "JYS775PaSDmB"
      }
    },
    {
      "cell_type": "code",
      "source": [
        "catOHE_pipeline = Pipeline(steps = [('OneHotE', OneHotEncoder(drop='first',handle_unknown='ignore'))])\n",
        "catOHE_pipeline_nombres = ['SITIO','ORGANISMO_DE_CUENCA','ESTADO','MUNICIPIO','ACUIFERO','SUBTIPO','CALIDAD_ALC','CALIDAD_CONDUC',\n",
        "                           'CALIDAD_SDT_ra','CALIDAD_SDT_salin','CALIDAD_FLUO','CALIDAD_DUR','CALIDAD_COLI_FEC',\n",
        "                          'CALIDAD_N_NO3','CALIDAD_AS','CALIDAD_CD','CALIDAD_CR','CALIDAD_HG','CALIDAD_PB','CALIDAD_MN','CALIDAD_FE','CONTAMINANTES','CUMPLE_CON_ALC',\n",
        "                          'CUMPLE_CON_COND','CUMPLE_CON_SDT_ra','CUMPLE_CON_SDT_salin',\n",
        "                          'CUMPLE_CON_FLUO','CUMPLE_CON_DUR','CUMPLE_CON_CF','CUMPLE_CON_NO3','CUMPLE_CON_AS',\n",
        "                          'CUMPLE_CON_CD','CUMPLE_CON_CR','CUMPLE_CON_HG','CUMPLE_CON_PB','CUMPLE_CON_MN','CUMPLE_CON_FE']\n",
        "\n",
        "# Conjuntamos las transformaciones numéricas y categóricas que se estarán aplicando a los datos de entrada:\n",
        "columnasTransformer = ColumnTransformer(transformers = [('catohe', catOHE_pipeline, catOHE_pipeline_nombres)],\n",
        "                                        remainder='passthrough')"
      ],
      "metadata": {
        "id": "fxtCWztVUOcV"
      },
      "execution_count": 12,
      "outputs": []
    },
    {
      "cell_type": "markdown",
      "source": [
        "# **Realiza un análisis general de las features importances a traves de decision trees**"
      ],
      "metadata": {
        "id": "VKOEcJ5pfqKS"
      }
    },
    {
      "cell_type": "markdown",
      "source": [
        "Se realiza un único árbol de decisión con profundidad alta para observar qué features toma cómo los más importantes, y hacer una selección de atributos. \n",
        "\n",
        "Se utiliza sólo los atributos numéricos en el set de entrenamiento, para seleccionar aquellos con mayor importancia. \n",
        "\n",
        "Se decide que se utilizará el set completo de atributos categóricos, ya que en ellos se resume bastante información con impacto en la variable de semáforo."
      ],
      "metadata": {
        "id": "gI3cc70cfqFE"
      }
    },
    {
      "cell_type": "code",
      "source": [
        "Xtv_num = Xtv[Xtv.columns.difference(catOHE_pipeline_nombres)]"
      ],
      "metadata": {
        "id": "mvHnxfE2IXgc"
      },
      "execution_count": 13,
      "outputs": []
    },
    {
      "cell_type": "code",
      "source": [
        "Tree = DecisionTreeClassifier(max_depth=30)"
      ],
      "metadata": {
        "id": "y3h07OaSfp89"
      },
      "execution_count": 14,
      "outputs": []
    },
    {
      "cell_type": "code",
      "source": [
        "Tree.fit(Xtv_num, ytv)"
      ],
      "metadata": {
        "colab": {
          "base_uri": "https://localhost:8080/"
        },
        "id": "_vXjojhIfptp",
        "outputId": "d09e7932-b535-4097-9172-6c3912fc4412"
      },
      "execution_count": 15,
      "outputs": [
        {
          "output_type": "execute_result",
          "data": {
            "text/plain": [
              "DecisionTreeClassifier(max_depth=30)"
            ]
          },
          "metadata": {},
          "execution_count": 15
        }
      ]
    },
    {
      "cell_type": "markdown",
      "source": [
        "Feature Importances"
      ],
      "metadata": {
        "id": "Pi9HVU4SfpjY"
      }
    },
    {
      "cell_type": "code",
      "source": [
        "Tree.feature_importances_"
      ],
      "metadata": {
        "colab": {
          "base_uri": "https://localhost:8080/"
        },
        "id": "ZcEjgRLfgOdh",
        "outputId": "ff775014-9118-4c75-c428-70ea1f561d26"
      },
      "execution_count": 16,
      "outputs": [
        {
          "output_type": "execute_result",
          "data": {
            "text/plain": [
              "array([0.02709333, 0.10033389, 0.        , 0.10826993, 0.0165236 ,\n",
              "       0.02414322, 0.18623815, 0.09084578, 0.20696315, 0.        ,\n",
              "       0.01513199, 0.00299059, 0.06241327, 0.13870606, 0.02034704,\n",
              "       0.        ])"
            ]
          },
          "metadata": {},
          "execution_count": 16
        }
      ]
    },
    {
      "cell_type": "code",
      "source": [
        "from sklearn import tree"
      ],
      "metadata": {
        "id": "c-h0axJrlUWu"
      },
      "execution_count": 17,
      "outputs": []
    },
    {
      "cell_type": "code",
      "source": [
        "tree.plot_tree(Tree)"
      ],
      "metadata": {
        "colab": {
          "base_uri": "https://localhost:8080/",
          "height": 1000
        },
        "id": "tKX09_QZlLj3",
        "outputId": "4b0051cd-ef92-4a3e-eaf6-a65a7163e4b3"
      },
      "execution_count": 18,
      "outputs": [
        {
          "output_type": "execute_result",
          "data": {
            "text/plain": [
              "[Text(0.7333333333333333, 0.9583333333333334, 'X[8] <= 1.504\\ngini = 0.653\\nsamples = 854\\nvalue = [204, 309, 341]'),\n",
              " Text(0.7, 0.875, 'X[6] <= 469.355\\ngini = 0.63\\nsamples = 702\\nvalue = [204, 157, 341]'),\n",
              " Text(0.4666666666666667, 0.7916666666666666, 'X[7] <= 0.295\\ngini = 0.514\\nsamples = 518\\nvalue = [70, 112, 336]'),\n",
              " Text(0.3333333333333333, 0.7083333333333334, 'X[1] <= 0.026\\ngini = 0.408\\nsamples = 451\\nvalue = [31, 85, 335]'),\n",
              " Text(0.3, 0.625, 'X[3] <= 1003.0\\ngini = 0.344\\nsamples = 421\\nvalue = [31, 55, 335]'),\n",
              " Text(0.26666666666666666, 0.5416666666666666, 'X[13] <= 10.875\\ngini = 0.269\\nsamples = 395\\nvalue = [31, 29, 335]'),\n",
              " Text(0.23333333333333334, 0.4583333333333333, 'X[12] <= 0.153\\ngini = 0.186\\nsamples = 373\\nvalue = [31, 7, 335]'),\n",
              " Text(0.16666666666666666, 0.375, 'X[0] <= 400.2\\ngini = 0.093\\nsamples = 352\\nvalue = [11, 6, 335]'),\n",
              " Text(0.13333333333333333, 0.2916666666666667, 'X[5] <= 0.047\\ngini = 0.051\\nsamples = 344\\nvalue = [3, 6, 335]'),\n",
              " Text(0.1, 0.20833333333333334, 'X[4] <= 1970.0\\ngini = 0.029\\nsamples = 340\\nvalue = [3, 2, 335]'),\n",
              " Text(0.06666666666666667, 0.125, 'X[14] <= 0.01\\ngini = 0.012\\nsamples = 337\\nvalue = [0, 2, 335]'),\n",
              " Text(0.03333333333333333, 0.041666666666666664, 'gini = 0.0\\nsamples = 335\\nvalue = [0, 0, 335]'),\n",
              " Text(0.1, 0.041666666666666664, 'gini = 0.0\\nsamples = 2\\nvalue = [0, 2, 0]'),\n",
              " Text(0.13333333333333333, 0.125, 'gini = 0.0\\nsamples = 3\\nvalue = [3, 0, 0]'),\n",
              " Text(0.16666666666666666, 0.20833333333333334, 'gini = 0.0\\nsamples = 4\\nvalue = [0, 4, 0]'),\n",
              " Text(0.2, 0.2916666666666667, 'gini = 0.0\\nsamples = 8\\nvalue = [8, 0, 0]'),\n",
              " Text(0.3, 0.375, 'X[5] <= 0.051\\ngini = 0.091\\nsamples = 21\\nvalue = [20, 1, 0]'),\n",
              " Text(0.26666666666666666, 0.2916666666666667, 'gini = 0.0\\nsamples = 20\\nvalue = [20, 0, 0]'),\n",
              " Text(0.3333333333333333, 0.2916666666666667, 'gini = 0.0\\nsamples = 1\\nvalue = [0, 1, 0]'),\n",
              " Text(0.3, 0.4583333333333333, 'gini = 0.0\\nsamples = 22\\nvalue = [0, 22, 0]'),\n",
              " Text(0.3333333333333333, 0.5416666666666666, 'gini = 0.0\\nsamples = 26\\nvalue = [0, 26, 0]'),\n",
              " Text(0.36666666666666664, 0.625, 'gini = 0.0\\nsamples = 30\\nvalue = [0, 30, 0]'),\n",
              " Text(0.6, 0.7083333333333334, 'X[1] <= 0.023\\ngini = 0.499\\nsamples = 67\\nvalue = [39, 27, 1]'),\n",
              " Text(0.5666666666666667, 0.625, 'X[3] <= 819.5\\ngini = 0.443\\nsamples = 57\\nvalue = [39, 17, 1]'),\n",
              " Text(0.5333333333333333, 0.5416666666666666, 'X[14] <= 0.003\\ngini = 0.332\\nsamples = 49\\nvalue = [39, 9, 1]'),\n",
              " Text(0.4666666666666667, 0.4583333333333333, 'X[13] <= 8.804\\ngini = 0.169\\nsamples = 43\\nvalue = [39, 4, 0]'),\n",
              " Text(0.43333333333333335, 0.375, 'X[5] <= 0.068\\ngini = 0.093\\nsamples = 41\\nvalue = [39, 2, 0]'),\n",
              " Text(0.4, 0.2916666666666667, 'gini = 0.0\\nsamples = 39\\nvalue = [39, 0, 0]'),\n",
              " Text(0.4666666666666667, 0.2916666666666667, 'gini = 0.0\\nsamples = 2\\nvalue = [0, 2, 0]'),\n",
              " Text(0.5, 0.375, 'gini = 0.0\\nsamples = 2\\nvalue = [0, 2, 0]'),\n",
              " Text(0.6, 0.4583333333333333, 'X[7] <= 0.345\\ngini = 0.278\\nsamples = 6\\nvalue = [0, 5, 1]'),\n",
              " Text(0.5666666666666667, 0.375, 'gini = 0.0\\nsamples = 1\\nvalue = [0, 0, 1]'),\n",
              " Text(0.6333333333333333, 0.375, 'gini = 0.0\\nsamples = 5\\nvalue = [0, 5, 0]'),\n",
              " Text(0.6, 0.5416666666666666, 'gini = 0.0\\nsamples = 8\\nvalue = [0, 8, 0]'),\n",
              " Text(0.6333333333333333, 0.625, 'gini = 0.0\\nsamples = 10\\nvalue = [0, 10, 0]'),\n",
              " Text(0.9333333333333333, 0.7916666666666666, 'X[13] <= 11.173\\ngini = 0.409\\nsamples = 184\\nvalue = [134, 45, 5]'),\n",
              " Text(0.9, 0.7083333333333334, 'X[3] <= 815.0\\ngini = 0.257\\nsamples = 157\\nvalue = [134, 18, 5]'),\n",
              " Text(0.8666666666666667, 0.625, 'X[1] <= 0.022\\ngini = 0.186\\nsamples = 149\\nvalue = [134, 10, 5]'),\n",
              " Text(0.8333333333333334, 0.5416666666666666, 'X[10] <= 18.753\\ngini = 0.132\\nsamples = 144\\nvalue = [134, 5, 5]'),\n",
              " Text(0.7333333333333333, 0.4583333333333333, 'X[13] <= 0.939\\ngini = 0.469\\nsamples = 8\\nvalue = [3, 5, 0]'),\n",
              " Text(0.7, 0.375, 'gini = 0.0\\nsamples = 2\\nvalue = [2, 0, 0]'),\n",
              " Text(0.7666666666666667, 0.375, 'X[11] <= -98.108\\ngini = 0.278\\nsamples = 6\\nvalue = [1, 5, 0]'),\n",
              " Text(0.7333333333333333, 0.2916666666666667, 'gini = 0.0\\nsamples = 1\\nvalue = [1, 0, 0]'),\n",
              " Text(0.8, 0.2916666666666667, 'gini = 0.0\\nsamples = 5\\nvalue = [0, 5, 0]'),\n",
              " Text(0.9333333333333333, 0.4583333333333333, 'X[6] <= 500.305\\ngini = 0.071\\nsamples = 136\\nvalue = [131, 0, 5]'),\n",
              " Text(0.9, 0.375, 'X[4] <= 1744.0\\ngini = 0.473\\nsamples = 13\\nvalue = [8, 0, 5]'),\n",
              " Text(0.8666666666666667, 0.2916666666666667, 'X[10] <= 20.006\\ngini = 0.408\\nsamples = 7\\nvalue = [2, 0, 5]'),\n",
              " Text(0.8333333333333334, 0.20833333333333334, 'gini = 0.0\\nsamples = 2\\nvalue = [2, 0, 0]'),\n",
              " Text(0.9, 0.20833333333333334, 'gini = 0.0\\nsamples = 5\\nvalue = [0, 0, 5]'),\n",
              " Text(0.9333333333333333, 0.2916666666666667, 'gini = 0.0\\nsamples = 6\\nvalue = [6, 0, 0]'),\n",
              " Text(0.9666666666666667, 0.375, 'gini = 0.0\\nsamples = 123\\nvalue = [123, 0, 0]'),\n",
              " Text(0.9, 0.5416666666666666, 'gini = 0.0\\nsamples = 5\\nvalue = [0, 5, 0]'),\n",
              " Text(0.9333333333333333, 0.625, 'gini = 0.0\\nsamples = 8\\nvalue = [0, 8, 0]'),\n",
              " Text(0.9666666666666667, 0.7083333333333334, 'gini = 0.0\\nsamples = 27\\nvalue = [0, 27, 0]'),\n",
              " Text(0.7666666666666667, 0.875, 'gini = 0.0\\nsamples = 152\\nvalue = [0, 152, 0]')]"
            ]
          },
          "metadata": {},
          "execution_count": 18
        },
        {
          "output_type": "display_data",
          "data": {
            "text/plain": [
              "<Figure size 432x288 with 1 Axes>"
            ],
            "image/png": "[encoded data removed]"
          },
          "metadata": {
            "needs_background": "light"
          }
        }
      ]
    },
    {
      "cell_type": "code",
      "source": [
        "importances = pd.DataFrame(data={\n",
        "    'Attribute': Xtv_num.columns,\n",
        "    'Importance': Tree.feature_importances_\n",
        "})\n",
        "importances = importances.sort_values(by='Importance', ascending=False)"
      ],
      "metadata": {
        "id": "lnaKMsJ6gN-X"
      },
      "execution_count": 19,
      "outputs": []
    },
    {
      "cell_type": "code",
      "source": [
        "importances"
      ],
      "metadata": {
        "colab": {
          "base_uri": "https://localhost:8080/",
          "height": 551
        },
        "id": "UIhz2sJ2LRiF",
        "outputId": "7fbe286c-6873-41a1-8b61-9c6739afa1b0"
      },
      "execution_count": 20,
      "outputs": [
        {
          "output_type": "execute_result",
          "data": {
            "text/plain": [
              "              Attribute  Importance\n",
              "8        FLUORUROS_mg/L    0.206963\n",
              "6              DUR_mg/L    0.186238\n",
              "13           N_NO3_mg/L    0.138706\n",
              "3   COLI_FEC_NMP/100_mL    0.108270\n",
              "1           AS_TOT_mg/L    0.100334\n",
              "7           FE_TOT_mg/L    0.090846\n",
              "12          MN_TOT_mg/L    0.062413\n",
              "0              ALC_mg/L    0.027093\n",
              "5           CR_TOT_mg/L    0.024143\n",
              "14          PB_TOT_mg/L    0.020347\n",
              "4         CONDUCT_mS/cm    0.016524\n",
              "10              LATITUD    0.015132\n",
              "11             LONGITUD    0.002991\n",
              "2           CD_TOT_mg/L    0.000000\n",
              "9           HG_TOT_mg/L    0.000000\n",
              "15           SDT_M_mg/L    0.000000"
            ],
            "text/html": [
              "\n",
              "  <div id=\"df-6a2dc23a-a6e3-4c8a-adb6-079bae7cff61\">\n",
              "    <div class=\"colab-df-container\">\n",
              "      <div>\n",
              "<style scoped>\n",
              "    .dataframe tbody tr th:only-of-type {\n",
              "        vertical-align: middle;\n",
              "    }\n",
              "\n",
              "    .dataframe tbody tr th {\n",
              "        vertical-align: top;\n",
              "    }\n",
              "\n",
              "    .dataframe thead th {\n",
              "        text-align: right;\n",
              "    }\n",
              "</style>\n",
              "<table border=\"1\" class=\"dataframe\">\n",
              "  <thead>\n",
              "    <tr style=\"text-align: right;\">\n",
              "      <th></th>\n",
              "      <th>Attribute</th>\n",
              "      <th>Importance</th>\n",
              "    </tr>\n",
              "  </thead>\n",
              "  <tbody>\n",
              "    <tr>\n",
              "      <th>8</th>\n",
              "      <td>FLUORUROS_mg/L</td>\n",
              "      <td>0.206963</td>\n",
              "    </tr>\n",
              "    <tr>\n",
              "      <th>6</th>\n",
              "      <td>DUR_mg/L</td>\n",
              "      <td>0.186238</td>\n",
              "    </tr>\n",
              "    <tr>\n",
              "      <th>13</th>\n",
              "      <td>N_NO3_mg/L</td>\n",
              "      <td>0.138706</td>\n",
              "    </tr>\n",
              "    <tr>\n",
              "      <th>3</th>\n",
              "      <td>COLI_FEC_NMP/100_mL</td>\n",
              "      <td>0.108270</td>\n",
              "    </tr>\n",
              "    <tr>\n",
              "      <th>1</th>\n",
              "      <td>AS_TOT_mg/L</td>\n",
              "      <td>0.100334</td>\n",
              "    </tr>\n",
              "    <tr>\n",
              "      <th>7</th>\n",
              "      <td>FE_TOT_mg/L</td>\n",
              "      <td>0.090846</td>\n",
              "    </tr>\n",
              "    <tr>\n",
              "      <th>12</th>\n",
              "      <td>MN_TOT_mg/L</td>\n",
              "      <td>0.062413</td>\n",
              "    </tr>\n",
              "    <tr>\n",
              "      <th>0</th>\n",
              "      <td>ALC_mg/L</td>\n",
              "      <td>0.027093</td>\n",
              "    </tr>\n",
              "    <tr>\n",
              "      <th>5</th>\n",
              "      <td>CR_TOT_mg/L</td>\n",
              "      <td>0.024143</td>\n",
              "    </tr>\n",
              "    <tr>\n",
              "      <th>14</th>\n",
              "      <td>PB_TOT_mg/L</td>\n",
              "      <td>0.020347</td>\n",
              "    </tr>\n",
              "    <tr>\n",
              "      <th>4</th>\n",
              "      <td>CONDUCT_mS/cm</td>\n",
              "      <td>0.016524</td>\n",
              "    </tr>\n",
              "    <tr>\n",
              "      <th>10</th>\n",
              "      <td>LATITUD</td>\n",
              "      <td>0.015132</td>\n",
              "    </tr>\n",
              "    <tr>\n",
              "      <th>11</th>\n",
              "      <td>LONGITUD</td>\n",
              "      <td>0.002991</td>\n",
              "    </tr>\n",
              "    <tr>\n",
              "      <th>2</th>\n",
              "      <td>CD_TOT_mg/L</td>\n",
              "      <td>0.000000</td>\n",
              "    </tr>\n",
              "    <tr>\n",
              "      <th>9</th>\n",
              "      <td>HG_TOT_mg/L</td>\n",
              "      <td>0.000000</td>\n",
              "    </tr>\n",
              "    <tr>\n",
              "      <th>15</th>\n",
              "      <td>SDT_M_mg/L</td>\n",
              "      <td>0.000000</td>\n",
              "    </tr>\n",
              "  </tbody>\n",
              "</table>\n",
              "</div>\n",
              "      <button class=\"colab-df-convert\" onclick=\"convertToInteractive('df-6a2dc23a-a6e3-4c8a-adb6-079bae7cff61')\"\n",
              "              title=\"Convert this dataframe to an interactive table.\"\n",
              "              style=\"display:none;\">\n",
              "        \n",
              "  <svg xmlns=\"http://www.w3.org/2000/svg\" height=\"24px\"viewBox=\"0 0 24 24\"\n",
              "       width=\"24px\">\n",
              "    <path d=\"M0 0h24v24H0V0z\" fill=\"none\"/>\n",
              "    <path d=\"M18.56 5.44l.94 2.06.94-2.06 2.06-.94-2.06-.94-.94-2.06-.94 2.06-2.06.94zm-11 1L8.5 8.5l.94-2.06 2.06-.94-2.06-.94L8.5 2.5l-.94 2.06-2.06.94zm10 10l.94 2.06.94-2.06 2.06-.94-2.06-.94-.94-2.06-.94 2.06-2.06.94z\"/><path d=\"M17.41 7.96l-1.37-1.37c-.4-.4-.92-.59-1.43-.59-.52 0-1.04.2-1.43.59L10.3 9.45l-7.72 7.72c-.78.78-.78 2.05 0 2.83L4 21.41c.39.39.9.59 1.41.59.51 0 1.02-.2 1.41-.59l7.78-7.78 2.81-2.81c.8-.78.8-2.07 0-2.86zM5.41 20L4 18.59l7.72-7.72 1.47 1.35L5.41 20z\"/>\n",
              "  </svg>\n",
              "      </button>\n",
              "      \n",
              "  <style>\n",
              "    .colab-df-container {\n",
              "      display:flex;\n",
              "      flex-wrap:wrap;\n",
              "      gap: 12px;\n",
              "    }\n",
              "\n",
              "    .colab-df-convert {\n",
              "      background-color: #E8F0FE;\n",
              "      border: none;\n",
              "      border-radius: 50%;\n",
              "      cursor: pointer;\n",
              "      display: none;\n",
              "      fill: #1967D2;\n",
              "      height: 32px;\n",
              "      padding: 0 0 0 0;\n",
              "      width: 32px;\n",
              "    }\n",
              "\n",
              "    .colab-df-convert:hover {\n",
              "      background-color: #E2EBFA;\n",
              "      box-shadow: 0px 1px 2px rgba(60, 64, 67, 0.3), 0px 1px 3px 1px rgba(60, 64, 67, 0.15);\n",
              "      fill: #174EA6;\n",
              "    }\n",
              "\n",
              "    [theme=dark] .colab-df-convert {\n",
              "      background-color: #3B4455;\n",
              "      fill: #D2E3FC;\n",
              "    }\n",
              "\n",
              "    [theme=dark] .colab-df-convert:hover {\n",
              "      background-color: #434B5C;\n",
              "      box-shadow: 0px 1px 3px 1px rgba(0, 0, 0, 0.15);\n",
              "      filter: drop-shadow(0px 1px 2px rgba(0, 0, 0, 0.3));\n",
              "      fill: #FFFFFF;\n",
              "    }\n",
              "  </style>\n",
              "\n",
              "      <script>\n",
              "        const buttonEl =\n",
              "          document.querySelector('#df-6a2dc23a-a6e3-4c8a-adb6-079bae7cff61 button.colab-df-convert');\n",
              "        buttonEl.style.display =\n",
              "          google.colab.kernel.accessAllowed ? 'block' : 'none';\n",
              "\n",
              "        async function convertToInteractive(key) {\n",
              "          const element = document.querySelector('#df-6a2dc23a-a6e3-4c8a-adb6-079bae7cff61');\n",
              "          const dataTable =\n",
              "            await google.colab.kernel.invokeFunction('convertToInteractive',\n",
              "                                                     [key], {});\n",
              "          if (!dataTable) return;\n",
              "\n",
              "          const docLinkHtml = 'Like what you see? Visit the ' +\n",
              "            '<a target=\"_blank\" href=https://colab.research.google.com/notebooks/data_table.ipynb>data table notebook</a>'\n",
              "            + ' to learn more about interactive tables.';\n",
              "          element.innerHTML = '';\n",
              "          dataTable['output_type'] = 'display_data';\n",
              "          await google.colab.output.renderOutput(dataTable, element);\n",
              "          const docLink = document.createElement('div');\n",
              "          docLink.innerHTML = docLinkHtml;\n",
              "          element.appendChild(docLink);\n",
              "        }\n",
              "      </script>\n",
              "    </div>\n",
              "  </div>\n",
              "  "
            ]
          },
          "metadata": {},
          "execution_count": 20
        }
      ]
    },
    {
      "cell_type": "markdown",
      "source": [
        "**Selecciona las variables de mayor importancia.**"
      ],
      "metadata": {
        "id": "UBJxY2RtfpQJ"
      }
    },
    {
      "cell_type": "markdown",
      "source": [
        "Decidimos tomar el top 5 variables numéricas por el feature importance mostrado. \n",
        "\n",
        "La característica principal es que las primeras 5 represetan cada uno al menos 10% de importancia en el modelo de sólo variables numéricas.\n",
        "\n",
        "Con esto las variables seleccionadas son: \n",
        "\n",
        "- FLUORUROS_mg \n",
        "- DUR_mg\n",
        "- N_NO3_mg\n",
        "- COLI_FEC_NMP\n",
        "- AS_TOT_mg\n",
        "\n"
      ],
      "metadata": {
        "id": "RKLw89I8LbH5"
      }
    },
    {
      "cell_type": "code",
      "source": [
        "seleccion_num = ['FLUORUROS_mg/L', 'DUR_mg/L', 'N_NO3_mg/L', 'COLI_FEC_NMP/100_mL', 'AS_TOT_mg/L']"
      ],
      "metadata": {
        "id": "K-EbgqFAL1R7"
      },
      "execution_count": 21,
      "outputs": []
    },
    {
      "cell_type": "markdown",
      "source": [
        "# **Explorar clasificador óptimo**"
      ],
      "metadata": {
        "id": "6aaUwdgBVs_H"
      }
    },
    {
      "cell_type": "markdown",
      "source": [
        "Decidimos probar los siguientes clasificadores: \n",
        "\n",
        "- Regresión Logística (Benchmark): es el clasificador base, en la industria se utiliza como el mínimo posible a superar.\n",
        "- Árbol de decisión: simpleza en la decisión de clasificación, tomando sólo los atributos más importantes.\n",
        "- Random Forest: ensamble de árboles que permite entrenar con distintos atributos en cada árbol, evitando sobre ajustar, y minimizar el error. \n",
        "\n",
        "En cada método se decidió hacer una búsqueda de malla (Grid Search), sobre un set de hiperparámetros que permita encontrar la mejor combinación de ellos para optimizar el resultado. \n",
        "Adicionalmente, se hace uso de validación cruzada por muestras aleatorias (RepeatedStratifiedKFold) para evitar el sobre ajuste, y optimizar el resultado, disminuyendo el error."
      ],
      "metadata": {
        "id": "6dbJeiaSdeYL"
      }
    },
    {
      "cell_type": "markdown",
      "source": [
        "# Regresión Logística"
      ],
      "metadata": {
        "id": "4ScHhcbdco59"
      }
    },
    {
      "cell_type": "markdown",
      "source": [
        "Modelo"
      ],
      "metadata": {
        "id": "V2f9xhT8cup7"
      }
    },
    {
      "cell_type": "code",
      "source": [
        "log_modelo = LogisticRegression(solver='liblinear',max_iter=5000)"
      ],
      "metadata": {
        "id": "gYBOEIhGcup7"
      },
      "execution_count": 22,
      "outputs": []
    },
    {
      "cell_type": "markdown",
      "source": [
        "Búsqueda de la mejor regresión logística como clasificador: \n",
        "\n",
        "- Grid search de parámetros.\n",
        "- Método de validación cruzada de muestras para evitar sobre ajuste, y sub ajuste. \n"
      ],
      "metadata": {
        "id": "gpGP06c3cup7"
      }
    },
    {
      "cell_type": "code",
      "source": [
        "# Diccionario para determinar la mejor combinación de los parámetros requeridos , consideremos que no todas las opciones posibles\n",
        "# de parámetros se pueden combinar por ello seleccionamos solo aquellas posibles\n",
        "dicc_hiperparam={'C':[0.00001,10.,10000.],\n",
        "                   'penalty':['l1','l2'],\n",
        "                   'class_weight':['balanced', None],\n",
        "                   'solver':['liblinear']\n",
        "             }"
      ],
      "metadata": {
        "id": "iJ2qY818cup7"
      },
      "execution_count": 23,
      "outputs": []
    },
    {
      "cell_type": "code",
      "source": [
        "# Validación cruzada de 5 muestras con 3 repeticiones\n",
        "cv = RepeatedStratifiedKFold(n_splits=5, n_repeats=3, random_state=1234)"
      ],
      "metadata": {
        "id": "EgZTsIrecup7"
      },
      "execution_count": 24,
      "outputs": []
    },
    {
      "cell_type": "code",
      "source": [
        "# Se hace la búsqueda de malla dentro del rango de los hiperparámetros propuestos, y sobre las validaciones cruzadas propuestas en el objeto (RepeatedStratifiedKFold)\n",
        "log_grid = GridSearchCV(estimator=log_modelo, \n",
        "                        param_grid=dicc_hiperparam, \n",
        "                        cv=cv, \n",
        "                        scoring='accuracy')"
      ],
      "metadata": {
        "id": "hiavqqexcup7"
      },
      "execution_count": 25,
      "outputs": []
    },
    {
      "cell_type": "markdown",
      "source": [
        "Transformación de datos categóricos conforme al pipeline definido anteriormente. "
      ],
      "metadata": {
        "id": "7K2AkOyhcup7"
      }
    },
    {
      "cell_type": "code",
      "source": [
        "variables_seleccionadas = seleccion_num + catOHE_pipeline_nombres"
      ],
      "metadata": {
        "id": "mHWXzfzUM354"
      },
      "execution_count": 26,
      "outputs": []
    },
    {
      "cell_type": "code",
      "source": [
        "Xtv_seleccion = Xtv[variables_seleccionadas]"
      ],
      "metadata": {
        "id": "POf14XJbMxl4"
      },
      "execution_count": 27,
      "outputs": []
    },
    {
      "cell_type": "code",
      "source": [
        "Xx = columnasTransformer.fit_transform(Xtv_seleccion)"
      ],
      "metadata": {
        "id": "oucsPAwRcup7"
      },
      "execution_count": 28,
      "outputs": []
    },
    {
      "cell_type": "markdown",
      "source": [
        "Se entrena el modelo sólo sobre la población de train"
      ],
      "metadata": {
        "id": "hjAwjl1Jcup7"
      }
    },
    {
      "cell_type": "code",
      "source": [
        "log_grid.fit(Xx, ytv.ravel())"
      ],
      "metadata": {
        "colab": {
          "base_uri": "https://localhost:8080/"
        },
        "outputId": "35189a03-2cf4-42fb-be29-515cf3843701",
        "id": "wbn6scVNcup7"
      },
      "execution_count": 29,
      "outputs": [
        {
          "output_type": "execute_result",
          "data": {
            "text/plain": [
              "GridSearchCV(cv=RepeatedStratifiedKFold(n_repeats=3, n_splits=5, random_state=1234),\n",
              "             estimator=LogisticRegression(max_iter=5000, solver='liblinear'),\n",
              "             param_grid={'C': [1e-05, 10.0, 10000.0],\n",
              "                         'class_weight': ['balanced', None],\n",
              "                         'penalty': ['l1', 'l2'], 'solver': ['liblinear']},\n",
              "             scoring='accuracy')"
            ]
          },
          "metadata": {},
          "execution_count": 29
        }
      ]
    },
    {
      "cell_type": "markdown",
      "source": [
        "**Visualización de resultados obtenidos:**\n",
        "\n",
        "- Exactitud (accuracy) encontrado con el método de optimización.\n",
        "- Hiperparámetros utilizados que optimizan el accuracy."
      ],
      "metadata": {
        "id": "m-5h1av6cup7"
      }
    },
    {
      "cell_type": "code",
      "source": [
        "print('Mejor valor de exactitud obtenido con la mejor combinación:', log_grid.best_score_)\n",
        "print('Mejor combinación de valores encontrados de los hiperparámetros:', log_grid.best_params_)"
      ],
      "metadata": {
        "colab": {
          "base_uri": "https://localhost:8080/"
        },
        "outputId": "ae5175c3-8277-4ec4-bb29-47f1359830b7",
        "id": "Hdd1-6B2cup8"
      },
      "execution_count": 30,
      "outputs": [
        {
          "output_type": "stream",
          "name": "stdout",
          "text": [
            "Mejor valor de exactitud obtenido con la mejor combinación: 0.9945373237014103\n",
            "Mejor combinación de valores encontrados de los hiperparámetros: {'C': 10.0, 'class_weight': None, 'penalty': 'l1', 'solver': 'liblinear'}\n"
          ]
        }
      ]
    },
    {
      "cell_type": "markdown",
      "source": [
        "**Los resultados obtenidos son sospechosamente altos, y se sugiere que el modelo va a sobre ajustar sobre una población no conocida.**"
      ],
      "metadata": {
        "id": "kkPtSWfYNMFo"
      }
    },
    {
      "cell_type": "code",
      "source": [
        "log_model = LogisticRegression(C=10.0, class_weight=None, penalty='l1', solver='liblinear')"
      ],
      "metadata": {
        "id": "jz4FQguiS8Yt"
      },
      "execution_count": 31,
      "outputs": []
    },
    {
      "cell_type": "code",
      "source": [
        "log_model.fit(Xx, ytv.ravel())"
      ],
      "metadata": {
        "colab": {
          "base_uri": "https://localhost:8080/"
        },
        "outputId": "b2f642f0-da98-4f3b-e624-a873b8a2240e",
        "id": "QS87VJR6S8Yt"
      },
      "execution_count": 32,
      "outputs": [
        {
          "output_type": "execute_result",
          "data": {
            "text/plain": [
              "LogisticRegression(C=10.0, penalty='l1', solver='liblinear')"
            ]
          },
          "metadata": {},
          "execution_count": 32
        }
      ]
    },
    {
      "cell_type": "code",
      "source": [
        "pred_test = log_model.predict(columnasTransformer.transform(Xtest[variables_seleccionadas]))"
      ],
      "metadata": {
        "colab": {
          "base_uri": "https://localhost:8080/"
        },
        "outputId": "3ebbf366-5d92-46d3-9cdb-d910bfc59a73",
        "id": "YzDZy2FaS8Yu"
      },
      "execution_count": 33,
      "outputs": [
        {
          "output_type": "stream",
          "name": "stderr",
          "text": [
            "/usr/local/lib/python3.7/dist-packages/sklearn/preprocessing/_encoders.py:174: UserWarning: Found unknown categories in columns [0, 3, 4, 21, 29] during transform. These unknown categories will be encoded as all zeros\n",
            "  UserWarning,\n"
          ]
        }
      ]
    },
    {
      "cell_type": "code",
      "source": [
        "print('La exactitud obtenida con la mejor combinación en el set de validación (test) es:', accuracy_score(ytest, pred_test))"
      ],
      "metadata": {
        "colab": {
          "base_uri": "https://localhost:8080/"
        },
        "outputId": "12419c33-0549-4abb-9f7e-d4059677e937",
        "id": "fJs509OvS8Yu"
      },
      "execution_count": 34,
      "outputs": [
        {
          "output_type": "stream",
          "name": "stdout",
          "text": [
            "La exactitud obtenida con la mejor combinación en el set de validación (test) es: 0.9953271028037384\n"
          ]
        }
      ]
    },
    {
      "cell_type": "markdown",
      "source": [
        "**Se decide no utilizar este modelo a pesar de los resultados favorable, ya que es posible que sobre ajuste en población no conocida**\n",
        "\n",
        "**Se sugiere realizar pruebas out of time, y out of sample**"
      ],
      "metadata": {
        "id": "ANHMUk58S-ZM"
      }
    },
    {
      "cell_type": "markdown",
      "source": [
        "# Árbol de Decisión"
      ],
      "metadata": {
        "id": "2lsnB7Z1ZQFl"
      }
    },
    {
      "cell_type": "markdown",
      "source": [
        "Modelo"
      ],
      "metadata": {
        "id": "irwhCn7OWSQS"
      }
    },
    {
      "cell_type": "code",
      "source": [
        "modeloDT = DecisionTreeClassifier()"
      ],
      "metadata": {
        "id": "F8zkhbTsWK8N"
      },
      "execution_count": 36,
      "outputs": []
    },
    {
      "cell_type": "markdown",
      "source": [
        "Búsqueda del mejor árbol: \n",
        "\n",
        "- Grid search de parámetros.\n",
        "- Método de validación cruzada de muestras para evitar sobre ajuste, y sub ajuste. \n"
      ],
      "metadata": {
        "id": "zg96A3-GWUPa"
      }
    },
    {
      "cell_type": "code",
      "source": [
        "# Definimos el diccionario con los siguientes hiperparametros a la busqueda: ccp_alpha, criterion, max_depth, min_samples_split y class_weight\n",
        "dt_param_grid = {'ccp_alpha': [0.1, .01],\n",
        "                  'criterion': ['gini', 'entropy'],\n",
        "                  'max_depth': np.arange(1, 3, step=1),\n",
        "                  'min_samples_split': np.arange(2, 10, step=1),\n",
        "                  'class_weight': ['balanced', None]}"
      ],
      "metadata": {
        "id": "fnAMbaV8WXwh"
      },
      "execution_count": 37,
      "outputs": []
    },
    {
      "cell_type": "code",
      "source": [
        "# Validación cruzada de 5 muestras con 3 repeticiones\n",
        "cv = RepeatedStratifiedKFold(n_splits=5, n_repeats=3, random_state=1234)"
      ],
      "metadata": {
        "id": "nXKKpokLW7Kh"
      },
      "execution_count": 38,
      "outputs": []
    },
    {
      "cell_type": "code",
      "source": [
        "# Se hace la búsqueda de malla dentro del rango de los hiperparámetros propuestos, y sobre las validaciones cruzadas propuestas en el objeto (RepeatedStratifiedKFold)\n",
        "dt_grid = GridSearchCV(estimator=modeloDT, \n",
        "                        param_grid=dt_param_grid, \n",
        "                        cv=cv, \n",
        "                        scoring='accuracy')"
      ],
      "metadata": {
        "id": "vwMk-wnkW8zr"
      },
      "execution_count": 39,
      "outputs": []
    },
    {
      "cell_type": "markdown",
      "source": [
        "Transformación de datos categóricos conforme al pipeline definido anteriormente. "
      ],
      "metadata": {
        "id": "klIT2LnQXeYN"
      }
    },
    {
      "cell_type": "code",
      "source": [
        "Xtv_seleccion = Xtv[variables_seleccionadas]\n",
        "Xx = columnasTransformer.fit_transform(Xtv_seleccion)"
      ],
      "metadata": {
        "id": "aCZjNc8bXd1b"
      },
      "execution_count": 40,
      "outputs": []
    },
    {
      "cell_type": "markdown",
      "source": [
        "Se entrena el modelo sólo sobre la población de train"
      ],
      "metadata": {
        "id": "6GQTYD6lXTxA"
      }
    },
    {
      "cell_type": "code",
      "source": [
        "dt_grid.fit(Xx, ytv)"
      ],
      "metadata": {
        "colab": {
          "base_uri": "https://localhost:8080/"
        },
        "id": "LlVOTEcZXS2N",
        "outputId": "fff1ae23-d7f2-4b01-ed7d-de7989950ca6"
      },
      "execution_count": 41,
      "outputs": [
        {
          "output_type": "execute_result",
          "data": {
            "text/plain": [
              "GridSearchCV(cv=RepeatedStratifiedKFold(n_repeats=3, n_splits=5, random_state=1234),\n",
              "             estimator=DecisionTreeClassifier(),\n",
              "             param_grid={'ccp_alpha': [0.1, 0.01],\n",
              "                         'class_weight': ['balanced', None],\n",
              "                         'criterion': ['gini', 'entropy'],\n",
              "                         'max_depth': array([1, 2]),\n",
              "                         'min_samples_split': array([2, 3, 4, 5, 6, 7, 8, 9])},\n",
              "             scoring='accuracy')"
            ]
          },
          "metadata": {},
          "execution_count": 41
        }
      ]
    },
    {
      "cell_type": "markdown",
      "source": [
        "**Visualización de resultados obtenidos:**\n",
        "\n",
        "- Exactitud (accuracy) encontrado con el método de optimización.\n",
        "- Hiperparámetros utilizados que optimizan el accuracy."
      ],
      "metadata": {
        "id": "YBjtzvj7XZXw"
      }
    },
    {
      "cell_type": "code",
      "source": [
        "print('Mejor valor de exactitud obtenido con la mejor combinación:', dt_grid.best_score_)\n",
        "print('Mejor combinación de valores encontrados de los hiperparámetros:', dt_grid.best_params_)"
      ],
      "metadata": {
        "colab": {
          "base_uri": "https://localhost:8080/"
        },
        "id": "8EqVxksbXbYY",
        "outputId": "de8f8369-f2f9-4a54-b7d9-f64d0ca8b984"
      },
      "execution_count": 42,
      "outputs": [
        {
          "output_type": "stream",
          "name": "stdout",
          "text": [
            "Mejor valor de exactitud obtenido con la mejor combinación: 0.8364407751404656\n",
            "Mejor combinación de valores encontrados de los hiperparámetros: {'ccp_alpha': 0.01, 'class_weight': 'balanced', 'criterion': 'gini', 'max_depth': 2, 'min_samples_split': 2}\n"
          ]
        }
      ]
    },
    {
      "cell_type": "markdown",
      "source": [
        "**El performance del modelo con mejores hiperparámetros en validación:**"
      ],
      "metadata": {
        "id": "OA-ss6rZNr09"
      }
    },
    {
      "cell_type": "code",
      "source": [
        "modeloDT = DecisionTreeClassifier(ccp_alpha=0.01, class_weight='balanced', criterion='gini', max_depth=2, min_samples_split=2)"
      ],
      "metadata": {
        "id": "Ln3Alg2BN3X5"
      },
      "execution_count": 43,
      "outputs": []
    },
    {
      "cell_type": "code",
      "source": [
        "modeloDT.fit(Xx, ytv)"
      ],
      "metadata": {
        "colab": {
          "base_uri": "https://localhost:8080/"
        },
        "id": "2tAQgTFXN3NM",
        "outputId": "29f859b1-040b-4027-e869-bf5beb9f3d0a"
      },
      "execution_count": 44,
      "outputs": [
        {
          "output_type": "execute_result",
          "data": {
            "text/plain": [
              "DecisionTreeClassifier(ccp_alpha=0.01, class_weight='balanced', max_depth=2)"
            ]
          },
          "metadata": {},
          "execution_count": 44
        }
      ]
    },
    {
      "cell_type": "code",
      "source": [
        "pred_test = modeloDT.predict(columnasTransformer.transform(Xtest[variables_seleccionadas]))"
      ],
      "metadata": {
        "colab": {
          "base_uri": "https://localhost:8080/"
        },
        "id": "6N5W3ds8N3BC",
        "outputId": "7e1465ac-c236-4f58-c017-8fdbdcc2df13"
      },
      "execution_count": 45,
      "outputs": [
        {
          "output_type": "stream",
          "name": "stderr",
          "text": [
            "/usr/local/lib/python3.7/dist-packages/sklearn/preprocessing/_encoders.py:174: UserWarning: Found unknown categories in columns [0, 3, 4, 21, 29] during transform. These unknown categories will be encoded as all zeros\n",
            "  UserWarning,\n"
          ]
        }
      ]
    },
    {
      "cell_type": "code",
      "source": [
        "print('La exactitud obtenida con la mejor combinación en el set de validación (test) es:', accuracy_score(ytest, pred_test))"
      ],
      "metadata": {
        "colab": {
          "base_uri": "https://localhost:8080/"
        },
        "id": "9b57LW5PQaYW",
        "outputId": "443ba119-01e1-43f6-8785-7a1213e01ef8"
      },
      "execution_count": 46,
      "outputs": [
        {
          "output_type": "stream",
          "name": "stdout",
          "text": [
            "La exactitud obtenida con la mejor combinación en el set de validación (test) es: 0.8130841121495327\n"
          ]
        }
      ]
    },
    {
      "cell_type": "markdown",
      "source": [
        "# Random Forest"
      ],
      "metadata": {
        "id": "TYNaapLdYQm3"
      }
    },
    {
      "cell_type": "markdown",
      "source": [
        "Modelo"
      ],
      "metadata": {
        "id": "jDaEFUW6ZjJl"
      }
    },
    {
      "cell_type": "code",
      "source": [
        "modeloRF = RandomForestClassifier()"
      ],
      "metadata": {
        "id": "94QqF19aZjJl"
      },
      "execution_count": 47,
      "outputs": []
    },
    {
      "cell_type": "markdown",
      "source": [
        "Búsqueda del mejor ensamble de árboles por la metodología de Random Forest:\n",
        "\n",
        "- Grid search de parámetros.\n",
        "- Método de validación cruzada de muestras para evitar sobre ajuste, y sub ajuste. \n"
      ],
      "metadata": {
        "id": "LL_rkeQzZjJl"
      }
    },
    {
      "cell_type": "code",
      "source": [
        "# Incluiremos los siguientes hiperparametros a la busqueda: ccp_alpha, criterion, max_depth, min_samples_split y class_weight. \n",
        "# Para el mejor ensamble de árboles con Random Forest\n",
        "rf_param_grid = {'ccp_alpha': [0.1, .01,0.001],\n",
        "                  'criterion': ['gini', 'entropy'],\n",
        "                  'max_depth': np.arange(1, 3, step=1),\n",
        "                  'min_samples_split': np.arange(2, 10, step=1),\n",
        "                  'class_weight': ['balanced', None]}\n"
      ],
      "metadata": {
        "id": "9sLJ0ZmvZjJm"
      },
      "execution_count": 48,
      "outputs": []
    },
    {
      "cell_type": "code",
      "source": [
        "# Validación cruzada de 5 muestras con 3 repeticiones\n",
        "cv = RepeatedStratifiedKFold(n_splits=5, n_repeats=3, random_state=8)"
      ],
      "metadata": {
        "id": "0QPZU-ZQZjJm"
      },
      "execution_count": 49,
      "outputs": []
    },
    {
      "cell_type": "code",
      "source": [
        "# Se hace la búsqueda de malla dentro del rango de los hiperparámetros propuestos, y sobre las validaciones cruzadas propuestas en el objeto (RepeatedStratifiedKFold)\n",
        "rf_grid = GridSearchCV(estimator=modeloRF, \n",
        "                        param_grid=rf_param_grid, \n",
        "                        cv=cv, \n",
        "                        scoring='accuracy')"
      ],
      "metadata": {
        "id": "c22F6EdZZjJm"
      },
      "execution_count": 50,
      "outputs": []
    },
    {
      "cell_type": "markdown",
      "source": [
        "Transformación de datos categóricos conforme al pipeline definido anteriormente. "
      ],
      "metadata": {
        "id": "U895W9moZjJm"
      }
    },
    {
      "cell_type": "code",
      "source": [
        "Xtv_seleccion = Xtv[variables_seleccionadas]\n",
        "Xx = columnasTransformer.fit_transform(Xtv_seleccion)"
      ],
      "metadata": {
        "id": "ppnuImVeZjJm"
      },
      "execution_count": 51,
      "outputs": []
    },
    {
      "cell_type": "markdown",
      "source": [
        "Se entrena el modelo sólo sobre la población de train"
      ],
      "metadata": {
        "id": "BPGw2N7pZjJm"
      }
    },
    {
      "cell_type": "code",
      "source": [
        "rf_grid.fit(Xx, ytv.ravel())"
      ],
      "metadata": {
        "colab": {
          "base_uri": "https://localhost:8080/"
        },
        "outputId": "daf708d8-3e02-4d64-8e40-dc31de12b377",
        "id": "i4Q8wCr9ZjJm"
      },
      "execution_count": 52,
      "outputs": [
        {
          "output_type": "execute_result",
          "data": {
            "text/plain": [
              "GridSearchCV(cv=RepeatedStratifiedKFold(n_repeats=3, n_splits=5, random_state=8),\n",
              "             estimator=RandomForestClassifier(),\n",
              "             param_grid={'ccp_alpha': [0.1, 0.01, 0.001],\n",
              "                         'class_weight': ['balanced', None],\n",
              "                         'criterion': ['gini', 'entropy'],\n",
              "                         'max_depth': array([1, 2]),\n",
              "                         'min_samples_split': array([2, 3, 4, 5, 6, 7, 8, 9])},\n",
              "             scoring='accuracy')"
            ]
          },
          "metadata": {},
          "execution_count": 52
        }
      ]
    },
    {
      "cell_type": "markdown",
      "source": [
        "**Visualización de resultados obtenidos:**\n",
        "\n",
        "- Exactitud (accuracy) encontrado con el método de optimización.\n",
        "- Hiperparámetros utilizados que optimizan el accuracy."
      ],
      "metadata": {
        "id": "eXp6YU3iZjJm"
      }
    },
    {
      "cell_type": "code",
      "source": [
        "print('Mejor valor de exactitud obtenido con la mejor combinación:', rf_grid.best_score_)\n",
        "print('Mejor combinación de valores encontrados de los hiperparámetros:', rf_grid.best_params_)"
      ],
      "metadata": {
        "colab": {
          "base_uri": "https://localhost:8080/"
        },
        "outputId": "ded13299-2e97-4be7-aca2-2fa41223b31d",
        "id": "jxc_26EfZjJn"
      },
      "execution_count": 53,
      "outputs": [
        {
          "output_type": "stream",
          "name": "stdout",
          "text": [
            "Mejor valor de exactitud obtenido con la mejor combinación: 0.893078775369797\n",
            "Mejor combinación de valores encontrados de los hiperparámetros: {'ccp_alpha': 0.01, 'class_weight': 'balanced', 'criterion': 'entropy', 'max_depth': 2, 'min_samples_split': 2}\n"
          ]
        }
      ]
    },
    {
      "cell_type": "markdown",
      "source": [
        "**El performance del modelo con mejores hiperparámetros en validación:**"
      ],
      "metadata": {
        "id": "TbKsKOkOQ7Tp"
      }
    },
    {
      "cell_type": "code",
      "source": [
        "modeloDT = RandomForestClassifier(ccp_alpha=0.001, class_weight='balanced', criterion='gini', max_depth=2, min_samples_split=3)"
      ],
      "metadata": {
        "id": "KWFyPjEfQ7bt"
      },
      "execution_count": 54,
      "outputs": []
    },
    {
      "cell_type": "code",
      "source": [
        "modeloDT.fit(Xx, ytv.ravel())"
      ],
      "metadata": {
        "colab": {
          "base_uri": "https://localhost:8080/"
        },
        "outputId": "781fe84e-6614-441d-acb1-53e7bbc500bc",
        "id": "e_5Y5GESQ7bu"
      },
      "execution_count": 55,
      "outputs": [
        {
          "output_type": "execute_result",
          "data": {
            "text/plain": [
              "RandomForestClassifier(ccp_alpha=0.001, class_weight='balanced', max_depth=2,\n",
              "                       min_samples_split=3)"
            ]
          },
          "metadata": {},
          "execution_count": 55
        }
      ]
    },
    {
      "cell_type": "code",
      "source": [
        "pred_test = modeloDT.predict(columnasTransformer.transform(Xtest[variables_seleccionadas]))"
      ],
      "metadata": {
        "colab": {
          "base_uri": "https://localhost:8080/"
        },
        "outputId": "dc59cf18-bcc6-45e9-8508-13dc3a408e23",
        "id": "lqjx0LQ2Q7bu"
      },
      "execution_count": 56,
      "outputs": [
        {
          "output_type": "stream",
          "name": "stderr",
          "text": [
            "/usr/local/lib/python3.7/dist-packages/sklearn/preprocessing/_encoders.py:174: UserWarning: Found unknown categories in columns [0, 3, 4, 21, 29] during transform. These unknown categories will be encoded as all zeros\n",
            "  UserWarning,\n"
          ]
        }
      ]
    },
    {
      "cell_type": "code",
      "source": [
        "print('La exactitud obtenida con la mejor combinación en el set de validación (test) es:', accuracy_score(ytest, pred_test))"
      ],
      "metadata": {
        "colab": {
          "base_uri": "https://localhost:8080/"
        },
        "outputId": "1893006c-172d-481b-c8b8-ff68bb336fe0",
        "id": "MFdTkBkDQ7bu"
      },
      "execution_count": 57,
      "outputs": [
        {
          "output_type": "stream",
          "name": "stdout",
          "text": [
            "La exactitud obtenida con la mejor combinación en el set de validación (test) es: 0.8457943925233645\n"
          ]
        }
      ]
    },
    {
      "cell_type": "markdown",
      "source": [
        "# **Clasificador seleccionado**"
      ],
      "metadata": {
        "id": "XSX8zgCkbPF3"
      }
    },
    {
      "cell_type": "markdown",
      "source": [
        "\n",
        "Con los resultados obtenidos **elegimos Random Forest** por su poder de clasificación con un **Accuracy en Train de 0.89 y en Test de 0.85**\n",
        "\n",
        "Adicionalmente, por la naturaleza del algoritmo se espera que no sobre ajuste en el TimestampConvertibleTypes\n",
        "\n",
        "**El modelo propuesta con sus resultados serían los siguientes:**"
      ],
      "metadata": {
        "id": "GFasd4-WS1n_"
      }
    },
    {
      "cell_type": "code",
      "source": [
        "variables_seleccionadas = seleccion_num + catOHE_pipeline_nombres"
      ],
      "metadata": {
        "id": "xRr8Y3DEqLOQ"
      },
      "execution_count": 58,
      "outputs": []
    },
    {
      "cell_type": "code",
      "source": [
        "Xtv_seleccion = Xtv[variables_seleccionadas]\n",
        "Xx = columnasTransformer.fit_transform(Xtv_seleccion)"
      ],
      "metadata": {
        "id": "temaSs3IpnMh"
      },
      "execution_count": 59,
      "outputs": []
    },
    {
      "cell_type": "code",
      "source": [
        "modelo_final = RandomForestClassifier(ccp_alpha=0.001, class_weight='balanced', criterion='gini', max_depth=2, min_samples_split=3)"
      ],
      "metadata": {
        "id": "cGPJrkyao8Vr"
      },
      "execution_count": 60,
      "outputs": []
    },
    {
      "cell_type": "code",
      "source": [
        "modelo_final.fit(Xx, ytv.ravel())"
      ],
      "metadata": {
        "colab": {
          "base_uri": "https://localhost:8080/"
        },
        "id": "lFQbFCVcpNym",
        "outputId": "746fcd15-dcdd-4080-b691-f11ae78a2a47"
      },
      "execution_count": 61,
      "outputs": [
        {
          "output_type": "execute_result",
          "data": {
            "text/plain": [
              "RandomForestClassifier(ccp_alpha=0.001, class_weight='balanced', max_depth=2,\n",
              "                       min_samples_split=3)"
            ]
          },
          "metadata": {},
          "execution_count": 61
        }
      ]
    },
    {
      "cell_type": "code",
      "source": [
        "pred_train = modelo_final.predict(Xx)\n",
        "pred_test = modelo_final.predict(columnasTransformer.transform(Xtest[variables_seleccionadas]))"
      ],
      "metadata": {
        "colab": {
          "base_uri": "https://localhost:8080/"
        },
        "id": "EqpDQlWVqHUs",
        "outputId": "3f007d3b-c3e6-476d-f269-e059643d48a9"
      },
      "execution_count": 62,
      "outputs": [
        {
          "output_type": "stream",
          "name": "stderr",
          "text": [
            "/usr/local/lib/python3.7/dist-packages/sklearn/preprocessing/_encoders.py:174: UserWarning: Found unknown categories in columns [0, 3, 4, 21, 29] during transform. These unknown categories will be encoded as all zeros\n",
            "  UserWarning,\n"
          ]
        }
      ]
    },
    {
      "cell_type": "code",
      "source": [
        "pred_test"
      ],
      "metadata": {
        "colab": {
          "base_uri": "https://localhost:8080/"
        },
        "id": "WxtauBVFovSz",
        "outputId": "2180f9b8-dd89-4c49-e5a9-ae91029e146c"
      },
      "execution_count": 63,
      "outputs": [
        {
          "output_type": "execute_result",
          "data": {
            "text/plain": [
              "array([2., 1., 2., 2., 0., 1., 2., 2., 1., 0., 0., 1., 0., 2., 2., 2., 0.,\n",
              "       2., 0., 2., 0., 2., 2., 2., 1., 2., 1., 0., 0., 2., 2., 2., 0., 2.,\n",
              "       2., 2., 2., 0., 2., 0., 2., 2., 2., 2., 1., 2., 2., 0., 2., 1., 1.,\n",
              "       2., 2., 2., 2., 2., 1., 0., 1., 2., 1., 0., 2., 2., 2., 2., 1., 1.,\n",
              "       0., 1., 1., 0., 2., 1., 0., 2., 0., 2., 0., 1., 1., 2., 0., 2., 0.,\n",
              "       0., 0., 2., 2., 1., 0., 2., 1., 0., 1., 0., 2., 2., 2., 0., 2., 1.,\n",
              "       2., 2., 1., 2., 2., 0., 2., 2., 1., 2., 2., 2., 1., 0., 2., 2., 2.,\n",
              "       2., 1., 0., 0., 2., 1., 2., 2., 2., 2., 0., 0., 2., 1., 1., 2., 0.,\n",
              "       0., 2., 1., 2., 1., 2., 2., 2., 2., 2., 2., 2., 0., 0., 2., 2., 2.,\n",
              "       2., 0., 1., 2., 2., 1., 2., 1., 2., 0., 0., 2., 0., 2., 0., 0., 1.,\n",
              "       2., 1., 0., 2., 0., 0., 2., 0., 2., 1., 0., 1., 2., 2., 0., 2., 2.,\n",
              "       0., 2., 1., 0., 1., 1., 2., 0., 0., 2., 1., 2., 1., 0., 2., 1., 2.,\n",
              "       2., 1., 1., 1., 2., 2., 2., 2., 1., 1.])"
            ]
          },
          "metadata": {},
          "execution_count": 63
        }
      ]
    },
    {
      "cell_type": "markdown",
      "source": [
        "**Accuracy obtenido**"
      ],
      "metadata": {
        "id": "4essxW25Uset"
      }
    },
    {
      "cell_type": "code",
      "source": [
        "print('La exactitud obtenida con la mejor combinación en el set de Entrenamiento es:', accuracy_score(ytv, pred_train))\n",
        "print('La exactitud obtenida con la mejor combinación en el set de validación (test) es:', accuracy_score(ytest, pred_test))"
      ],
      "metadata": {
        "colab": {
          "base_uri": "https://localhost:8080/"
        },
        "id": "7Itail8NUlcT",
        "outputId": "86af6b86-403c-46a9-9378-e0e498cbb63b"
      },
      "execution_count": 64,
      "outputs": [
        {
          "output_type": "stream",
          "name": "stdout",
          "text": [
            "La exactitud obtenida con la mejor combinación en el set de Entrenamiento es: 0.8992974238875878\n",
            "La exactitud obtenida con la mejor combinación en el set de validación (test) es: 0.8598130841121495\n"
          ]
        }
      ]
    },
    {
      "cell_type": "markdown",
      "source": [
        "# **Reporte de clasificación**"
      ],
      "metadata": {
        "id": "zWZMibrhqIYX"
      }
    },
    {
      "cell_type": "code",
      "source": [
        "target_names = ['Amarillo','Rojo','Verde']"
      ],
      "metadata": {
        "id": "_Eh52b2ngWNi"
      },
      "execution_count": 65,
      "outputs": []
    },
    {
      "cell_type": "code",
      "source": [
        "print(classification_report(ytest, pred_test, target_names=target_names))"
      ],
      "metadata": {
        "colab": {
          "base_uri": "https://localhost:8080/"
        },
        "id": "r7-FFqCngQ_e",
        "outputId": "bc6ea385-e2f5-42b0-f213-5cff076416e4"
      },
      "execution_count": 66,
      "outputs": [
        {
          "output_type": "stream",
          "name": "stdout",
          "text": [
            "              precision    recall  f1-score   support\n",
            "\n",
            "    Amarillo       0.76      0.98      0.86        43\n",
            "        Rojo       0.98      0.63      0.77        78\n",
            "       Verde       0.85      1.00      0.92        93\n",
            "\n",
            "    accuracy                           0.86       214\n",
            "   macro avg       0.87      0.87      0.85       214\n",
            "weighted avg       0.88      0.86      0.85       214\n",
            "\n"
          ]
        }
      ]
    },
    {
      "cell_type": "markdown",
      "source": [
        "# **Gráfica de precisión recall**"
      ],
      "metadata": {
        "id": "_yxSxHuYqJeo"
      }
    },
    {
      "cell_type": "markdown",
      "source": [
        "Al ser un problema multiclase, se entrena el modelo de nuevo con las especificaciones para poder realizar el plot por clase."
      ],
      "metadata": {
        "id": "ln804unGkET3"
      }
    },
    {
      "cell_type": "code",
      "source": [
        "n_classes = len(set(['Amarillo','Rojo','Verde']))"
      ],
      "metadata": {
        "id": "4L2QmuRYmGHG"
      },
      "execution_count": 67,
      "outputs": []
    },
    {
      "cell_type": "code",
      "source": [
        "Y_bin = label_binarize(y_ohe, classes=[*range(n_classes)])"
      ],
      "metadata": {
        "id": "F-ceMOFcmAkE"
      },
      "execution_count": 68,
      "outputs": []
    },
    {
      "cell_type": "code",
      "source": [
        "Y_bin"
      ],
      "metadata": {
        "colab": {
          "base_uri": "https://localhost:8080/"
        },
        "id": "4ff0NXpcpFIe",
        "outputId": "0be27670-2b28-4d74-a84b-bafb6441d233"
      },
      "execution_count": 69,
      "outputs": [
        {
          "output_type": "execute_result",
          "data": {
            "text/plain": [
              "array([[0, 0, 1],\n",
              "       [0, 0, 1],\n",
              "       [0, 1, 0],\n",
              "       ...,\n",
              "       [0, 1, 0],\n",
              "       [0, 0, 1],\n",
              "       [0, 0, 1]])"
            ]
          },
          "metadata": {},
          "execution_count": 69
        }
      ]
    },
    {
      "cell_type": "code",
      "source": [
        "Xtv, Xtest, ytv_bin, ytest_bin = train_test_split(X[variables_seleccionadas], Y_bin, test_size=0.2, random_state=1234)  \n",
        "\n",
        "print(Xtv.shape, ': dimensión de datos de entrada para entrenamiento y validación')\n",
        "print(Xtest.shape, ': dimensión de datos de entrada para prueba')  \n",
        "\n",
        "print(ytv_bin.shape, ': dimensión de variable de salida para entrenamiento y validación')\n",
        "print(ytest_bin.shape, ': dimensión de variable de salida para prueba')"
      ],
      "metadata": {
        "colab": {
          "base_uri": "https://localhost:8080/"
        },
        "id": "S2DnPBXhlzn4",
        "outputId": "40ef130f-05ec-4eea-e38f-a374a2b14ea6"
      },
      "execution_count": 70,
      "outputs": [
        {
          "output_type": "stream",
          "name": "stdout",
          "text": [
            "(854, 42) : dimensión de datos de entrada para entrenamiento y validación\n",
            "(214, 42) : dimensión de datos de entrada para prueba\n",
            "(854, 3) : dimensión de variable de salida para entrenamiento y validación\n",
            "(214, 3) : dimensión de variable de salida para prueba\n"
          ]
        }
      ]
    },
    {
      "cell_type": "code",
      "source": [
        "Xx = columnasTransformer.transform(Xtv)\n",
        "Xtest = columnasTransformer.transform(Xtest)"
      ],
      "metadata": {
        "colab": {
          "base_uri": "https://localhost:8080/"
        },
        "id": "EmphUT_Um-hL",
        "outputId": "7d3a8cf2-c99f-4cc8-ac78-b3782011b8b5"
      },
      "execution_count": 71,
      "outputs": [
        {
          "output_type": "stream",
          "name": "stderr",
          "text": [
            "/usr/local/lib/python3.7/dist-packages/sklearn/preprocessing/_encoders.py:174: UserWarning: Found unknown categories in columns [0, 3, 4, 21, 29] during transform. These unknown categories will be encoded as all zeros\n",
            "  UserWarning,\n"
          ]
        }
      ]
    },
    {
      "cell_type": "code",
      "source": [
        "clf = OneVsRestClassifier(RandomForestClassifier(class_weight='balanced', criterion='gini', max_depth=2, min_samples_split=3))\n",
        "clf.fit(Xx, ytv_bin)\n",
        "y_score = clf.predict(Xtest)"
      ],
      "metadata": {
        "id": "2XeN0qWSlz13"
      },
      "execution_count": 72,
      "outputs": []
    },
    {
      "cell_type": "code",
      "source": [
        "# precision recall curve\n",
        "precision = dict()\n",
        "recall = dict()\n",
        "for i in range(n_classes):\n",
        "    precision[i], recall[i], _ = precision_recall_curve(ytest_bin[:, i],y_score[:, i])\n",
        "    plt.plot(recall[i], precision[i], lw=2, label='class {}'.format(i))\n",
        "    \n",
        "plt.xlabel(\"recall\")\n",
        "plt.ylabel(\"precision\")\n",
        "plt.legend(loc=\"best\")\n",
        "plt.title(\"precision vs. recall curve\")\n",
        "plt.show()"
      ],
      "metadata": {
        "colab": {
          "base_uri": "https://localhost:8080/",
          "height": 295
        },
        "id": "jnipZlx3kMYW",
        "outputId": "99e1738e-7b24-4f8b-c1c4-8254d88e3194"
      },
      "execution_count": 73,
      "outputs": [
        {
          "output_type": "display_data",
          "data": {
            "text/plain": [
              "<Figure size 432x288 with 1 Axes>"
            ],
            "image/png": "[encoded data removed]"
          },
          "metadata": {
            "needs_background": "light"
          }
        }
      ]
    },
    {
      "cell_type": "markdown",
      "source": [
        "# **Matriz de confusión en Set validación del modelo seleccionado**"
      ],
      "metadata": {
        "id": "UBNLcUnLqL-Y"
      }
    },
    {
      "cell_type": "code",
      "source": [
        "confusion = confusion_matrix(ytest, pred_test)"
      ],
      "metadata": {
        "id": "X_I5N_ijkMUn"
      },
      "execution_count": 74,
      "outputs": []
    },
    {
      "cell_type": "code",
      "source": [
        "ax= plt.subplot()\n",
        "sns.heatmap(confusion, annot=True, fmt='g', ax=ax);  \n",
        "\n",
        "# labels, title and ticks\n",
        "ax.set_xlabel('Predicted labels');ax.set_ylabel('True labels'); \n",
        "ax.set_title('Confusion Matrix'); \n",
        "ax.xaxis.set_ticklabels(['Amarillo', 'Rojo','Verde']); ax.yaxis.set_ticklabels(['Amarillo','Rojo','Verde']);"
      ],
      "metadata": {
        "colab": {
          "base_uri": "https://localhost:8080/",
          "height": 295
        },
        "id": "FR7-xUc-kMQq",
        "outputId": "fa7f2bd1-b70b-4768-a883-3800bee4304a"
      },
      "execution_count": 75,
      "outputs": [
        {
          "output_type": "display_data",
          "data": {
            "text/plain": [
              "<Figure size 432x288 with 2 Axes>"
            ],
            "image/png": "[encoded data removed]"
          },
          "metadata": {
            "needs_background": "light"
          }
        }
      ]
    },
    {
      "cell_type": "markdown",
      "source": [
        "\n",
        "\n",
        "---\n",
        "\n",
        "\n",
        "FIN RETO PARTE 2 \n",
        "\n",
        "\n",
        "\n",
        "---\n",
        "\n"
      ],
      "metadata": {
        "id": "NnGhzJlLtA3i"
      }
    }
  ]
}