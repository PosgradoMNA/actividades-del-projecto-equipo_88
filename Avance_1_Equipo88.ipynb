{
  "nbformat": 4,
  "nbformat_minor": 0,
  "metadata": {
    "colab": {
      "provenance": [],
      "include_colab_link": true
    },
    "kernelspec": {
      "name": "python3",
      "display_name": "Python 3"
    },
    "language_info": {
      "name": "python"
    }
  },
  "cells": [
    {
      "cell_type": "markdown",
      "metadata": {
        "id": "view-in-github",
        "colab_type": "text"
      },
      "source": [
        "<a href=\"https://colab.research.google.com/github/PosgradoMNA/actividades-del-projecto-equipo_88/blob/main/Avance_1_Equipo88.ipynb\" target=\"_parent\"><img src=\"https://colab.research.google.com/assets/colab-badge.svg\" alt=\"Open In Colab\"/></a>"
      ]
    },
    {
      "cell_type": "markdown",
      "source": [
        "\n",
        "# **Avance proyecto 1**\n",
        "**Maestría en Inteligencia Artificial Aplicada** \n",
        "\n",
        "**Curso:** Inteligencia Artificial y Aprendizaje Automático\n",
        "\n",
        "**Tecnológico de Monterrey**\n",
        "\n",
        "**Equipo 88**\n",
        "\n",
        "**Nombre del estudiante & Matrícula**:\n",
        "\n",
        "*   Dalina Aidee Villa Ocelotl (A01793258)\n",
        "*   Miguel Guillermo Galindo Orozco (A01793695)\n",
        "\n",
        "\\\n",
        "\n",
        "---\n",
        "\n",
        "\\\n",
        "\n",
        "\n"
      ],
      "metadata": {
        "id": "Rgt0qdgzJO2D"
      }
    },
    {
      "cell_type": "markdown",
      "source": [
        "## **Características del Data Set**\n",
        "* **El nombre que caracteriza el conjunto de datos**: *Sistema Recomendador BBVA*\n",
        "\n",
        "* **La organización que lo generó**: *BBVA* \n",
        "\n",
        "\n",
        "* Incluya un **enlace de Internet** donde se puedan descargar el base de datos en línea: https://www.kaggle.com/competitions/bbvadatachallenge-recomendador/data\n",
        "\n",
        "* **Describe el conjunto de datos. ¿Qué datos contiene?**\n",
        "\n",
        "*Es un data set a nivel transacción que resumen las características de las compras realizadas por las personas en distintos establecimientos. En el se incluyen variables como identificador de la persona, identificador del establecimiento, ubicación del establecimiento, giro del establecimiento, y monto de la transacción.  Adicionalmente, se incluye información que carateriza a las personas, como su género, rango de edad, rango de ingreso, rango de productos dentro de la institución bancaria, flag de uso de banca electrónica, rango de saldos en tarjeta de crédito, y cantidad de transacciones.*\n",
        "\n",
        "* **¿Cuáles son algunas de las preguntas de investigación que podría responder con estos datos? Enumere al menos OCHO (no responda las preguntas).**\n",
        "\n",
        "1.   *¿En qué tipo de establecimiento hay mayor transaccionalidad?*\n",
        "2.   *Por tipo de giro del establecimiento, ¿qué características identifican a los clientes con mayor transaccionalidad?*\n",
        "3.    *¿Si el establecimiento quisiera crecer su mercado qué factores debe tomar en cuenta?*\n",
        "4.   *De acuerdo a la etapa de vida del cliente, ¿existe alguna preferencia por tipo de transacción?*\n",
        "5.   *¿Cuál es la mejor recomendación de establecimiento para un cliente de acuerdo a su comportamiento y similitudes con otros consumidores?*\n",
        "6.  *Para conocer la utilidad y arraigo con el establecimiento, ¿cuál es el número de transacciones mínimas para decidir que es preferido por el cliente?*\n",
        "7.  *¿Cuál es la proporción de gasto por clientes en cada giro del establecimientos?*\n",
        "8.  *¿Quiénes son los clientes potencialmente más rentables para el establecimiento (valor del cliente)?*\n",
        "9. *¿Cómo identifico a los clientes del banco que dado su patrón de consumo es importante mantenerlos en la cartera? ¿Y cuáles tienen una mayor propensión de fuga?*\n",
        "\n",
        "\n",
        "*   **¿Qué actor (empresa, sector de la sociedad, organismo descentralizado, gobierno, etc.) estaría interesado en las preguntas mencionadas que identificó?**\n",
        " \n",
        "* *Instituciones bancarias, en específico BBVA para conocer el perfil de sus clientes y su rentabilidad (valor del cliente en el tiempo)*\n",
        "* *Establecimientos para identificar los patrones de consumo de su clientela.*\n",
        "* *Establecimientos externos que buscan ofertar a clientes con mayor probabilida de compra.*\n",
        "* *Instituciones de crédito (Bancos, Fintechs) que identifiquen potenciales clientes que dadas sus necesidades de demanda de productos puedan utilizar sus servicios de crédito* \n",
        "* *Instituciones bancarias para la fidelización de clientela a través de ofertas en sus tendencias de consumo*\n",
        "\n",
        "\n"
      ],
      "metadata": {
        "id": "cDhj2pefSVx-"
      }
    },
    {
      "cell_type": "code",
      "source": [],
      "metadata": {
        "id": "7NFiszuyjmqH"
      },
      "execution_count": null,
      "outputs": []
    }
  ]
}