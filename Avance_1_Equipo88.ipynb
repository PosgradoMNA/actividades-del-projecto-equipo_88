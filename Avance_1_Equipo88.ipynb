{
  "nbformat": 4,
  "nbformat_minor": 0,
  "metadata": {
    "colab": {
      "provenance": [],
      "authorship_tag": "ABX9TyPLUyI31wl+8N90wVVDoVeP",
      "include_colab_link": true
    },
    "kernelspec": {
      "name": "python3",
      "display_name": "Python 3"
    },
    "language_info": {
      "name": "python"
    }
  },
  "cells": [
    {
      "cell_type": "markdown",
      "metadata": {
        "id": "view-in-github",
        "colab_type": "text"
      },
      "source": [
        "<a href=\"https://colab.research.google.com/github/PosgradoMNA/actividades-del-projecto-equipo_88/blob/main/Avance_1_Equipo88.ipynb\" target=\"_parent\"><img src=\"https://colab.research.google.com/assets/colab-badge.svg\" alt=\"Open In Colab\"/></a>"
      ]
    },
    {
      "cell_type": "markdown",
      "source": [
        "##\n",
        "### Avance proyecto 1\n",
        "Maestría en Inteligencia Artificial Aplicada\n",
        "Curso: Inteligencia Artificial y Aprendizaje Automático\n",
        "Tecnológico de Monterrey\n",
        "Prof \n",
        "Equipo 88\n",
        "Nombre del estudiante: Dalina Aidee Villa Ocelotl\n",
        "Matrícula: (agrega aquí tu número de matrícula)\n"
      ],
      "metadata": {
        "id": "Rgt0qdgzJO2D"
      }
    },
    {
      "cell_type": "code",
      "source": [],
      "metadata": {
        "id": "aGMVSGAtSVb7"
      },
      "execution_count": null,
      "outputs": []
    },
    {
      "cell_type": "markdown",
      "source": [
        "El nombre que caracteriza el conjunto de datos.\n",
        "La organización que lo generó.\n",
        "Incluya un enlace de Internet donde se puedan descargar el base de datos en línea\n",
        "Describe el conjunto de datos. ¿Qué datos contiene?\n",
        "¿Cuáles son algunas de las preguntas de investigación que podría responder con estos datos? Enumere al menos OCHO (no responda las preguntas).\n",
        "¿Qué actor (empresa, sector de la sociedad, organismo descentralizado, gobierno, etc.) estaría interesado en las preguntas mencionadas que identificó?"
      ],
      "metadata": {
        "id": "cDhj2pefSVx-"
      }
    }
  ]
}