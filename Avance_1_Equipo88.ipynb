{
  "nbformat": 4,
  "nbformat_minor": 0,
  "metadata": {
    "colab": {
      "provenance": [],
      "include_colab_link": true
    },
    "kernelspec": {
      "name": "python3",
      "display_name": "Python 3"
    },
    "language_info": {
      "name": "python"
    }
  },
  "cells": [
    {
      "cell_type": "markdown",
      "metadata": {
        "id": "view-in-github",
        "colab_type": "text"
      },
      "source": [
        "<a href=\"https://colab.research.google.com/github/PosgradoMNA/actividades-del-projecto-equipo_88/blob/main/Avance_1_Equipo88.ipynb\" target=\"_parent\"><img src=\"https://colab.research.google.com/assets/colab-badge.svg\" alt=\"Open In Colab\"/></a>"
      ]
    },
    {
      "cell_type": "code",
      "execution_count": 2,
      "metadata": {
        "id": "mRsOyOTPJMhy",
        "outputId": "09169418-ba0b-40eb-aa2b-adcdb19b67bb",
        "colab": {
          "base_uri": "https://localhost:8080/"
        }
      },
      "outputs": [
        {
          "output_type": "stream",
          "name": "stdout",
          "text": [
            "puedes ver esto\n"
          ]
        }
      ],
      "source": [
        "print('puedes ver esto')\n"
      ]
    },
    {
      "cell_type": "markdown",
      "source": [
        "Actividad de la semana 2\n",
        "Maestría en Inteligencia Artificial Aplicada\n",
        "Curso: Inteligencia Artificial y Aprendizaje Automático\n",
        "Tecnológico de Monterrey\n",
        "Prof \n",
        "Nombre del estudiante: Dalina Aidee Villa Ocelotl\n",
        "Matrícula: (agrega aquí tu número de matrícula)\n"
      ],
      "metadata": {
        "id": "Rgt0qdgzJO2D"
      }
    }
  ]
}