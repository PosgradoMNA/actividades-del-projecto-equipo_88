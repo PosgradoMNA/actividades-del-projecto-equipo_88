{
  "nbformat": 4,
  "nbformat_minor": 0,
  "metadata": {
    "colab": {
      "provenance": [],
      "include_colab_link": true
    },
    "kernelspec": {
      "name": "python3",
      "display_name": "Python 3"
    },
    "language_info": {
      "name": "python"
    }
  },
  "cells": [
    {
      "cell_type": "markdown",
      "metadata": {
        "id": "view-in-github",
        "colab_type": "text"
      },
      "source": [
        "<a href=\"https://colab.research.google.com/github/PosgradoMNA/actividades-del-projecto-equipo_88/blob/main/Avance_1_Equipo88.ipynb\" target=\"_parent\"><img src=\"https://colab.research.google.com/assets/colab-badge.svg\" alt=\"Open In Colab\"/></a>"
      ]
    },
    {
      "cell_type": "markdown",
      "source": [
        "##\n",
        "### Avance proyecto 1\n",
        "Maestría en Inteligencia Artificial Aplicada\n",
        "Curso: Inteligencia Artificial y Aprendizaje Automático\n",
        "Tecnológico de Monterrey\n",
        "Prof \n",
        "Equipo 88\n",
        "Nombre del estudiante: Dalina Aidee Villa Ocelotl\n",
        "Matrícula: (agrega aquí tu número de matrícula)\n"
      ],
      "metadata": {
        "id": "Rgt0qdgzJO2D"
      }
    },
    {
      "cell_type": "markdown",
      "source": [
        "*   El nombre que caracteriza el conjunto de datos: *Sistema Recomendador BBVA*\n",
        "*   La organización que lo generó: *BBVA *\n",
        "*   Incluya un enlace de Internet donde se puedan descargar el base de datos en línea: https://www.kaggle.com/competitions/bbvadatachallenge-recomendador/data\n",
        "*   Describe el conjunto de datos. ¿Qué datos contiene?\n",
        "\n",
        "Es un data set a nivel transacción que resumen las características de las compras realizadas por las personas en distintos establecimientos. En el se incluyen variables como identificador de la persona, identificador del establecimiento, ubicación del establecimiento, giro del establecimiento, y monto de la transacción.  Adicionalmente, se incluye información que carateriza a las personas, como su género, rango de edad, rango de ingreso, rango de productos dentro de la institución bancaria, flag de uso de banca electrónica, rango de saldos en tarjeta de crédito, y cantidad de transacciones.\n",
        "\n",
        "*   ¿Cuáles son algunas de las preguntas de investigación que podría responder con estos datos? Enumere al menos OCHO (no responda las preguntas).\n",
        "\n",
        "1.   ¿En qué tipo de establecimiento hay mayor transaccionalidad?\n",
        "2.   Por tipo de giro del establecimiento, ¿qué tipo cliente los prefiere?\n",
        "3.    ¿Si el establecimiento quisiera crecer su mercado qué factores debe tomar en cuenta?\n",
        "4.   De acuerdo a la etapa de vida del cliente, ¿existe alguna preferencia por tipo de transacción?\n",
        "5.   ¿Qué es mejor recoemndarle al clienteun establecimiento con sus tendencias de compra u alguno donde personas parecidas a el consumen?\n",
        "6.  Para conocer la utilidad del establecimiento, ¿cuál es el número de transaccinoes para decidir que es preferido por el cliente?\n",
        "7.  ¿cual es la proporcion de monto en cada sector de establecimiento?\n",
        "8.  ¿Cuales son los clientes potenciales mas rentables para el establecimiento (valor del cliente)?\n",
        "\n",
        "\n",
        "\n",
        "*   ¿Qué actor (empresa, sector de la sociedad, organismo descentralizado, gobierno, etc.) estaría interesado en las preguntas mencionadas que identificó?\n",
        " \n",
        " Instituciones bancarias y los establecimientos para conocer el perfil de los clientes que los consumen \n",
        "\n",
        "\n",
        "\n",
        "\n"
      ],
      "metadata": {
        "id": "cDhj2pefSVx-"
      }
    },
    {
      "cell_type": "markdown",
      "source": [
        "NUEVA LINEA"
      ],
      "metadata": {
        "id": "T0zy3Yb-Y9Zy"
      }
    },
    {
      "cell_type": "code",
      "source": [],
      "metadata": {
        "id": "F-uoWE6jY_Un"
      },
      "execution_count": null,
      "outputs": []
    }
  ]
}