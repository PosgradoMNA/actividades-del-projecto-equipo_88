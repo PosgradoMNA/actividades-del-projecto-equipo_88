{
  "nbformat": 4,
  "nbformat_minor": 0,
  "metadata": {
    "colab": {
      "provenance": [],
      "authorship_tag": "ABX9TyMmZ/JqV4R8haEiYvnRrwTB",
      "include_colab_link": true
    },
    "kernelspec": {
      "name": "python3",
      "display_name": "Python 3"
    },
    "language_info": {
      "name": "python"
    }
  },
  "cells": [
    {
      "cell_type": "markdown",
      "metadata": {
        "id": "view-in-github",
        "colab_type": "text"
      },
      "source": [
        "<a href=\"https://colab.research.google.com/github/PosgradoMNA/actividades-del-projecto-equipo_88/blob/main/Avance_1_Equipo88.ipynb\" target=\"_parent\"><img src=\"https://colab.research.google.com/assets/colab-badge.svg\" alt=\"Open In Colab\"/></a>"
      ]
    },
    {
      "cell_type": "markdown",
      "source": [
        "##\n",
        "### Avance proyecto 1\n",
        "Maestría en Inteligencia Artificial Aplicada\n",
        "Curso: Inteligencia Artificial y Aprendizaje Automático\n",
        "Tecnológico de Monterrey\n",
        "Prof \n",
        "Equipo 88\n",
        "Nombre del estudiante: Dalina Aidee Villa Ocelotl\n",
        "Matrícula: (agrega aquí tu número de matrícula)\n"
      ],
      "metadata": {
        "id": "Rgt0qdgzJO2D"
      }
    },
    {
      "cell_type": "markdown",
      "source": [
        "*   El nombre que caracteriza el conjunto de datos: *Sistema Recomendador BBVA*\n",
        "*   La organización que lo generó: *BBVA *\n",
        "*   Incluya un enlace de Internet donde se puedan descargar el base de datos en línea: https://www.kaggle.com/competitions/bbvadatachallenge-recomendador/data\n",
        "*   Describe el conjunto de datos. ¿Qué datos contiene?\n",
        "\n",
        "\n",
        "*   ¿Cuáles son algunas de las preguntas de investigación que podría responder con estos datos? Enumere al menos OCHO (no responda las preguntas).\n",
        "\n",
        "1.   ¿En que tipo de establecimiento hay mayor transaccionalidad?\n",
        "2.   Por tipo de giro del establecimiento, ¿qué tipo cliente los prefiere?\n",
        "3.    \n",
        "4.\n",
        "5.\n",
        "6.\n",
        "7.\n",
        "\n",
        "\n",
        "\n",
        "*   ¿Qué actor (empresa, sector de la sociedad, organismo descentralizado, gobierno, etc.) estaría interesado en las preguntas mencionadas que identificó?\n",
        " Instituciones bancarias y los establecimientos paa conocer el perfil de los clientes que los consumen \n",
        "\n",
        "\n"
      ],
      "metadata": {
        "id": "cDhj2pefSVx-"
      }
    }
  ]
}