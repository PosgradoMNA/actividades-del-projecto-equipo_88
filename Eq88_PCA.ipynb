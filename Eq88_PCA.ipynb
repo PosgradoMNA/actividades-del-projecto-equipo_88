{
  "nbformat": 4,
  "nbformat_minor": 0,
  "metadata": {
    "colab": {
      "provenance": [],
      "include_colab_link": true
    },
    "kernelspec": {
      "name": "python3",
      "display_name": "Python 3"
    },
    "language_info": {
      "name": "python"
    }
  },
  "cells": [
    {
      "cell_type": "markdown",
      "metadata": {
        "id": "view-in-github",
        "colab_type": "text"
      },
      "source": [
        "<a href=\"https://colab.research.google.com/github/PosgradoMNA/actividades-del-projecto-equipo_88/blob/main/Eq88_PCA.ipynb\" target=\"_parent\"><img src=\"https://colab.research.google.com/assets/colab-badge.svg\" alt=\"Open In Colab\"/></a>"
      ]
    },
    {
      "cell_type": "markdown",
      "source": [
        "#**Maestría en Inteligencia Artificial Aplicada**\n",
        "## *Ciencia y Analítica de Datos*\n",
        "\n",
        "### **Semana 4 PCA**\n",
        "\n",
        "\n",
        "####**Curso: Ciencia y analítica de datos (Gpo 10)**\n",
        "####**Prof. Jobish Vallikavungal**\n",
        "####**9 de octubre de 2022**\n",
        "\n",
        "Equipo: 88\n",
        "\n",
        "Nombre del estudiante: \n",
        "\n",
        "\n",
        "***Dalina Aidee Villa Ocelotl (A01793258)***\n",
        "\n",
        "\n",
        "***Miguel Guillermo Galindo Orozco (A01793695)***\n"
      ],
      "metadata": {
        "id": "YMsIxZcWkuD0"
      }
    },
    {
      "cell_type": "markdown",
      "source": [
        "### Reducción de Dimensionalidad con PCA"
      ],
      "metadata": {
        "id": "DhV7x0OIkvwY"
      }
    },
    {
      "cell_type": "markdown",
      "source": [
        "**Importar librerías**"
      ],
      "metadata": {
        "id": "RAXJ_fdKlx96"
      }
    },
    {
      "cell_type": "code",
      "source": [
        "import pandas as pd\n",
        "import numpy as np\n",
        "\n",
        "from sklearn.decomposition import PCA\n",
        "\n",
        "import seaborn as sns\n",
        "import matplotlib as mpl\n",
        "import matplotlib.pyplot as plt"
      ],
      "metadata": {
        "id": "kGqkOS0-l2P1"
      },
      "execution_count": 18,
      "outputs": []
    },
    {
      "cell_type": "markdown",
      "source": [
        "**Lectura de la data a utilizar**"
      ],
      "metadata": {
        "id": "JVxdYCR7mEgV"
      }
    },
    {
      "cell_type": "markdown",
      "source": [
        "Del ejercicio anterior **Limpieza de una base de Datos** *Semana 3 Actividad 1* se obtuvo una base limpia sobre las tarjetas de crédito. \n",
        "\n",
        "Dicha base se subió al repositorio, y será la que se usará en el presente ejercicio."
      ],
      "metadata": {
        "id": "dPDstokysoak"
      }
    },
    {
      "cell_type": "code",
      "source": [
        "path='https://raw.githubusercontent.com/PosgradoMNA/actividades-del-projecto-equipo_88/main/Eq88_Clean_credit_card_clients.csv'\n",
        "df = pd.read_csv(path).iloc[:, 1:] ### Seleccionamos todo menos la primer columna, al ser el índice de la escritura anterior"
      ],
      "metadata": {
        "id": "1UCBxzvXmNAj"
      },
      "execution_count": 19,
      "outputs": []
    },
    {
      "cell_type": "code",
      "source": [
        "df.head(3)"
      ],
      "metadata": {
        "colab": {
          "base_uri": "https://localhost:8080/",
          "height": 173
        },
        "id": "R4wwhvZxmUJ7",
        "outputId": "23384b29-cdb7-4278-f150-1f3ebbb3f6e9"
      },
      "execution_count": 20,
      "outputs": [
        {
          "output_type": "execute_result",
          "data": {
            "text/plain": [
              "   ID  CreditAmount  Gender  Education  MaritalStatus   Age  Status_Sep  \\\n",
              "0   1         20000     2.0        2.0            1.0  24.0         2.0   \n",
              "1   2        120000     2.0        2.0            2.0  26.0        -1.0   \n",
              "2   3         90000     2.0        2.0            2.0  34.0        -1.0   \n",
              "\n",
              "   Status_Ago  Status_Jul  Status_Jun  ...  Saldo_Jun  Saldo_May  Saldo_Abr  \\\n",
              "0         2.0        -1.0        -1.0  ...        0.0        0.0        0.0   \n",
              "1         2.0        -1.0        -1.0  ...     3272.0     3455.0     3261.0   \n",
              "2        -1.0        -1.0        -1.0  ...    14331.0    14948.0    15549.0   \n",
              "\n",
              "   Pagos_Sep  Pagos_Ago  Pagos_Jul  Pagos_Jun  Pagos_May  Pagos_Abr  Y  \n",
              "0        0.0      689.0        0.0        0.0        0.0        0.0  1  \n",
              "1        0.0     1000.0     1000.0     1000.0        0.0     2000.0  1  \n",
              "2     1518.0     1500.0     1000.0     1000.0     1000.0     5000.0  0  \n",
              "\n",
              "[3 rows x 25 columns]"
            ],
            "text/html": [
              "\n",
              "  <div id=\"df-7f88681c-2ff8-4484-af33-e778dd3a5828\">\n",
              "    <div class=\"colab-df-container\">\n",
              "      <div>\n",
              "<style scoped>\n",
              "    .dataframe tbody tr th:only-of-type {\n",
              "        vertical-align: middle;\n",
              "    }\n",
              "\n",
              "    .dataframe tbody tr th {\n",
              "        vertical-align: top;\n",
              "    }\n",
              "\n",
              "    .dataframe thead th {\n",
              "        text-align: right;\n",
              "    }\n",
              "</style>\n",
              "<table border=\"1\" class=\"dataframe\">\n",
              "  <thead>\n",
              "    <tr style=\"text-align: right;\">\n",
              "      <th></th>\n",
              "      <th>ID</th>\n",
              "      <th>CreditAmount</th>\n",
              "      <th>Gender</th>\n",
              "      <th>Education</th>\n",
              "      <th>MaritalStatus</th>\n",
              "      <th>Age</th>\n",
              "      <th>Status_Sep</th>\n",
              "      <th>Status_Ago</th>\n",
              "      <th>Status_Jul</th>\n",
              "      <th>Status_Jun</th>\n",
              "      <th>...</th>\n",
              "      <th>Saldo_Jun</th>\n",
              "      <th>Saldo_May</th>\n",
              "      <th>Saldo_Abr</th>\n",
              "      <th>Pagos_Sep</th>\n",
              "      <th>Pagos_Ago</th>\n",
              "      <th>Pagos_Jul</th>\n",
              "      <th>Pagos_Jun</th>\n",
              "      <th>Pagos_May</th>\n",
              "      <th>Pagos_Abr</th>\n",
              "      <th>Y</th>\n",
              "    </tr>\n",
              "  </thead>\n",
              "  <tbody>\n",
              "    <tr>\n",
              "      <th>0</th>\n",
              "      <td>1</td>\n",
              "      <td>20000</td>\n",
              "      <td>2.0</td>\n",
              "      <td>2.0</td>\n",
              "      <td>1.0</td>\n",
              "      <td>24.0</td>\n",
              "      <td>2.0</td>\n",
              "      <td>2.0</td>\n",
              "      <td>-1.0</td>\n",
              "      <td>-1.0</td>\n",
              "      <td>...</td>\n",
              "      <td>0.0</td>\n",
              "      <td>0.0</td>\n",
              "      <td>0.0</td>\n",
              "      <td>0.0</td>\n",
              "      <td>689.0</td>\n",
              "      <td>0.0</td>\n",
              "      <td>0.0</td>\n",
              "      <td>0.0</td>\n",
              "      <td>0.0</td>\n",
              "      <td>1</td>\n",
              "    </tr>\n",
              "    <tr>\n",
              "      <th>1</th>\n",
              "      <td>2</td>\n",
              "      <td>120000</td>\n",
              "      <td>2.0</td>\n",
              "      <td>2.0</td>\n",
              "      <td>2.0</td>\n",
              "      <td>26.0</td>\n",
              "      <td>-1.0</td>\n",
              "      <td>2.0</td>\n",
              "      <td>-1.0</td>\n",
              "      <td>-1.0</td>\n",
              "      <td>...</td>\n",
              "      <td>3272.0</td>\n",
              "      <td>3455.0</td>\n",
              "      <td>3261.0</td>\n",
              "      <td>0.0</td>\n",
              "      <td>1000.0</td>\n",
              "      <td>1000.0</td>\n",
              "      <td>1000.0</td>\n",
              "      <td>0.0</td>\n",
              "      <td>2000.0</td>\n",
              "      <td>1</td>\n",
              "    </tr>\n",
              "    <tr>\n",
              "      <th>2</th>\n",
              "      <td>3</td>\n",
              "      <td>90000</td>\n",
              "      <td>2.0</td>\n",
              "      <td>2.0</td>\n",
              "      <td>2.0</td>\n",
              "      <td>34.0</td>\n",
              "      <td>-1.0</td>\n",
              "      <td>-1.0</td>\n",
              "      <td>-1.0</td>\n",
              "      <td>-1.0</td>\n",
              "      <td>...</td>\n",
              "      <td>14331.0</td>\n",
              "      <td>14948.0</td>\n",
              "      <td>15549.0</td>\n",
              "      <td>1518.0</td>\n",
              "      <td>1500.0</td>\n",
              "      <td>1000.0</td>\n",
              "      <td>1000.0</td>\n",
              "      <td>1000.0</td>\n",
              "      <td>5000.0</td>\n",
              "      <td>0</td>\n",
              "    </tr>\n",
              "  </tbody>\n",
              "</table>\n",
              "<p>3 rows × 25 columns</p>\n",
              "</div>\n",
              "      <button class=\"colab-df-convert\" onclick=\"convertToInteractive('df-7f88681c-2ff8-4484-af33-e778dd3a5828')\"\n",
              "              title=\"Convert this dataframe to an interactive table.\"\n",
              "              style=\"display:none;\">\n",
              "        \n",
              "  <svg xmlns=\"http://www.w3.org/2000/svg\" height=\"24px\"viewBox=\"0 0 24 24\"\n",
              "       width=\"24px\">\n",
              "    <path d=\"M0 0h24v24H0V0z\" fill=\"none\"/>\n",
              "    <path d=\"M18.56 5.44l.94 2.06.94-2.06 2.06-.94-2.06-.94-.94-2.06-.94 2.06-2.06.94zm-11 1L8.5 8.5l.94-2.06 2.06-.94-2.06-.94L8.5 2.5l-.94 2.06-2.06.94zm10 10l.94 2.06.94-2.06 2.06-.94-2.06-.94-.94-2.06-.94 2.06-2.06.94z\"/><path d=\"M17.41 7.96l-1.37-1.37c-.4-.4-.92-.59-1.43-.59-.52 0-1.04.2-1.43.59L10.3 9.45l-7.72 7.72c-.78.78-.78 2.05 0 2.83L4 21.41c.39.39.9.59 1.41.59.51 0 1.02-.2 1.41-.59l7.78-7.78 2.81-2.81c.8-.78.8-2.07 0-2.86zM5.41 20L4 18.59l7.72-7.72 1.47 1.35L5.41 20z\"/>\n",
              "  </svg>\n",
              "      </button>\n",
              "      \n",
              "  <style>\n",
              "    .colab-df-container {\n",
              "      display:flex;\n",
              "      flex-wrap:wrap;\n",
              "      gap: 12px;\n",
              "    }\n",
              "\n",
              "    .colab-df-convert {\n",
              "      background-color: #E8F0FE;\n",
              "      border: none;\n",
              "      border-radius: 50%;\n",
              "      cursor: pointer;\n",
              "      display: none;\n",
              "      fill: #1967D2;\n",
              "      height: 32px;\n",
              "      padding: 0 0 0 0;\n",
              "      width: 32px;\n",
              "    }\n",
              "\n",
              "    .colab-df-convert:hover {\n",
              "      background-color: #E2EBFA;\n",
              "      box-shadow: 0px 1px 2px rgba(60, 64, 67, 0.3), 0px 1px 3px 1px rgba(60, 64, 67, 0.15);\n",
              "      fill: #174EA6;\n",
              "    }\n",
              "\n",
              "    [theme=dark] .colab-df-convert {\n",
              "      background-color: #3B4455;\n",
              "      fill: #D2E3FC;\n",
              "    }\n",
              "\n",
              "    [theme=dark] .colab-df-convert:hover {\n",
              "      background-color: #434B5C;\n",
              "      box-shadow: 0px 1px 3px 1px rgba(0, 0, 0, 0.15);\n",
              "      filter: drop-shadow(0px 1px 2px rgba(0, 0, 0, 0.3));\n",
              "      fill: #FFFFFF;\n",
              "    }\n",
              "  </style>\n",
              "\n",
              "      <script>\n",
              "        const buttonEl =\n",
              "          document.querySelector('#df-7f88681c-2ff8-4484-af33-e778dd3a5828 button.colab-df-convert');\n",
              "        buttonEl.style.display =\n",
              "          google.colab.kernel.accessAllowed ? 'block' : 'none';\n",
              "\n",
              "        async function convertToInteractive(key) {\n",
              "          const element = document.querySelector('#df-7f88681c-2ff8-4484-af33-e778dd3a5828');\n",
              "          const dataTable =\n",
              "            await google.colab.kernel.invokeFunction('convertToInteractive',\n",
              "                                                     [key], {});\n",
              "          if (!dataTable) return;\n",
              "\n",
              "          const docLinkHtml = 'Like what you see? Visit the ' +\n",
              "            '<a target=\"_blank\" href=https://colab.research.google.com/notebooks/data_table.ipynb>data table notebook</a>'\n",
              "            + ' to learn more about interactive tables.';\n",
              "          element.innerHTML = '';\n",
              "          dataTable['output_type'] = 'display_data';\n",
              "          await google.colab.output.renderOutput(dataTable, element);\n",
              "          const docLink = document.createElement('div');\n",
              "          docLink.innerHTML = docLinkHtml;\n",
              "          element.appendChild(docLink);\n",
              "        }\n",
              "      </script>\n",
              "    </div>\n",
              "  </div>\n",
              "  "
            ]
          },
          "metadata": {},
          "execution_count": 20
        }
      ]
    },
    {
      "cell_type": "markdown",
      "source": [
        "\n",
        "\n",
        "---\n",
        "\n",
        "\n",
        "# **Paso 1:** Determine el número mínimo de componentes principales que representan la mayor parte de la variación en sus datos\n",
        "\n",
        "  Utilice la proporción acumulada de la varianza que explican los componentes para determinar la cantidad de varianza que explican los componentes principales.\n",
        "\n",
        "\n",
        "\n",
        "---\n",
        "\n",
        "\n",
        "\n",
        "\n",
        "---\n",
        "\n"
      ],
      "metadata": {
        "id": "DXqbH0aRmVFs"
      }
    },
    {
      "cell_type": "markdown",
      "source": [
        "Para responder a la pregunta anterior, realizamos el cálculo de componentes principales vía la librería de Sklearn.decomposition.PCA"
      ],
      "metadata": {
        "id": "d2LDXiD_vOHY"
      }
    },
    {
      "cell_type": "markdown",
      "source": [
        "Al ser un análisis númerico, cuya intención es capturar la mayor cantidad de información (proporción de varianza) con las menores variables posibles, se decidió quitar las siguientes variables: \n",
        "\n",
        "* 'ID' - Identificador del individuo\n",
        "  \n",
        "* 'Y' (flag del comportamiento a predecir)\n",
        "  \n",
        "* Variables categóricas ('Gender','Education','MaritalStatus', 'Status_Sep', 'Status_Ago', 'Status_Jul', 'Status_Jun', 'Status_May', 'Status_Abr')"
      ],
      "metadata": {
        "id": "FhSvesEivrwT"
      }
    },
    {
      "cell_type": "code",
      "source": [
        "## Sólo variables numéricas\n",
        "n_df = df.drop(columns=['ID','Y','Gender','Education','MaritalStatus', 'Status_Sep', 'Status_Ago', 'Status_Jul', 'Status_Jun', 'Status_May', 'Status_Abr'])"
      ],
      "metadata": {
        "id": "nA__b3RDvxoE"
      },
      "execution_count": 21,
      "outputs": []
    },
    {
      "cell_type": "code",
      "source": [
        "n_df.head()"
      ],
      "metadata": {
        "colab": {
          "base_uri": "https://localhost:8080/",
          "height": 206
        },
        "id": "ONDXC5uYwEQ2",
        "outputId": "c3570716-7093-406a-f018-eed04b4069a3"
      },
      "execution_count": 22,
      "outputs": [
        {
          "output_type": "execute_result",
          "data": {
            "text/plain": [
              "   CreditAmount   Age  Saldo_Sep  Saldo_Ago  Saldo_Jul  Saldo_Jun  Saldo_May  \\\n",
              "0         20000  24.0     3913.0     3102.0      689.0        0.0        0.0   \n",
              "1        120000  26.0     2682.0     1725.0     2682.0     3272.0     3455.0   \n",
              "2         90000  34.0    29239.0    14027.0    13559.0    14331.0    14948.0   \n",
              "3         50000  37.0    46990.0    48233.0    49291.0    28314.0    28959.0   \n",
              "4         50000  57.0     8617.0     5670.0    35835.0    20940.0    19146.0   \n",
              "\n",
              "   Saldo_Abr  Pagos_Sep  Pagos_Ago  Pagos_Jul  Pagos_Jun  Pagos_May  Pagos_Abr  \n",
              "0        0.0        0.0      689.0        0.0        0.0        0.0        0.0  \n",
              "1     3261.0        0.0     1000.0     1000.0     1000.0        0.0     2000.0  \n",
              "2    15549.0     1518.0     1500.0     1000.0     1000.0     1000.0     5000.0  \n",
              "3    29547.0     2000.0     2019.0     1200.0     1100.0     1069.0     1000.0  \n",
              "4    19131.0     2000.0    36681.0    10000.0     9000.0      689.0      679.0  "
            ],
            "text/html": [
              "\n",
              "  <div id=\"df-fdeadded-8edc-45be-ae4f-0ec2c4b1b9f3\">\n",
              "    <div class=\"colab-df-container\">\n",
              "      <div>\n",
              "<style scoped>\n",
              "    .dataframe tbody tr th:only-of-type {\n",
              "        vertical-align: middle;\n",
              "    }\n",
              "\n",
              "    .dataframe tbody tr th {\n",
              "        vertical-align: top;\n",
              "    }\n",
              "\n",
              "    .dataframe thead th {\n",
              "        text-align: right;\n",
              "    }\n",
              "</style>\n",
              "<table border=\"1\" class=\"dataframe\">\n",
              "  <thead>\n",
              "    <tr style=\"text-align: right;\">\n",
              "      <th></th>\n",
              "      <th>CreditAmount</th>\n",
              "      <th>Age</th>\n",
              "      <th>Saldo_Sep</th>\n",
              "      <th>Saldo_Ago</th>\n",
              "      <th>Saldo_Jul</th>\n",
              "      <th>Saldo_Jun</th>\n",
              "      <th>Saldo_May</th>\n",
              "      <th>Saldo_Abr</th>\n",
              "      <th>Pagos_Sep</th>\n",
              "      <th>Pagos_Ago</th>\n",
              "      <th>Pagos_Jul</th>\n",
              "      <th>Pagos_Jun</th>\n",
              "      <th>Pagos_May</th>\n",
              "      <th>Pagos_Abr</th>\n",
              "    </tr>\n",
              "  </thead>\n",
              "  <tbody>\n",
              "    <tr>\n",
              "      <th>0</th>\n",
              "      <td>20000</td>\n",
              "      <td>24.0</td>\n",
              "      <td>3913.0</td>\n",
              "      <td>3102.0</td>\n",
              "      <td>689.0</td>\n",
              "      <td>0.0</td>\n",
              "      <td>0.0</td>\n",
              "      <td>0.0</td>\n",
              "      <td>0.0</td>\n",
              "      <td>689.0</td>\n",
              "      <td>0.0</td>\n",
              "      <td>0.0</td>\n",
              "      <td>0.0</td>\n",
              "      <td>0.0</td>\n",
              "    </tr>\n",
              "    <tr>\n",
              "      <th>1</th>\n",
              "      <td>120000</td>\n",
              "      <td>26.0</td>\n",
              "      <td>2682.0</td>\n",
              "      <td>1725.0</td>\n",
              "      <td>2682.0</td>\n",
              "      <td>3272.0</td>\n",
              "      <td>3455.0</td>\n",
              "      <td>3261.0</td>\n",
              "      <td>0.0</td>\n",
              "      <td>1000.0</td>\n",
              "      <td>1000.0</td>\n",
              "      <td>1000.0</td>\n",
              "      <td>0.0</td>\n",
              "      <td>2000.0</td>\n",
              "    </tr>\n",
              "    <tr>\n",
              "      <th>2</th>\n",
              "      <td>90000</td>\n",
              "      <td>34.0</td>\n",
              "      <td>29239.0</td>\n",
              "      <td>14027.0</td>\n",
              "      <td>13559.0</td>\n",
              "      <td>14331.0</td>\n",
              "      <td>14948.0</td>\n",
              "      <td>15549.0</td>\n",
              "      <td>1518.0</td>\n",
              "      <td>1500.0</td>\n",
              "      <td>1000.0</td>\n",
              "      <td>1000.0</td>\n",
              "      <td>1000.0</td>\n",
              "      <td>5000.0</td>\n",
              "    </tr>\n",
              "    <tr>\n",
              "      <th>3</th>\n",
              "      <td>50000</td>\n",
              "      <td>37.0</td>\n",
              "      <td>46990.0</td>\n",
              "      <td>48233.0</td>\n",
              "      <td>49291.0</td>\n",
              "      <td>28314.0</td>\n",
              "      <td>28959.0</td>\n",
              "      <td>29547.0</td>\n",
              "      <td>2000.0</td>\n",
              "      <td>2019.0</td>\n",
              "      <td>1200.0</td>\n",
              "      <td>1100.0</td>\n",
              "      <td>1069.0</td>\n",
              "      <td>1000.0</td>\n",
              "    </tr>\n",
              "    <tr>\n",
              "      <th>4</th>\n",
              "      <td>50000</td>\n",
              "      <td>57.0</td>\n",
              "      <td>8617.0</td>\n",
              "      <td>5670.0</td>\n",
              "      <td>35835.0</td>\n",
              "      <td>20940.0</td>\n",
              "      <td>19146.0</td>\n",
              "      <td>19131.0</td>\n",
              "      <td>2000.0</td>\n",
              "      <td>36681.0</td>\n",
              "      <td>10000.0</td>\n",
              "      <td>9000.0</td>\n",
              "      <td>689.0</td>\n",
              "      <td>679.0</td>\n",
              "    </tr>\n",
              "  </tbody>\n",
              "</table>\n",
              "</div>\n",
              "      <button class=\"colab-df-convert\" onclick=\"convertToInteractive('df-fdeadded-8edc-45be-ae4f-0ec2c4b1b9f3')\"\n",
              "              title=\"Convert this dataframe to an interactive table.\"\n",
              "              style=\"display:none;\">\n",
              "        \n",
              "  <svg xmlns=\"http://www.w3.org/2000/svg\" height=\"24px\"viewBox=\"0 0 24 24\"\n",
              "       width=\"24px\">\n",
              "    <path d=\"M0 0h24v24H0V0z\" fill=\"none\"/>\n",
              "    <path d=\"M18.56 5.44l.94 2.06.94-2.06 2.06-.94-2.06-.94-.94-2.06-.94 2.06-2.06.94zm-11 1L8.5 8.5l.94-2.06 2.06-.94-2.06-.94L8.5 2.5l-.94 2.06-2.06.94zm10 10l.94 2.06.94-2.06 2.06-.94-2.06-.94-.94-2.06-.94 2.06-2.06.94z\"/><path d=\"M17.41 7.96l-1.37-1.37c-.4-.4-.92-.59-1.43-.59-.52 0-1.04.2-1.43.59L10.3 9.45l-7.72 7.72c-.78.78-.78 2.05 0 2.83L4 21.41c.39.39.9.59 1.41.59.51 0 1.02-.2 1.41-.59l7.78-7.78 2.81-2.81c.8-.78.8-2.07 0-2.86zM5.41 20L4 18.59l7.72-7.72 1.47 1.35L5.41 20z\"/>\n",
              "  </svg>\n",
              "      </button>\n",
              "      \n",
              "  <style>\n",
              "    .colab-df-container {\n",
              "      display:flex;\n",
              "      flex-wrap:wrap;\n",
              "      gap: 12px;\n",
              "    }\n",
              "\n",
              "    .colab-df-convert {\n",
              "      background-color: #E8F0FE;\n",
              "      border: none;\n",
              "      border-radius: 50%;\n",
              "      cursor: pointer;\n",
              "      display: none;\n",
              "      fill: #1967D2;\n",
              "      height: 32px;\n",
              "      padding: 0 0 0 0;\n",
              "      width: 32px;\n",
              "    }\n",
              "\n",
              "    .colab-df-convert:hover {\n",
              "      background-color: #E2EBFA;\n",
              "      box-shadow: 0px 1px 2px rgba(60, 64, 67, 0.3), 0px 1px 3px 1px rgba(60, 64, 67, 0.15);\n",
              "      fill: #174EA6;\n",
              "    }\n",
              "\n",
              "    [theme=dark] .colab-df-convert {\n",
              "      background-color: #3B4455;\n",
              "      fill: #D2E3FC;\n",
              "    }\n",
              "\n",
              "    [theme=dark] .colab-df-convert:hover {\n",
              "      background-color: #434B5C;\n",
              "      box-shadow: 0px 1px 3px 1px rgba(0, 0, 0, 0.15);\n",
              "      filter: drop-shadow(0px 1px 2px rgba(0, 0, 0, 0.3));\n",
              "      fill: #FFFFFF;\n",
              "    }\n",
              "  </style>\n",
              "\n",
              "      <script>\n",
              "        const buttonEl =\n",
              "          document.querySelector('#df-fdeadded-8edc-45be-ae4f-0ec2c4b1b9f3 button.colab-df-convert');\n",
              "        buttonEl.style.display =\n",
              "          google.colab.kernel.accessAllowed ? 'block' : 'none';\n",
              "\n",
              "        async function convertToInteractive(key) {\n",
              "          const element = document.querySelector('#df-fdeadded-8edc-45be-ae4f-0ec2c4b1b9f3');\n",
              "          const dataTable =\n",
              "            await google.colab.kernel.invokeFunction('convertToInteractive',\n",
              "                                                     [key], {});\n",
              "          if (!dataTable) return;\n",
              "\n",
              "          const docLinkHtml = 'Like what you see? Visit the ' +\n",
              "            '<a target=\"_blank\" href=https://colab.research.google.com/notebooks/data_table.ipynb>data table notebook</a>'\n",
              "            + ' to learn more about interactive tables.';\n",
              "          element.innerHTML = '';\n",
              "          dataTable['output_type'] = 'display_data';\n",
              "          await google.colab.output.renderOutput(dataTable, element);\n",
              "          const docLink = document.createElement('div');\n",
              "          docLink.innerHTML = docLinkHtml;\n",
              "          element.appendChild(docLink);\n",
              "        }\n",
              "      </script>\n",
              "    </div>\n",
              "  </div>\n",
              "  "
            ]
          },
          "metadata": {},
          "execution_count": 22
        }
      ]
    },
    {
      "cell_type": "code",
      "source": [
        "n_df.shape"
      ],
      "metadata": {
        "colab": {
          "base_uri": "https://localhost:8080/"
        },
        "id": "IT4pErUPx5SB",
        "outputId": "e4c45442-ec65-4f5b-b02a-f8ad9c74dd28"
      },
      "execution_count": 23,
      "outputs": [
        {
          "output_type": "execute_result",
          "data": {
            "text/plain": [
              "(29997, 14)"
            ]
          },
          "metadata": {},
          "execution_count": 23
        }
      ]
    },
    {
      "cell_type": "markdown",
      "source": [
        "**Normalize before applying PCA!!!**"
      ],
      "metadata": {
        "id": "SanYdXr32_sd"
      }
    },
    {
      "cell_type": "code",
      "source": [
        "from sklearn import preprocessing"
      ],
      "metadata": {
        "id": "jw_1axfX3At9"
      },
      "execution_count": 24,
      "outputs": []
    },
    {
      "cell_type": "code",
      "source": [
        "sc_n_df = preprocessing.scale(n_df.dropna(axis=0)) ## Estandarizamos las variables para tenerlos en las mismas unidades, y centramos en la media\n",
        "sc_n_df = pd.DataFrame(sc_n_df, columns = n_df.columns)"
      ],
      "metadata": {
        "id": "uGbouubx3C5t"
      },
      "execution_count": 25,
      "outputs": []
    },
    {
      "cell_type": "code",
      "source": [
        "columnas_n_df = sc_n_df.columns # esta lista de columans la utilizaremos más adelante para mostrar los resultados"
      ],
      "metadata": {
        "id": "5ROkeF--2X55"
      },
      "execution_count": 26,
      "outputs": []
    },
    {
      "cell_type": "code",
      "source": [
        "sc_n_df.head()"
      ],
      "metadata": {
        "colab": {
          "base_uri": "https://localhost:8080/",
          "height": 206
        },
        "id": "87nSBd0w9AOM",
        "outputId": "e2b51220-7c7e-41f1-d024-ba4c06e04f20"
      },
      "execution_count": 27,
      "outputs": [
        {
          "output_type": "execute_result",
          "data": {
            "text/plain": [
              "   CreditAmount       Age  Saldo_Sep  Saldo_Ago  Saldo_Jul  Saldo_Jun  \\\n",
              "0     -1.136801 -1.245918  -0.643108  -0.648025  -0.668796  -0.673509   \n",
              "1     -0.366068 -1.028932  -0.659832  -0.667378  -0.640045  -0.622619   \n",
              "2     -0.597288 -0.160989  -0.299043  -0.494479  -0.483133  -0.450616   \n",
              "3     -0.905581  0.164490  -0.057888  -0.013730   0.032338  -0.233136   \n",
              "4     -0.905581  2.334348  -0.579202  -0.611933  -0.161779  -0.347825   \n",
              "\n",
              "   Saldo_May  Saldo_Abr  Pagos_Sep  Pagos_Ago  Pagos_Jul  Pagos_Jun  \\\n",
              "0  -0.664057  -0.655144  -0.341863  -0.227088  -0.296755  -0.308059   \n",
              "1  -0.607199  -0.600288  -0.341863  -0.213591  -0.239959  -0.244229   \n",
              "2  -0.418065  -0.393581  -0.250211  -0.191891  -0.239959  -0.244229   \n",
              "3  -0.187493  -0.158108  -0.221109  -0.169366  -0.228600  -0.237846   \n",
              "4  -0.348980  -0.333325  -0.221109   1.334956   0.271208   0.266414   \n",
              "\n",
              "   Pagos_May  Pagos_Abr  \n",
              "0  -0.314121  -0.293399  \n",
              "1  -0.314121  -0.180901  \n",
              "2  -0.248670  -0.012153  \n",
              "3  -0.244154  -0.237150  \n",
              "4  -0.269025  -0.255206  "
            ],
            "text/html": [
              "\n",
              "  <div id=\"df-d5f134a8-a9cf-426d-924f-5beffadca1bd\">\n",
              "    <div class=\"colab-df-container\">\n",
              "      <div>\n",
              "<style scoped>\n",
              "    .dataframe tbody tr th:only-of-type {\n",
              "        vertical-align: middle;\n",
              "    }\n",
              "\n",
              "    .dataframe tbody tr th {\n",
              "        vertical-align: top;\n",
              "    }\n",
              "\n",
              "    .dataframe thead th {\n",
              "        text-align: right;\n",
              "    }\n",
              "</style>\n",
              "<table border=\"1\" class=\"dataframe\">\n",
              "  <thead>\n",
              "    <tr style=\"text-align: right;\">\n",
              "      <th></th>\n",
              "      <th>CreditAmount</th>\n",
              "      <th>Age</th>\n",
              "      <th>Saldo_Sep</th>\n",
              "      <th>Saldo_Ago</th>\n",
              "      <th>Saldo_Jul</th>\n",
              "      <th>Saldo_Jun</th>\n",
              "      <th>Saldo_May</th>\n",
              "      <th>Saldo_Abr</th>\n",
              "      <th>Pagos_Sep</th>\n",
              "      <th>Pagos_Ago</th>\n",
              "      <th>Pagos_Jul</th>\n",
              "      <th>Pagos_Jun</th>\n",
              "      <th>Pagos_May</th>\n",
              "      <th>Pagos_Abr</th>\n",
              "    </tr>\n",
              "  </thead>\n",
              "  <tbody>\n",
              "    <tr>\n",
              "      <th>0</th>\n",
              "      <td>-1.136801</td>\n",
              "      <td>-1.245918</td>\n",
              "      <td>-0.643108</td>\n",
              "      <td>-0.648025</td>\n",
              "      <td>-0.668796</td>\n",
              "      <td>-0.673509</td>\n",
              "      <td>-0.664057</td>\n",
              "      <td>-0.655144</td>\n",
              "      <td>-0.341863</td>\n",
              "      <td>-0.227088</td>\n",
              "      <td>-0.296755</td>\n",
              "      <td>-0.308059</td>\n",
              "      <td>-0.314121</td>\n",
              "      <td>-0.293399</td>\n",
              "    </tr>\n",
              "    <tr>\n",
              "      <th>1</th>\n",
              "      <td>-0.366068</td>\n",
              "      <td>-1.028932</td>\n",
              "      <td>-0.659832</td>\n",
              "      <td>-0.667378</td>\n",
              "      <td>-0.640045</td>\n",
              "      <td>-0.622619</td>\n",
              "      <td>-0.607199</td>\n",
              "      <td>-0.600288</td>\n",
              "      <td>-0.341863</td>\n",
              "      <td>-0.213591</td>\n",
              "      <td>-0.239959</td>\n",
              "      <td>-0.244229</td>\n",
              "      <td>-0.314121</td>\n",
              "      <td>-0.180901</td>\n",
              "    </tr>\n",
              "    <tr>\n",
              "      <th>2</th>\n",
              "      <td>-0.597288</td>\n",
              "      <td>-0.160989</td>\n",
              "      <td>-0.299043</td>\n",
              "      <td>-0.494479</td>\n",
              "      <td>-0.483133</td>\n",
              "      <td>-0.450616</td>\n",
              "      <td>-0.418065</td>\n",
              "      <td>-0.393581</td>\n",
              "      <td>-0.250211</td>\n",
              "      <td>-0.191891</td>\n",
              "      <td>-0.239959</td>\n",
              "      <td>-0.244229</td>\n",
              "      <td>-0.248670</td>\n",
              "      <td>-0.012153</td>\n",
              "    </tr>\n",
              "    <tr>\n",
              "      <th>3</th>\n",
              "      <td>-0.905581</td>\n",
              "      <td>0.164490</td>\n",
              "      <td>-0.057888</td>\n",
              "      <td>-0.013730</td>\n",
              "      <td>0.032338</td>\n",
              "      <td>-0.233136</td>\n",
              "      <td>-0.187493</td>\n",
              "      <td>-0.158108</td>\n",
              "      <td>-0.221109</td>\n",
              "      <td>-0.169366</td>\n",
              "      <td>-0.228600</td>\n",
              "      <td>-0.237846</td>\n",
              "      <td>-0.244154</td>\n",
              "      <td>-0.237150</td>\n",
              "    </tr>\n",
              "    <tr>\n",
              "      <th>4</th>\n",
              "      <td>-0.905581</td>\n",
              "      <td>2.334348</td>\n",
              "      <td>-0.579202</td>\n",
              "      <td>-0.611933</td>\n",
              "      <td>-0.161779</td>\n",
              "      <td>-0.347825</td>\n",
              "      <td>-0.348980</td>\n",
              "      <td>-0.333325</td>\n",
              "      <td>-0.221109</td>\n",
              "      <td>1.334956</td>\n",
              "      <td>0.271208</td>\n",
              "      <td>0.266414</td>\n",
              "      <td>-0.269025</td>\n",
              "      <td>-0.255206</td>\n",
              "    </tr>\n",
              "  </tbody>\n",
              "</table>\n",
              "</div>\n",
              "      <button class=\"colab-df-convert\" onclick=\"convertToInteractive('df-d5f134a8-a9cf-426d-924f-5beffadca1bd')\"\n",
              "              title=\"Convert this dataframe to an interactive table.\"\n",
              "              style=\"display:none;\">\n",
              "        \n",
              "  <svg xmlns=\"http://www.w3.org/2000/svg\" height=\"24px\"viewBox=\"0 0 24 24\"\n",
              "       width=\"24px\">\n",
              "    <path d=\"M0 0h24v24H0V0z\" fill=\"none\"/>\n",
              "    <path d=\"M18.56 5.44l.94 2.06.94-2.06 2.06-.94-2.06-.94-.94-2.06-.94 2.06-2.06.94zm-11 1L8.5 8.5l.94-2.06 2.06-.94-2.06-.94L8.5 2.5l-.94 2.06-2.06.94zm10 10l.94 2.06.94-2.06 2.06-.94-2.06-.94-.94-2.06-.94 2.06-2.06.94z\"/><path d=\"M17.41 7.96l-1.37-1.37c-.4-.4-.92-.59-1.43-.59-.52 0-1.04.2-1.43.59L10.3 9.45l-7.72 7.72c-.78.78-.78 2.05 0 2.83L4 21.41c.39.39.9.59 1.41.59.51 0 1.02-.2 1.41-.59l7.78-7.78 2.81-2.81c.8-.78.8-2.07 0-2.86zM5.41 20L4 18.59l7.72-7.72 1.47 1.35L5.41 20z\"/>\n",
              "  </svg>\n",
              "      </button>\n",
              "      \n",
              "  <style>\n",
              "    .colab-df-container {\n",
              "      display:flex;\n",
              "      flex-wrap:wrap;\n",
              "      gap: 12px;\n",
              "    }\n",
              "\n",
              "    .colab-df-convert {\n",
              "      background-color: #E8F0FE;\n",
              "      border: none;\n",
              "      border-radius: 50%;\n",
              "      cursor: pointer;\n",
              "      display: none;\n",
              "      fill: #1967D2;\n",
              "      height: 32px;\n",
              "      padding: 0 0 0 0;\n",
              "      width: 32px;\n",
              "    }\n",
              "\n",
              "    .colab-df-convert:hover {\n",
              "      background-color: #E2EBFA;\n",
              "      box-shadow: 0px 1px 2px rgba(60, 64, 67, 0.3), 0px 1px 3px 1px rgba(60, 64, 67, 0.15);\n",
              "      fill: #174EA6;\n",
              "    }\n",
              "\n",
              "    [theme=dark] .colab-df-convert {\n",
              "      background-color: #3B4455;\n",
              "      fill: #D2E3FC;\n",
              "    }\n",
              "\n",
              "    [theme=dark] .colab-df-convert:hover {\n",
              "      background-color: #434B5C;\n",
              "      box-shadow: 0px 1px 3px 1px rgba(0, 0, 0, 0.15);\n",
              "      filter: drop-shadow(0px 1px 2px rgba(0, 0, 0, 0.3));\n",
              "      fill: #FFFFFF;\n",
              "    }\n",
              "  </style>\n",
              "\n",
              "      <script>\n",
              "        const buttonEl =\n",
              "          document.querySelector('#df-d5f134a8-a9cf-426d-924f-5beffadca1bd button.colab-df-convert');\n",
              "        buttonEl.style.display =\n",
              "          google.colab.kernel.accessAllowed ? 'block' : 'none';\n",
              "\n",
              "        async function convertToInteractive(key) {\n",
              "          const element = document.querySelector('#df-d5f134a8-a9cf-426d-924f-5beffadca1bd');\n",
              "          const dataTable =\n",
              "            await google.colab.kernel.invokeFunction('convertToInteractive',\n",
              "                                                     [key], {});\n",
              "          if (!dataTable) return;\n",
              "\n",
              "          const docLinkHtml = 'Like what you see? Visit the ' +\n",
              "            '<a target=\"_blank\" href=https://colab.research.google.com/notebooks/data_table.ipynb>data table notebook</a>'\n",
              "            + ' to learn more about interactive tables.';\n",
              "          element.innerHTML = '';\n",
              "          dataTable['output_type'] = 'display_data';\n",
              "          await google.colab.output.renderOutput(dataTable, element);\n",
              "          const docLink = document.createElement('div');\n",
              "          docLink.innerHTML = docLinkHtml;\n",
              "          element.appendChild(docLink);\n",
              "        }\n",
              "      </script>\n",
              "    </div>\n",
              "  </div>\n",
              "  "
            ]
          },
          "metadata": {},
          "execution_count": 27
        }
      ]
    },
    {
      "cell_type": "markdown",
      "source": [
        "**Realizamos Análisis PCA**"
      ],
      "metadata": {
        "id": "pTL37UFI3hb5"
      }
    },
    {
      "cell_type": "code",
      "source": [
        "pcanalisis = PCA(n_components=13) ## Son 13 componentes al ser sólo 14 variables, el máximo número de componentes principales posibles que reduzcan la dimensionalidad sería 13."
      ],
      "metadata": {
        "id": "Sh491Rc8vZWD"
      },
      "execution_count": 28,
      "outputs": []
    },
    {
      "cell_type": "markdown",
      "source": [
        "Se decidió calcular todos los componentes principales para después realizar el análisis y sólo quedarnos con los adecuados y ver en donde se podria englobar la mayor cantidad de varianza "
      ],
      "metadata": {
        "id": "IgVZ7b4LyDHD"
      }
    },
    {
      "cell_type": "code",
      "source": [
        "pcanalisis.fit(sc_n_df) ## Ajuste del PCA con información numérica disponible"
      ],
      "metadata": {
        "colab": {
          "base_uri": "https://localhost:8080/"
        },
        "id": "bvDqbtrpyLOF",
        "outputId": "d292489f-ba3c-4782-8257-1141ce50fd6a"
      },
      "execution_count": 29,
      "outputs": [
        {
          "output_type": "execute_result",
          "data": {
            "text/plain": [
              "PCA(n_components=13)"
            ]
          },
          "metadata": {},
          "execution_count": 29
        }
      ]
    },
    {
      "cell_type": "markdown",
      "source": [
        "**Resumen de resultados**"
      ],
      "metadata": {
        "id": "l4k5vWQPyezF"
      }
    },
    {
      "cell_type": "code",
      "source": [
        "pca_resumen = pd.DataFrame({'Desviación_Estándar': np.sqrt(pcanalisis.explained_variance_), \n",
        "                          'Prop_Varianza_explicada': pcanalisis.explained_variance_ratio_,\n",
        "                          'Acum_Prop_Varianza_explicada': np.cumsum(pcanalisis.explained_variance_ratio_)\n",
        "                          })\n",
        "pca_resumen = pca_resumen.transpose()\n",
        "pca_resumen.columns = ['PC1', 'PC2','PC3','PC4','PC5','PC6','PC7','PC8','PC9','PC10','PC11','PC12','PC13']\n",
        "pca_resumen.round(2)"
      ],
      "metadata": {
        "colab": {
          "base_uri": "https://localhost:8080/",
          "height": 143
        },
        "id": "Q-0MLjwPyWhN",
        "outputId": "a3de31fb-7301-4343-e371-cba9fcab0ae3"
      },
      "execution_count": 30,
      "outputs": [
        {
          "output_type": "execute_result",
          "data": {
            "text/plain": [
              "                               PC1   PC2   PC3   PC4   PC5   PC6   PC7   PC8  \\\n",
              "Desviación_Estándar           2.43  1.31  1.02  0.96  0.94  0.93  0.88  0.85   \n",
              "Prop_Varianza_explicada       0.42  0.12  0.07  0.07  0.06  0.06  0.06  0.05   \n",
              "Acum_Prop_Varianza_explicada  0.42  0.55  0.62  0.69  0.75  0.81  0.87  0.92   \n",
              "\n",
              "                               PC9  PC10  PC11  PC12  PC13  \n",
              "Desviación_Estándar           0.84  0.51  0.27   0.2  0.16  \n",
              "Prop_Varianza_explicada       0.05  0.02  0.01   0.0  0.00  \n",
              "Acum_Prop_Varianza_explicada  0.97  0.99  0.99   1.0  1.00  "
            ],
            "text/html": [
              "\n",
              "  <div id=\"df-87fc8beb-70b9-4529-b164-892b78f5891f\">\n",
              "    <div class=\"colab-df-container\">\n",
              "      <div>\n",
              "<style scoped>\n",
              "    .dataframe tbody tr th:only-of-type {\n",
              "        vertical-align: middle;\n",
              "    }\n",
              "\n",
              "    .dataframe tbody tr th {\n",
              "        vertical-align: top;\n",
              "    }\n",
              "\n",
              "    .dataframe thead th {\n",
              "        text-align: right;\n",
              "    }\n",
              "</style>\n",
              "<table border=\"1\" class=\"dataframe\">\n",
              "  <thead>\n",
              "    <tr style=\"text-align: right;\">\n",
              "      <th></th>\n",
              "      <th>PC1</th>\n",
              "      <th>PC2</th>\n",
              "      <th>PC3</th>\n",
              "      <th>PC4</th>\n",
              "      <th>PC5</th>\n",
              "      <th>PC6</th>\n",
              "      <th>PC7</th>\n",
              "      <th>PC8</th>\n",
              "      <th>PC9</th>\n",
              "      <th>PC10</th>\n",
              "      <th>PC11</th>\n",
              "      <th>PC12</th>\n",
              "      <th>PC13</th>\n",
              "    </tr>\n",
              "  </thead>\n",
              "  <tbody>\n",
              "    <tr>\n",
              "      <th>Desviación_Estándar</th>\n",
              "      <td>2.43</td>\n",
              "      <td>1.31</td>\n",
              "      <td>1.02</td>\n",
              "      <td>0.96</td>\n",
              "      <td>0.94</td>\n",
              "      <td>0.93</td>\n",
              "      <td>0.88</td>\n",
              "      <td>0.85</td>\n",
              "      <td>0.84</td>\n",
              "      <td>0.51</td>\n",
              "      <td>0.27</td>\n",
              "      <td>0.2</td>\n",
              "      <td>0.16</td>\n",
              "    </tr>\n",
              "    <tr>\n",
              "      <th>Prop_Varianza_explicada</th>\n",
              "      <td>0.42</td>\n",
              "      <td>0.12</td>\n",
              "      <td>0.07</td>\n",
              "      <td>0.07</td>\n",
              "      <td>0.06</td>\n",
              "      <td>0.06</td>\n",
              "      <td>0.06</td>\n",
              "      <td>0.05</td>\n",
              "      <td>0.05</td>\n",
              "      <td>0.02</td>\n",
              "      <td>0.01</td>\n",
              "      <td>0.0</td>\n",
              "      <td>0.00</td>\n",
              "    </tr>\n",
              "    <tr>\n",
              "      <th>Acum_Prop_Varianza_explicada</th>\n",
              "      <td>0.42</td>\n",
              "      <td>0.55</td>\n",
              "      <td>0.62</td>\n",
              "      <td>0.69</td>\n",
              "      <td>0.75</td>\n",
              "      <td>0.81</td>\n",
              "      <td>0.87</td>\n",
              "      <td>0.92</td>\n",
              "      <td>0.97</td>\n",
              "      <td>0.99</td>\n",
              "      <td>0.99</td>\n",
              "      <td>1.0</td>\n",
              "      <td>1.00</td>\n",
              "    </tr>\n",
              "  </tbody>\n",
              "</table>\n",
              "</div>\n",
              "      <button class=\"colab-df-convert\" onclick=\"convertToInteractive('df-87fc8beb-70b9-4529-b164-892b78f5891f')\"\n",
              "              title=\"Convert this dataframe to an interactive table.\"\n",
              "              style=\"display:none;\">\n",
              "        \n",
              "  <svg xmlns=\"http://www.w3.org/2000/svg\" height=\"24px\"viewBox=\"0 0 24 24\"\n",
              "       width=\"24px\">\n",
              "    <path d=\"M0 0h24v24H0V0z\" fill=\"none\"/>\n",
              "    <path d=\"M18.56 5.44l.94 2.06.94-2.06 2.06-.94-2.06-.94-.94-2.06-.94 2.06-2.06.94zm-11 1L8.5 8.5l.94-2.06 2.06-.94-2.06-.94L8.5 2.5l-.94 2.06-2.06.94zm10 10l.94 2.06.94-2.06 2.06-.94-2.06-.94-.94-2.06-.94 2.06-2.06.94z\"/><path d=\"M17.41 7.96l-1.37-1.37c-.4-.4-.92-.59-1.43-.59-.52 0-1.04.2-1.43.59L10.3 9.45l-7.72 7.72c-.78.78-.78 2.05 0 2.83L4 21.41c.39.39.9.59 1.41.59.51 0 1.02-.2 1.41-.59l7.78-7.78 2.81-2.81c.8-.78.8-2.07 0-2.86zM5.41 20L4 18.59l7.72-7.72 1.47 1.35L5.41 20z\"/>\n",
              "  </svg>\n",
              "      </button>\n",
              "      \n",
              "  <style>\n",
              "    .colab-df-container {\n",
              "      display:flex;\n",
              "      flex-wrap:wrap;\n",
              "      gap: 12px;\n",
              "    }\n",
              "\n",
              "    .colab-df-convert {\n",
              "      background-color: #E8F0FE;\n",
              "      border: none;\n",
              "      border-radius: 50%;\n",
              "      cursor: pointer;\n",
              "      display: none;\n",
              "      fill: #1967D2;\n",
              "      height: 32px;\n",
              "      padding: 0 0 0 0;\n",
              "      width: 32px;\n",
              "    }\n",
              "\n",
              "    .colab-df-convert:hover {\n",
              "      background-color: #E2EBFA;\n",
              "      box-shadow: 0px 1px 2px rgba(60, 64, 67, 0.3), 0px 1px 3px 1px rgba(60, 64, 67, 0.15);\n",
              "      fill: #174EA6;\n",
              "    }\n",
              "\n",
              "    [theme=dark] .colab-df-convert {\n",
              "      background-color: #3B4455;\n",
              "      fill: #D2E3FC;\n",
              "    }\n",
              "\n",
              "    [theme=dark] .colab-df-convert:hover {\n",
              "      background-color: #434B5C;\n",
              "      box-shadow: 0px 1px 3px 1px rgba(0, 0, 0, 0.15);\n",
              "      filter: drop-shadow(0px 1px 2px rgba(0, 0, 0, 0.3));\n",
              "      fill: #FFFFFF;\n",
              "    }\n",
              "  </style>\n",
              "\n",
              "      <script>\n",
              "        const buttonEl =\n",
              "          document.querySelector('#df-87fc8beb-70b9-4529-b164-892b78f5891f button.colab-df-convert');\n",
              "        buttonEl.style.display =\n",
              "          google.colab.kernel.accessAllowed ? 'block' : 'none';\n",
              "\n",
              "        async function convertToInteractive(key) {\n",
              "          const element = document.querySelector('#df-87fc8beb-70b9-4529-b164-892b78f5891f');\n",
              "          const dataTable =\n",
              "            await google.colab.kernel.invokeFunction('convertToInteractive',\n",
              "                                                     [key], {});\n",
              "          if (!dataTable) return;\n",
              "\n",
              "          const docLinkHtml = 'Like what you see? Visit the ' +\n",
              "            '<a target=\"_blank\" href=https://colab.research.google.com/notebooks/data_table.ipynb>data table notebook</a>'\n",
              "            + ' to learn more about interactive tables.';\n",
              "          element.innerHTML = '';\n",
              "          dataTable['output_type'] = 'display_data';\n",
              "          await google.colab.output.renderOutput(dataTable, element);\n",
              "          const docLink = document.createElement('div');\n",
              "          docLink.innerHTML = docLinkHtml;\n",
              "          element.appendChild(docLink);\n",
              "        }\n",
              "      </script>\n",
              "    </div>\n",
              "  </div>\n",
              "  "
            ]
          },
          "metadata": {},
          "execution_count": 30
        }
      ]
    },
    {
      "cell_type": "markdown",
      "source": [
        "Observamos gráficamente la proporción de información capturada en el PCA (utilizando Scree Plot)"
      ],
      "metadata": {
        "id": "JzGs83Ilyy5S"
      }
    },
    {
      "cell_type": "code",
      "source": [
        "## Se utilizó las siguientes líneas de código aprendidas y replicadas en clase\n",
        "\n",
        "PC_components = np.arange(pcanalisis.n_components_) + 1\n",
        "#PC_components\n",
        "\n",
        "_ = sns.set(style = 'whitegrid', \n",
        "            font_scale = 1.2\n",
        "            )\n",
        "\n",
        "fig, ax = plt.subplots(figsize=(10, 7))\n",
        "\n",
        "_ = sns.barplot(x = PC_components, \n",
        "                y = pcanalisis.explained_variance_ratio_, \n",
        "                color = 'b',\n",
        "                label='Varianza explicada',\n",
        "                )\n",
        "\n",
        "_ = sns.lineplot(x = PC_components-1, \n",
        "                 y = np.cumsum(pcanalisis.explained_variance_ratio_), \n",
        "                 color = 'black', \n",
        "                 linestyle = '-', \n",
        "                 linewidth = 2, \n",
        "                 marker = 'o', \n",
        "                 markersize = 8, \n",
        "                 label = 'Varianza Acumulada'\n",
        "                 )\n",
        "\n",
        "plt.title('Scree Plot')\n",
        "plt.xlabel('N-th Principal Component')\n",
        "plt.ylabel('Variance Explained')\n",
        "plt.legend(loc='lower right')\n",
        "plt.ylim(0, 1)\n",
        "\n",
        "plt.show()"
      ],
      "metadata": {
        "colab": {
          "base_uri": "https://localhost:8080/",
          "height": 469
        },
        "id": "OwoS2-USzWiY",
        "outputId": "4547d520-e098-4858-b51f-2444810df985"
      },
      "execution_count": 31,
      "outputs": [
        {
          "output_type": "display_data",
          "data": {
            "text/plain": [
              "<Figure size 720x504 with 1 Axes>"
            ],
            "image/png": "[encoded data removed]"
          },
          "metadata": {}
        }
      ]
    },
    {
      "cell_type": "markdown",
      "source": [
        "**Respuesta Paso 1:**\n",
        "\n",
        "Con los resultados anteriores, de la tabla (PCA_resumen) y la gráfica (Scree Plot), concluimos que es pertinente utilizar los primeros 7 Componentes Principales, ya que con esto capturamos el 87% de la varianza del total de variables numéricas. Aunque, observamosque en los primeros 2 componentes se agrupa la mayor cantidad de varianza pero es hasta el 13 avo componente donde se agrupa toda la varianza.\n",
        "\n",
        "En otras palabras, transoformando las variables a estos compomentes (PC1, PC2, PC3, PC4, PC5, PC6, PC7) y sólo utilizando esta información, reducimos de 14 a 7 variables (50% de las numéricas), capturando el 87% de la información. \n",
        "\n",
        "No utilizamos más componentes porque cada componente extra aporta a más 5% extra de información, aumentando la dimensionalidad por lo que no es un lift significativo en la información a utilizar, recordemos que al final es una transformacion de los datos originales."
      ],
      "metadata": {
        "id": "oxvt4ds9zkgo"
      }
    },
    {
      "cell_type": "markdown",
      "source": [
        "\n",
        "\n",
        "---\n",
        "\n",
        "# **Paso 2:** Interprete cada componente principal en términos de las variables originales\n",
        "\n",
        "Examine la magnitud y la dirección de los coeficientes de las variables originales.\n",
        "Nota: Cuanto mayor sea el valor absoluto del coeficiente, más importante será la variable correspondiente en el cálculo del componente.\n",
        "\n",
        "\n",
        "\n",
        "---\n",
        "\n",
        "\n",
        "\n"
      ],
      "metadata": {
        "id": "vCfD-8yH1nmF"
      }
    },
    {
      "cell_type": "code",
      "source": [
        "pcaComponentes_df = pd.DataFrame(pcanalisis.components_.round(4).transpose(), \n",
        "                                columns=['PC1', 'PC2','PC3','PC4','PC5','PC6','PC7','PC8','PC9','PC10','PC11','PC12','PC13'],\n",
        "                                index= columnas_n_df\n",
        "                                )\n",
        "pcaComponentes_df"
      ],
      "metadata": {
        "colab": {
          "base_uri": "https://localhost:8080/",
          "height": 488
        },
        "id": "i8ZCljxJ1vh1",
        "outputId": "55eae8f7-8997-476f-8d71-47cf130db4ea"
      },
      "execution_count": 32,
      "outputs": [
        {
          "output_type": "execute_result",
          "data": {
            "text/plain": [
              "                 PC1     PC2     PC3     PC4     PC5     PC6     PC7     PC8  \\\n",
              "CreditAmount  0.1655  0.3008 -0.3786 -0.1998 -0.0303 -0.0810  0.1111 -0.0547   \n",
              "Age           0.0327  0.0720 -0.8700  0.3370  0.0340  0.0731 -0.0784  0.0311   \n",
              "Saldo_Sep     0.3724 -0.1910 -0.0334 -0.0613 -0.0386 -0.0448  0.0073  0.0060   \n",
              "Saldo_Ago     0.3831 -0.1752 -0.0016  0.0089 -0.0807 -0.0323 -0.0322 -0.1343   \n",
              "Saldo_Jul     0.3881 -0.1274  0.0347  0.0618 -0.1190  0.0920 -0.1184  0.0930   \n",
              "Saldo_Jun     0.3915 -0.1204  0.0339  0.0744 -0.0254  0.0109  0.1244  0.0398   \n",
              "Saldo_May     0.3883 -0.1065  0.0334  0.0383  0.1139 -0.0904 -0.0075  0.0497   \n",
              "Saldo_Abr     0.3809 -0.0936  0.0177 -0.0738  0.1545  0.0766  0.0083  0.0023   \n",
              "Pagos_Sep     0.1353  0.3830  0.1730  0.3619 -0.2300  0.0253 -0.2018 -0.7483   \n",
              "Pagos_Ago     0.1169  0.4084  0.2003  0.3468 -0.1759  0.3975 -0.2781  0.5777   \n",
              "Pagos_Jul     0.1282  0.3924  0.1219  0.2448  0.2475 -0.0918  0.7854  0.0682   \n",
              "Pagos_Jun     0.1172  0.3493  0.0625 -0.0934  0.6107 -0.4601 -0.4637  0.0775   \n",
              "Pagos_May     0.1139  0.3042 -0.0602 -0.6100  0.1526  0.6143  0.0137 -0.1622   \n",
              "Pagos_Abr     0.1060  0.3230 -0.0493 -0.3667 -0.6299 -0.4542  0.0259  0.1861   \n",
              "\n",
              "                 PC9    PC10    PC11    PC12    PC13  \n",
              "CreditAmount -0.8216 -0.0295 -0.0063  0.0156 -0.0007  \n",
              "Age           0.3311 -0.0090  0.0003 -0.0013  0.0002  \n",
              "Saldo_Sep     0.0089  0.5667  0.4171 -0.4331 -0.1878  \n",
              "Saldo_Ago     0.0170  0.3869  0.0383  0.3475  0.3374  \n",
              "Saldo_Jul    -0.0198  0.1228 -0.4858  0.4942 -0.0956  \n",
              "Saldo_Jun     0.0188 -0.2041 -0.5252 -0.4942 -0.3501  \n",
              "Saldo_May     0.0232 -0.4203  0.0736 -0.2441  0.7161  \n",
              "Saldo_Abr     0.0607 -0.4897  0.5100  0.3370 -0.4324  \n",
              "Pagos_Sep     0.0285 -0.0601  0.0461 -0.0676 -0.0455  \n",
              "Pagos_Ago    -0.1161  0.0494  0.1473 -0.0686  0.0398  \n",
              "Pagos_Jul     0.1522  0.1441  0.0017  0.1232  0.0233  \n",
              "Pagos_Jun     0.0970  0.1257 -0.1132  0.0028 -0.0780  \n",
              "Pagos_May     0.2540  0.0607 -0.0986 -0.0684  0.0945  \n",
              "Pagos_Abr     0.3142 -0.0930  0.0302  0.0246 -0.0142  "
            ],
            "text/html": [
              "\n",
              "  <div id=\"df-6d75e72a-8254-44fa-952e-97b82a9224d3\">\n",
              "    <div class=\"colab-df-container\">\n",
              "      <div>\n",
              "<style scoped>\n",
              "    .dataframe tbody tr th:only-of-type {\n",
              "        vertical-align: middle;\n",
              "    }\n",
              "\n",
              "    .dataframe tbody tr th {\n",
              "        vertical-align: top;\n",
              "    }\n",
              "\n",
              "    .dataframe thead th {\n",
              "        text-align: right;\n",
              "    }\n",
              "</style>\n",
              "<table border=\"1\" class=\"dataframe\">\n",
              "  <thead>\n",
              "    <tr style=\"text-align: right;\">\n",
              "      <th></th>\n",
              "      <th>PC1</th>\n",
              "      <th>PC2</th>\n",
              "      <th>PC3</th>\n",
              "      <th>PC4</th>\n",
              "      <th>PC5</th>\n",
              "      <th>PC6</th>\n",
              "      <th>PC7</th>\n",
              "      <th>PC8</th>\n",
              "      <th>PC9</th>\n",
              "      <th>PC10</th>\n",
              "      <th>PC11</th>\n",
              "      <th>PC12</th>\n",
              "      <th>PC13</th>\n",
              "    </tr>\n",
              "  </thead>\n",
              "  <tbody>\n",
              "    <tr>\n",
              "      <th>CreditAmount</th>\n",
              "      <td>0.1655</td>\n",
              "      <td>0.3008</td>\n",
              "      <td>-0.3786</td>\n",
              "      <td>-0.1998</td>\n",
              "      <td>-0.0303</td>\n",
              "      <td>-0.0810</td>\n",
              "      <td>0.1111</td>\n",
              "      <td>-0.0547</td>\n",
              "      <td>-0.8216</td>\n",
              "      <td>-0.0295</td>\n",
              "      <td>-0.0063</td>\n",
              "      <td>0.0156</td>\n",
              "      <td>-0.0007</td>\n",
              "    </tr>\n",
              "    <tr>\n",
              "      <th>Age</th>\n",
              "      <td>0.0327</td>\n",
              "      <td>0.0720</td>\n",
              "      <td>-0.8700</td>\n",
              "      <td>0.3370</td>\n",
              "      <td>0.0340</td>\n",
              "      <td>0.0731</td>\n",
              "      <td>-0.0784</td>\n",
              "      <td>0.0311</td>\n",
              "      <td>0.3311</td>\n",
              "      <td>-0.0090</td>\n",
              "      <td>0.0003</td>\n",
              "      <td>-0.0013</td>\n",
              "      <td>0.0002</td>\n",
              "    </tr>\n",
              "    <tr>\n",
              "      <th>Saldo_Sep</th>\n",
              "      <td>0.3724</td>\n",
              "      <td>-0.1910</td>\n",
              "      <td>-0.0334</td>\n",
              "      <td>-0.0613</td>\n",
              "      <td>-0.0386</td>\n",
              "      <td>-0.0448</td>\n",
              "      <td>0.0073</td>\n",
              "      <td>0.0060</td>\n",
              "      <td>0.0089</td>\n",
              "      <td>0.5667</td>\n",
              "      <td>0.4171</td>\n",
              "      <td>-0.4331</td>\n",
              "      <td>-0.1878</td>\n",
              "    </tr>\n",
              "    <tr>\n",
              "      <th>Saldo_Ago</th>\n",
              "      <td>0.3831</td>\n",
              "      <td>-0.1752</td>\n",
              "      <td>-0.0016</td>\n",
              "      <td>0.0089</td>\n",
              "      <td>-0.0807</td>\n",
              "      <td>-0.0323</td>\n",
              "      <td>-0.0322</td>\n",
              "      <td>-0.1343</td>\n",
              "      <td>0.0170</td>\n",
              "      <td>0.3869</td>\n",
              "      <td>0.0383</td>\n",
              "      <td>0.3475</td>\n",
              "      <td>0.3374</td>\n",
              "    </tr>\n",
              "    <tr>\n",
              "      <th>Saldo_Jul</th>\n",
              "      <td>0.3881</td>\n",
              "      <td>-0.1274</td>\n",
              "      <td>0.0347</td>\n",
              "      <td>0.0618</td>\n",
              "      <td>-0.1190</td>\n",
              "      <td>0.0920</td>\n",
              "      <td>-0.1184</td>\n",
              "      <td>0.0930</td>\n",
              "      <td>-0.0198</td>\n",
              "      <td>0.1228</td>\n",
              "      <td>-0.4858</td>\n",
              "      <td>0.4942</td>\n",
              "      <td>-0.0956</td>\n",
              "    </tr>\n",
              "    <tr>\n",
              "      <th>Saldo_Jun</th>\n",
              "      <td>0.3915</td>\n",
              "      <td>-0.1204</td>\n",
              "      <td>0.0339</td>\n",
              "      <td>0.0744</td>\n",
              "      <td>-0.0254</td>\n",
              "      <td>0.0109</td>\n",
              "      <td>0.1244</td>\n",
              "      <td>0.0398</td>\n",
              "      <td>0.0188</td>\n",
              "      <td>-0.2041</td>\n",
              "      <td>-0.5252</td>\n",
              "      <td>-0.4942</td>\n",
              "      <td>-0.3501</td>\n",
              "    </tr>\n",
              "    <tr>\n",
              "      <th>Saldo_May</th>\n",
              "      <td>0.3883</td>\n",
              "      <td>-0.1065</td>\n",
              "      <td>0.0334</td>\n",
              "      <td>0.0383</td>\n",
              "      <td>0.1139</td>\n",
              "      <td>-0.0904</td>\n",
              "      <td>-0.0075</td>\n",
              "      <td>0.0497</td>\n",
              "      <td>0.0232</td>\n",
              "      <td>-0.4203</td>\n",
              "      <td>0.0736</td>\n",
              "      <td>-0.2441</td>\n",
              "      <td>0.7161</td>\n",
              "    </tr>\n",
              "    <tr>\n",
              "      <th>Saldo_Abr</th>\n",
              "      <td>0.3809</td>\n",
              "      <td>-0.0936</td>\n",
              "      <td>0.0177</td>\n",
              "      <td>-0.0738</td>\n",
              "      <td>0.1545</td>\n",
              "      <td>0.0766</td>\n",
              "      <td>0.0083</td>\n",
              "      <td>0.0023</td>\n",
              "      <td>0.0607</td>\n",
              "      <td>-0.4897</td>\n",
              "      <td>0.5100</td>\n",
              "      <td>0.3370</td>\n",
              "      <td>-0.4324</td>\n",
              "    </tr>\n",
              "    <tr>\n",
              "      <th>Pagos_Sep</th>\n",
              "      <td>0.1353</td>\n",
              "      <td>0.3830</td>\n",
              "      <td>0.1730</td>\n",
              "      <td>0.3619</td>\n",
              "      <td>-0.2300</td>\n",
              "      <td>0.0253</td>\n",
              "      <td>-0.2018</td>\n",
              "      <td>-0.7483</td>\n",
              "      <td>0.0285</td>\n",
              "      <td>-0.0601</td>\n",
              "      <td>0.0461</td>\n",
              "      <td>-0.0676</td>\n",
              "      <td>-0.0455</td>\n",
              "    </tr>\n",
              "    <tr>\n",
              "      <th>Pagos_Ago</th>\n",
              "      <td>0.1169</td>\n",
              "      <td>0.4084</td>\n",
              "      <td>0.2003</td>\n",
              "      <td>0.3468</td>\n",
              "      <td>-0.1759</td>\n",
              "      <td>0.3975</td>\n",
              "      <td>-0.2781</td>\n",
              "      <td>0.5777</td>\n",
              "      <td>-0.1161</td>\n",
              "      <td>0.0494</td>\n",
              "      <td>0.1473</td>\n",
              "      <td>-0.0686</td>\n",
              "      <td>0.0398</td>\n",
              "    </tr>\n",
              "    <tr>\n",
              "      <th>Pagos_Jul</th>\n",
              "      <td>0.1282</td>\n",
              "      <td>0.3924</td>\n",
              "      <td>0.1219</td>\n",
              "      <td>0.2448</td>\n",
              "      <td>0.2475</td>\n",
              "      <td>-0.0918</td>\n",
              "      <td>0.7854</td>\n",
              "      <td>0.0682</td>\n",
              "      <td>0.1522</td>\n",
              "      <td>0.1441</td>\n",
              "      <td>0.0017</td>\n",
              "      <td>0.1232</td>\n",
              "      <td>0.0233</td>\n",
              "    </tr>\n",
              "    <tr>\n",
              "      <th>Pagos_Jun</th>\n",
              "      <td>0.1172</td>\n",
              "      <td>0.3493</td>\n",
              "      <td>0.0625</td>\n",
              "      <td>-0.0934</td>\n",
              "      <td>0.6107</td>\n",
              "      <td>-0.4601</td>\n",
              "      <td>-0.4637</td>\n",
              "      <td>0.0775</td>\n",
              "      <td>0.0970</td>\n",
              "      <td>0.1257</td>\n",
              "      <td>-0.1132</td>\n",
              "      <td>0.0028</td>\n",
              "      <td>-0.0780</td>\n",
              "    </tr>\n",
              "    <tr>\n",
              "      <th>Pagos_May</th>\n",
              "      <td>0.1139</td>\n",
              "      <td>0.3042</td>\n",
              "      <td>-0.0602</td>\n",
              "      <td>-0.6100</td>\n",
              "      <td>0.1526</td>\n",
              "      <td>0.6143</td>\n",
              "      <td>0.0137</td>\n",
              "      <td>-0.1622</td>\n",
              "      <td>0.2540</td>\n",
              "      <td>0.0607</td>\n",
              "      <td>-0.0986</td>\n",
              "      <td>-0.0684</td>\n",
              "      <td>0.0945</td>\n",
              "    </tr>\n",
              "    <tr>\n",
              "      <th>Pagos_Abr</th>\n",
              "      <td>0.1060</td>\n",
              "      <td>0.3230</td>\n",
              "      <td>-0.0493</td>\n",
              "      <td>-0.3667</td>\n",
              "      <td>-0.6299</td>\n",
              "      <td>-0.4542</td>\n",
              "      <td>0.0259</td>\n",
              "      <td>0.1861</td>\n",
              "      <td>0.3142</td>\n",
              "      <td>-0.0930</td>\n",
              "      <td>0.0302</td>\n",
              "      <td>0.0246</td>\n",
              "      <td>-0.0142</td>\n",
              "    </tr>\n",
              "  </tbody>\n",
              "</table>\n",
              "</div>\n",
              "      <button class=\"colab-df-convert\" onclick=\"convertToInteractive('df-6d75e72a-8254-44fa-952e-97b82a9224d3')\"\n",
              "              title=\"Convert this dataframe to an interactive table.\"\n",
              "              style=\"display:none;\">\n",
              "        \n",
              "  <svg xmlns=\"http://www.w3.org/2000/svg\" height=\"24px\"viewBox=\"0 0 24 24\"\n",
              "       width=\"24px\">\n",
              "    <path d=\"M0 0h24v24H0V0z\" fill=\"none\"/>\n",
              "    <path d=\"M18.56 5.44l.94 2.06.94-2.06 2.06-.94-2.06-.94-.94-2.06-.94 2.06-2.06.94zm-11 1L8.5 8.5l.94-2.06 2.06-.94-2.06-.94L8.5 2.5l-.94 2.06-2.06.94zm10 10l.94 2.06.94-2.06 2.06-.94-2.06-.94-.94-2.06-.94 2.06-2.06.94z\"/><path d=\"M17.41 7.96l-1.37-1.37c-.4-.4-.92-.59-1.43-.59-.52 0-1.04.2-1.43.59L10.3 9.45l-7.72 7.72c-.78.78-.78 2.05 0 2.83L4 21.41c.39.39.9.59 1.41.59.51 0 1.02-.2 1.41-.59l7.78-7.78 2.81-2.81c.8-.78.8-2.07 0-2.86zM5.41 20L4 18.59l7.72-7.72 1.47 1.35L5.41 20z\"/>\n",
              "  </svg>\n",
              "      </button>\n",
              "      \n",
              "  <style>\n",
              "    .colab-df-container {\n",
              "      display:flex;\n",
              "      flex-wrap:wrap;\n",
              "      gap: 12px;\n",
              "    }\n",
              "\n",
              "    .colab-df-convert {\n",
              "      background-color: #E8F0FE;\n",
              "      border: none;\n",
              "      border-radius: 50%;\n",
              "      cursor: pointer;\n",
              "      display: none;\n",
              "      fill: #1967D2;\n",
              "      height: 32px;\n",
              "      padding: 0 0 0 0;\n",
              "      width: 32px;\n",
              "    }\n",
              "\n",
              "    .colab-df-convert:hover {\n",
              "      background-color: #E2EBFA;\n",
              "      box-shadow: 0px 1px 2px rgba(60, 64, 67, 0.3), 0px 1px 3px 1px rgba(60, 64, 67, 0.15);\n",
              "      fill: #174EA6;\n",
              "    }\n",
              "\n",
              "    [theme=dark] .colab-df-convert {\n",
              "      background-color: #3B4455;\n",
              "      fill: #D2E3FC;\n",
              "    }\n",
              "\n",
              "    [theme=dark] .colab-df-convert:hover {\n",
              "      background-color: #434B5C;\n",
              "      box-shadow: 0px 1px 3px 1px rgba(0, 0, 0, 0.15);\n",
              "      filter: drop-shadow(0px 1px 2px rgba(0, 0, 0, 0.3));\n",
              "      fill: #FFFFFF;\n",
              "    }\n",
              "  </style>\n",
              "\n",
              "      <script>\n",
              "        const buttonEl =\n",
              "          document.querySelector('#df-6d75e72a-8254-44fa-952e-97b82a9224d3 button.colab-df-convert');\n",
              "        buttonEl.style.display =\n",
              "          google.colab.kernel.accessAllowed ? 'block' : 'none';\n",
              "\n",
              "        async function convertToInteractive(key) {\n",
              "          const element = document.querySelector('#df-6d75e72a-8254-44fa-952e-97b82a9224d3');\n",
              "          const dataTable =\n",
              "            await google.colab.kernel.invokeFunction('convertToInteractive',\n",
              "                                                     [key], {});\n",
              "          if (!dataTable) return;\n",
              "\n",
              "          const docLinkHtml = 'Like what you see? Visit the ' +\n",
              "            '<a target=\"_blank\" href=https://colab.research.google.com/notebooks/data_table.ipynb>data table notebook</a>'\n",
              "            + ' to learn more about interactive tables.';\n",
              "          element.innerHTML = '';\n",
              "          dataTable['output_type'] = 'display_data';\n",
              "          await google.colab.output.renderOutput(dataTable, element);\n",
              "          const docLink = document.createElement('div');\n",
              "          docLink.innerHTML = docLinkHtml;\n",
              "          element.appendChild(docLink);\n",
              "        }\n",
              "      </script>\n",
              "    </div>\n",
              "  </div>\n",
              "  "
            ]
          },
          "metadata": {},
          "execution_count": 32
        }
      ]
    },
    {
      "cell_type": "markdown",
      "source": [
        "**PC 1**"
      ],
      "metadata": {
        "id": "RkyfLK2C2NY5"
      }
    },
    {
      "cell_type": "code",
      "source": [
        "print('Variables MÁS importantes, y su coeficiente para el componente Principal 1:')\n",
        "print('\\n')\n",
        "print(pcaComponentes_df.PC1.nlargest())\n",
        "print('\\n')\n",
        "print('Variables MENOS importantes, y su coeficiente para el componente Principal 1:')\n",
        "print('\\n')\n",
        "print(pcaComponentes_df.PC1.nsmallest())"
      ],
      "metadata": {
        "colab": {
          "base_uri": "https://localhost:8080/"
        },
        "id": "7Dfk1UnZ-8Mi",
        "outputId": "8d9e2741-9531-47ce-cfc6-31f6f896a1e0"
      },
      "execution_count": 33,
      "outputs": [
        {
          "output_type": "stream",
          "name": "stdout",
          "text": [
            "Variables MÁS importantes, y su coeficiente para el componente Principal 1:\n",
            "\n",
            "\n",
            "Saldo_Jun    0.3915\n",
            "Saldo_May    0.3883\n",
            "Saldo_Jul    0.3881\n",
            "Saldo_Ago    0.3831\n",
            "Saldo_Abr    0.3809\n",
            "Name: PC1, dtype: float64\n",
            "\n",
            "\n",
            "Variables MENOS importantes, y su coeficiente para el componente Principal 1:\n",
            "\n",
            "\n",
            "Age          0.0327\n",
            "Pagos_Abr    0.1060\n",
            "Pagos_May    0.1139\n",
            "Pagos_Ago    0.1169\n",
            "Pagos_Jun    0.1172\n",
            "Name: PC1, dtype: float64\n"
          ]
        }
      ]
    },
    {
      "cell_type": "markdown",
      "source": [
        "INTERPRETACIÓN\n",
        "\n",
        "Observamos que de la retroalimenacion de los componenetes podemos ver que es hasta 0.3 donde se guarda la mayoria de la varianza, por lo que no ha un componente unico donde se agrupe mucha variaznza. Esto tambien asociado al tipo de vsriables que se estan analizando."
      ],
      "metadata": {
        "id": "86JsfqIj-HEE"
      }
    },
    {
      "cell_type": "code",
      "source": [],
      "metadata": {
        "id": "R3bvOB2G-LNd"
      },
      "execution_count": 33,
      "outputs": []
    },
    {
      "cell_type": "markdown",
      "source": [
        "**PC 2**"
      ],
      "metadata": {
        "id": "Ey4WPmLv-Lz3"
      }
    },
    {
      "cell_type": "code",
      "source": [
        "print('Variables MÁS importantes, y su coeficiente para el componente Principal 2:')\n",
        "print('\\n')\n",
        "print(pcaComponentes_df.PC2.nlargest())\n",
        "print('\\n')\n",
        "print('Variables MENOS importantes, y su coeficiente para el componente Principal 2:')\n",
        "print('\\n')\n",
        "print(pcaComponentes_df.PC2.nsmallest())"
      ],
      "metadata": {
        "colab": {
          "base_uri": "https://localhost:8080/"
        },
        "id": "DpbxL5Lj-WEm",
        "outputId": "ea1370a8-eb91-4385-fa0c-bc63c14c4b6e"
      },
      "execution_count": 34,
      "outputs": [
        {
          "output_type": "stream",
          "name": "stdout",
          "text": [
            "Variables MÁS importantes, y su coeficiente para el componente Principal 2:\n",
            "\n",
            "\n",
            "Pagos_Ago    0.4084\n",
            "Pagos_Jul    0.3924\n",
            "Pagos_Sep    0.3830\n",
            "Pagos_Jun    0.3493\n",
            "Pagos_Abr    0.3230\n",
            "Name: PC2, dtype: float64\n",
            "\n",
            "\n",
            "Variables MENOS importantes, y su coeficiente para el componente Principal 2:\n",
            "\n",
            "\n",
            "Saldo_Sep   -0.1910\n",
            "Saldo_Ago   -0.1752\n",
            "Saldo_Jul   -0.1274\n",
            "Saldo_Jun   -0.1204\n",
            "Saldo_May   -0.1065\n",
            "Name: PC2, dtype: float64\n"
          ]
        }
      ]
    },
    {
      "cell_type": "markdown",
      "source": [
        "Interpretación\n",
        "\n",
        "Observamos que agruoa mayor varianza que el primer componente aunque sabemos que en donde se agrupa la mayor vvarianza derivado de la transformacion ortogonal son los primeros dos comnentes"
      ],
      "metadata": {
        "id": "d_2P5MI8-ZGG"
      }
    },
    {
      "cell_type": "markdown",
      "source": [
        "**PC 3**"
      ],
      "metadata": {
        "id": "AIJgeXCA_Ig8"
      }
    },
    {
      "cell_type": "code",
      "source": [
        "print('Variables MÁS importantes, y su coeficiente para el componente Principal 3:')\n",
        "print('\\n')\n",
        "print(pcaComponentes_df.PC3.nlargest())\n",
        "print('\\n')\n",
        "print('Variables MENOS importantes, y su coeficiente para el componente Principal 3:')\n",
        "print('\\n')\n",
        "print(pcaComponentes_df.PC3.nsmallest())"
      ],
      "metadata": {
        "colab": {
          "base_uri": "https://localhost:8080/"
        },
        "id": "rInb4xCI_Hzk",
        "outputId": "526310b5-0fd8-4dc7-ada2-4732e7c055b9"
      },
      "execution_count": 35,
      "outputs": [
        {
          "output_type": "stream",
          "name": "stdout",
          "text": [
            "Variables MÁS importantes, y su coeficiente para el componente Principal 3:\n",
            "\n",
            "\n",
            "Pagos_Ago    0.2003\n",
            "Pagos_Sep    0.1730\n",
            "Pagos_Jul    0.1219\n",
            "Pagos_Jun    0.0625\n",
            "Saldo_Jul    0.0347\n",
            "Name: PC3, dtype: float64\n",
            "\n",
            "\n",
            "Variables MENOS importantes, y su coeficiente para el componente Principal 3:\n",
            "\n",
            "\n",
            "Age            -0.8700\n",
            "CreditAmount   -0.3786\n",
            "Pagos_May      -0.0602\n",
            "Pagos_Abr      -0.0493\n",
            "Saldo_Sep      -0.0334\n",
            "Name: PC3, dtype: float64\n"
          ]
        }
      ]
    },
    {
      "cell_type": "markdown",
      "source": [
        "INTERPRETACIÓN\n",
        "\n",
        "Se observa que en el terce componente principal a pesar de se de variables de pagos terminan obteniendo las mas relevantes para otorgar o no un prestamo. Sin embargo los pagos de los meses mas recientes captura menos varianza que algunos mas anteriores, loq ue valida la hipotesis de que es mejor tener mayor tiempo de historial dentro de la ventana de los 6 meses"
      ],
      "metadata": {
        "id": "zzWJiZ1S_OjM"
      }
    },
    {
      "cell_type": "code",
      "source": [],
      "metadata": {
        "id": "SkCj5tIb_Q71"
      },
      "execution_count": 35,
      "outputs": []
    },
    {
      "cell_type": "markdown",
      "source": [
        "**PC 4**"
      ],
      "metadata": {
        "id": "eGMfhjTO_Tai"
      }
    },
    {
      "cell_type": "code",
      "source": [
        "print('Variables MÁS importantes, y su coeficiente para el componente Principal 4:')\n",
        "print('\\n')\n",
        "print(pcaComponentes_df.PC4.nlargest())\n",
        "print('\\n')\n",
        "print('Variables MENOS importantes, y su coeficiente para el componente Principal 4:')\n",
        "print('\\n')\n",
        "print(pcaComponentes_df.PC4.nsmallest())"
      ],
      "metadata": {
        "colab": {
          "base_uri": "https://localhost:8080/"
        },
        "id": "Hz-B-ugN_Taj",
        "outputId": "6e85384d-d071-467c-c6a4-e66f4b111bd0"
      },
      "execution_count": 36,
      "outputs": [
        {
          "output_type": "stream",
          "name": "stdout",
          "text": [
            "Variables MÁS importantes, y su coeficiente para el componente Principal 4:\n",
            "\n",
            "\n",
            "Pagos_Sep    0.3619\n",
            "Pagos_Ago    0.3468\n",
            "Age          0.3370\n",
            "Pagos_Jul    0.2448\n",
            "Saldo_Jun    0.0744\n",
            "Name: PC4, dtype: float64\n",
            "\n",
            "\n",
            "Variables MENOS importantes, y su coeficiente para el componente Principal 4:\n",
            "\n",
            "\n",
            "Pagos_May      -0.6100\n",
            "Pagos_Abr      -0.3667\n",
            "CreditAmount   -0.1998\n",
            "Pagos_Jun      -0.0934\n",
            "Saldo_Abr      -0.0738\n",
            "Name: PC4, dtype: float64\n"
          ]
        }
      ]
    },
    {
      "cell_type": "markdown",
      "source": [
        "INTERPRETACIÓN\n",
        "\n",
        "Se observa que en el cuarto componente al igual que en los primeros dos, las principalees variables son saldos de los meses, sin embargo mucho tiene que ver con la consistencia de cada variable ya ue algunos pagos mensuales muestran poca relevancia. En este componente las variables ninguna muestra mas del 30% de la explicabilidad."
      ],
      "metadata": {
        "id": "-6zZ416O_Taj"
      }
    },
    {
      "cell_type": "code",
      "source": [],
      "metadata": {
        "id": "zch598TG_Ut2"
      },
      "execution_count": 36,
      "outputs": []
    },
    {
      "cell_type": "markdown",
      "source": [
        "**PC 5**"
      ],
      "metadata": {
        "id": "lRecxE10_U5f"
      }
    },
    {
      "cell_type": "code",
      "source": [
        "print('Variables MÁS importantes, y su coeficiente para el componente Principal 5:')\n",
        "print('\\n')\n",
        "print(pcaComponentes_df.PC5.nlargest())\n",
        "print('\\n')\n",
        "print('Variables MENOS importantes, y su coeficiente para el componente Principal 5:')\n",
        "print('\\n')\n",
        "print(pcaComponentes_df.PC5.nsmallest())"
      ],
      "metadata": {
        "colab": {
          "base_uri": "https://localhost:8080/"
        },
        "id": "slC3mNF5_U5f",
        "outputId": "1be53370-16ea-47f9-86c3-af7b50acda84"
      },
      "execution_count": 37,
      "outputs": [
        {
          "output_type": "stream",
          "name": "stdout",
          "text": [
            "Variables MÁS importantes, y su coeficiente para el componente Principal 5:\n",
            "\n",
            "\n",
            "Pagos_Jun    0.6107\n",
            "Pagos_Jul    0.2475\n",
            "Saldo_Abr    0.1545\n",
            "Pagos_May    0.1526\n",
            "Saldo_May    0.1139\n",
            "Name: PC5, dtype: float64\n",
            "\n",
            "\n",
            "Variables MENOS importantes, y su coeficiente para el componente Principal 5:\n",
            "\n",
            "\n",
            "Pagos_Abr   -0.6299\n",
            "Pagos_Sep   -0.2300\n",
            "Pagos_Ago   -0.1759\n",
            "Saldo_Jul   -0.1190\n",
            "Saldo_Ago   -0.0807\n",
            "Name: PC5, dtype: float64\n"
          ]
        }
      ]
    },
    {
      "cell_type": "markdown",
      "source": [
        "INTERPRETACIÓN\n",
        "\n",
        "Como se sabe atraves de componenetes principales la transofrmacion de la variable trata de garantizar cumplir los supuestos de la funcion de optimizacion, por lo que despues de algunos componentes el resultado es la transformacion de una transformacion, donde vemos que a diferencia del componente numero 4 ahora las variables de pagos agrupan mayor parte de la varianza."
      ],
      "metadata": {
        "id": "MvSdYErn_U5g"
      }
    },
    {
      "cell_type": "code",
      "source": [],
      "metadata": {
        "id": "zlj-WlaV_XeF"
      },
      "execution_count": 37,
      "outputs": []
    },
    {
      "cell_type": "markdown",
      "source": [
        "**PC 6**"
      ],
      "metadata": {
        "id": "YyMQ7mEI_XnD"
      }
    },
    {
      "cell_type": "code",
      "source": [
        "print('Variables MÁS importantes, y su coeficiente para el componente Principal 6:')\n",
        "print('\\n')\n",
        "print(pcaComponentes_df.PC6.nlargest())\n",
        "print('\\n')\n",
        "print('Variables MENOS importantes, y su coeficiente para el componente Principal 6:')\n",
        "print('\\n')\n",
        "print(pcaComponentes_df.PC6.nsmallest())"
      ],
      "metadata": {
        "colab": {
          "base_uri": "https://localhost:8080/"
        },
        "id": "Hst6p1gQ_XnD",
        "outputId": "1a27a815-47a4-48c7-da6f-0b71dc332ba1"
      },
      "execution_count": 38,
      "outputs": [
        {
          "output_type": "stream",
          "name": "stdout",
          "text": [
            "Variables MÁS importantes, y su coeficiente para el componente Principal 6:\n",
            "\n",
            "\n",
            "Pagos_May    0.6143\n",
            "Pagos_Ago    0.3975\n",
            "Saldo_Jul    0.0920\n",
            "Saldo_Abr    0.0766\n",
            "Age          0.0731\n",
            "Name: PC6, dtype: float64\n",
            "\n",
            "\n",
            "Variables MENOS importantes, y su coeficiente para el componente Principal 6:\n",
            "\n",
            "\n",
            "Pagos_Jun      -0.4601\n",
            "Pagos_Abr      -0.4542\n",
            "Pagos_Jul      -0.0918\n",
            "Saldo_May      -0.0904\n",
            "CreditAmount   -0.0810\n",
            "Name: PC6, dtype: float64\n"
          ]
        }
      ]
    },
    {
      "cell_type": "markdown",
      "source": [
        "INTERPRETACIÓN\n",
        "\n",
        "Observanos que la importancia de las variables va cambiando de acuerdo a la aplicacin de cada transformacion pues cada refinanmiento agrupa mayor correlacion de los datos, se presenta la variable de edad con poca importancia y la variable de pagos describiendo la mayor importancia de este componenete, por lo que se recomendaria seria agrupar una variable resumen del comportamiento de pago mensual de los clientes."
      ],
      "metadata": {
        "id": "OQkpBe1w_XnD"
      }
    },
    {
      "cell_type": "code",
      "source": [],
      "metadata": {
        "id": "nrXdh9xt_X4O"
      },
      "execution_count": 38,
      "outputs": []
    },
    {
      "cell_type": "markdown",
      "source": [
        "**PC 7**"
      ],
      "metadata": {
        "id": "lfpZYeJZ_X-9"
      }
    },
    {
      "cell_type": "code",
      "source": [
        "print('Variables MÁS importantes, y su coeficiente para el componente Principal 7:')\n",
        "print('\\n')\n",
        "print(pcaComponentes_df.PC7.nlargest())\n",
        "print('\\n')\n",
        "print('Variables MENOS importantes, y su coeficiente para el componente Principal 7:')\n",
        "print('\\n')\n",
        "print(pcaComponentes_df.PC7.nsmallest())"
      ],
      "metadata": {
        "colab": {
          "base_uri": "https://localhost:8080/"
        },
        "id": "XhPaRKJQ_X-9",
        "outputId": "49c53fe5-41d9-4706-c030-122c94417653"
      },
      "execution_count": 39,
      "outputs": [
        {
          "output_type": "stream",
          "name": "stdout",
          "text": [
            "Variables MÁS importantes, y su coeficiente para el componente Principal 7:\n",
            "\n",
            "\n",
            "Pagos_Jul       0.7854\n",
            "Saldo_Jun       0.1244\n",
            "CreditAmount    0.1111\n",
            "Pagos_Abr       0.0259\n",
            "Pagos_May       0.0137\n",
            "Name: PC7, dtype: float64\n",
            "\n",
            "\n",
            "Variables MENOS importantes, y su coeficiente para el componente Principal 7:\n",
            "\n",
            "\n",
            "Pagos_Jun   -0.4637\n",
            "Pagos_Ago   -0.2781\n",
            "Pagos_Sep   -0.2018\n",
            "Saldo_Jul   -0.1184\n",
            "Age         -0.0784\n",
            "Name: PC7, dtype: float64\n"
          ]
        }
      ]
    },
    {
      "cell_type": "markdown",
      "source": [
        "INTERPRETACIÓN\n",
        " De acuerdo a los componentes anteriores, este el el unico que considera el monto del credito como una variable imporntae aunque con muy baja explicacion, esto nos muestra que a mayor refinanmiento del numero de componentes principales gran parte de lo que se establece en los primeros componentes es mas adecuado. Ademas como la variable de saldo es parte relevante de las los componentes principales, tambien podria resumirse de manera trimestral el comportamiento de saldo.\n",
        "\n"
      ],
      "metadata": {
        "id": "G4xpWV3E_X-9"
      }
    },
    {
      "cell_type": "markdown",
      "source": [
        "\n",
        "\n",
        "---\n",
        "\n",
        "# **Paso 3:** Identifique valores atípicos\n",
        "\n",
        "Realice alguna gráfica de valores atípicos o boxplot para identificar los valores atípicos. Cualquier punto que esté más alejado de la línea de referencia es un valor atípico.\n",
        "\n",
        "\n",
        "\n",
        "---\n",
        "\n",
        "\n"
      ],
      "metadata": {
        "id": "L5-VJOgi_Yse"
      }
    },
    {
      "cell_type": "markdown",
      "source": [
        "Variables númericas"
      ],
      "metadata": {
        "id": "ySFEbipOBWvC"
      }
    },
    {
      "cell_type": "code",
      "source": [
        "n_df.columns"
      ],
      "metadata": {
        "colab": {
          "base_uri": "https://localhost:8080/"
        },
        "id": "H_sTJBGIBYbp",
        "outputId": "2358237a-0f4e-4991-ebff-d0d860410ad3"
      },
      "execution_count": 40,
      "outputs": [
        {
          "output_type": "execute_result",
          "data": {
            "text/plain": [
              "Index(['CreditAmount', 'Age', 'Saldo_Sep', 'Saldo_Ago', 'Saldo_Jul',\n",
              "       'Saldo_Jun', 'Saldo_May', 'Saldo_Abr', 'Pagos_Sep', 'Pagos_Ago',\n",
              "       'Pagos_Jul', 'Pagos_Jun', 'Pagos_May', 'Pagos_Abr'],\n",
              "      dtype='object')"
            ]
          },
          "metadata": {},
          "execution_count": 40
        }
      ]
    },
    {
      "cell_type": "code",
      "source": [
        "n_df.describe()"
      ],
      "metadata": {
        "colab": {
          "base_uri": "https://localhost:8080/",
          "height": 300
        },
        "id": "tTxmmvh-BiJK",
        "outputId": "facf66f3-698b-4285-ce8f-761c88ad74a6"
      },
      "execution_count": 41,
      "outputs": [
        {
          "output_type": "execute_result",
          "data": {
            "text/plain": [
              "         CreditAmount           Age      Saldo_Sep      Saldo_Ago  \\\n",
              "count    29997.000000  29997.000000   29997.000000   29997.000000   \n",
              "mean    167496.072274     35.483862   51250.999800   49209.886155   \n",
              "std     129748.803871      9.217346   73609.343305   71152.563951   \n",
              "min      10000.000000     21.000000      -1.000000      -1.000000   \n",
              "25%      50000.000000     28.000000    3566.000000    2986.000000   \n",
              "50%     140000.000000     34.000000   22383.000000   21200.000000   \n",
              "75%     240000.000000     41.000000   67094.000000   64013.000000   \n",
              "max    1000000.000000     79.000000  964511.000000  983931.000000   \n",
              "\n",
              "          Saldo_Jul      Saldo_Jun      Saldo_May      Saldo_Abr  \\\n",
              "count  2.999700e+04   29997.000000   29997.000000   29997.000000   \n",
              "mean   4.704938e+04   43303.548438   40352.231673   38945.976798   \n",
              "std    6.932027e+04   64296.498754   60767.258758   59447.446112   \n",
              "min   -1.000000e+00      -1.000000      -1.000000      -1.000000   \n",
              "25%    2.671000e+03    2332.000000    1768.000000    1257.000000   \n",
              "50%    2.009000e+04   19056.000000   18118.500000   17081.000000   \n",
              "75%    6.016700e+04   54515.000000   50185.000000   49205.000000   \n",
              "max    1.664089e+06  891586.000000  927171.000000  961664.000000   \n",
              "\n",
              "           Pagos_Sep     Pagos_Ago      Pagos_Jul      Pagos_Jun  \\\n",
              "count   29997.000000  2.999700e+04   29997.000000   29997.000000   \n",
              "mean     5662.151115  5.921469e+03    5224.901523    4826.217938   \n",
              "std     16562.904915  2.304199e+04   17607.049441   15666.798592   \n",
              "min         0.000000  0.000000e+00       0.000000       0.000000   \n",
              "25%      1000.000000  8.330000e+02     390.000000     296.000000   \n",
              "50%      2100.000000  2.009000e+03    1800.000000    1500.000000   \n",
              "75%      5006.000000  5.000000e+03    4505.000000    4013.000000   \n",
              "max    873552.000000  1.684259e+06  896040.000000  621000.000000   \n",
              "\n",
              "           Pagos_May      Pagos_Abr  \n",
              "count   29997.000000   29997.000000  \n",
              "mean     4799.347400    5216.048513  \n",
              "std     15278.923787   17778.274793  \n",
              "min         0.000000       0.000000  \n",
              "25%       253.000000     118.000000  \n",
              "50%      1500.000000    1500.000000  \n",
              "75%      4031.000000    4000.000000  \n",
              "max    426529.000000  528666.000000  "
            ],
            "text/html": [
              "\n",
              "  <div id=\"df-6d5664e0-7b9e-42c4-806e-c73ff1cb0013\">\n",
              "    <div class=\"colab-df-container\">\n",
              "      <div>\n",
              "<style scoped>\n",
              "    .dataframe tbody tr th:only-of-type {\n",
              "        vertical-align: middle;\n",
              "    }\n",
              "\n",
              "    .dataframe tbody tr th {\n",
              "        vertical-align: top;\n",
              "    }\n",
              "\n",
              "    .dataframe thead th {\n",
              "        text-align: right;\n",
              "    }\n",
              "</style>\n",
              "<table border=\"1\" class=\"dataframe\">\n",
              "  <thead>\n",
              "    <tr style=\"text-align: right;\">\n",
              "      <th></th>\n",
              "      <th>CreditAmount</th>\n",
              "      <th>Age</th>\n",
              "      <th>Saldo_Sep</th>\n",
              "      <th>Saldo_Ago</th>\n",
              "      <th>Saldo_Jul</th>\n",
              "      <th>Saldo_Jun</th>\n",
              "      <th>Saldo_May</th>\n",
              "      <th>Saldo_Abr</th>\n",
              "      <th>Pagos_Sep</th>\n",
              "      <th>Pagos_Ago</th>\n",
              "      <th>Pagos_Jul</th>\n",
              "      <th>Pagos_Jun</th>\n",
              "      <th>Pagos_May</th>\n",
              "      <th>Pagos_Abr</th>\n",
              "    </tr>\n",
              "  </thead>\n",
              "  <tbody>\n",
              "    <tr>\n",
              "      <th>count</th>\n",
              "      <td>29997.000000</td>\n",
              "      <td>29997.000000</td>\n",
              "      <td>29997.000000</td>\n",
              "      <td>29997.000000</td>\n",
              "      <td>2.999700e+04</td>\n",
              "      <td>29997.000000</td>\n",
              "      <td>29997.000000</td>\n",
              "      <td>29997.000000</td>\n",
              "      <td>29997.000000</td>\n",
              "      <td>2.999700e+04</td>\n",
              "      <td>29997.000000</td>\n",
              "      <td>29997.000000</td>\n",
              "      <td>29997.000000</td>\n",
              "      <td>29997.000000</td>\n",
              "    </tr>\n",
              "    <tr>\n",
              "      <th>mean</th>\n",
              "      <td>167496.072274</td>\n",
              "      <td>35.483862</td>\n",
              "      <td>51250.999800</td>\n",
              "      <td>49209.886155</td>\n",
              "      <td>4.704938e+04</td>\n",
              "      <td>43303.548438</td>\n",
              "      <td>40352.231673</td>\n",
              "      <td>38945.976798</td>\n",
              "      <td>5662.151115</td>\n",
              "      <td>5.921469e+03</td>\n",
              "      <td>5224.901523</td>\n",
              "      <td>4826.217938</td>\n",
              "      <td>4799.347400</td>\n",
              "      <td>5216.048513</td>\n",
              "    </tr>\n",
              "    <tr>\n",
              "      <th>std</th>\n",
              "      <td>129748.803871</td>\n",
              "      <td>9.217346</td>\n",
              "      <td>73609.343305</td>\n",
              "      <td>71152.563951</td>\n",
              "      <td>6.932027e+04</td>\n",
              "      <td>64296.498754</td>\n",
              "      <td>60767.258758</td>\n",
              "      <td>59447.446112</td>\n",
              "      <td>16562.904915</td>\n",
              "      <td>2.304199e+04</td>\n",
              "      <td>17607.049441</td>\n",
              "      <td>15666.798592</td>\n",
              "      <td>15278.923787</td>\n",
              "      <td>17778.274793</td>\n",
              "    </tr>\n",
              "    <tr>\n",
              "      <th>min</th>\n",
              "      <td>10000.000000</td>\n",
              "      <td>21.000000</td>\n",
              "      <td>-1.000000</td>\n",
              "      <td>-1.000000</td>\n",
              "      <td>-1.000000e+00</td>\n",
              "      <td>-1.000000</td>\n",
              "      <td>-1.000000</td>\n",
              "      <td>-1.000000</td>\n",
              "      <td>0.000000</td>\n",
              "      <td>0.000000e+00</td>\n",
              "      <td>0.000000</td>\n",
              "      <td>0.000000</td>\n",
              "      <td>0.000000</td>\n",
              "      <td>0.000000</td>\n",
              "    </tr>\n",
              "    <tr>\n",
              "      <th>25%</th>\n",
              "      <td>50000.000000</td>\n",
              "      <td>28.000000</td>\n",
              "      <td>3566.000000</td>\n",
              "      <td>2986.000000</td>\n",
              "      <td>2.671000e+03</td>\n",
              "      <td>2332.000000</td>\n",
              "      <td>1768.000000</td>\n",
              "      <td>1257.000000</td>\n",
              "      <td>1000.000000</td>\n",
              "      <td>8.330000e+02</td>\n",
              "      <td>390.000000</td>\n",
              "      <td>296.000000</td>\n",
              "      <td>253.000000</td>\n",
              "      <td>118.000000</td>\n",
              "    </tr>\n",
              "    <tr>\n",
              "      <th>50%</th>\n",
              "      <td>140000.000000</td>\n",
              "      <td>34.000000</td>\n",
              "      <td>22383.000000</td>\n",
              "      <td>21200.000000</td>\n",
              "      <td>2.009000e+04</td>\n",
              "      <td>19056.000000</td>\n",
              "      <td>18118.500000</td>\n",
              "      <td>17081.000000</td>\n",
              "      <td>2100.000000</td>\n",
              "      <td>2.009000e+03</td>\n",
              "      <td>1800.000000</td>\n",
              "      <td>1500.000000</td>\n",
              "      <td>1500.000000</td>\n",
              "      <td>1500.000000</td>\n",
              "    </tr>\n",
              "    <tr>\n",
              "      <th>75%</th>\n",
              "      <td>240000.000000</td>\n",
              "      <td>41.000000</td>\n",
              "      <td>67094.000000</td>\n",
              "      <td>64013.000000</td>\n",
              "      <td>6.016700e+04</td>\n",
              "      <td>54515.000000</td>\n",
              "      <td>50185.000000</td>\n",
              "      <td>49205.000000</td>\n",
              "      <td>5006.000000</td>\n",
              "      <td>5.000000e+03</td>\n",
              "      <td>4505.000000</td>\n",
              "      <td>4013.000000</td>\n",
              "      <td>4031.000000</td>\n",
              "      <td>4000.000000</td>\n",
              "    </tr>\n",
              "    <tr>\n",
              "      <th>max</th>\n",
              "      <td>1000000.000000</td>\n",
              "      <td>79.000000</td>\n",
              "      <td>964511.000000</td>\n",
              "      <td>983931.000000</td>\n",
              "      <td>1.664089e+06</td>\n",
              "      <td>891586.000000</td>\n",
              "      <td>927171.000000</td>\n",
              "      <td>961664.000000</td>\n",
              "      <td>873552.000000</td>\n",
              "      <td>1.684259e+06</td>\n",
              "      <td>896040.000000</td>\n",
              "      <td>621000.000000</td>\n",
              "      <td>426529.000000</td>\n",
              "      <td>528666.000000</td>\n",
              "    </tr>\n",
              "  </tbody>\n",
              "</table>\n",
              "</div>\n",
              "      <button class=\"colab-df-convert\" onclick=\"convertToInteractive('df-6d5664e0-7b9e-42c4-806e-c73ff1cb0013')\"\n",
              "              title=\"Convert this dataframe to an interactive table.\"\n",
              "              style=\"display:none;\">\n",
              "        \n",
              "  <svg xmlns=\"http://www.w3.org/2000/svg\" height=\"24px\"viewBox=\"0 0 24 24\"\n",
              "       width=\"24px\">\n",
              "    <path d=\"M0 0h24v24H0V0z\" fill=\"none\"/>\n",
              "    <path d=\"M18.56 5.44l.94 2.06.94-2.06 2.06-.94-2.06-.94-.94-2.06-.94 2.06-2.06.94zm-11 1L8.5 8.5l.94-2.06 2.06-.94-2.06-.94L8.5 2.5l-.94 2.06-2.06.94zm10 10l.94 2.06.94-2.06 2.06-.94-2.06-.94-.94-2.06-.94 2.06-2.06.94z\"/><path d=\"M17.41 7.96l-1.37-1.37c-.4-.4-.92-.59-1.43-.59-.52 0-1.04.2-1.43.59L10.3 9.45l-7.72 7.72c-.78.78-.78 2.05 0 2.83L4 21.41c.39.39.9.59 1.41.59.51 0 1.02-.2 1.41-.59l7.78-7.78 2.81-2.81c.8-.78.8-2.07 0-2.86zM5.41 20L4 18.59l7.72-7.72 1.47 1.35L5.41 20z\"/>\n",
              "  </svg>\n",
              "      </button>\n",
              "      \n",
              "  <style>\n",
              "    .colab-df-container {\n",
              "      display:flex;\n",
              "      flex-wrap:wrap;\n",
              "      gap: 12px;\n",
              "    }\n",
              "\n",
              "    .colab-df-convert {\n",
              "      background-color: #E8F0FE;\n",
              "      border: none;\n",
              "      border-radius: 50%;\n",
              "      cursor: pointer;\n",
              "      display: none;\n",
              "      fill: #1967D2;\n",
              "      height: 32px;\n",
              "      padding: 0 0 0 0;\n",
              "      width: 32px;\n",
              "    }\n",
              "\n",
              "    .colab-df-convert:hover {\n",
              "      background-color: #E2EBFA;\n",
              "      box-shadow: 0px 1px 2px rgba(60, 64, 67, 0.3), 0px 1px 3px 1px rgba(60, 64, 67, 0.15);\n",
              "      fill: #174EA6;\n",
              "    }\n",
              "\n",
              "    [theme=dark] .colab-df-convert {\n",
              "      background-color: #3B4455;\n",
              "      fill: #D2E3FC;\n",
              "    }\n",
              "\n",
              "    [theme=dark] .colab-df-convert:hover {\n",
              "      background-color: #434B5C;\n",
              "      box-shadow: 0px 1px 3px 1px rgba(0, 0, 0, 0.15);\n",
              "      filter: drop-shadow(0px 1px 2px rgba(0, 0, 0, 0.3));\n",
              "      fill: #FFFFFF;\n",
              "    }\n",
              "  </style>\n",
              "\n",
              "      <script>\n",
              "        const buttonEl =\n",
              "          document.querySelector('#df-6d5664e0-7b9e-42c4-806e-c73ff1cb0013 button.colab-df-convert');\n",
              "        buttonEl.style.display =\n",
              "          google.colab.kernel.accessAllowed ? 'block' : 'none';\n",
              "\n",
              "        async function convertToInteractive(key) {\n",
              "          const element = document.querySelector('#df-6d5664e0-7b9e-42c4-806e-c73ff1cb0013');\n",
              "          const dataTable =\n",
              "            await google.colab.kernel.invokeFunction('convertToInteractive',\n",
              "                                                     [key], {});\n",
              "          if (!dataTable) return;\n",
              "\n",
              "          const docLinkHtml = 'Like what you see? Visit the ' +\n",
              "            '<a target=\"_blank\" href=https://colab.research.google.com/notebooks/data_table.ipynb>data table notebook</a>'\n",
              "            + ' to learn more about interactive tables.';\n",
              "          element.innerHTML = '';\n",
              "          dataTable['output_type'] = 'display_data';\n",
              "          await google.colab.output.renderOutput(dataTable, element);\n",
              "          const docLink = document.createElement('div');\n",
              "          docLink.innerHTML = docLinkHtml;\n",
              "          element.appendChild(docLink);\n",
              "        }\n",
              "      </script>\n",
              "    </div>\n",
              "  </div>\n",
              "  "
            ]
          },
          "metadata": {},
          "execution_count": 41
        }
      ]
    },
    {
      "cell_type": "code",
      "source": [
        "columnas_n_df[0]"
      ],
      "metadata": {
        "colab": {
          "base_uri": "https://localhost:8080/",
          "height": 35
        },
        "id": "p_py5v2xERbS",
        "outputId": "6396c1df-3997-4904-e656-45493d7634b6"
      },
      "execution_count": 42,
      "outputs": [
        {
          "output_type": "execute_result",
          "data": {
            "text/plain": [
              "'CreditAmount'"
            ],
            "application/vnd.google.colaboratory.intrinsic+json": {
              "type": "string"
            }
          },
          "metadata": {},
          "execution_count": 42
        }
      ]
    },
    {
      "cell_type": "code",
      "source": [
        "sns.set(rc={'figure.figsize':(20,40)})\n",
        "fig, axes = plt.subplots(7,2 )    \n",
        "  \n",
        "for k in range(0,14):\n",
        "  plt.subplot(7,2,k+1) \n",
        "  sns.boxplot(data=n_df, x=columnas_n_df[k], saturation=1)\n",
        "  plt.xlabel(columnas_n_df[k])  \n",
        "\n",
        "plt.show()\n"
      ],
      "metadata": {
        "colab": {
          "base_uri": "https://localhost:8080/",
          "height": 1000
        },
        "id": "FuO393a4DboJ",
        "outputId": "4a087608-8052-49a6-e568-57fd2be140b6"
      },
      "execution_count": 43,
      "outputs": [
        {
          "output_type": "display_data",
          "data": {
            "text/plain": [
              "<Figure size 1440x2880 with 14 Axes>"
            ],
            "image/png": "[encoded data removed]"
          },
          "metadata": {}
        }
      ]
    },
    {
      "cell_type": "markdown",
      "source": [
        "INTERPRETACIÓN DEL DESCRIBE Y DEL BOXPLOT\n",
        "\n",
        "Se observan pocos valores a tipicos pero la matoria tiene que ver con la ditribucion de montos e ingresos por lo que se puede realizar la evaluacion de cada uno para ajustar la variable. Para las variables de saldo y pago se observa que existen muchos valores atipicos que no permiten la visualizacion correcta de los datos. Se recomenda hacer un analisis descriptivo e incluso considerar la agrupacion de esas variables como puede ser el promedio trimestral, entre otros."
      ],
      "metadata": {
        "id": "dESylksVGQYC"
      }
    },
    {
      "cell_type": "code",
      "source": [
        "sns.set(rc={'figure.figsize':(15,8)})\n",
        "sns.boxplot(n_df.Pagos_Sep)\n",
        "plt.show()"
      ],
      "metadata": {
        "colab": {
          "base_uri": "https://localhost:8080/",
          "height": 537
        },
        "outputId": "35ccda39-6047-45f5-c358-d97bb982a690",
        "id": "tNrJiJeOC5uA"
      },
      "execution_count": 52,
      "outputs": [
        {
          "output_type": "stream",
          "name": "stderr",
          "text": [
            "/usr/local/lib/python3.7/dist-packages/seaborn/_decorators.py:43: FutureWarning: Pass the following variable as a keyword arg: x. From version 0.12, the only valid positional argument will be `data`, and passing other arguments without an explicit keyword will result in an error or misinterpretation.\n",
            "  FutureWarning\n"
          ]
        },
        {
          "output_type": "display_data",
          "data": {
            "text/plain": [
              "<Figure size 1080x576 with 1 Axes>"
            ],
            "image/png": "[encoded data removed]"
          },
          "metadata": {}
        }
      ]
    },
    {
      "cell_type": "markdown",
      "source": [
        "**Parte 2: Responde las siguientes preguntas en una celda de texto en Jupyter Notebook**"
      ],
      "metadata": {
        "id": "AYQ3kudVE5wJ"
      }
    },
    {
      "cell_type": "markdown",
      "source": [
        " \n",
        "**>¿Cuál es el número de componentes mínimo y por qué?**\n",
        "\n",
        "\n",
        "Con los resultados anteriores, de la tabla (PCA_resumen) y la gráfica (Scree Plot), concluimos que es pertinente utilizar los primeros 7 Componentes Principales, ya que con esto capturamos el 87% de la varianza del total de variables numéricas.\n",
        "\n",
        "Lo anterior lo definimos como mínimo, ya que por la definición de la metodología de PCA, el objetivo es capturar la mayor cantidad de varianza para garantizar la explicabilidad de la información con la menor cantidad de variables posible. Como ejemplo, si sólo utilizamos el primer componente nos quedamos con el 42% de la varianza, la cual no sería suficiente para capturar la mayor cantidad de información de todas las variables numéricas.\n",
        "\n",
        "\n",
        "**> ¿Cuál es la variación de los datos que representan esos componentes?**\n",
        "Para la aplicación en el ejercicio se establece que hasta hasta el séptimo componente con lo que se recoge el 87 % de la varianza. \n",
        "\n",
        "En otras palabras, transformando las variables a estos componentes (PC1, PC2, PC3, PC4, PC5, PC6, PC7) y sólo utilizando esta información, reducimos de 14 a 7 variables (50% de las numéricas), capturando el 87% de la información. \n",
        "\n",
        "No utilizamos más componentes porque cada componente extra aporta a más 5% extra de información, aumentando la dimensionalidad por lo que no es un lift significativo en la información a utilizar.\n",
        "\n",
        " \n",
        "**> ¿Cuál es la pérdida de información después de realizar PCA?**\n",
        "\n",
        "La pérdida de información al utilizar el análisis de componentes principales es del 13% considerando que sólo conservamos 7 componentes donde se captura el 87% de la varianza. \n",
        "\n",
        "Por otro lado, observamos que los componentes principales no capturan información sobre la edad, por el tipo de variable se esperaba que los componentes seleccionados describiera mejor dicha información. Se decide que se evaluará después si se aplicará directamente. Esto también aplicaría para el monto del crédito.\n",
        "\n",
        "\n",
        "**> De las variables originales, ¿Cuál tiene mayor y cuál tiene menor importancia en los componentes principales?**\n",
        "\n",
        "En los primeros componentes se observa que tienen mayor importancia las variables de saldos dependiendo de la temporalidad. Por otro lado, los siguientes componentes capturan información sobre pagos y comportamiento crediticio del cliente. Finalmente, los tributos específicos del cliente como edad, y el monto solicitado son considerados dentro de los componentes seleccionados.Sin embargo, no figuran como las variables de mayor peso dentro de los mismos. Se considera utilizarlas directamente, ya que bajo nuestra experiencia consideramos que dichas variables aportan mucha información al momento de decidir otorgar el préstamo, y que esto esté asociado a su forma de pago.\n",
        "\n",
        "\n",
        "\n",
        "**>¿Cuándo se recomienda realizar un PCA y qué beneficios ofrece para Machine Learning?**\n",
        " \n",
        "Se recomienda utilizar PCA cuando se busca optimizar recursos computacionales y de análisis para grandes bases de datos. Trae beneficios tales como el mejor uso de recursos, capturar información, reducir el ruido de variables que no aportan información y garantizar que se utiliza información sobre la tendencia en los datos observados.\n",
        "\n",
        "Además, se tiene mayor precisión en la predicción y se reduce el tiempo disminuyendo las características. En el presente caso vemos que se requiere de al menos 7 componentes para obtener la mayor varianza, lo que nos indica que igual pudiera solo utilizarse las variables  Edad, Monto de Crédito y los primeros componentes.\n",
        "\n",
        "Se recomienda utilizar PCA por estas dos ventajas muy importantes, como lo son eliminar dimensiones y extraer el menor número de características con la mayor cantidad de información posible.\n",
        "\n",
        "\n",
        "\n",
        "\n",
        "\n",
        "\n",
        "Referencias \n",
        " \n",
        "\n",
        "(S/f). Usc.es. Recuperado el 10 de octubre de 2022, de http://eio.usc.es/eipc1/BASE/BASEMASTER/FORMULARIOS-PHP/MATERIALESMASTER/Mat_14_master0809multi-tema5.pdf\n",
        " \n",
        " (S/f-b). Uc3m.es. Recuperado el 10 de octubre de 2022, de http://halweb.uc3m.es/esp/Personal/personas/jmmarin/esp/AMult/tema3am.pdf\n",
        "\n",
        " \n"
      ],
      "metadata": {
        "id": "bs0RTknCJgQr"
      }
    },
    {
      "cell_type": "markdown",
      "source": [
        "-- FIN DE LA ACTIVIDAD __"
      ],
      "metadata": {
        "id": "LSnPK79PGWrD"
      }
    },
    {
      "cell_type": "code",
      "source": [],
      "metadata": {
        "id": "NVSBbcSqGY6s"
      },
      "execution_count": 52,
      "outputs": []
    }
  ]
}